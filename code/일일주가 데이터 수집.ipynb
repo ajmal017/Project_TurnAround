{
 "cells": [
  {
   "cell_type": "code",
   "execution_count": 1,
   "metadata": {},
   "outputs": [
    {
     "name": "stdout",
     "output_type": "stream",
     "text": [
      "Requirement already satisfied: pandas in c:\\users\\user\\anaconda3\\lib\\site-packages (1.0.5)\n",
      "Requirement already satisfied: python-dateutil>=2.6.1 in c:\\users\\user\\anaconda3\\lib\\site-packages (from pandas) (2.8.1)\n",
      "Requirement already satisfied: pytz>=2017.2 in c:\\users\\user\\anaconda3\\lib\\site-packages (from pandas) (2020.1)\n",
      "Requirement already satisfied: numpy>=1.13.3 in c:\\users\\user\\anaconda3\\lib\\site-packages (from pandas) (1.18.5)\n",
      "Requirement already satisfied: six>=1.5 in c:\\users\\user\\anaconda3\\lib\\site-packages (from python-dateutil>=2.6.1->pandas) (1.15.0)\n",
      "Requirement already satisfied: matplotlib in c:\\users\\user\\anaconda3\\lib\\site-packages (3.2.2)\n",
      "Requirement already satisfied: numpy>=1.11 in c:\\users\\user\\anaconda3\\lib\\site-packages (from matplotlib) (1.18.5)\n",
      "Requirement already satisfied: python-dateutil>=2.1 in c:\\users\\user\\anaconda3\\lib\\site-packages (from matplotlib) (2.8.1)\n",
      "Requirement already satisfied: cycler>=0.10 in c:\\users\\user\\anaconda3\\lib\\site-packages (from matplotlib) (0.10.0)\n",
      "Requirement already satisfied: kiwisolver>=1.0.1 in c:\\users\\user\\anaconda3\\lib\\site-packages (from matplotlib) (1.2.0)\n",
      "Requirement already satisfied: pyparsing!=2.0.4,!=2.1.2,!=2.1.6,>=2.0.1 in c:\\users\\user\\anaconda3\\lib\\site-packages (from matplotlib) (2.4.7)\n",
      "Requirement already satisfied: six>=1.5 in c:\\users\\user\\anaconda3\\lib\\site-packages (from python-dateutil>=2.1->matplotlib) (1.15.0)\n",
      "Collecting plotly\n",
      "  Using cached plotly-4.9.0-py2.py3-none-any.whl (12.9 MB)\n",
      "Requirement already satisfied: six in c:\\users\\user\\anaconda3\\lib\\site-packages (from plotly) (1.15.0)\n",
      "Requirement already satisfied: retrying>=1.3.3 in c:\\users\\user\\anaconda3\\lib\\site-packages (from plotly) (1.3.3)\n",
      "Installing collected packages: plotly\n",
      "Successfully installed plotly-4.9.0\n"
     ]
    }
   ],
   "source": [
    "!pip install pandas\n",
    "!pip install matplotlib\n",
    "!pip install plotly"
   ]
  },
  {
   "cell_type": "code",
   "execution_count": 4,
   "metadata": {},
   "outputs": [],
   "source": [
    "import pandas as pd"
   ]
  },
  {
   "cell_type": "code",
   "execution_count": 5,
   "metadata": {},
   "outputs": [],
   "source": [
    "#해당 링크는 한국거래소에서 상장법인목록을 엑셀로 다운로드하는 링크입니다.\n",
    "#다운로드와 동시에 Pandas에 excel 파일이 load가 되는 구조입니다.\n",
    "stock_code = pd.read_html('http://kind.krx.co.kr/corpgeneral/corpList.do?method=download', header=0)[0] \n",
    "#stock_code.head()"
   ]
  },
  {
   "cell_type": "code",
   "execution_count": 6,
   "metadata": {},
   "outputs": [
    {
     "data": {
      "text/html": [
       "<div>\n",
       "<style scoped>\n",
       "    .dataframe tbody tr th:only-of-type {\n",
       "        vertical-align: middle;\n",
       "    }\n",
       "\n",
       "    .dataframe tbody tr th {\n",
       "        vertical-align: top;\n",
       "    }\n",
       "\n",
       "    .dataframe thead th {\n",
       "        text-align: right;\n",
       "    }\n",
       "</style>\n",
       "<table border=\"1\" class=\"dataframe\">\n",
       "  <thead>\n",
       "    <tr style=\"text-align: right;\">\n",
       "      <th></th>\n",
       "      <th>회사명</th>\n",
       "      <th>종목코드</th>\n",
       "      <th>업종</th>\n",
       "      <th>주요제품</th>\n",
       "      <th>상장일</th>\n",
       "      <th>결산월</th>\n",
       "      <th>대표자명</th>\n",
       "      <th>홈페이지</th>\n",
       "      <th>지역</th>\n",
       "    </tr>\n",
       "  </thead>\n",
       "  <tbody>\n",
       "    <tr>\n",
       "      <th>1001</th>\n",
       "      <td>경성전기</td>\n",
       "      <td>28740</td>\n",
       "      <td>NaN</td>\n",
       "      <td>NaN</td>\n",
       "      <td>1956-03-03</td>\n",
       "      <td>12월</td>\n",
       "      <td>NaN</td>\n",
       "      <td>NaN</td>\n",
       "      <td>NaN</td>\n",
       "    </tr>\n",
       "    <tr>\n",
       "      <th>1760</th>\n",
       "      <td>한진중공업홀딩스</td>\n",
       "      <td>3480</td>\n",
       "      <td>연료용 가스 제조 및 배관공급업</td>\n",
       "      <td>지주회사</td>\n",
       "      <td>1956-03-03</td>\n",
       "      <td>12월</td>\n",
       "      <td>조남호, 조원국</td>\n",
       "      <td>http://www.hhic-holdings.com</td>\n",
       "      <td>경기도</td>\n",
       "    </tr>\n",
       "    <tr>\n",
       "      <th>73</th>\n",
       "      <td>한국운수</td>\n",
       "      <td>28750</td>\n",
       "      <td>NaN</td>\n",
       "      <td>NaN</td>\n",
       "      <td>1956-03-03</td>\n",
       "      <td>12월</td>\n",
       "      <td>NaN</td>\n",
       "      <td>NaN</td>\n",
       "      <td>NaN</td>\n",
       "    </tr>\n",
       "    <tr>\n",
       "      <th>3428</th>\n",
       "      <td>스탠다드차타드은행</td>\n",
       "      <td>110</td>\n",
       "      <td>보험업</td>\n",
       "      <td>은행업,신탁업(대출금이자,유가증권수익,수입수수료)</td>\n",
       "      <td>1956-03-03</td>\n",
       "      <td>12월</td>\n",
       "      <td>리차드 힐</td>\n",
       "      <td>http://www.scfirstbank.com</td>\n",
       "      <td>서울특별시</td>\n",
       "    </tr>\n",
       "    <tr>\n",
       "      <th>3606</th>\n",
       "      <td>유수홀딩스</td>\n",
       "      <td>700</td>\n",
       "      <td>회사 본부 및 경영 컨설팅 서비스업</td>\n",
       "      <td>지주사업</td>\n",
       "      <td>1956-03-03</td>\n",
       "      <td>12월</td>\n",
       "      <td>송영규</td>\n",
       "      <td>http://www.eusu-holdings.com</td>\n",
       "      <td>서울특별시</td>\n",
       "    </tr>\n",
       "    <tr>\n",
       "      <th>...</th>\n",
       "      <td>...</td>\n",
       "      <td>...</td>\n",
       "      <td>...</td>\n",
       "      <td>...</td>\n",
       "      <td>...</td>\n",
       "      <td>...</td>\n",
       "      <td>...</td>\n",
       "      <td>...</td>\n",
       "      <td>...</td>\n",
       "    </tr>\n",
       "    <tr>\n",
       "      <th>962</th>\n",
       "      <td>한국파마</td>\n",
       "      <td>32300</td>\n",
       "      <td>의약품 제조업</td>\n",
       "      <td>완제의약품(정신신경계, 소화기계, 순환기계, 항생항균, 기타)</td>\n",
       "      <td>2020-08-10</td>\n",
       "      <td>12월</td>\n",
       "      <td>박은희</td>\n",
       "      <td>http://koreapharma.co.kr</td>\n",
       "      <td>경기도</td>\n",
       "    </tr>\n",
       "    <tr>\n",
       "      <th>1392</th>\n",
       "      <td>영림원소프트랩</td>\n",
       "      <td>60850</td>\n",
       "      <td>소프트웨어 개발 및 공급업</td>\n",
       "      <td>ERP Package, 유지 관리 등</td>\n",
       "      <td>2020-08-12</td>\n",
       "      <td>12월</td>\n",
       "      <td>권영범</td>\n",
       "      <td>http://ksystem.co.kr</td>\n",
       "      <td>서울특별시</td>\n",
       "    </tr>\n",
       "    <tr>\n",
       "      <th>351</th>\n",
       "      <td>브랜드엑스코퍼레이션</td>\n",
       "      <td>337930</td>\n",
       "      <td>기타 정보 서비스업</td>\n",
       "      <td>애슬레저의류, 생활/청결 용품</td>\n",
       "      <td>2020-08-13</td>\n",
       "      <td>12월</td>\n",
       "      <td>강민준, 이수연</td>\n",
       "      <td>http://www.brandxcorp.com/</td>\n",
       "      <td>서울특별시</td>\n",
       "    </tr>\n",
       "    <tr>\n",
       "      <th>2756</th>\n",
       "      <td>미투젠</td>\n",
       "      <td>950190</td>\n",
       "      <td>소프트웨어 개발 및 공급업</td>\n",
       "      <td>캐주얼게임, 소셜카지노게임</td>\n",
       "      <td>2020-08-18</td>\n",
       "      <td>12월</td>\n",
       "      <td>린즈웨이/라우호밍</td>\n",
       "      <td>http://www.me2zen.com</td>\n",
       "      <td>홍콩</td>\n",
       "    </tr>\n",
       "    <tr>\n",
       "      <th>3844</th>\n",
       "      <td>데이드림엔터</td>\n",
       "      <td>348840</td>\n",
       "      <td>영화, 비디오물, 방송프로그램 제작 및 배급업</td>\n",
       "      <td>드라마 및 영화제작</td>\n",
       "      <td>2020-08-18</td>\n",
       "      <td>12월</td>\n",
       "      <td>송정우</td>\n",
       "      <td>http://www.daydream.kr</td>\n",
       "      <td>서울특별시</td>\n",
       "    </tr>\n",
       "  </tbody>\n",
       "</table>\n",
       "<p>3860 rows × 9 columns</p>\n",
       "</div>"
      ],
      "text/plain": [
       "             회사명    종목코드                         업종  \\\n",
       "1001        경성전기   28740                        NaN   \n",
       "1760    한진중공업홀딩스    3480          연료용 가스 제조 및 배관공급업   \n",
       "73          한국운수   28750                        NaN   \n",
       "3428   스탠다드차타드은행     110                        보험업   \n",
       "3606       유수홀딩스     700        회사 본부 및 경영 컨설팅 서비스업   \n",
       "...          ...     ...                        ...   \n",
       "962         한국파마   32300                    의약품 제조업   \n",
       "1392     영림원소프트랩   60850             소프트웨어 개발 및 공급업   \n",
       "351   브랜드엑스코퍼레이션  337930                 기타 정보 서비스업   \n",
       "2756         미투젠  950190             소프트웨어 개발 및 공급업   \n",
       "3844      데이드림엔터  348840  영화, 비디오물, 방송프로그램 제작 및 배급업   \n",
       "\n",
       "                                    주요제품         상장일  결산월       대표자명  \\\n",
       "1001                                 NaN  1956-03-03  12월        NaN   \n",
       "1760                                지주회사  1956-03-03  12월   조남호, 조원국   \n",
       "73                                   NaN  1956-03-03  12월        NaN   \n",
       "3428         은행업,신탁업(대출금이자,유가증권수익,수입수수료)  1956-03-03  12월      리차드 힐   \n",
       "3606                                지주사업  1956-03-03  12월        송영규   \n",
       "...                                  ...         ...  ...        ...   \n",
       "962   완제의약품(정신신경계, 소화기계, 순환기계, 항생항균, 기타)  2020-08-10  12월        박은희   \n",
       "1392                ERP Package, 유지 관리 등  2020-08-12  12월        권영범   \n",
       "351                     애슬레저의류, 생활/청결 용품  2020-08-13  12월   강민준, 이수연   \n",
       "2756                      캐주얼게임, 소셜카지노게임  2020-08-18  12월  린즈웨이/라우호밍   \n",
       "3844                          드라마 및 영화제작  2020-08-18  12월        송정우   \n",
       "\n",
       "                              홈페이지     지역  \n",
       "1001                           NaN    NaN  \n",
       "1760  http://www.hhic-holdings.com    경기도  \n",
       "73                             NaN    NaN  \n",
       "3428    http://www.scfirstbank.com  서울특별시  \n",
       "3606  http://www.eusu-holdings.com  서울특별시  \n",
       "...                            ...    ...  \n",
       "962       http://koreapharma.co.kr    경기도  \n",
       "1392          http://ksystem.co.kr  서울특별시  \n",
       "351     http://www.brandxcorp.com/  서울특별시  \n",
       "2756         http://www.me2zen.com     홍콩  \n",
       "3844        http://www.daydream.kr  서울특별시  \n",
       "\n",
       "[3860 rows x 9 columns]"
      ]
     },
     "execution_count": 6,
     "metadata": {},
     "output_type": "execute_result"
    }
   ],
   "source": [
    "# 데이터에서 정렬이 따로 필요하지는 않지만 테스트겸 Pandas sort_values를 이용하여 정렬을 시도해봅니다.\n",
    "stock_code.sort_values(['상장일'], ascending=True)"
   ]
  },
  {
   "cell_type": "code",
   "execution_count": 7,
   "metadata": {},
   "outputs": [],
   "source": [
    "# 필요한 것은 \"회사명\"과 \"종목코드\" 이므로 필요없는 column들은 제외\n",
    "stock_code = stock_code[['회사명', '종목코드']] "
   ]
  },
  {
   "cell_type": "code",
   "execution_count": 8,
   "metadata": {},
   "outputs": [],
   "source": [
    "# 한글 컬럼명을 영어로 변경 \n",
    "stock_code = stock_code.rename(columns={'회사명': 'company', '종목코드': 'code'}) \n",
    "#stock_code.head()"
   ]
  },
  {
   "cell_type": "code",
   "execution_count": 9,
   "metadata": {},
   "outputs": [],
   "source": [
    "# 종목코드가 6자리이기 때문에 6자리를 맞춰주기 위해 설정해줌 \n",
    "stock_code.code = stock_code.code.map('{:06d}'.format) "
   ]
  },
  {
   "cell_type": "code",
   "execution_count": 10,
   "metadata": {},
   "outputs": [
    {
     "name": "stdout",
     "output_type": "stream",
     "text": [
      "http://finance.naver.com/item/sise_day.nhn?code=041140&page=1\n"
     ]
    },
    {
     "data": {
      "text/html": [
       "<div>\n",
       "<style scoped>\n",
       "    .dataframe tbody tr th:only-of-type {\n",
       "        vertical-align: middle;\n",
       "    }\n",
       "\n",
       "    .dataframe tbody tr th {\n",
       "        vertical-align: top;\n",
       "    }\n",
       "\n",
       "    .dataframe thead th {\n",
       "        text-align: right;\n",
       "    }\n",
       "</style>\n",
       "<table border=\"1\" class=\"dataframe\">\n",
       "  <thead>\n",
       "    <tr style=\"text-align: right;\">\n",
       "      <th></th>\n",
       "      <th>날짜</th>\n",
       "      <th>종가</th>\n",
       "      <th>전일비</th>\n",
       "      <th>시가</th>\n",
       "      <th>고가</th>\n",
       "      <th>저가</th>\n",
       "      <th>거래량</th>\n",
       "    </tr>\n",
       "  </thead>\n",
       "  <tbody>\n",
       "    <tr>\n",
       "      <th>0</th>\n",
       "      <td>NaN</td>\n",
       "      <td>NaN</td>\n",
       "      <td>NaN</td>\n",
       "      <td>NaN</td>\n",
       "      <td>NaN</td>\n",
       "      <td>NaN</td>\n",
       "      <td>NaN</td>\n",
       "    </tr>\n",
       "    <tr>\n",
       "      <th>1</th>\n",
       "      <td>2020.08.18</td>\n",
       "      <td>18900.0</td>\n",
       "      <td>150.0</td>\n",
       "      <td>18500.0</td>\n",
       "      <td>19300.0</td>\n",
       "      <td>17800.0</td>\n",
       "      <td>457736.0</td>\n",
       "    </tr>\n",
       "    <tr>\n",
       "      <th>2</th>\n",
       "      <td>2020.08.14</td>\n",
       "      <td>19050.0</td>\n",
       "      <td>50.0</td>\n",
       "      <td>18950.0</td>\n",
       "      <td>19850.0</td>\n",
       "      <td>18850.0</td>\n",
       "      <td>1433258.0</td>\n",
       "    </tr>\n",
       "    <tr>\n",
       "      <th>3</th>\n",
       "      <td>2020.08.13</td>\n",
       "      <td>19100.0</td>\n",
       "      <td>300.0</td>\n",
       "      <td>19200.0</td>\n",
       "      <td>19750.0</td>\n",
       "      <td>18800.0</td>\n",
       "      <td>1650506.0</td>\n",
       "    </tr>\n",
       "    <tr>\n",
       "      <th>4</th>\n",
       "      <td>2020.08.12</td>\n",
       "      <td>19400.0</td>\n",
       "      <td>750.0</td>\n",
       "      <td>18000.0</td>\n",
       "      <td>20400.0</td>\n",
       "      <td>17600.0</td>\n",
       "      <td>5502661.0</td>\n",
       "    </tr>\n",
       "  </tbody>\n",
       "</table>\n",
       "</div>"
      ],
      "text/plain": [
       "           날짜       종가    전일비       시가       고가       저가        거래량\n",
       "0         NaN      NaN    NaN      NaN      NaN      NaN        NaN\n",
       "1  2020.08.18  18900.0  150.0  18500.0  19300.0  17800.0   457736.0\n",
       "2  2020.08.14  19050.0   50.0  18950.0  19850.0  18850.0  1433258.0\n",
       "3  2020.08.13  19100.0  300.0  19200.0  19750.0  18800.0  1650506.0\n",
       "4  2020.08.12  19400.0  750.0  18000.0  20400.0  17600.0  5502661.0"
      ]
     },
     "execution_count": 10,
     "metadata": {},
     "output_type": "execute_result"
    }
   ],
   "source": [
    "# 넥슨GT의 일별 시세 url 가져오기 \n",
    "company='넥슨지티' \n",
    "code = stock_code[stock_code.company==company].code.values[0].strip() ## strip() : 공백제거\n",
    "page = 1\n",
    "\n",
    "url = 'http://finance.naver.com/item/sise_day.nhn?code={code}'.format(code=code)     \n",
    "url = '{url}&page={page}'.format(url=url, page=page)\n",
    "print(url)\n",
    "df = pd.read_html(url, header=0)[0]\n",
    "df.head()"
   ]
  },
  {
   "cell_type": "code",
   "execution_count": 11,
   "metadata": {},
   "outputs": [
    {
     "name": "stdout",
     "output_type": "stream",
     "text": [
      "http://finance.naver.com/item/sise_day.nhn?code=041140&page=1\n",
      "http://finance.naver.com/item/sise_day.nhn?code=041140&page=2\n",
      "http://finance.naver.com/item/sise_day.nhn?code=041140&page=3\n",
      "http://finance.naver.com/item/sise_day.nhn?code=041140&page=4\n",
      "http://finance.naver.com/item/sise_day.nhn?code=041140&page=5\n",
      "http://finance.naver.com/item/sise_day.nhn?code=041140&page=6\n",
      "http://finance.naver.com/item/sise_day.nhn?code=041140&page=7\n",
      "http://finance.naver.com/item/sise_day.nhn?code=041140&page=8\n",
      "http://finance.naver.com/item/sise_day.nhn?code=041140&page=9\n",
      "http://finance.naver.com/item/sise_day.nhn?code=041140&page=10\n",
      "http://finance.naver.com/item/sise_day.nhn?code=041140&page=11\n",
      "http://finance.naver.com/item/sise_day.nhn?code=041140&page=12\n",
      "http://finance.naver.com/item/sise_day.nhn?code=041140&page=13\n",
      "http://finance.naver.com/item/sise_day.nhn?code=041140&page=14\n",
      "http://finance.naver.com/item/sise_day.nhn?code=041140&page=15\n",
      "http://finance.naver.com/item/sise_day.nhn?code=041140&page=16\n",
      "http://finance.naver.com/item/sise_day.nhn?code=041140&page=17\n",
      "http://finance.naver.com/item/sise_day.nhn?code=041140&page=18\n",
      "http://finance.naver.com/item/sise_day.nhn?code=041140&page=19\n",
      "http://finance.naver.com/item/sise_day.nhn?code=041140&page=20\n"
     ]
    }
   ],
   "source": [
    "company='넥슨지티' \n",
    "code = stock_code[stock_code.company==company].code.values[0].strip() ## strip() : 공백제거\n",
    "\n",
    "df = pd.DataFrame()\n",
    "for page in range(1,21):\n",
    "    url = 'http://finance.naver.com/item/sise_day.nhn?code={code}'.format(code=code)     \n",
    "    url = '{url}&page={page}'.format(url=url, page=page)\n",
    "    print(url)\n",
    "    df = df.append(pd.read_html(url, header=0)[0], ignore_index=True)"
   ]
  },
  {
   "cell_type": "code",
   "execution_count": 12,
   "metadata": {},
   "outputs": [
    {
     "data": {
      "text/html": [
       "<div>\n",
       "<style scoped>\n",
       "    .dataframe tbody tr th:only-of-type {\n",
       "        vertical-align: middle;\n",
       "    }\n",
       "\n",
       "    .dataframe tbody tr th {\n",
       "        vertical-align: top;\n",
       "    }\n",
       "\n",
       "    .dataframe thead th {\n",
       "        text-align: right;\n",
       "    }\n",
       "</style>\n",
       "<table border=\"1\" class=\"dataframe\">\n",
       "  <thead>\n",
       "    <tr style=\"text-align: right;\">\n",
       "      <th></th>\n",
       "      <th>date</th>\n",
       "      <th>close</th>\n",
       "      <th>diff</th>\n",
       "      <th>open</th>\n",
       "      <th>high</th>\n",
       "      <th>low</th>\n",
       "      <th>volume</th>\n",
       "    </tr>\n",
       "  </thead>\n",
       "  <tbody>\n",
       "    <tr>\n",
       "      <th>298</th>\n",
       "      <td>2019-10-30</td>\n",
       "      <td>7250</td>\n",
       "      <td>60</td>\n",
       "      <td>7270</td>\n",
       "      <td>7900</td>\n",
       "      <td>7250</td>\n",
       "      <td>3952394</td>\n",
       "    </tr>\n",
       "    <tr>\n",
       "      <th>297</th>\n",
       "      <td>2019-10-31</td>\n",
       "      <td>7290</td>\n",
       "      <td>40</td>\n",
       "      <td>7290</td>\n",
       "      <td>7400</td>\n",
       "      <td>7200</td>\n",
       "      <td>531605</td>\n",
       "    </tr>\n",
       "    <tr>\n",
       "      <th>296</th>\n",
       "      <td>2019-11-01</td>\n",
       "      <td>7360</td>\n",
       "      <td>70</td>\n",
       "      <td>7300</td>\n",
       "      <td>7400</td>\n",
       "      <td>7180</td>\n",
       "      <td>412637</td>\n",
       "    </tr>\n",
       "    <tr>\n",
       "      <th>295</th>\n",
       "      <td>2019-11-04</td>\n",
       "      <td>7500</td>\n",
       "      <td>140</td>\n",
       "      <td>7360</td>\n",
       "      <td>7560</td>\n",
       "      <td>7300</td>\n",
       "      <td>467119</td>\n",
       "    </tr>\n",
       "    <tr>\n",
       "      <th>294</th>\n",
       "      <td>2019-11-05</td>\n",
       "      <td>7470</td>\n",
       "      <td>30</td>\n",
       "      <td>7550</td>\n",
       "      <td>7580</td>\n",
       "      <td>7370</td>\n",
       "      <td>375544</td>\n",
       "    </tr>\n",
       "  </tbody>\n",
       "</table>\n",
       "</div>"
      ],
      "text/plain": [
       "          date  close  diff  open  high   low   volume\n",
       "298 2019-10-30   7250    60  7270  7900  7250  3952394\n",
       "297 2019-10-31   7290    40  7290  7400  7200   531605\n",
       "296 2019-11-01   7360    70  7300  7400  7180   412637\n",
       "295 2019-11-04   7500   140  7360  7560  7300   467119\n",
       "294 2019-11-05   7470    30  7550  7580  7370   375544"
      ]
     },
     "execution_count": 12,
     "metadata": {},
     "output_type": "execute_result"
    }
   ],
   "source": [
    "# df.dropna()를 이용해 결측값 있는 행 제거 \n",
    "df = df.dropna() \n",
    "\n",
    "# 한글로 된 컬럼명을 영어로 바꿔줌 \n",
    "df = df.rename(columns= {'날짜': 'date', '종가': 'close', '전일비': 'diff', '시가': 'open', '고가': 'high', '저가': 'low', '거래량': 'volume'}) \n",
    "# 데이터의 타입을 int형으로 바꿔줌 \n",
    "df[['close', 'diff', 'open', 'high', 'low', 'volume']] = df[['close', 'diff', 'open', 'high', 'low', 'volume']].astype(int) \n",
    "\n",
    "# 컬럼명 'date'의 타입을 date로 바꿔줌 \n",
    "df['date'] = pd.to_datetime(df['date']) \n",
    "\n",
    "# 일자(date)를 기준으로 오름차순 정렬 \n",
    "df = df.sort_values(by=['date'], ascending=True) \n",
    "\n",
    "# 상위 5개 데이터 확인 \n",
    "df.head()"
   ]
  },
  {
   "cell_type": "code",
   "execution_count": 13,
   "metadata": {},
   "outputs": [],
   "source": [
    "import matplotlib.pyplot as plt\n",
    "# 필요한 모듈 import 하기 \n",
    "import plotly\n",
    "import plotly.graph_objects as go\n",
    "import plotly.express as px\n",
    "\n",
    "# %matplotlib inline 은 jupyter notebook 사용자용 - jupyter notebook 내에 그래프가 그려지게 한다.\n",
    "%matplotlib inline "
   ]
  },
  {
   "cell_type": "code",
   "execution_count": 19,
   "metadata": {},
   "outputs": [
    {
     "data": {
      "image/png": "[encoded data removed]",
      "text/plain": [
       "<Figure size 720x288 with 1 Axes>"
      ]
     },
     "metadata": {
      "needs_background": "light"
     },
     "output_type": "display_data"
    }
   ],
   "source": [
    "plt.figure(figsize=(10,4))\n",
    "plt.plot(df['date'], df['close'])\n",
    "plt.xlabel('')\n",
    "plt.ylabel('close')\n",
    "plt.tick_params(\n",
    "    axis='x',          # changes apply to the x-axis\n",
    "    which='both',      # both major and minor ticks are affected\n",
    "    bottom=False,      # ticks along the bottom edge are off\n",
    "    top=False,         # ticks along the top edge are off\n",
    "    labelbottom=False) # labels along the bottom edge are off\n",
    "plt.savefig(company + \".png\")\n",
    "plt.show()"
   ]
  },
  {
   "cell_type": "code",
   "execution_count": 23,
   "metadata": {},
   "outputs": [
    {
     "data": {
      "application/vnd.plotly.v1+json": {
       "config": {
        "plotlyServerURL": "https://plot.ly"
       },
       "data": [
        {
         "type": "scatter",
         "x": [
          "2015-02-17",
          "2015-02-18",
          "2015-02-19",
          "2015-02-20",
          "2015-02-23",
          "2015-02-24",
          "2015-02-25",
          "2015-02-26",
          "2015-02-27",
          "2015-03-02",
          "2015-03-03",
          "2015-03-04",
          "2015-03-05",
          "2015-03-06",
          "2015-03-09",
          "2015-03-10",
          "2015-03-11",
          "2015-03-12",
          "2015-03-13",
          "2015-03-16",
          "2015-03-17",
          "2015-03-18",
          "2015-03-19",
          "2015-03-20",
          "2015-03-23",
          "2015-03-24",
          "2015-03-25",
          "2015-03-26",
          "2015-03-27",
          "2015-03-30",
          "2015-03-31",
          "2015-04-01",
          "2015-04-02",
          "2015-04-06",
          "2015-04-07",
          "2015-04-08",
          "2015-04-09",
          "2015-04-10",
          "2015-04-13",
          "2015-04-14",
          "2015-04-15",
          "2015-04-16",
          "2015-04-17",
          "2015-04-20",
          "2015-04-21",
          "2015-04-22",
          "2015-04-23",
          "2015-04-24",
          "2015-04-27",
          "2015-04-28",
          "2015-04-29",
          "2015-04-30",
          "2015-05-01",
          "2015-05-04",
          "2015-05-05",
          "2015-05-06",
          "2015-05-07",
          "2015-05-08",
          "2015-05-11",
          "2015-05-12",
          "2015-05-13",
          "2015-05-14",
          "2015-05-15",
          "2015-05-18",
          "2015-05-19",
          "2015-05-20",
          "2015-05-21",
          "2015-05-22",
          "2015-05-26",
          "2015-05-27",
          "2015-05-28",
          "2015-05-29",
          "2015-06-01",
          "2015-06-02",
          "2015-06-03",
          "2015-06-04",
          "2015-06-05",
          "2015-06-08",
          "2015-06-09",
          "2015-06-10",
          "2015-06-11",
          "2015-06-12",
          "2015-06-15",
          "2015-06-16",
          "2015-06-17",
          "2015-06-18",
          "2015-06-19",
          "2015-06-22",
          "2015-06-23",
          "2015-06-24",
          "2015-06-25",
          "2015-06-26",
          "2015-06-29",
          "2015-06-30",
          "2015-07-01",
          "2015-07-02",
          "2015-07-06",
          "2015-07-07",
          "2015-07-08",
          "2015-07-09",
          "2015-07-10",
          "2015-07-13",
          "2015-07-14",
          "2015-07-15",
          "2015-07-16",
          "2015-07-17",
          "2015-07-20",
          "2015-07-21",
          "2015-07-22",
          "2015-07-23",
          "2015-07-24",
          "2015-07-27",
          "2015-07-28",
          "2015-07-29",
          "2015-07-30",
          "2015-07-31",
          "2015-08-03",
          "2015-08-04",
          "2015-08-05",
          "2015-08-06",
          "2015-08-07",
          "2015-08-10",
          "2015-08-11",
          "2015-08-12",
          "2015-08-13",
          "2015-08-14",
          "2015-08-17",
          "2015-08-18",
          "2015-08-19",
          "2015-08-20",
          "2015-08-21",
          "2015-08-24",
          "2015-08-25",
          "2015-08-26",
          "2015-08-27",
          "2015-08-28",
          "2015-08-31",
          "2015-09-01",
          "2015-09-02",
          "2015-09-03",
          "2015-09-04",
          "2015-09-08",
          "2015-09-09",
          "2015-09-10",
          "2015-09-11",
          "2015-09-14",
          "2015-09-15",
          "2015-09-16",
          "2015-09-17",
          "2015-09-18",
          "2015-09-21",
          "2015-09-22",
          "2015-09-23",
          "2015-09-24",
          "2015-09-25",
          "2015-09-28",
          "2015-09-29",
          "2015-09-30",
          "2015-10-01",
          "2015-10-02",
          "2015-10-05",
          "2015-10-06",
          "2015-10-07",
          "2015-10-08",
          "2015-10-09",
          "2015-10-12",
          "2015-10-13",
          "2015-10-14",
          "2015-10-15",
          "2015-10-16",
          "2015-10-19",
          "2015-10-20",
          "2015-10-21",
          "2015-10-22",
          "2015-10-23",
          "2015-10-26",
          "2015-10-27",
          "2015-10-28",
          "2015-10-29",
          "2015-10-30",
          "2015-11-02",
          "2015-11-03",
          "2015-11-04",
          "2015-11-05",
          "2015-11-06",
          "2015-11-09",
          "2015-11-10",
          "2015-11-11",
          "2015-11-12",
          "2015-11-13",
          "2015-11-16",
          "2015-11-17",
          "2015-11-18",
          "2015-11-19",
          "2015-11-20",
          "2015-11-23",
          "2015-11-24",
          "2015-11-25",
          "2015-11-27",
          "2015-11-30",
          "2015-12-01",
          "2015-12-02",
          "2015-12-03",
          "2015-12-04",
          "2015-12-07",
          "2015-12-08",
          "2015-12-09",
          "2015-12-10",
          "2015-12-11",
          "2015-12-14",
          "2015-12-15",
          "2015-12-16",
          "2015-12-17",
          "2015-12-18",
          "2015-12-21",
          "2015-12-22",
          "2015-12-23",
          "2015-12-24",
          "2015-12-28",
          "2015-12-29",
          "2015-12-30",
          "2015-12-31",
          "2016-01-04",
          "2016-01-05",
          "2016-01-06",
          "2016-01-07",
          "2016-01-08",
          "2016-01-11",
          "2016-01-12",
          "2016-01-13",
          "2016-01-14",
          "2016-01-15",
          "2016-01-19",
          "2016-01-20",
          "2016-01-21",
          "2016-01-22",
          "2016-01-25",
          "2016-01-26",
          "2016-01-27",
          "2016-01-28",
          "2016-01-29",
          "2016-02-01",
          "2016-02-02",
          "2016-02-03",
          "2016-02-04",
          "2016-02-05",
          "2016-02-08",
          "2016-02-09",
          "2016-02-10",
          "2016-02-11",
          "2016-02-12",
          "2016-02-16",
          "2016-02-17",
          "2016-02-18",
          "2016-02-19",
          "2016-02-22",
          "2016-02-23",
          "2016-02-24",
          "2016-02-25",
          "2016-02-26",
          "2016-02-29",
          "2016-03-01",
          "2016-03-02",
          "2016-03-03",
          "2016-03-04",
          "2016-03-07",
          "2016-03-08",
          "2016-03-09",
          "2016-03-10",
          "2016-03-11",
          "2016-03-14",
          "2016-03-15",
          "2016-03-16",
          "2016-03-17",
          "2016-03-18",
          "2016-03-21",
          "2016-03-22",
          "2016-03-23",
          "2016-03-24",
          "2016-03-28",
          "2016-03-29",
          "2016-03-30",
          "2016-03-31",
          "2016-04-01",
          "2016-04-04",
          "2016-04-05",
          "2016-04-06",
          "2016-04-07",
          "2016-04-08",
          "2016-04-11",
          "2016-04-12",
          "2016-04-13",
          "2016-04-14",
          "2016-04-15",
          "2016-04-18",
          "2016-04-19",
          "2016-04-20",
          "2016-04-21",
          "2016-04-22",
          "2016-04-25",
          "2016-04-26",
          "2016-04-27",
          "2016-04-28",
          "2016-04-29",
          "2016-05-02",
          "2016-05-03",
          "2016-05-04",
          "2016-05-05",
          "2016-05-06",
          "2016-05-09",
          "2016-05-10",
          "2016-05-11",
          "2016-05-12",
          "2016-05-13",
          "2016-05-16",
          "2016-05-17",
          "2016-05-18",
          "2016-05-19",
          "2016-05-20",
          "2016-05-23",
          "2016-05-24",
          "2016-05-25",
          "2016-05-26",
          "2016-05-27",
          "2016-05-31",
          "2016-06-01",
          "2016-06-02",
          "2016-06-03",
          "2016-06-06",
          "2016-06-07",
          "2016-06-08",
          "2016-06-09",
          "2016-06-10",
          "2016-06-13",
          "2016-06-14",
          "2016-06-15",
          "2016-06-16",
          "2016-06-17",
          "2016-06-20",
          "2016-06-21",
          "2016-06-22",
          "2016-06-23",
          "2016-06-24",
          "2016-06-27",
          "2016-06-28",
          "2016-06-29",
          "2016-06-30",
          "2016-07-01",
          "2016-07-05",
          "2016-07-06",
          "2016-07-07",
          "2016-07-08",
          "2016-07-11",
          "2016-07-12",
          "2016-07-13",
          "2016-07-14",
          "2016-07-15",
          "2016-07-18",
          "2016-07-19",
          "2016-07-20",
          "2016-07-21",
          "2016-07-22",
          "2016-07-25",
          "2016-07-26",
          "2016-07-27",
          "2016-07-28",
          "2016-07-29",
          "2016-08-01",
          "2016-08-02",
          "2016-08-03",
          "2016-08-04",
          "2016-08-05",
          "2016-08-08",
          "2016-08-09",
          "2016-08-10",
          "2016-08-11",
          "2016-08-12",
          "2016-08-15",
          "2016-08-16",
          "2016-08-17",
          "2016-08-18",
          "2016-08-19",
          "2016-08-22",
          "2016-08-23",
          "2016-08-24",
          "2016-08-25",
          "2016-08-26",
          "2016-08-29",
          "2016-08-30",
          "2016-08-31",
          "2016-09-01",
          "2016-09-02",
          "2016-09-06",
          "2016-09-07",
          "2016-09-08",
          "2016-09-09",
          "2016-09-12",
          "2016-09-13",
          "2016-09-14",
          "2016-09-15",
          "2016-09-16",
          "2016-09-19",
          "2016-09-20",
          "2016-09-21",
          "2016-09-22",
          "2016-09-23",
          "2016-09-26",
          "2016-09-27",
          "2016-09-28",
          "2016-09-29",
          "2016-09-30",
          "2016-10-03",
          "2016-10-04",
          "2016-10-05",
          "2016-10-06",
          "2016-10-07",
          "2016-10-10",
          "2016-10-11",
          "2016-10-12",
          "2016-10-13",
          "2016-10-14",
          "2016-10-17",
          "2016-10-18",
          "2016-10-19",
          "2016-10-20",
          "2016-10-21",
          "2016-10-24",
          "2016-10-25",
          "2016-10-26",
          "2016-10-27",
          "2016-10-28",
          "2016-10-31",
          "2016-11-01",
          "2016-11-02",
          "2016-11-03",
          "2016-11-04",
          "2016-11-07",
          "2016-11-08",
          "2016-11-09",
          "2016-11-10",
          "2016-11-11",
          "2016-11-14",
          "2016-11-15",
          "2016-11-16",
          "2016-11-17",
          "2016-11-18",
          "2016-11-21",
          "2016-11-22",
          "2016-11-23",
          "2016-11-25",
          "2016-11-28",
          "2016-11-29",
          "2016-11-30",
          "2016-12-01",
          "2016-12-02",
          "2016-12-05",
          "2016-12-06",
          "2016-12-07",
          "2016-12-08",
          "2016-12-09",
          "2016-12-12",
          "2016-12-13",
          "2016-12-14",
          "2016-12-15",
          "2016-12-16",
          "2016-12-19",
          "2016-12-20",
          "2016-12-21",
          "2016-12-22",
          "2016-12-23",
          "2016-12-27",
          "2016-12-28",
          "2016-12-29",
          "2016-12-30",
          "2017-01-03",
          "2017-01-04",
          "2017-01-05",
          "2017-01-06",
          "2017-01-09",
          "2017-01-10",
          "2017-01-11",
          "2017-01-12",
          "2017-01-13",
          "2017-01-17",
          "2017-01-18",
          "2017-01-19",
          "2017-01-20",
          "2017-01-23",
          "2017-01-24",
          "2017-01-25",
          "2017-01-26",
          "2017-01-27",
          "2017-01-30",
          "2017-01-31",
          "2017-02-01",
          "2017-02-02",
          "2017-02-03",
          "2017-02-06",
          "2017-02-07",
          "2017-02-08",
          "2017-02-09",
          "2017-02-10",
          "2017-02-13",
          "2017-02-14",
          "2017-02-15",
          "2017-02-16"
         ],
         "y": [
          117.9276669,
          118.9403335,
          119.88916680000001,
          120.76350009999999,
          121.7201668,
          122.6648335,
          123.62966670000002,
          124.28233329999999,
          124.8426669,
          125.40366680000001,
          125.9551669,
          126.47300020000002,
          126.84866699999999,
          127.2288335,
          127.63116699999999,
          127.9235004,
          128.0033337,
          127.98133370000001,
          127.8490003,
          127.72833349999999,
          127.66800020000001,
          127.65216699999999,
          127.6245004,
          127.4980004,
          127.2633335,
          127.00250009999999,
          126.75316670000001,
          126.48350009999999,
          126.20999979999999,
          126.02833319999999,
          125.83349979999998,
          125.6009999,
          125.50349979999999,
          125.4528332,
          125.4251665,
          125.44916640000001,
          125.59383319999999,
          125.7369999,
          125.9113334,
          126.02350020000002,
          126.0220001,
          125.945,
          125.79833319999999,
          125.82216640000001,
          125.82549979999999,
          125.86749979999999,
          126.1116665,
          126.4186666,
          126.8531664,
          127.1514997,
          127.37233300000001,
          127.47066629999999,
          127.6258331,
          127.76483300000001,
          127.7634997,
          127.73266640000001,
          127.6919997,
          127.7216665,
          127.6796663,
          127.64749950000001,
          127.63333300000001,
          127.7279997,
          127.91333329999999,
          128.0530002,
          128.1998337,
          128.3093337,
          128.3863339,
          128.499167,
          128.411167,
          128.4058336,
          128.5108337,
          128.7318334,
          128.8584999,
          128.8986669,
          129.08083349999998,
          129.3096669,
          129.4986668,
          129.5401669,
          129.5670003,
          129.708667,
          129.845,
          129.80416670000002,
          129.6941663,
          129.56999960000002,
          129.4254994,
          129.3093328,
          129.1088327,
          128.87283290000002,
          128.7039996,
          128.5486666,
          128.37149979999998,
          128.1985,
          127.9235001,
          127.69799990000001,
          127.5075,
          127.3416666,
          127.18133329999999,
          127.04416640000001,
          126.85466640000001,
          126.4759997,
          126.1608332,
          126.04633329999999,
          125.99883349999999,
          125.96100020000002,
          126.00283359999999,
          126.0718335,
          126.32050020000001,
          126.50783359999998,
          126.3610003,
          126.2323335,
          126.0646669,
          125.8521669,
          125.7581669,
          125.6306668,
          125.41600020000001,
          125.18183359999999,
          124.8726669,
          124.3723335,
          123.9588335,
          123.66550020000001,
          123.2976669,
          122.97266670000002,
          122.439,
          121.7846665,
          121.1456666,
          120.4578334,
          119.70066680000001,
          118.96666670000002,
          118.5250001,
          117.8803334,
          117.0331668,
          115.9568336,
          115.0986668,
          114.36316699999999,
          113.8553335,
          113.41016670000002,
          113.0895001,
          112.77900009999999,
          112.59349990000001,
          112.3841666,
          112.0835,
          111.7326666,
          111.54833319999999,
          111.47266670000002,
          111.3741666,
          111.3871666,
          111.3358331,
          111.3098331,
          111.27516640000002,
          111.2916665,
          111.64049979999999,
          112.2434997,
          112.6433331,
          112.9473331,
          113.1013332,
          113.12316659999999,
          112.9754999,
          113.03566670000001,
          112.9140003,
          112.843167,
          112.89300039999999,
          112.85350030000001,
          112.8205004,
          112.68966709999998,
          112.5848337,
          112.3970004,
          112.1918338,
          111.90683359999998,
          111.7455003,
          111.6446669,
          111.4671668,
          111.44483340000001,
          111.4565001,
          111.4936666,
          111.6473335,
          111.79533329999998,
          112.0395,
          112.44049979999998,
          112.9901664,
          113.5106663,
          114.0261663,
          114.59183300000001,
          115.1831664,
          115.7813331,
          116.27466640000002,
          116.7186664,
          116.9849997,
          117.2758331,
          117.5048332,
          117.6149997,
          117.71216629999999,
          117.7671665,
          117.8878331,
          118.05766650000001,
          118.114833,
          118.2229998,
          118.39416640000002,
          118.4033331,
          118.3088331,
          118.23033329999998,
          118.07799979999999,
          117.8064999,
          117.4526665,
          117.2793332,
          117.1536665,
          117.0079999,
          116.96616670000002,
          116.9641668,
          116.8513334,
          116.7641669,
          116.6678336,
          116.5023334,
          116.1678335,
          115.6023334,
          114.97233349999999,
          114.41533359999998,
          113.90383349999999,
          113.40050009999999,
          112.8483335,
          112.34116670000002,
          111.8443334,
          111.2883334,
          110.73016670000001,
          110.02316680000001,
          109.1396668,
          108.1283334,
          107.20233329999999,
          106.30749979999999,
          105.6086665,
          104.9574998,
          104.32583309999998,
          103.62699980000001,
          102.97033309999999,
          102.42099990000001,
          101.9018332,
          101.5659998,
          101.15799990000001,
          100.72399990000001,
          100.102333,
          99.36849958,
          98.79899947,
          98.3228328,
          97.8574995,
          97.46249942,
          97.23216607,
          97.09249945,
          96.94116608,
          96.77333287,
          96.52716613,
          96.27933263,
          96.04199933,
          96.00699935,
          96.03483265,
          96.08216592,
          96.07349932,
          95.88099927,
          95.64033268,
          95.42133268,
          95.51099957,
          95.68616642,
          95.72850003,
          95.89816658,
          96.17283317,
          96.44599983,
          96.76283322,
          97.11333333,
          97.43733338,
          97.73916675,
          98.05316683,
          98.47033362,
          98.89883362,
          99.32400032,
          99.73050017,
          100.16366690000001,
          100.6471668,
          101.13050030000001,
          101.6885002,
          102.24350030000001,
          102.71083349999999,
          103.1263335,
          103.60600000000001,
          104.1036667,
          104.5451667,
          104.954,
          105.3781666,
          105.78316650000001,
          106.24899979999999,
          106.6508331,
          107.0348331,
          107.40849979999999,
          107.7816666,
          108.14116659999999,
          108.45700000000001,
          108.7011666,
          108.79716670000002,
          108.83783340000001,
          108.8721665,
          108.86083319999999,
          108.8603333,
          108.8403334,
          108.7271669,
          108.1210003,
          107.44083359999999,
          106.6538337,
          105.7628338,
          105.0068337,
          104.2196672,
          103.43483379999999,
          102.625167,
          101.80333359999999,
          100.96166679999999,
          100.0176668,
          98.96383345,
          97.96899997,
          97.24483323,
          96.5791664,
          95.95216648,
          95.35199978,
          94.82516632,
          94.39266622,
          94.04716603,
          94.13483275,
          94.34849953,
          94.66683283,
          94.98283283,
          95.1783329,
          95.31633273,
          95.54383263,
          95.87799935,
          96.1898328,
          96.49116615,
          96.81716612,
          97.21833290000001,
          97.5744996,
          97.78733299999999,
          97.97699975,
          98.10549987,
          98.18666672,
          98.2121667,
          98.17300007,
          98.08900017,
          97.92516678,
          97.60733348,
          97.21600023,
          96.8878335,
          96.65866683,
          96.55000023,
          96.45083373,
          96.23050040000001,
          96.02550048,
          95.87350057,
          95.73216728,
          95.64383403,
          95.62183405,
          95.60000063,
          95.64200058,
          95.7288339,
          95.91683373,
          96.12533377,
          96.345667,
          96.54183362,
          96.68566705,
          96.89216675,
          97.1333333,
          97.64433323,
          98.12816642,
          98.57433315,
          99.05633327,
          99.55133333,
          100.06533309999999,
          100.55016640000001,
          101.0783331,
          101.6206665,
          102.1793332,
          102.734,
          103.2275,
          103.6911667,
          104.1668335,
          104.6603335,
          105.10650020000001,
          105.57550020000001,
          106.09450020000001,
          106.63383370000001,
          107.2278337,
          107.4680004,
          107.6433338,
          107.7893337,
          107.8550003,
          107.91250020000001,
          107.9443336,
          107.97766709999999,
          107.9983337,
          107.99183359999999,
          107.9656669,
          107.85516670000001,
          107.64299999999999,
          107.4645,
          107.41249979999999,
          107.4888331,
          107.78649979999999,
          108.0763331,
          108.3363331,
          108.58199979999999,
          108.80333329999999,
          109.12166670000002,
          109.40366680000001,
          109.68066680000001,
          109.98166670000002,
          110.38199990000001,
          110.7065001,
          111.0243334,
          111.27933329999999,
          111.5531666,
          111.80666670000001,
          112.1955,
          112.698,
          113.2618334,
          113.7153335,
          114.02650030000001,
          114.11566699999999,
          114.24633359999999,
          114.3990002,
          114.61450009999999,
          114.7595002,
          114.87966670000002,
          115.05866670000002,
          115.3015,
          115.5566668,
          115.59966670000001,
          115.7106666,
          115.77999979999998,
          115.83199979999999,
          115.7628331,
          115.69233290000001,
          115.5169998,
          115.26816640000001,
          114.98249979999999,
          114.67066640000002,
          114.30699969999999,
          113.8831663,
          113.3984998,
          112.82233319999999,
          112.286,
          111.9216665,
          111.56099979999999,
          111.23549990000001,
          110.9244999,
          110.6195,
          110.42733359999998,
          110.26350020000001,
          110.1476669,
          110.0241669,
          109.97750020000001,
          109.8823335,
          109.8490001,
          109.8521668,
          109.8375,
          109.8191669,
          109.90083349999999,
          110.17166680000001,
          110.454,
          110.9083334,
          111.33200000000001,
          111.6813334,
          111.9978335,
          112.32300009999999,
          112.613,
          112.87333319999999,
          113.12949979999999,
          113.36316629999999,
          113.63183300000001,
          113.9221663,
          114.20966659999999,
          114.5261665,
          114.8328334,
          115.181,
          115.51066670000002,
          115.8633334,
          116.2168334,
          116.4806669,
          116.77216680000001,
          116.9705002,
          117.1555002,
          117.3335001,
          117.53483329999999,
          117.69266670000002,
          117.8435001,
          118.0005,
          118.186,
          118.4465001,
          118.68700000000001,
          118.93566670000001,
          119.1636665,
          119.41216659999999,
          120.06233329999999,
          120.68599990000001,
          121.30516670000002,
          121.924333,
          122.55283290000001,
          123.19766609999998,
          123.82616599999999,
          124.49866589999999,
          125.2051659,
          125.95349920000001,
          126.7234992,
          127.50433249999999
         ]
        }
       ],
       "layout": {
        "template": {
         "data": {
          "bar": [
           {
            "error_x": {
             "color": "#2a3f5f"
            },
            "error_y": {
             "color": "#2a3f5f"
            },
            "marker": {
             "line": {
              "color": "#E5ECF6",
              "width": 0.5
             }
            },
            "type": "bar"
           }
          ],
          "barpolar": [
           {
            "marker": {
             "line": {
              "color": "#E5ECF6",
              "width": 0.5
             }
            },
            "type": "barpolar"
           }
          ],
          "carpet": [
           {
            "aaxis": {
             "endlinecolor": "#2a3f5f",
             "gridcolor": "white",
             "linecolor": "white",
             "minorgridcolor": "white",
             "startlinecolor": "#2a3f5f"
            },
            "baxis": {
             "endlinecolor": "#2a3f5f",
             "gridcolor": "white",
             "linecolor": "white",
             "minorgridcolor": "white",
             "startlinecolor": "#2a3f5f"
            },
            "type": "carpet"
           }
          ],
          "choropleth": [
           {
            "colorbar": {
             "outlinewidth": 0,
             "ticks": ""
            },
            "type": "choropleth"
           }
          ],
          "contour": [
           {
            "colorbar": {
             "outlinewidth": 0,
             "ticks": ""
            },
            "colorscale": [
             [
              0,
              "#0d0887"
             ],
             [
              0.1111111111111111,
              "#46039f"
             ],
             [
              0.2222222222222222,
              "#7201a8"
             ],
             [
              0.3333333333333333,
              "#9c179e"
             ],
             [
              0.4444444444444444,
              "#bd3786"
             ],
             [
              0.5555555555555556,
              "#d8576b"
             ],
             [
              0.6666666666666666,
              "#ed7953"
             ],
             [
              0.7777777777777778,
              "#fb9f3a"
             ],
             [
              0.8888888888888888,
              "#fdca26"
             ],
             [
              1,
              "#f0f921"
             ]
            ],
            "type": "contour"
           }
          ],
          "contourcarpet": [
           {
            "colorbar": {
             "outlinewidth": 0,
             "ticks": ""
            },
            "type": "contourcarpet"
           }
          ],
          "heatmap": [
           {
            "colorbar": {
             "outlinewidth": 0,
             "ticks": ""
            },
            "colorscale": [
             [
              0,
              "#0d0887"
             ],
             [
              0.1111111111111111,
              "#46039f"
             ],
             [
              0.2222222222222222,
              "#7201a8"
             ],
             [
              0.3333333333333333,
              "#9c179e"
             ],
             [
              0.4444444444444444,
              "#bd3786"
             ],
             [
              0.5555555555555556,
              "#d8576b"
             ],
             [
              0.6666666666666666,
              "#ed7953"
             ],
             [
              0.7777777777777778,
              "#fb9f3a"
             ],
             [
              0.8888888888888888,
              "#fdca26"
             ],
             [
              1,
              "#f0f921"
             ]
            ],
            "type": "heatmap"
           }
          ],
          "heatmapgl": [
           {
            "colorbar": {
             "outlinewidth": 0,
             "ticks": ""
            },
            "colorscale": [
             [
              0,
              "#0d0887"
             ],
             [
              0.1111111111111111,
              "#46039f"
             ],
             [
              0.2222222222222222,
              "#7201a8"
             ],
             [
              0.3333333333333333,
              "#9c179e"
             ],
             [
              0.4444444444444444,
              "#bd3786"
             ],
             [
              0.5555555555555556,
              "#d8576b"
             ],
             [
              0.6666666666666666,
              "#ed7953"
             ],
             [
              0.7777777777777778,
              "#fb9f3a"
             ],
             [
              0.8888888888888888,
              "#fdca26"
             ],
             [
              1,
              "#f0f921"
             ]
            ],
            "type": "heatmapgl"
           }
          ],
          "histogram": [
           {
            "marker": {
             "colorbar": {
              "outlinewidth": 0,
              "ticks": ""
             }
            },
            "type": "histogram"
           }
          ],
          "histogram2d": [
           {
            "colorbar": {
             "outlinewidth": 0,
             "ticks": ""
            },
            "colorscale": [
             [
              0,
              "#0d0887"
             ],
             [
              0.1111111111111111,
              "#46039f"
             ],
             [
              0.2222222222222222,
              "#7201a8"
             ],
             [
              0.3333333333333333,
              "#9c179e"
             ],
             [
              0.4444444444444444,
              "#bd3786"
             ],
             [
              0.5555555555555556,
              "#d8576b"
             ],
             [
              0.6666666666666666,
              "#ed7953"
             ],
             [
              0.7777777777777778,
              "#fb9f3a"
             ],
             [
              0.8888888888888888,
              "#fdca26"
             ],
             [
              1,
              "#f0f921"
             ]
            ],
            "type": "histogram2d"
           }
          ],
          "histogram2dcontour": [
           {
            "colorbar": {
             "outlinewidth": 0,
             "ticks": ""
            },
            "colorscale": [
             [
              0,
              "#0d0887"
             ],
             [
              0.1111111111111111,
              "#46039f"
             ],
             [
              0.2222222222222222,
              "#7201a8"
             ],
             [
              0.3333333333333333,
              "#9c179e"
             ],
             [
              0.4444444444444444,
              "#bd3786"
             ],
             [
              0.5555555555555556,
              "#d8576b"
             ],
             [
              0.6666666666666666,
              "#ed7953"
             ],
             [
              0.7777777777777778,
              "#fb9f3a"
             ],
             [
              0.8888888888888888,
              "#fdca26"
             ],
             [
              1,
              "#f0f921"
             ]
            ],
            "type": "histogram2dcontour"
           }
          ],
          "mesh3d": [
           {
            "colorbar": {
             "outlinewidth": 0,
             "ticks": ""
            },
            "type": "mesh3d"
           }
          ],
          "parcoords": [
           {
            "line": {
             "colorbar": {
              "outlinewidth": 0,
              "ticks": ""
             }
            },
            "type": "parcoords"
           }
          ],
          "pie": [
           {
            "automargin": true,
            "type": "pie"
           }
          ],
          "scatter": [
           {
            "marker": {
             "colorbar": {
              "outlinewidth": 0,
              "ticks": ""
             }
            },
            "type": "scatter"
           }
          ],
          "scatter3d": [
           {
            "line": {
             "colorbar": {
              "outlinewidth": 0,
              "ticks": ""
             }
            },
            "marker": {
             "colorbar": {
              "outlinewidth": 0,
              "ticks": ""
             }
            },
            "type": "scatter3d"
           }
          ],
          "scattercarpet": [
           {
            "marker": {
             "colorbar": {
              "outlinewidth": 0,
              "ticks": ""
             }
            },
            "type": "scattercarpet"
           }
          ],
          "scattergeo": [
           {
            "marker": {
             "colorbar": {
              "outlinewidth": 0,
              "ticks": ""
             }
            },
            "type": "scattergeo"
           }
          ],
          "scattergl": [
           {
            "marker": {
             "colorbar": {
              "outlinewidth": 0,
              "ticks": ""
             }
            },
            "type": "scattergl"
           }
          ],
          "scattermapbox": [
           {
            "marker": {
             "colorbar": {
              "outlinewidth": 0,
              "ticks": ""
             }
            },
            "type": "scattermapbox"
           }
          ],
          "scatterpolar": [
           {
            "marker": {
             "colorbar": {
              "outlinewidth": 0,
              "ticks": ""
             }
            },
            "type": "scatterpolar"
           }
          ],
          "scatterpolargl": [
           {
            "marker": {
             "colorbar": {
              "outlinewidth": 0,
              "ticks": ""
             }
            },
            "type": "scatterpolargl"
           }
          ],
          "scatterternary": [
           {
            "marker": {
             "colorbar": {
              "outlinewidth": 0,
              "ticks": ""
             }
            },
            "type": "scatterternary"
           }
          ],
          "surface": [
           {
            "colorbar": {
             "outlinewidth": 0,
             "ticks": ""
            },
            "colorscale": [
             [
              0,
              "#0d0887"
             ],
             [
              0.1111111111111111,
              "#46039f"
             ],
             [
              0.2222222222222222,
              "#7201a8"
             ],
             [
              0.3333333333333333,
              "#9c179e"
             ],
             [
              0.4444444444444444,
              "#bd3786"
             ],
             [
              0.5555555555555556,
              "#d8576b"
             ],
             [
              0.6666666666666666,
              "#ed7953"
             ],
             [
              0.7777777777777778,
              "#fb9f3a"
             ],
             [
              0.8888888888888888,
              "#fdca26"
             ],
             [
              1,
              "#f0f921"
             ]
            ],
            "type": "surface"
           }
          ],
          "table": [
           {
            "cells": {
             "fill": {
              "color": "#EBF0F8"
             },
             "line": {
              "color": "white"
             }
            },
            "header": {
             "fill": {
              "color": "#C8D4E3"
             },
             "line": {
              "color": "white"
             }
            },
            "type": "table"
           }
          ]
         },
         "layout": {
          "annotationdefaults": {
           "arrowcolor": "#2a3f5f",
           "arrowhead": 0,
           "arrowwidth": 1
          },
          "coloraxis": {
           "colorbar": {
            "outlinewidth": 0,
            "ticks": ""
           }
          },
          "colorscale": {
           "diverging": [
            [
             0,
             "#8e0152"
            ],
            [
             0.1,
             "#c51b7d"
            ],
            [
             0.2,
             "#de77ae"
            ],
            [
             0.3,
             "#f1b6da"
            ],
            [
             0.4,
             "#fde0ef"
            ],
            [
             0.5,
             "#f7f7f7"
            ],
            [
             0.6,
             "#e6f5d0"
            ],
            [
             0.7,
             "#b8e186"
            ],
            [
             0.8,
             "#7fbc41"
            ],
            [
             0.9,
             "#4d9221"
            ],
            [
             1,
             "#276419"
            ]
           ],
           "sequential": [
            [
             0,
             "#0d0887"
            ],
            [
             0.1111111111111111,
             "#46039f"
            ],
            [
             0.2222222222222222,
             "#7201a8"
            ],
            [
             0.3333333333333333,
             "#9c179e"
            ],
            [
             0.4444444444444444,
             "#bd3786"
            ],
            [
             0.5555555555555556,
             "#d8576b"
            ],
            [
             0.6666666666666666,
             "#ed7953"
            ],
            [
             0.7777777777777778,
             "#fb9f3a"
            ],
            [
             0.8888888888888888,
             "#fdca26"
            ],
            [
             1,
             "#f0f921"
            ]
           ],
           "sequentialminus": [
            [
             0,
             "#0d0887"
            ],
            [
             0.1111111111111111,
             "#46039f"
            ],
            [
             0.2222222222222222,
             "#7201a8"
            ],
            [
             0.3333333333333333,
             "#9c179e"
            ],
            [
             0.4444444444444444,
             "#bd3786"
            ],
            [
             0.5555555555555556,
             "#d8576b"
            ],
            [
             0.6666666666666666,
             "#ed7953"
            ],
            [
             0.7777777777777778,
             "#fb9f3a"
            ],
            [
             0.8888888888888888,
             "#fdca26"
            ],
            [
             1,
             "#f0f921"
            ]
           ]
          },
          "colorway": [
           "#636efa",
           "#EF553B",
           "#00cc96",
           "#ab63fa",
           "#FFA15A",
           "#19d3f3",
           "#FF6692",
           "#B6E880",
           "#FF97FF",
           "#FECB52"
          ],
          "font": {
           "color": "#2a3f5f"
          },
          "geo": {
           "bgcolor": "white",
           "lakecolor": "white",
           "landcolor": "#E5ECF6",
           "showlakes": true,
           "showland": true,
           "subunitcolor": "white"
          },
          "hoverlabel": {
           "align": "left"
          },
          "hovermode": "closest",
          "mapbox": {
           "style": "light"
          },
          "paper_bgcolor": "white",
          "plot_bgcolor": "#E5ECF6",
          "polar": {
           "angularaxis": {
            "gridcolor": "white",
            "linecolor": "white",
            "ticks": ""
           },
           "bgcolor": "#E5ECF6",
           "radialaxis": {
            "gridcolor": "white",
            "linecolor": "white",
            "ticks": ""
           }
          },
          "scene": {
           "xaxis": {
            "backgroundcolor": "#E5ECF6",
            "gridcolor": "white",
            "gridwidth": 2,
            "linecolor": "white",
            "showbackground": true,
            "ticks": "",
            "zerolinecolor": "white"
           },
           "yaxis": {
            "backgroundcolor": "#E5ECF6",
            "gridcolor": "white",
            "gridwidth": 2,
            "linecolor": "white",
            "showbackground": true,
            "ticks": "",
            "zerolinecolor": "white"
           },
           "zaxis": {
            "backgroundcolor": "#E5ECF6",
            "gridcolor": "white",
            "gridwidth": 2,
            "linecolor": "white",
            "showbackground": true,
            "ticks": "",
            "zerolinecolor": "white"
           }
          },
          "shapedefaults": {
           "line": {
            "color": "#2a3f5f"
           }
          },
          "ternary": {
           "aaxis": {
            "gridcolor": "white",
            "linecolor": "white",
            "ticks": ""
           },
           "baxis": {
            "gridcolor": "white",
            "linecolor": "white",
            "ticks": ""
           },
           "bgcolor": "#E5ECF6",
           "caxis": {
            "gridcolor": "white",
            "linecolor": "white",
            "ticks": ""
           }
          },
          "title": {
           "x": 0.05
          },
          "xaxis": {
           "automargin": true,
           "gridcolor": "white",
           "linecolor": "white",
           "ticks": "",
           "title": {
            "standoff": 15
           },
           "zerolinecolor": "white",
           "zerolinewidth": 2
          },
          "yaxis": {
           "automargin": true,
           "gridcolor": "white",
           "linecolor": "white",
           "ticks": "",
           "title": {
            "standoff": 15
           },
           "zerolinecolor": "white",
           "zerolinewidth": 2
          }
         }
        },
        "xaxis": {
         "rangeslider": {
          "visible": true
         },
         "tickformatstops": [
          {
           "dtickrange": [
            null,
            1000
           ],
           "value": "%H:%M:%S.%L ms"
          },
          {
           "dtickrange": [
            1000,
            60000
           ],
           "value": "%H:%M:%S s"
          },
          {
           "dtickrange": [
            60000,
            3600000
           ],
           "value": "%H:%M m"
          },
          {
           "dtickrange": [
            3600000,
            86400000
           ],
           "value": "%H:%M h"
          },
          {
           "dtickrange": [
            86400000,
            604800000
           ],
           "value": "%e. %b d"
          },
          {
           "dtickrange": [
            604800000,
            "M1"
           ],
           "value": "%e. %b w"
          },
          {
           "dtickrange": [
            "M1",
            "M12"
           ],
           "value": "%b '%y M"
          },
          {
           "dtickrange": [
            "M12",
            null
           ],
           "value": "%Y Y"
          }
         ]
        }
       }
      },
      "text/html": [
       "<div>\n",
       "        \n",
       "        \n",
       "            <div id=\"8c0429d2-fbb2-4488-a9b2-f8c904898cdb\" class=\"plotly-graph-div\" style=\"height:525px; width:100%;\"></div>\n",
       "            <script type=\"text/javascript\">\n",
       "                require([\"plotly\"], function(Plotly) {\n",
       "                    window.PLOTLYENV=window.PLOTLYENV || {};\n",
       "                    \n",
       "                if (document.getElementById(\"8c0429d2-fbb2-4488-a9b2-f8c904898cdb\")) {\n",
       "                    Plotly.newPlot(\n",
       "                        '8c0429d2-fbb2-4488-a9b2-f8c904898cdb',\n",
       "                        [{\"type\": \"scatter\", \"x\": [\"2015-02-17\", \"2015-02-18\", \"2015-02-19\", \"2015-02-20\", \"2015-02-23\", \"2015-02-24\", \"2015-02-25\", \"2015-02-26\", \"2015-02-27\", \"2015-03-02\", \"2015-03-03\", \"2015-03-04\", \"2015-03-05\", \"2015-03-06\", \"2015-03-09\", \"2015-03-10\", \"2015-03-11\", \"2015-03-12\", \"2015-03-13\", \"2015-03-16\", \"2015-03-17\", \"2015-03-18\", \"2015-03-19\", \"2015-03-20\", \"2015-03-23\", \"2015-03-24\", \"2015-03-25\", \"2015-03-26\", \"2015-03-27\", \"2015-03-30\", \"2015-03-31\", \"2015-04-01\", \"2015-04-02\", \"2015-04-06\", \"2015-04-07\", \"2015-04-08\", \"2015-04-09\", \"2015-04-10\", \"2015-04-13\", \"2015-04-14\", \"2015-04-15\", \"2015-04-16\", \"2015-04-17\", \"2015-04-20\", \"2015-04-21\", \"2015-04-22\", \"2015-04-23\", \"2015-04-24\", \"2015-04-27\", \"2015-04-28\", \"2015-04-29\", \"2015-04-30\", \"2015-05-01\", \"2015-05-04\", \"2015-05-05\", \"2015-05-06\", \"2015-05-07\", \"2015-05-08\", \"2015-05-11\", \"2015-05-12\", \"2015-05-13\", \"2015-05-14\", \"2015-05-15\", \"2015-05-18\", \"2015-05-19\", \"2015-05-20\", \"2015-05-21\", \"2015-05-22\", \"2015-05-26\", \"2015-05-27\", \"2015-05-28\", \"2015-05-29\", \"2015-06-01\", \"2015-06-02\", \"2015-06-03\", \"2015-06-04\", \"2015-06-05\", \"2015-06-08\", \"2015-06-09\", \"2015-06-10\", \"2015-06-11\", \"2015-06-12\", \"2015-06-15\", \"2015-06-16\", \"2015-06-17\", \"2015-06-18\", \"2015-06-19\", \"2015-06-22\", \"2015-06-23\", \"2015-06-24\", \"2015-06-25\", \"2015-06-26\", \"2015-06-29\", \"2015-06-30\", \"2015-07-01\", \"2015-07-02\", \"2015-07-06\", \"2015-07-07\", \"2015-07-08\", \"2015-07-09\", \"2015-07-10\", \"2015-07-13\", \"2015-07-14\", \"2015-07-15\", \"2015-07-16\", \"2015-07-17\", \"2015-07-20\", \"2015-07-21\", \"2015-07-22\", \"2015-07-23\", \"2015-07-24\", \"2015-07-27\", \"2015-07-28\", \"2015-07-29\", \"2015-07-30\", \"2015-07-31\", \"2015-08-03\", \"2015-08-04\", \"2015-08-05\", \"2015-08-06\", \"2015-08-07\", \"2015-08-10\", \"2015-08-11\", \"2015-08-12\", \"2015-08-13\", \"2015-08-14\", \"2015-08-17\", \"2015-08-18\", \"2015-08-19\", \"2015-08-20\", \"2015-08-21\", \"2015-08-24\", \"2015-08-25\", \"2015-08-26\", \"2015-08-27\", \"2015-08-28\", \"2015-08-31\", \"2015-09-01\", \"2015-09-02\", \"2015-09-03\", \"2015-09-04\", \"2015-09-08\", \"2015-09-09\", \"2015-09-10\", \"2015-09-11\", \"2015-09-14\", \"2015-09-15\", \"2015-09-16\", \"2015-09-17\", \"2015-09-18\", \"2015-09-21\", \"2015-09-22\", \"2015-09-23\", \"2015-09-24\", \"2015-09-25\", \"2015-09-28\", \"2015-09-29\", \"2015-09-30\", \"2015-10-01\", \"2015-10-02\", \"2015-10-05\", \"2015-10-06\", \"2015-10-07\", \"2015-10-08\", \"2015-10-09\", \"2015-10-12\", \"2015-10-13\", \"2015-10-14\", \"2015-10-15\", \"2015-10-16\", \"2015-10-19\", \"2015-10-20\", \"2015-10-21\", \"2015-10-22\", \"2015-10-23\", \"2015-10-26\", \"2015-10-27\", \"2015-10-28\", \"2015-10-29\", \"2015-10-30\", \"2015-11-02\", \"2015-11-03\", \"2015-11-04\", \"2015-11-05\", \"2015-11-06\", \"2015-11-09\", \"2015-11-10\", \"2015-11-11\", \"2015-11-12\", \"2015-11-13\", \"2015-11-16\", \"2015-11-17\", \"2015-11-18\", \"2015-11-19\", \"2015-11-20\", \"2015-11-23\", \"2015-11-24\", \"2015-11-25\", \"2015-11-27\", \"2015-11-30\", \"2015-12-01\", \"2015-12-02\", \"2015-12-03\", \"2015-12-04\", \"2015-12-07\", \"2015-12-08\", \"2015-12-09\", \"2015-12-10\", \"2015-12-11\", \"2015-12-14\", \"2015-12-15\", \"2015-12-16\", \"2015-12-17\", \"2015-12-18\", \"2015-12-21\", \"2015-12-22\", \"2015-12-23\", \"2015-12-24\", \"2015-12-28\", \"2015-12-29\", \"2015-12-30\", \"2015-12-31\", \"2016-01-04\", \"2016-01-05\", \"2016-01-06\", \"2016-01-07\", \"2016-01-08\", \"2016-01-11\", \"2016-01-12\", \"2016-01-13\", \"2016-01-14\", \"2016-01-15\", \"2016-01-19\", \"2016-01-20\", \"2016-01-21\", \"2016-01-22\", \"2016-01-25\", \"2016-01-26\", \"2016-01-27\", \"2016-01-28\", \"2016-01-29\", \"2016-02-01\", \"2016-02-02\", \"2016-02-03\", \"2016-02-04\", \"2016-02-05\", \"2016-02-08\", \"2016-02-09\", \"2016-02-10\", \"2016-02-11\", \"2016-02-12\", \"2016-02-16\", \"2016-02-17\", \"2016-02-18\", \"2016-02-19\", \"2016-02-22\", \"2016-02-23\", \"2016-02-24\", \"2016-02-25\", \"2016-02-26\", \"2016-02-29\", \"2016-03-01\", \"2016-03-02\", \"2016-03-03\", \"2016-03-04\", \"2016-03-07\", \"2016-03-08\", \"2016-03-09\", \"2016-03-10\", \"2016-03-11\", \"2016-03-14\", \"2016-03-15\", \"2016-03-16\", \"2016-03-17\", \"2016-03-18\", \"2016-03-21\", \"2016-03-22\", \"2016-03-23\", \"2016-03-24\", \"2016-03-28\", \"2016-03-29\", \"2016-03-30\", \"2016-03-31\", \"2016-04-01\", \"2016-04-04\", \"2016-04-05\", \"2016-04-06\", \"2016-04-07\", \"2016-04-08\", \"2016-04-11\", \"2016-04-12\", \"2016-04-13\", \"2016-04-14\", \"2016-04-15\", \"2016-04-18\", \"2016-04-19\", \"2016-04-20\", \"2016-04-21\", \"2016-04-22\", \"2016-04-25\", \"2016-04-26\", \"2016-04-27\", \"2016-04-28\", \"2016-04-29\", \"2016-05-02\", \"2016-05-03\", \"2016-05-04\", \"2016-05-05\", \"2016-05-06\", \"2016-05-09\", \"2016-05-10\", \"2016-05-11\", \"2016-05-12\", \"2016-05-13\", \"2016-05-16\", \"2016-05-17\", \"2016-05-18\", \"2016-05-19\", \"2016-05-20\", \"2016-05-23\", \"2016-05-24\", \"2016-05-25\", \"2016-05-26\", \"2016-05-27\", \"2016-05-31\", \"2016-06-01\", \"2016-06-02\", \"2016-06-03\", \"2016-06-06\", \"2016-06-07\", \"2016-06-08\", \"2016-06-09\", \"2016-06-10\", \"2016-06-13\", \"2016-06-14\", \"2016-06-15\", \"2016-06-16\", \"2016-06-17\", \"2016-06-20\", \"2016-06-21\", \"2016-06-22\", \"2016-06-23\", \"2016-06-24\", \"2016-06-27\", \"2016-06-28\", \"2016-06-29\", \"2016-06-30\", \"2016-07-01\", \"2016-07-05\", \"2016-07-06\", \"2016-07-07\", \"2016-07-08\", \"2016-07-11\", \"2016-07-12\", \"2016-07-13\", \"2016-07-14\", \"2016-07-15\", \"2016-07-18\", \"2016-07-19\", \"2016-07-20\", \"2016-07-21\", \"2016-07-22\", \"2016-07-25\", \"2016-07-26\", \"2016-07-27\", \"2016-07-28\", \"2016-07-29\", \"2016-08-01\", \"2016-08-02\", \"2016-08-03\", \"2016-08-04\", \"2016-08-05\", \"2016-08-08\", \"2016-08-09\", \"2016-08-10\", \"2016-08-11\", \"2016-08-12\", \"2016-08-15\", \"2016-08-16\", \"2016-08-17\", \"2016-08-18\", \"2016-08-19\", \"2016-08-22\", \"2016-08-23\", \"2016-08-24\", \"2016-08-25\", \"2016-08-26\", \"2016-08-29\", \"2016-08-30\", \"2016-08-31\", \"2016-09-01\", \"2016-09-02\", \"2016-09-06\", \"2016-09-07\", \"2016-09-08\", \"2016-09-09\", \"2016-09-12\", \"2016-09-13\", \"2016-09-14\", \"2016-09-15\", \"2016-09-16\", \"2016-09-19\", \"2016-09-20\", \"2016-09-21\", \"2016-09-22\", \"2016-09-23\", \"2016-09-26\", \"2016-09-27\", \"2016-09-28\", \"2016-09-29\", \"2016-09-30\", \"2016-10-03\", \"2016-10-04\", \"2016-10-05\", \"2016-10-06\", \"2016-10-07\", \"2016-10-10\", \"2016-10-11\", \"2016-10-12\", \"2016-10-13\", \"2016-10-14\", \"2016-10-17\", \"2016-10-18\", \"2016-10-19\", \"2016-10-20\", \"2016-10-21\", \"2016-10-24\", \"2016-10-25\", \"2016-10-26\", \"2016-10-27\", \"2016-10-28\", \"2016-10-31\", \"2016-11-01\", \"2016-11-02\", \"2016-11-03\", \"2016-11-04\", \"2016-11-07\", \"2016-11-08\", \"2016-11-09\", \"2016-11-10\", \"2016-11-11\", \"2016-11-14\", \"2016-11-15\", \"2016-11-16\", \"2016-11-17\", \"2016-11-18\", \"2016-11-21\", \"2016-11-22\", \"2016-11-23\", \"2016-11-25\", \"2016-11-28\", \"2016-11-29\", \"2016-11-30\", \"2016-12-01\", \"2016-12-02\", \"2016-12-05\", \"2016-12-06\", \"2016-12-07\", \"2016-12-08\", \"2016-12-09\", \"2016-12-12\", \"2016-12-13\", \"2016-12-14\", \"2016-12-15\", \"2016-12-16\", \"2016-12-19\", \"2016-12-20\", \"2016-12-21\", \"2016-12-22\", \"2016-12-23\", \"2016-12-27\", \"2016-12-28\", \"2016-12-29\", \"2016-12-30\", \"2017-01-03\", \"2017-01-04\", \"2017-01-05\", \"2017-01-06\", \"2017-01-09\", \"2017-01-10\", \"2017-01-11\", \"2017-01-12\", \"2017-01-13\", \"2017-01-17\", \"2017-01-18\", \"2017-01-19\", \"2017-01-20\", \"2017-01-23\", \"2017-01-24\", \"2017-01-25\", \"2017-01-26\", \"2017-01-27\", \"2017-01-30\", \"2017-01-31\", \"2017-02-01\", \"2017-02-02\", \"2017-02-03\", \"2017-02-06\", \"2017-02-07\", \"2017-02-08\", \"2017-02-09\", \"2017-02-10\", \"2017-02-13\", \"2017-02-14\", \"2017-02-15\", \"2017-02-16\"], \"y\": [117.9276669, 118.9403335, 119.88916680000001, 120.76350009999999, 121.7201668, 122.6648335, 123.62966670000002, 124.28233329999999, 124.8426669, 125.40366680000001, 125.9551669, 126.47300020000002, 126.84866699999999, 127.2288335, 127.63116699999999, 127.9235004, 128.0033337, 127.98133370000001, 127.8490003, 127.72833349999999, 127.66800020000001, 127.65216699999999, 127.6245004, 127.4980004, 127.2633335, 127.00250009999999, 126.75316670000001, 126.48350009999999, 126.20999979999999, 126.02833319999999, 125.83349979999998, 125.6009999, 125.50349979999999, 125.4528332, 125.4251665, 125.44916640000001, 125.59383319999999, 125.7369999, 125.9113334, 126.02350020000002, 126.0220001, 125.945, 125.79833319999999, 125.82216640000001, 125.82549979999999, 125.86749979999999, 126.1116665, 126.4186666, 126.8531664, 127.1514997, 127.37233300000001, 127.47066629999999, 127.6258331, 127.76483300000001, 127.7634997, 127.73266640000001, 127.6919997, 127.7216665, 127.6796663, 127.64749950000001, 127.63333300000001, 127.7279997, 127.91333329999999, 128.0530002, 128.1998337, 128.3093337, 128.3863339, 128.499167, 128.411167, 128.4058336, 128.5108337, 128.7318334, 128.8584999, 128.8986669, 129.08083349999998, 129.3096669, 129.4986668, 129.5401669, 129.5670003, 129.708667, 129.845, 129.80416670000002, 129.6941663, 129.56999960000002, 129.4254994, 129.3093328, 129.1088327, 128.87283290000002, 128.7039996, 128.5486666, 128.37149979999998, 128.1985, 127.9235001, 127.69799990000001, 127.5075, 127.3416666, 127.18133329999999, 127.04416640000001, 126.85466640000001, 126.4759997, 126.1608332, 126.04633329999999, 125.99883349999999, 125.96100020000002, 126.00283359999999, 126.0718335, 126.32050020000001, 126.50783359999998, 126.3610003, 126.2323335, 126.0646669, 125.8521669, 125.7581669, 125.6306668, 125.41600020000001, 125.18183359999999, 124.8726669, 124.3723335, 123.9588335, 123.66550020000001, 123.2976669, 122.97266670000002, 122.439, 121.7846665, 121.1456666, 120.4578334, 119.70066680000001, 118.96666670000002, 118.5250001, 117.8803334, 117.0331668, 115.9568336, 115.0986668, 114.36316699999999, 113.8553335, 113.41016670000002, 113.0895001, 112.77900009999999, 112.59349990000001, 112.3841666, 112.0835, 111.7326666, 111.54833319999999, 111.47266670000002, 111.3741666, 111.3871666, 111.3358331, 111.3098331, 111.27516640000002, 111.2916665, 111.64049979999999, 112.2434997, 112.6433331, 112.9473331, 113.1013332, 113.12316659999999, 112.9754999, 113.03566670000001, 112.9140003, 112.843167, 112.89300039999999, 112.85350030000001, 112.8205004, 112.68966709999998, 112.5848337, 112.3970004, 112.1918338, 111.90683359999998, 111.7455003, 111.6446669, 111.4671668, 111.44483340000001, 111.4565001, 111.4936666, 111.6473335, 111.79533329999998, 112.0395, 112.44049979999998, 112.9901664, 113.5106663, 114.0261663, 114.59183300000001, 115.1831664, 115.7813331, 116.27466640000002, 116.7186664, 116.9849997, 117.2758331, 117.5048332, 117.6149997, 117.71216629999999, 117.7671665, 117.8878331, 118.05766650000001, 118.114833, 118.2229998, 118.39416640000002, 118.4033331, 118.3088331, 118.23033329999998, 118.07799979999999, 117.8064999, 117.4526665, 117.2793332, 117.1536665, 117.0079999, 116.96616670000002, 116.9641668, 116.8513334, 116.7641669, 116.6678336, 116.5023334, 116.1678335, 115.6023334, 114.97233349999999, 114.41533359999998, 113.90383349999999, 113.40050009999999, 112.8483335, 112.34116670000002, 111.8443334, 111.2883334, 110.73016670000001, 110.02316680000001, 109.1396668, 108.1283334, 107.20233329999999, 106.30749979999999, 105.6086665, 104.9574998, 104.32583309999998, 103.62699980000001, 102.97033309999999, 102.42099990000001, 101.9018332, 101.5659998, 101.15799990000001, 100.72399990000001, 100.102333, 99.36849958, 98.79899947, 98.3228328, 97.8574995, 97.46249942, 97.23216607, 97.09249945, 96.94116608, 96.77333287, 96.52716613, 96.27933263, 96.04199933, 96.00699935, 96.03483265, 96.08216592, 96.07349932, 95.88099927, 95.64033268, 95.42133268, 95.51099957, 95.68616642, 95.72850003, 95.89816658, 96.17283317, 96.44599983, 96.76283322, 97.11333333, 97.43733338, 97.73916675, 98.05316683, 98.47033362, 98.89883362, 99.32400032, 99.73050017, 100.16366690000001, 100.6471668, 101.13050030000001, 101.6885002, 102.24350030000001, 102.71083349999999, 103.1263335, 103.60600000000001, 104.1036667, 104.5451667, 104.954, 105.3781666, 105.78316650000001, 106.24899979999999, 106.6508331, 107.0348331, 107.40849979999999, 107.7816666, 108.14116659999999, 108.45700000000001, 108.7011666, 108.79716670000002, 108.83783340000001, 108.8721665, 108.86083319999999, 108.8603333, 108.8403334, 108.7271669, 108.1210003, 107.44083359999999, 106.6538337, 105.7628338, 105.0068337, 104.2196672, 103.43483379999999, 102.625167, 101.80333359999999, 100.96166679999999, 100.0176668, 98.96383345, 97.96899997, 97.24483323, 96.5791664, 95.95216648, 95.35199978, 94.82516632, 94.39266622, 94.04716603, 94.13483275, 94.34849953, 94.66683283, 94.98283283, 95.1783329, 95.31633273, 95.54383263, 95.87799935, 96.1898328, 96.49116615, 96.81716612, 97.21833290000001, 97.5744996, 97.78733299999999, 97.97699975, 98.10549987, 98.18666672, 98.2121667, 98.17300007, 98.08900017, 97.92516678, 97.60733348, 97.21600023, 96.8878335, 96.65866683, 96.55000023, 96.45083373, 96.23050040000001, 96.02550048, 95.87350057, 95.73216728, 95.64383403, 95.62183405, 95.60000063, 95.64200058, 95.7288339, 95.91683373, 96.12533377, 96.345667, 96.54183362, 96.68566705, 96.89216675, 97.1333333, 97.64433323, 98.12816642, 98.57433315, 99.05633327, 99.55133333, 100.06533309999999, 100.55016640000001, 101.0783331, 101.6206665, 102.1793332, 102.734, 103.2275, 103.6911667, 104.1668335, 104.6603335, 105.10650020000001, 105.57550020000001, 106.09450020000001, 106.63383370000001, 107.2278337, 107.4680004, 107.6433338, 107.7893337, 107.8550003, 107.91250020000001, 107.9443336, 107.97766709999999, 107.9983337, 107.99183359999999, 107.9656669, 107.85516670000001, 107.64299999999999, 107.4645, 107.41249979999999, 107.4888331, 107.78649979999999, 108.0763331, 108.3363331, 108.58199979999999, 108.80333329999999, 109.12166670000002, 109.40366680000001, 109.68066680000001, 109.98166670000002, 110.38199990000001, 110.7065001, 111.0243334, 111.27933329999999, 111.5531666, 111.80666670000001, 112.1955, 112.698, 113.2618334, 113.7153335, 114.02650030000001, 114.11566699999999, 114.24633359999999, 114.3990002, 114.61450009999999, 114.7595002, 114.87966670000002, 115.05866670000002, 115.3015, 115.5566668, 115.59966670000001, 115.7106666, 115.77999979999998, 115.83199979999999, 115.7628331, 115.69233290000001, 115.5169998, 115.26816640000001, 114.98249979999999, 114.67066640000002, 114.30699969999999, 113.8831663, 113.3984998, 112.82233319999999, 112.286, 111.9216665, 111.56099979999999, 111.23549990000001, 110.9244999, 110.6195, 110.42733359999998, 110.26350020000001, 110.1476669, 110.0241669, 109.97750020000001, 109.8823335, 109.8490001, 109.8521668, 109.8375, 109.8191669, 109.90083349999999, 110.17166680000001, 110.454, 110.9083334, 111.33200000000001, 111.6813334, 111.9978335, 112.32300009999999, 112.613, 112.87333319999999, 113.12949979999999, 113.36316629999999, 113.63183300000001, 113.9221663, 114.20966659999999, 114.5261665, 114.8328334, 115.181, 115.51066670000002, 115.8633334, 116.2168334, 116.4806669, 116.77216680000001, 116.9705002, 117.1555002, 117.3335001, 117.53483329999999, 117.69266670000002, 117.8435001, 118.0005, 118.186, 118.4465001, 118.68700000000001, 118.93566670000001, 119.1636665, 119.41216659999999, 120.06233329999999, 120.68599990000001, 121.30516670000002, 121.924333, 122.55283290000001, 123.19766609999998, 123.82616599999999, 124.49866589999999, 125.2051659, 125.95349920000001, 126.7234992, 127.50433249999999]}],\n",
       "                        {\"template\": {\"data\": {\"bar\": [{\"error_x\": {\"color\": \"#2a3f5f\"}, \"error_y\": {\"color\": \"#2a3f5f\"}, \"marker\": {\"line\": {\"color\": \"#E5ECF6\", \"width\": 0.5}}, \"type\": \"bar\"}], \"barpolar\": [{\"marker\": {\"line\": {\"color\": \"#E5ECF6\", \"width\": 0.5}}, \"type\": \"barpolar\"}], \"carpet\": [{\"aaxis\": {\"endlinecolor\": \"#2a3f5f\", \"gridcolor\": \"white\", \"linecolor\": \"white\", \"minorgridcolor\": \"white\", \"startlinecolor\": \"#2a3f5f\"}, \"baxis\": {\"endlinecolor\": \"#2a3f5f\", \"gridcolor\": \"white\", \"linecolor\": \"white\", \"minorgridcolor\": \"white\", \"startlinecolor\": \"#2a3f5f\"}, \"type\": \"carpet\"}], \"choropleth\": [{\"colorbar\": {\"outlinewidth\": 0, \"ticks\": \"\"}, \"type\": \"choropleth\"}], \"contour\": [{\"colorbar\": {\"outlinewidth\": 0, \"ticks\": \"\"}, \"colorscale\": [[0.0, \"#0d0887\"], [0.1111111111111111, \"#46039f\"], [0.2222222222222222, \"#7201a8\"], [0.3333333333333333, \"#9c179e\"], [0.4444444444444444, \"#bd3786\"], [0.5555555555555556, \"#d8576b\"], [0.6666666666666666, \"#ed7953\"], [0.7777777777777778, \"#fb9f3a\"], [0.8888888888888888, \"#fdca26\"], [1.0, \"#f0f921\"]], \"type\": \"contour\"}], \"contourcarpet\": [{\"colorbar\": {\"outlinewidth\": 0, \"ticks\": \"\"}, \"type\": \"contourcarpet\"}], \"heatmap\": [{\"colorbar\": {\"outlinewidth\": 0, \"ticks\": \"\"}, \"colorscale\": [[0.0, \"#0d0887\"], [0.1111111111111111, \"#46039f\"], [0.2222222222222222, \"#7201a8\"], [0.3333333333333333, \"#9c179e\"], [0.4444444444444444, \"#bd3786\"], [0.5555555555555556, \"#d8576b\"], [0.6666666666666666, \"#ed7953\"], [0.7777777777777778, \"#fb9f3a\"], [0.8888888888888888, \"#fdca26\"], [1.0, \"#f0f921\"]], \"type\": \"heatmap\"}], \"heatmapgl\": [{\"colorbar\": {\"outlinewidth\": 0, \"ticks\": \"\"}, \"colorscale\": [[0.0, \"#0d0887\"], [0.1111111111111111, \"#46039f\"], [0.2222222222222222, \"#7201a8\"], [0.3333333333333333, \"#9c179e\"], [0.4444444444444444, \"#bd3786\"], [0.5555555555555556, \"#d8576b\"], [0.6666666666666666, \"#ed7953\"], [0.7777777777777778, \"#fb9f3a\"], [0.8888888888888888, \"#fdca26\"], [1.0, \"#f0f921\"]], \"type\": \"heatmapgl\"}], \"histogram\": [{\"marker\": {\"colorbar\": {\"outlinewidth\": 0, \"ticks\": \"\"}}, \"type\": \"histogram\"}], \"histogram2d\": [{\"colorbar\": {\"outlinewidth\": 0, \"ticks\": \"\"}, \"colorscale\": [[0.0, \"#0d0887\"], [0.1111111111111111, \"#46039f\"], [0.2222222222222222, \"#7201a8\"], [0.3333333333333333, \"#9c179e\"], [0.4444444444444444, \"#bd3786\"], [0.5555555555555556, \"#d8576b\"], [0.6666666666666666, \"#ed7953\"], [0.7777777777777778, \"#fb9f3a\"], [0.8888888888888888, \"#fdca26\"], [1.0, \"#f0f921\"]], \"type\": \"histogram2d\"}], \"histogram2dcontour\": [{\"colorbar\": {\"outlinewidth\": 0, \"ticks\": \"\"}, \"colorscale\": [[0.0, \"#0d0887\"], [0.1111111111111111, \"#46039f\"], [0.2222222222222222, \"#7201a8\"], [0.3333333333333333, \"#9c179e\"], [0.4444444444444444, \"#bd3786\"], [0.5555555555555556, \"#d8576b\"], [0.6666666666666666, \"#ed7953\"], [0.7777777777777778, \"#fb9f3a\"], [0.8888888888888888, \"#fdca26\"], [1.0, \"#f0f921\"]], \"type\": \"histogram2dcontour\"}], \"mesh3d\": [{\"colorbar\": {\"outlinewidth\": 0, \"ticks\": \"\"}, \"type\": \"mesh3d\"}], \"parcoords\": [{\"line\": {\"colorbar\": {\"outlinewidth\": 0, \"ticks\": \"\"}}, \"type\": \"parcoords\"}], \"pie\": [{\"automargin\": true, \"type\": \"pie\"}], \"scatter\": [{\"marker\": {\"colorbar\": {\"outlinewidth\": 0, \"ticks\": \"\"}}, \"type\": \"scatter\"}], \"scatter3d\": [{\"line\": {\"colorbar\": {\"outlinewidth\": 0, \"ticks\": \"\"}}, \"marker\": {\"colorbar\": {\"outlinewidth\": 0, \"ticks\": \"\"}}, \"type\": \"scatter3d\"}], \"scattercarpet\": [{\"marker\": {\"colorbar\": {\"outlinewidth\": 0, \"ticks\": \"\"}}, \"type\": \"scattercarpet\"}], \"scattergeo\": [{\"marker\": {\"colorbar\": {\"outlinewidth\": 0, \"ticks\": \"\"}}, \"type\": \"scattergeo\"}], \"scattergl\": [{\"marker\": {\"colorbar\": {\"outlinewidth\": 0, \"ticks\": \"\"}}, \"type\": \"scattergl\"}], \"scattermapbox\": [{\"marker\": {\"colorbar\": {\"outlinewidth\": 0, \"ticks\": \"\"}}, \"type\": \"scattermapbox\"}], \"scatterpolar\": [{\"marker\": {\"colorbar\": {\"outlinewidth\": 0, \"ticks\": \"\"}}, \"type\": \"scatterpolar\"}], \"scatterpolargl\": [{\"marker\": {\"colorbar\": {\"outlinewidth\": 0, \"ticks\": \"\"}}, \"type\": \"scatterpolargl\"}], \"scatterternary\": [{\"marker\": {\"colorbar\": {\"outlinewidth\": 0, \"ticks\": \"\"}}, \"type\": \"scatterternary\"}], \"surface\": [{\"colorbar\": {\"outlinewidth\": 0, \"ticks\": \"\"}, \"colorscale\": [[0.0, \"#0d0887\"], [0.1111111111111111, \"#46039f\"], [0.2222222222222222, \"#7201a8\"], [0.3333333333333333, \"#9c179e\"], [0.4444444444444444, \"#bd3786\"], [0.5555555555555556, \"#d8576b\"], [0.6666666666666666, \"#ed7953\"], [0.7777777777777778, \"#fb9f3a\"], [0.8888888888888888, \"#fdca26\"], [1.0, \"#f0f921\"]], \"type\": \"surface\"}], \"table\": [{\"cells\": {\"fill\": {\"color\": \"#EBF0F8\"}, \"line\": {\"color\": \"white\"}}, \"header\": {\"fill\": {\"color\": \"#C8D4E3\"}, \"line\": {\"color\": \"white\"}}, \"type\": \"table\"}]}, \"layout\": {\"annotationdefaults\": {\"arrowcolor\": \"#2a3f5f\", \"arrowhead\": 0, \"arrowwidth\": 1}, \"coloraxis\": {\"colorbar\": {\"outlinewidth\": 0, \"ticks\": \"\"}}, \"colorscale\": {\"diverging\": [[0, \"#8e0152\"], [0.1, \"#c51b7d\"], [0.2, \"#de77ae\"], [0.3, \"#f1b6da\"], [0.4, \"#fde0ef\"], [0.5, \"#f7f7f7\"], [0.6, \"#e6f5d0\"], [0.7, \"#b8e186\"], [0.8, \"#7fbc41\"], [0.9, \"#4d9221\"], [1, \"#276419\"]], \"sequential\": [[0.0, \"#0d0887\"], [0.1111111111111111, \"#46039f\"], [0.2222222222222222, \"#7201a8\"], [0.3333333333333333, \"#9c179e\"], [0.4444444444444444, \"#bd3786\"], [0.5555555555555556, \"#d8576b\"], [0.6666666666666666, \"#ed7953\"], [0.7777777777777778, \"#fb9f3a\"], [0.8888888888888888, \"#fdca26\"], [1.0, \"#f0f921\"]], \"sequentialminus\": [[0.0, \"#0d0887\"], [0.1111111111111111, \"#46039f\"], [0.2222222222222222, \"#7201a8\"], [0.3333333333333333, \"#9c179e\"], [0.4444444444444444, \"#bd3786\"], [0.5555555555555556, \"#d8576b\"], [0.6666666666666666, \"#ed7953\"], [0.7777777777777778, \"#fb9f3a\"], [0.8888888888888888, \"#fdca26\"], [1.0, \"#f0f921\"]]}, \"colorway\": [\"#636efa\", \"#EF553B\", \"#00cc96\", \"#ab63fa\", \"#FFA15A\", \"#19d3f3\", \"#FF6692\", \"#B6E880\", \"#FF97FF\", \"#FECB52\"], \"font\": {\"color\": \"#2a3f5f\"}, \"geo\": {\"bgcolor\": \"white\", \"lakecolor\": \"white\", \"landcolor\": \"#E5ECF6\", \"showlakes\": true, \"showland\": true, \"subunitcolor\": \"white\"}, \"hoverlabel\": {\"align\": \"left\"}, \"hovermode\": \"closest\", \"mapbox\": {\"style\": \"light\"}, \"paper_bgcolor\": \"white\", \"plot_bgcolor\": \"#E5ECF6\", \"polar\": {\"angularaxis\": {\"gridcolor\": \"white\", \"linecolor\": \"white\", \"ticks\": \"\"}, \"bgcolor\": \"#E5ECF6\", \"radialaxis\": {\"gridcolor\": \"white\", \"linecolor\": \"white\", \"ticks\": \"\"}}, \"scene\": {\"xaxis\": {\"backgroundcolor\": \"#E5ECF6\", \"gridcolor\": \"white\", \"gridwidth\": 2, \"linecolor\": \"white\", \"showbackground\": true, \"ticks\": \"\", \"zerolinecolor\": \"white\"}, \"yaxis\": {\"backgroundcolor\": \"#E5ECF6\", \"gridcolor\": \"white\", \"gridwidth\": 2, \"linecolor\": \"white\", \"showbackground\": true, \"ticks\": \"\", \"zerolinecolor\": \"white\"}, \"zaxis\": {\"backgroundcolor\": \"#E5ECF6\", \"gridcolor\": \"white\", \"gridwidth\": 2, \"linecolor\": \"white\", \"showbackground\": true, \"ticks\": \"\", \"zerolinecolor\": \"white\"}}, \"shapedefaults\": {\"line\": {\"color\": \"#2a3f5f\"}}, \"ternary\": {\"aaxis\": {\"gridcolor\": \"white\", \"linecolor\": \"white\", \"ticks\": \"\"}, \"baxis\": {\"gridcolor\": \"white\", \"linecolor\": \"white\", \"ticks\": \"\"}, \"bgcolor\": \"#E5ECF6\", \"caxis\": {\"gridcolor\": \"white\", \"linecolor\": \"white\", \"ticks\": \"\"}}, \"title\": {\"x\": 0.05}, \"xaxis\": {\"automargin\": true, \"gridcolor\": \"white\", \"linecolor\": \"white\", \"ticks\": \"\", \"title\": {\"standoff\": 15}, \"zerolinecolor\": \"white\", \"zerolinewidth\": 2}, \"yaxis\": {\"automargin\": true, \"gridcolor\": \"white\", \"linecolor\": \"white\", \"ticks\": \"\", \"title\": {\"standoff\": 15}, \"zerolinecolor\": \"white\", \"zerolinewidth\": 2}}}, \"xaxis\": {\"rangeslider\": {\"visible\": true}, \"tickformatstops\": [{\"dtickrange\": [null, 1000], \"value\": \"%H:%M:%S.%L ms\"}, {\"dtickrange\": [1000, 60000], \"value\": \"%H:%M:%S s\"}, {\"dtickrange\": [60000, 3600000], \"value\": \"%H:%M m\"}, {\"dtickrange\": [3600000, 86400000], \"value\": \"%H:%M h\"}, {\"dtickrange\": [86400000, 604800000], \"value\": \"%e. %b d\"}, {\"dtickrange\": [604800000, \"M1\"], \"value\": \"%e. %b w\"}, {\"dtickrange\": [\"M1\", \"M12\"], \"value\": \"%b '%y M\"}, {\"dtickrange\": [\"M12\", null], \"value\": \"%Y Y\"}]}},\n",
       "                        {\"responsive\": true}\n",
       "                    ).then(function(){\n",
       "                            \n",
       "var gd = document.getElementById('8c0429d2-fbb2-4488-a9b2-f8c904898cdb');\n",
       "var x = new MutationObserver(function (mutations, observer) {{\n",
       "        var display = window.getComputedStyle(gd).display;\n",
       "        if (!display || display === 'none') {{\n",
       "            console.log([gd, 'removed!']);\n",
       "            Plotly.purge(gd);\n",
       "            observer.disconnect();\n",
       "        }}\n",
       "}});\n",
       "\n",
       "// Listen for the removal of the full notebook cells\n",
       "var notebookContainer = gd.closest('#notebook-container');\n",
       "if (notebookContainer) {{\n",
       "    x.observe(notebookContainer, {childList: true});\n",
       "}}\n",
       "\n",
       "// Listen for the clearing of the current output cell\n",
       "var outputEl = gd.closest('.output');\n",
       "if (outputEl) {{\n",
       "    x.observe(outputEl, {childList: true});\n",
       "}}\n",
       "\n",
       "                        })\n",
       "                };\n",
       "                });\n",
       "            </script>\n",
       "        </div>"
      ]
     },
     "metadata": {},
     "output_type": "display_data"
    }
   ],
   "source": [
    "import plotly.graph_objects as go\n",
    "import pandas as pd\n",
    "\n",
    "df = pd.read_csv('https://raw.githubusercontent.com/plotly/datasets/master/finance-charts-apple.csv')\n",
    "\n",
    "fig = go.Figure(go.Scatter(\n",
    "    x = df['Date'],\n",
    "    y = df['mavg']\n",
    "))\n",
    "\n",
    "fig.update_xaxes(\n",
    "    rangeslider_visible=True,\n",
    "    tickformatstops = [\n",
    "        dict(dtickrange=[None, 1000], value=\"%H:%M:%S.%L ms\"),\n",
    "        dict(dtickrange=[1000, 60000], value=\"%H:%M:%S s\"),\n",
    "        dict(dtickrange=[60000, 3600000], value=\"%H:%M m\"),\n",
    "        dict(dtickrange=[3600000, 86400000], value=\"%H:%M h\"),\n",
    "        dict(dtickrange=[86400000, 604800000], value=\"%e. %b d\"),\n",
    "        dict(dtickrange=[604800000, \"M1\"], value=\"%e. %b w\"),\n",
    "        dict(dtickrange=[\"M1\", \"M12\"], value=\"%b '%y M\"),\n",
    "        dict(dtickrange=[\"M12\", None], value=\"%Y Y\")\n",
    "    ]\n",
    ")\n",
    "\n",
    "fig.show()"
   ]
  },
  {
   "cell_type": "code",
   "execution_count": null,
   "metadata": {},
   "outputs": [],
   "source": []
  }
 ],
 "metadata": {
  "kernelspec": {
   "display_name": "Python 3",
   "language": "python",
   "name": "python3"
  },
  "language_info": {
   "codemirror_mode": {
    "name": "ipython",
    "version": 3
   },
   "file_extension": ".py",
   "mimetype": "text/x-python",
   "name": "python",
   "nbconvert_exporter": "python",
   "pygments_lexer": "ipython3",
   "version": "3.7.7"
  }
 },
 "nbformat": 4,
 "nbformat_minor": 4
}
