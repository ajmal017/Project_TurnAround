{
 "cells": [
  {
   "cell_type": "code",
   "execution_count": 8,
   "metadata": {},
   "outputs": [],
   "source": [
    "import requests\n",
    "from bs4 import BeautifulSoup\n"
   ]
  },
  {
   "cell_type": "code",
   "execution_count": 9,
   "metadata": {},
   "outputs": [],
   "source": [
    "request_headers = { \n",
    "'User-Agent' : ('Mozilla/5.0 (Windows NT 10.0;Win64; x64)\\\n",
    "AppleWebKit/537.36 (KHTML, like Gecko) Chrome/71.0.3578.98\\\n",
    "Safari/537.36'), } \n",
    "\n",
    "url = \"https://finance.naver.com/item/board.nhn?code=051910&page=1\"\n",
    "html = requests.get(url,headers=request_headers ).text\n",
    "soup = BeautifulSoup(html, 'html.parser')\n",
    "a = soup.find_all('td',{'class':'title'})"
   ]
  },
  {
   "cell_type": "code",
   "execution_count": 10,
   "metadata": {},
   "outputs": [],
   "source": [
    "# lg 화학 네이버 종목토론실 게시글 크롤링하기 \n",
    "\n",
    "def crawling(numpage):\n",
    "    res=[]\n",
    "    for i in range(1,numpage+1):\n",
    "        url = 'https://finance.naver.com/item/board.nhn?code=051910&page=%s'%i  # LG화학 \n",
    "        request_headers = { \n",
    "    'User-Agent' : ('Mozilla/5.0 (Windows NT 10.0;Win64; x64)\\\n",
    "    AppleWebKit/537.36 (KHTML, like Gecko) Chrome/71.0.3578.98\\\n",
    "    Safari/537.36'), } \n",
    "        source=requests.get(url,headers=request_headers)\n",
    "        soup=BeautifulSoup(source.text,'html.parser')\n",
    "        lists = soup.findAll('div', {'class' : 'section inner_sub'}) \n",
    "       \n",
    "        for tmp in lists:\n",
    "            name = []\n",
    "            title_list = list(tmp.findAll('td', {'class': \"title\" }))\n",
    "            \n",
    "            for i in title_list:\n",
    "                lst=i.find('a')['title']\n",
    "                lst=lst.split('\\n')\n",
    "                name.extend(lst)\n",
    "        res.append(name)\n",
    "        \n",
    "    return(res)\n",
    "\n",
    "lg_chy=crawling(100)\n",
    "\n"
   ]
  },
  {
   "cell_type": "code",
   "execution_count": 11,
   "metadata": {},
   "outputs": [],
   "source": [
    "with open('lg화학_네이버_종목토론실.txt','w') as f:\n",
    "    for i in lg_chy:\n",
    "        for j in i:\n",
    "            f.write(j+'\\n')"
   ]
  },
  {
   "cell_type": "code",
   "execution_count": null,
   "metadata": {},
   "outputs": [],
   "source": []
  },
  {
   "cell_type": "code",
   "execution_count": null,
   "metadata": {},
   "outputs": [],
   "source": []
  }
 ],
 "metadata": {
  "kernelspec": {
   "display_name": "Python 3",
   "language": "python",
   "name": "python3"
  },
  "language_info": {
   "codemirror_mode": {
    "name": "ipython",
    "version": 3
   },
   "file_extension": ".py",
   "mimetype": "text/x-python",
   "name": "python",
   "nbconvert_exporter": "python",
   "pygments_lexer": "ipython3",
   "version": "3.7.7"
  }
 },
 "nbformat": 4,
 "nbformat_minor": 4
}
