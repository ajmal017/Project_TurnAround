{
  "nbformat": 4,
  "nbformat_minor": 0,
  "metadata": {
    "colab": {
      "name": "Prophet_2020-10-07.ipynb",
      "provenance": [],
      "collapsed_sections": [],
      "authorship_tag": "ABX9TyMB1471ljPa0DENDIuWIHxo",
      "include_colab_link": true
    },
    "kernelspec": {
      "name": "python3",
      "display_name": "Python 3"
    }
  },
  "cells": [
    {
      "cell_type": "markdown",
      "metadata": {
        "id": "view-in-github",
        "colab_type": "text"
      },
      "source": [
        "<a href=\"https://colab.research.google.com/github/ejihoon6065/Project_TurnAround/blob/master/Prophet_2020_10_07.ipynb\" target=\"_parent\"><img src=\"https://colab.research.google.com/assets/colab-badge.svg\" alt=\"Open In Colab\"/></a>"
      ]
    },
    {
      "cell_type": "code",
      "metadata": {
        "id": "wZR2CZ-9k9aA"
      },
      "source": [
        "# 아래 코드를 돌리기전 아래 URL 참고할 것, Prophet모델에 input될 데이터의 상한 하한을 그날의 값의 ±10% 이상은 변동하지 않는 제한을 두는 내용\n",
        "\n",
        "# 시계열 데이터는 일반적 데이터와는 다르게 순서가 존재하므로 일반적 cross validation 방법으로는  검증이 불가능함 -> one-step forecast validation 사용 \n",
        "# one-step forecast validation: 시간이 지남에 따라 매일매일 업데이트되는 데이터로 모델을 업데이트하고 그다음 날을 예측하는 프로세스를 반복하는 방법\n",
        "\n",
        "# https://predictor-ver1.tistory.com/6 \n",
        "# https://colab.research.google.com/notebooks/snippets/importing_libraries.ipynb 참고"
      ],
      "execution_count": 1,
      "outputs": []
    },
    {
      "cell_type": "code",
      "metadata": {
        "id": "FLsbzdBClGr8",
        "outputId": "f7512aef-56fb-466b-d14a-e259b6bd8d61",
        "colab": {
          "base_uri": "https://localhost:8080/"
        }
      },
      "source": [
        "import pandas as pd\n",
        "import csv\n",
        "import matplotlib as mpl\n",
        "import matplotlib.pyplot as plt\n",
        "%matplotlib inline\n",
        "import seaborn as sns\n",
        "#sns.set() # setting seaborn default for plots\n",
        "import matplotlib.font_manager as fm\n",
        "import copy\n",
        "# 그래프에서 마이너스 폰트 깨지는 문제에 대한 대처\n",
        "mpl.rcParams['axes.unicode_minus'] = False\n",
        "import numpy as np\n",
        "\n",
        "\n",
        "from scipy import stats  # Box-Cox 검정\n",
        "import statsmodels.api as sm  # qqplot\n",
        "from statsmodels.tsa.stattools import adfuller    # adfuller : ADF그래프 그려주는 함수\n",
        "from statsmodels.tsa.seasonal import seasonal_decompose\n",
        "from statsmodels.tsa.arima_model import ARIMA\n",
        "from pandas.plotting import register_matplotlib_converters\n",
        "from statsmodels.stats.diagnostic import acorr_ljungbox # Ljung-Box 검정\n",
        "\n",
        "import warnings\n",
        "warnings.filterwarnings(\"ignore\")\n",
        "\n",
        "import itertools\n",
        "import copy\n",
        "from datetime import datetime,timedelta"
      ],
      "execution_count": 2,
      "outputs": [
        {
          "output_type": "stream",
          "text": [
            "/usr/local/lib/python3.6/dist-packages/statsmodels/tools/_testing.py:19: FutureWarning: pandas.util.testing is deprecated. Use the functions in the public API at pandas.testing instead.\n",
            "  import pandas.util.testing as tm\n"
          ],
          "name": "stderr"
        }
      ]
    },
    {
      "cell_type": "code",
      "metadata": {
        "id": "brcQ-Y89lUS-",
        "outputId": "064ca5e9-8152-4636-b8d3-58d57c21d705",
        "colab": {
          "base_uri": "https://localhost:8080/"
        }
      },
      "source": [
        "!pip install --force https://github.com/chengs/tqdm/archive/colab.zip # 진행상태바 표시를 위한 tqdm 라이브러리 설치 "
      ],
      "execution_count": 3,
      "outputs": [
        {
          "output_type": "stream",
          "text": [
            "Collecting https://github.com/chengs/tqdm/archive/colab.zip\n",
            "  Using cached https://github.com/chengs/tqdm/archive/colab.zip\n",
            "Building wheels for collected packages: tqdm\n",
            "  Building wheel for tqdm (setup.py) ... \u001b[?25l\u001b[?25hdone\n",
            "  Created wheel for tqdm: filename=tqdm-4.28.1-py2.py3-none-any.whl size=47868 sha256=5987224c6f16d8c5e82da651aba82c5e734b8fdfd480e219acb85f212ad51c19\n",
            "  Stored in directory: /tmp/pip-ephem-wheel-cache-dbwxysat/wheels/41/18/ee/d5dd158441b27965855b1bbae03fa2d8a91fe645c01b419896\n",
            "Successfully built tqdm\n",
            "\u001b[31mERROR: spacy 2.2.4 has requirement tqdm<5.0.0,>=4.38.0, but you'll have tqdm 4.28.1 which is incompatible.\u001b[0m\n",
            "\u001b[31mERROR: fbprophet 0.7.1 has requirement tqdm>=4.36.1, but you'll have tqdm 4.28.1 which is incompatible.\u001b[0m\n",
            "Installing collected packages: tqdm\n",
            "  Found existing installation: tqdm 4.28.1\n",
            "    Uninstalling tqdm-4.28.1:\n",
            "      Successfully uninstalled tqdm-4.28.1\n",
            "Successfully installed tqdm-4.28.1\n"
          ],
          "name": "stdout"
        }
      ]
    },
    {
      "cell_type": "code",
      "metadata": {
        "id": "277oxDkNlIJS",
        "outputId": "fde4afb3-fc98-4acf-8c59-02831a0ff3a9",
        "colab": {
          "base_uri": "https://localhost:8080/"
        }
      },
      "source": [
        "from google.colab import drive\n",
        "drive.mount('/content/drive')"
      ],
      "execution_count": 4,
      "outputs": [
        {
          "output_type": "stream",
          "text": [
            "Drive already mounted at /content/drive; to attempt to forcibly remount, call drive.mount(\"/content/drive\", force_remount=True).\n"
          ],
          "name": "stdout"
        }
      ]
    },
    {
      "cell_type": "code",
      "metadata": {
        "id": "CAVPOM6SlJfh",
        "outputId": "ac0ba215-b194-451f-bd7e-8d609b538689",
        "colab": {
          "base_uri": "https://localhost:8080/"
        }
      },
      "source": [
        "pip install -U pykrx  # KRX데이터를 크롤링하기 위한 라이브러리설치"
      ],
      "execution_count": 5,
      "outputs": [
        {
          "output_type": "stream",
          "text": [
            "Requirement already up-to-date: pykrx in /usr/local/lib/python3.6/dist-packages (0.1.41)\n",
            "Requirement already satisfied, skipping upgrade: pandas in /usr/local/lib/python3.6/dist-packages (from pykrx) (1.1.2)\n",
            "Requirement already satisfied, skipping upgrade: xlrd in /usr/local/lib/python3.6/dist-packages (from pykrx) (1.1.0)\n",
            "Requirement already satisfied, skipping upgrade: datetime in /usr/local/lib/python3.6/dist-packages (from pykrx) (4.3)\n",
            "Requirement already satisfied, skipping upgrade: numpy in /usr/local/lib/python3.6/dist-packages (from pykrx) (1.18.5)\n",
            "Requirement already satisfied, skipping upgrade: requests in /usr/local/lib/python3.6/dist-packages (from pykrx) (2.23.0)\n",
            "Requirement already satisfied, skipping upgrade: python-dateutil>=2.7.3 in /usr/local/lib/python3.6/dist-packages (from pandas->pykrx) (2.8.1)\n",
            "Requirement already satisfied, skipping upgrade: pytz>=2017.2 in /usr/local/lib/python3.6/dist-packages (from pandas->pykrx) (2018.9)\n",
            "Requirement already satisfied, skipping upgrade: zope.interface in /usr/local/lib/python3.6/dist-packages (from datetime->pykrx) (5.1.2)\n",
            "Requirement already satisfied, skipping upgrade: urllib3!=1.25.0,!=1.25.1,<1.26,>=1.21.1 in /usr/local/lib/python3.6/dist-packages (from requests->pykrx) (1.24.3)\n",
            "Requirement already satisfied, skipping upgrade: idna<3,>=2.5 in /usr/local/lib/python3.6/dist-packages (from requests->pykrx) (2.10)\n",
            "Requirement already satisfied, skipping upgrade: chardet<4,>=3.0.2 in /usr/local/lib/python3.6/dist-packages (from requests->pykrx) (3.0.4)\n",
            "Requirement already satisfied, skipping upgrade: certifi>=2017.4.17 in /usr/local/lib/python3.6/dist-packages (from requests->pykrx) (2020.6.20)\n",
            "Requirement already satisfied, skipping upgrade: six>=1.5 in /usr/local/lib/python3.6/dist-packages (from python-dateutil>=2.7.3->pandas->pykrx) (1.15.0)\n",
            "Requirement already satisfied, skipping upgrade: setuptools in /usr/local/lib/python3.6/dist-packages (from zope.interface->datetime->pykrx) (50.3.0)\n"
          ],
          "name": "stdout"
        }
      ]
    },
    {
      "cell_type": "code",
      "metadata": {
        "id": "VCyYPqJClK8p",
        "outputId": "6ecc1a14-62e5-4f3c-9889-e480d3657841",
        "colab": {
          "base_uri": "https://localhost:8080/",
          "height": 431
        }
      },
      "source": [
        "from pykrx import stock\n",
        "\n",
        "today=datetime.today().strftime(\"%Y%m%d\")                      # 현재날짜\n",
        "year1=(datetime.today()-timedelta(365)).strftime('%Y%m%d')     # 현재날짜로부터 1년전 날짜\n",
        "\n",
        "df = stock.get_market_ohlcv_by_date(year1,today, \"122870\") # DataFrame, (시작날짜,종료날짜,종목번호)\n",
        "df"
      ],
      "execution_count": 6,
      "outputs": [
        {
          "output_type": "execute_result",
          "data": {
            "text/html": [
              "<div>\n",
              "<style scoped>\n",
              "    .dataframe tbody tr th:only-of-type {\n",
              "        vertical-align: middle;\n",
              "    }\n",
              "\n",
              "    .dataframe tbody tr th {\n",
              "        vertical-align: top;\n",
              "    }\n",
              "\n",
              "    .dataframe thead th {\n",
              "        text-align: right;\n",
              "    }\n",
              "</style>\n",
              "<table border=\"1\" class=\"dataframe\">\n",
              "  <thead>\n",
              "    <tr style=\"text-align: right;\">\n",
              "      <th>와이지엔터테인먼트</th>\n",
              "      <th>시가</th>\n",
              "      <th>고가</th>\n",
              "      <th>저가</th>\n",
              "      <th>종가</th>\n",
              "      <th>거래량</th>\n",
              "    </tr>\n",
              "    <tr>\n",
              "      <th>날짜</th>\n",
              "      <th></th>\n",
              "      <th></th>\n",
              "      <th></th>\n",
              "      <th></th>\n",
              "      <th></th>\n",
              "    </tr>\n",
              "  </thead>\n",
              "  <tbody>\n",
              "    <tr>\n",
              "      <th>2019-10-08</th>\n",
              "      <td>23400</td>\n",
              "      <td>23900</td>\n",
              "      <td>22900</td>\n",
              "      <td>23800</td>\n",
              "      <td>148848</td>\n",
              "    </tr>\n",
              "    <tr>\n",
              "      <th>2019-10-10</th>\n",
              "      <td>23550</td>\n",
              "      <td>23700</td>\n",
              "      <td>23000</td>\n",
              "      <td>23550</td>\n",
              "      <td>150525</td>\n",
              "    </tr>\n",
              "    <tr>\n",
              "      <th>2019-10-11</th>\n",
              "      <td>23800</td>\n",
              "      <td>25200</td>\n",
              "      <td>23650</td>\n",
              "      <td>23950</td>\n",
              "      <td>474910</td>\n",
              "    </tr>\n",
              "    <tr>\n",
              "      <th>2019-10-14</th>\n",
              "      <td>24350</td>\n",
              "      <td>25850</td>\n",
              "      <td>24150</td>\n",
              "      <td>25650</td>\n",
              "      <td>558471</td>\n",
              "    </tr>\n",
              "    <tr>\n",
              "      <th>2019-10-15</th>\n",
              "      <td>25600</td>\n",
              "      <td>26700</td>\n",
              "      <td>25350</td>\n",
              "      <td>26000</td>\n",
              "      <td>425303</td>\n",
              "    </tr>\n",
              "    <tr>\n",
              "      <th>...</th>\n",
              "      <td>...</td>\n",
              "      <td>...</td>\n",
              "      <td>...</td>\n",
              "      <td>...</td>\n",
              "      <td>...</td>\n",
              "    </tr>\n",
              "    <tr>\n",
              "      <th>2020-09-28</th>\n",
              "      <td>52300</td>\n",
              "      <td>57500</td>\n",
              "      <td>51800</td>\n",
              "      <td>57000</td>\n",
              "      <td>1067907</td>\n",
              "    </tr>\n",
              "    <tr>\n",
              "      <th>2020-09-29</th>\n",
              "      <td>57700</td>\n",
              "      <td>58000</td>\n",
              "      <td>54900</td>\n",
              "      <td>58000</td>\n",
              "      <td>758762</td>\n",
              "    </tr>\n",
              "    <tr>\n",
              "      <th>2020-10-05</th>\n",
              "      <td>57100</td>\n",
              "      <td>57400</td>\n",
              "      <td>51800</td>\n",
              "      <td>52500</td>\n",
              "      <td>1428801</td>\n",
              "    </tr>\n",
              "    <tr>\n",
              "      <th>2020-10-06</th>\n",
              "      <td>52000</td>\n",
              "      <td>53200</td>\n",
              "      <td>50200</td>\n",
              "      <td>51500</td>\n",
              "      <td>633818</td>\n",
              "    </tr>\n",
              "    <tr>\n",
              "      <th>2020-10-07</th>\n",
              "      <td>51600</td>\n",
              "      <td>52700</td>\n",
              "      <td>51200</td>\n",
              "      <td>51600</td>\n",
              "      <td>319603</td>\n",
              "    </tr>\n",
              "  </tbody>\n",
              "</table>\n",
              "<p>248 rows × 5 columns</p>\n",
              "</div>"
            ],
            "text/plain": [
              "와이지엔터테인먼트      시가     고가     저가     종가      거래량\n",
              "날짜                                             \n",
              "2019-10-08  23400  23900  22900  23800   148848\n",
              "2019-10-10  23550  23700  23000  23550   150525\n",
              "2019-10-11  23800  25200  23650  23950   474910\n",
              "2019-10-14  24350  25850  24150  25650   558471\n",
              "2019-10-15  25600  26700  25350  26000   425303\n",
              "...           ...    ...    ...    ...      ...\n",
              "2020-09-28  52300  57500  51800  57000  1067907\n",
              "2020-09-29  57700  58000  54900  58000   758762\n",
              "2020-10-05  57100  57400  51800  52500  1428801\n",
              "2020-10-06  52000  53200  50200  51500   633818\n",
              "2020-10-07  51600  52700  51200  51600   319603\n",
              "\n",
              "[248 rows x 5 columns]"
            ]
          },
          "metadata": {
            "tags": []
          },
          "execution_count": 6
        }
      ]
    },
    {
      "cell_type": "code",
      "metadata": {
        "id": "qq2F6cxSlMgF",
        "outputId": "cb692138-4509-4d14-813f-0821a0985de9",
        "colab": {
          "base_uri": "https://localhost:8080/"
        }
      },
      "source": [
        "# train,test 데이터 나누기\n",
        "\n",
        "print('df.shape : ',df.shape)\n",
        "\n",
        "# 조정가능한 값 (validation_size , test_size)\n",
        "validation_size=40\n",
        "test_size=10\n",
        "\n",
        "train=df[:len(df)-validation_size]\n",
        "validation=df[len(df)-validation_size:len(df)-test_size]\n",
        "test=df[len(df)-test_size:]\n",
        "\n",
        "print('train.shape : ',train.shape)\n",
        "print('validation.shape : ',validation.shape)\n",
        "print('test.shape : ',test.shape)"
      ],
      "execution_count": 7,
      "outputs": [
        {
          "output_type": "stream",
          "text": [
            "df.shape :  (248, 5)\n",
            "train.shape :  (208, 5)\n",
            "validation.shape :  (30, 5)\n",
            "test.shape :  (10, 5)\n"
          ],
          "name": "stdout"
        }
      ]
    },
    {
      "cell_type": "code",
      "metadata": {
        "id": "mVHE-rgiwAdc",
        "outputId": "90a0140a-9532-4030-af58-49e0e945d5be",
        "colab": {
          "base_uri": "https://localhost:8080/",
          "height": 284
        }
      },
      "source": [
        "# 전체적인 주가 데이터 살펴보기\n",
        "df.describe()"
      ],
      "execution_count": 8,
      "outputs": [
        {
          "output_type": "execute_result",
          "data": {
            "text/html": [
              "<div>\n",
              "<style scoped>\n",
              "    .dataframe tbody tr th:only-of-type {\n",
              "        vertical-align: middle;\n",
              "    }\n",
              "\n",
              "    .dataframe tbody tr th {\n",
              "        vertical-align: top;\n",
              "    }\n",
              "\n",
              "    .dataframe thead th {\n",
              "        text-align: right;\n",
              "    }\n",
              "</style>\n",
              "<table border=\"1\" class=\"dataframe\">\n",
              "  <thead>\n",
              "    <tr style=\"text-align: right;\">\n",
              "      <th>와이지엔터테인먼트</th>\n",
              "      <th>시가</th>\n",
              "      <th>고가</th>\n",
              "      <th>저가</th>\n",
              "      <th>종가</th>\n",
              "      <th>거래량</th>\n",
              "    </tr>\n",
              "  </thead>\n",
              "  <tbody>\n",
              "    <tr>\n",
              "      <th>count</th>\n",
              "      <td>248.000000</td>\n",
              "      <td>248.000000</td>\n",
              "      <td>248.000000</td>\n",
              "      <td>248.000000</td>\n",
              "      <td>2.480000e+02</td>\n",
              "    </tr>\n",
              "    <tr>\n",
              "      <th>mean</th>\n",
              "      <td>33411.088710</td>\n",
              "      <td>34296.774194</td>\n",
              "      <td>32569.758065</td>\n",
              "      <td>33480.241935</td>\n",
              "      <td>4.395776e+05</td>\n",
              "    </tr>\n",
              "    <tr>\n",
              "      <th>std</th>\n",
              "      <td>9563.247167</td>\n",
              "      <td>9807.722814</td>\n",
              "      <td>9233.246824</td>\n",
              "      <td>9556.998874</td>\n",
              "      <td>5.533485e+05</td>\n",
              "    </tr>\n",
              "    <tr>\n",
              "      <th>min</th>\n",
              "      <td>19650.000000</td>\n",
              "      <td>20100.000000</td>\n",
              "      <td>18950.000000</td>\n",
              "      <td>19450.000000</td>\n",
              "      <td>5.555200e+04</td>\n",
              "    </tr>\n",
              "    <tr>\n",
              "      <th>25%</th>\n",
              "      <td>26150.000000</td>\n",
              "      <td>26550.000000</td>\n",
              "      <td>25737.500000</td>\n",
              "      <td>26150.000000</td>\n",
              "      <td>2.060082e+05</td>\n",
              "    </tr>\n",
              "    <tr>\n",
              "      <th>50%</th>\n",
              "      <td>30525.000000</td>\n",
              "      <td>31375.000000</td>\n",
              "      <td>29875.000000</td>\n",
              "      <td>30575.000000</td>\n",
              "      <td>3.011435e+05</td>\n",
              "    </tr>\n",
              "    <tr>\n",
              "      <th>75%</th>\n",
              "      <td>38000.000000</td>\n",
              "      <td>39175.000000</td>\n",
              "      <td>37312.500000</td>\n",
              "      <td>38312.500000</td>\n",
              "      <td>4.841405e+05</td>\n",
              "    </tr>\n",
              "    <tr>\n",
              "      <th>max</th>\n",
              "      <td>59300.000000</td>\n",
              "      <td>60500.000000</td>\n",
              "      <td>57500.000000</td>\n",
              "      <td>58700.000000</td>\n",
              "      <td>5.841435e+06</td>\n",
              "    </tr>\n",
              "  </tbody>\n",
              "</table>\n",
              "</div>"
            ],
            "text/plain": [
              "와이지엔터테인먼트            시가            고가            저가            종가           거래량\n",
              "count        248.000000    248.000000    248.000000    248.000000  2.480000e+02\n",
              "mean       33411.088710  34296.774194  32569.758065  33480.241935  4.395776e+05\n",
              "std         9563.247167   9807.722814   9233.246824   9556.998874  5.533485e+05\n",
              "min        19650.000000  20100.000000  18950.000000  19450.000000  5.555200e+04\n",
              "25%        26150.000000  26550.000000  25737.500000  26150.000000  2.060082e+05\n",
              "50%        30525.000000  31375.000000  29875.000000  30575.000000  3.011435e+05\n",
              "75%        38000.000000  39175.000000  37312.500000  38312.500000  4.841405e+05\n",
              "max        59300.000000  60500.000000  57500.000000  58700.000000  5.841435e+06"
            ]
          },
          "metadata": {
            "tags": []
          },
          "execution_count": 8
        }
      ]
    },
    {
      "cell_type": "code",
      "metadata": {
        "id": "4FdUMpkT8lNY",
        "outputId": "0f1bcdd9-03bd-4f49-9b11-773ebd6ca062",
        "colab": {
          "base_uri": "https://localhost:8080/",
          "height": 431
        }
      },
      "source": [
        "train_data=pd.concat([train,validation],axis=0)\n",
        "train_data"
      ],
      "execution_count": 9,
      "outputs": [
        {
          "output_type": "execute_result",
          "data": {
            "text/html": [
              "<div>\n",
              "<style scoped>\n",
              "    .dataframe tbody tr th:only-of-type {\n",
              "        vertical-align: middle;\n",
              "    }\n",
              "\n",
              "    .dataframe tbody tr th {\n",
              "        vertical-align: top;\n",
              "    }\n",
              "\n",
              "    .dataframe thead th {\n",
              "        text-align: right;\n",
              "    }\n",
              "</style>\n",
              "<table border=\"1\" class=\"dataframe\">\n",
              "  <thead>\n",
              "    <tr style=\"text-align: right;\">\n",
              "      <th>와이지엔터테인먼트</th>\n",
              "      <th>시가</th>\n",
              "      <th>고가</th>\n",
              "      <th>저가</th>\n",
              "      <th>종가</th>\n",
              "      <th>거래량</th>\n",
              "    </tr>\n",
              "    <tr>\n",
              "      <th>날짜</th>\n",
              "      <th></th>\n",
              "      <th></th>\n",
              "      <th></th>\n",
              "      <th></th>\n",
              "      <th></th>\n",
              "    </tr>\n",
              "  </thead>\n",
              "  <tbody>\n",
              "    <tr>\n",
              "      <th>2019-10-08</th>\n",
              "      <td>23400</td>\n",
              "      <td>23900</td>\n",
              "      <td>22900</td>\n",
              "      <td>23800</td>\n",
              "      <td>148848</td>\n",
              "    </tr>\n",
              "    <tr>\n",
              "      <th>2019-10-10</th>\n",
              "      <td>23550</td>\n",
              "      <td>23700</td>\n",
              "      <td>23000</td>\n",
              "      <td>23550</td>\n",
              "      <td>150525</td>\n",
              "    </tr>\n",
              "    <tr>\n",
              "      <th>2019-10-11</th>\n",
              "      <td>23800</td>\n",
              "      <td>25200</td>\n",
              "      <td>23650</td>\n",
              "      <td>23950</td>\n",
              "      <td>474910</td>\n",
              "    </tr>\n",
              "    <tr>\n",
              "      <th>2019-10-14</th>\n",
              "      <td>24350</td>\n",
              "      <td>25850</td>\n",
              "      <td>24150</td>\n",
              "      <td>25650</td>\n",
              "      <td>558471</td>\n",
              "    </tr>\n",
              "    <tr>\n",
              "      <th>2019-10-15</th>\n",
              "      <td>25600</td>\n",
              "      <td>26700</td>\n",
              "      <td>25350</td>\n",
              "      <td>26000</td>\n",
              "      <td>425303</td>\n",
              "    </tr>\n",
              "    <tr>\n",
              "      <th>...</th>\n",
              "      <td>...</td>\n",
              "      <td>...</td>\n",
              "      <td>...</td>\n",
              "      <td>...</td>\n",
              "      <td>...</td>\n",
              "    </tr>\n",
              "    <tr>\n",
              "      <th>2020-09-14</th>\n",
              "      <td>59300</td>\n",
              "      <td>59300</td>\n",
              "      <td>57500</td>\n",
              "      <td>58000</td>\n",
              "      <td>329573</td>\n",
              "    </tr>\n",
              "    <tr>\n",
              "      <th>2020-09-15</th>\n",
              "      <td>57800</td>\n",
              "      <td>58400</td>\n",
              "      <td>57000</td>\n",
              "      <td>58000</td>\n",
              "      <td>270909</td>\n",
              "    </tr>\n",
              "    <tr>\n",
              "      <th>2020-09-16</th>\n",
              "      <td>58000</td>\n",
              "      <td>58800</td>\n",
              "      <td>57300</td>\n",
              "      <td>58300</td>\n",
              "      <td>290431</td>\n",
              "    </tr>\n",
              "    <tr>\n",
              "      <th>2020-09-17</th>\n",
              "      <td>58300</td>\n",
              "      <td>58300</td>\n",
              "      <td>55800</td>\n",
              "      <td>56300</td>\n",
              "      <td>427639</td>\n",
              "    </tr>\n",
              "    <tr>\n",
              "      <th>2020-09-18</th>\n",
              "      <td>56900</td>\n",
              "      <td>58000</td>\n",
              "      <td>55600</td>\n",
              "      <td>58000</td>\n",
              "      <td>288517</td>\n",
              "    </tr>\n",
              "  </tbody>\n",
              "</table>\n",
              "<p>238 rows × 5 columns</p>\n",
              "</div>"
            ],
            "text/plain": [
              "와이지엔터테인먼트      시가     고가     저가     종가     거래량\n",
              "날짜                                            \n",
              "2019-10-08  23400  23900  22900  23800  148848\n",
              "2019-10-10  23550  23700  23000  23550  150525\n",
              "2019-10-11  23800  25200  23650  23950  474910\n",
              "2019-10-14  24350  25850  24150  25650  558471\n",
              "2019-10-15  25600  26700  25350  26000  425303\n",
              "...           ...    ...    ...    ...     ...\n",
              "2020-09-14  59300  59300  57500  58000  329573\n",
              "2020-09-15  57800  58400  57000  58000  270909\n",
              "2020-09-16  58000  58800  57300  58300  290431\n",
              "2020-09-17  58300  58300  55800  56300  427639\n",
              "2020-09-18  56900  58000  55600  58000  288517\n",
              "\n",
              "[238 rows x 5 columns]"
            ]
          },
          "metadata": {
            "tags": []
          },
          "execution_count": 9
        }
      ]
    },
    {
      "cell_type": "code",
      "metadata": {
        "id": "fzNasz3DFNSN",
        "outputId": "8bfceac3-87ad-4ad3-a116-873b99f96974",
        "colab": {
          "base_uri": "https://localhost:8080/",
          "height": 431
        }
      },
      "source": [
        "test_data=pd.concat([train_data,test],axis=0)\n",
        "test_data"
      ],
      "execution_count": 10,
      "outputs": [
        {
          "output_type": "execute_result",
          "data": {
            "text/html": [
              "<div>\n",
              "<style scoped>\n",
              "    .dataframe tbody tr th:only-of-type {\n",
              "        vertical-align: middle;\n",
              "    }\n",
              "\n",
              "    .dataframe tbody tr th {\n",
              "        vertical-align: top;\n",
              "    }\n",
              "\n",
              "    .dataframe thead th {\n",
              "        text-align: right;\n",
              "    }\n",
              "</style>\n",
              "<table border=\"1\" class=\"dataframe\">\n",
              "  <thead>\n",
              "    <tr style=\"text-align: right;\">\n",
              "      <th>와이지엔터테인먼트</th>\n",
              "      <th>시가</th>\n",
              "      <th>고가</th>\n",
              "      <th>저가</th>\n",
              "      <th>종가</th>\n",
              "      <th>거래량</th>\n",
              "    </tr>\n",
              "    <tr>\n",
              "      <th>날짜</th>\n",
              "      <th></th>\n",
              "      <th></th>\n",
              "      <th></th>\n",
              "      <th></th>\n",
              "      <th></th>\n",
              "    </tr>\n",
              "  </thead>\n",
              "  <tbody>\n",
              "    <tr>\n",
              "      <th>2019-10-08</th>\n",
              "      <td>23400</td>\n",
              "      <td>23900</td>\n",
              "      <td>22900</td>\n",
              "      <td>23800</td>\n",
              "      <td>148848</td>\n",
              "    </tr>\n",
              "    <tr>\n",
              "      <th>2019-10-10</th>\n",
              "      <td>23550</td>\n",
              "      <td>23700</td>\n",
              "      <td>23000</td>\n",
              "      <td>23550</td>\n",
              "      <td>150525</td>\n",
              "    </tr>\n",
              "    <tr>\n",
              "      <th>2019-10-11</th>\n",
              "      <td>23800</td>\n",
              "      <td>25200</td>\n",
              "      <td>23650</td>\n",
              "      <td>23950</td>\n",
              "      <td>474910</td>\n",
              "    </tr>\n",
              "    <tr>\n",
              "      <th>2019-10-14</th>\n",
              "      <td>24350</td>\n",
              "      <td>25850</td>\n",
              "      <td>24150</td>\n",
              "      <td>25650</td>\n",
              "      <td>558471</td>\n",
              "    </tr>\n",
              "    <tr>\n",
              "      <th>2019-10-15</th>\n",
              "      <td>25600</td>\n",
              "      <td>26700</td>\n",
              "      <td>25350</td>\n",
              "      <td>26000</td>\n",
              "      <td>425303</td>\n",
              "    </tr>\n",
              "    <tr>\n",
              "      <th>...</th>\n",
              "      <td>...</td>\n",
              "      <td>...</td>\n",
              "      <td>...</td>\n",
              "      <td>...</td>\n",
              "      <td>...</td>\n",
              "    </tr>\n",
              "    <tr>\n",
              "      <th>2020-09-28</th>\n",
              "      <td>52300</td>\n",
              "      <td>57500</td>\n",
              "      <td>51800</td>\n",
              "      <td>57000</td>\n",
              "      <td>1067907</td>\n",
              "    </tr>\n",
              "    <tr>\n",
              "      <th>2020-09-29</th>\n",
              "      <td>57700</td>\n",
              "      <td>58000</td>\n",
              "      <td>54900</td>\n",
              "      <td>58000</td>\n",
              "      <td>758762</td>\n",
              "    </tr>\n",
              "    <tr>\n",
              "      <th>2020-10-05</th>\n",
              "      <td>57100</td>\n",
              "      <td>57400</td>\n",
              "      <td>51800</td>\n",
              "      <td>52500</td>\n",
              "      <td>1428801</td>\n",
              "    </tr>\n",
              "    <tr>\n",
              "      <th>2020-10-06</th>\n",
              "      <td>52000</td>\n",
              "      <td>53200</td>\n",
              "      <td>50200</td>\n",
              "      <td>51500</td>\n",
              "      <td>633818</td>\n",
              "    </tr>\n",
              "    <tr>\n",
              "      <th>2020-10-07</th>\n",
              "      <td>51600</td>\n",
              "      <td>52700</td>\n",
              "      <td>51200</td>\n",
              "      <td>51600</td>\n",
              "      <td>319603</td>\n",
              "    </tr>\n",
              "  </tbody>\n",
              "</table>\n",
              "<p>248 rows × 5 columns</p>\n",
              "</div>"
            ],
            "text/plain": [
              "와이지엔터테인먼트      시가     고가     저가     종가      거래량\n",
              "날짜                                             \n",
              "2019-10-08  23400  23900  22900  23800   148848\n",
              "2019-10-10  23550  23700  23000  23550   150525\n",
              "2019-10-11  23800  25200  23650  23950   474910\n",
              "2019-10-14  24350  25850  24150  25650   558471\n",
              "2019-10-15  25600  26700  25350  26000   425303\n",
              "...           ...    ...    ...    ...      ...\n",
              "2020-09-28  52300  57500  51800  57000  1067907\n",
              "2020-09-29  57700  58000  54900  58000   758762\n",
              "2020-10-05  57100  57400  51800  52500  1428801\n",
              "2020-10-06  52000  53200  50200  51500   633818\n",
              "2020-10-07  51600  52700  51200  51600   319603\n",
              "\n",
              "[248 rows x 5 columns]"
            ]
          },
          "metadata": {
            "tags": []
          },
          "execution_count": 10
        }
      ]
    },
    {
      "cell_type": "code",
      "metadata": {
        "id": "-M7ZGEl_otsb"
      },
      "source": [
        "\n",
        "# Prophet모델에 input되기 위해서는 ['ds','y']로 column형식을 맞춰야 함\n",
        "\n",
        "train_data=pd.DataFrame({'ds':train_data.index,'y':train_data['종가']})\n",
        "train_data=train_data.reset_index(drop=True)\n",
        "\n",
        "#validation['날짜']=validation.index\n",
        "#validation=pd.DataFrame({'ds':validation['날짜'],'y':validation['종가']})\n",
        "#validation=validation.reset_index(drop=True)\n",
        "\n",
        "\n",
        "#test['날짜']=test.index\n",
        "#test=pd.DataFrame({'y':test['종가']})\n",
        "#test=test.reset_index(drop=True)"
      ],
      "execution_count": 11,
      "outputs": []
    },
    {
      "cell_type": "code",
      "metadata": {
        "id": "P5ng2e8Fv5ew",
        "outputId": "4ce24b87-1eb3-470b-f0b3-ea76718e336b",
        "colab": {
          "base_uri": "https://localhost:8080/",
          "height": 402
        }
      },
      "source": [
        "train_data"
      ],
      "execution_count": 12,
      "outputs": [
        {
          "output_type": "execute_result",
          "data": {
            "text/html": [
              "<div>\n",
              "<style scoped>\n",
              "    .dataframe tbody tr th:only-of-type {\n",
              "        vertical-align: middle;\n",
              "    }\n",
              "\n",
              "    .dataframe tbody tr th {\n",
              "        vertical-align: top;\n",
              "    }\n",
              "\n",
              "    .dataframe thead th {\n",
              "        text-align: right;\n",
              "    }\n",
              "</style>\n",
              "<table border=\"1\" class=\"dataframe\">\n",
              "  <thead>\n",
              "    <tr style=\"text-align: right;\">\n",
              "      <th></th>\n",
              "      <th>ds</th>\n",
              "      <th>y</th>\n",
              "    </tr>\n",
              "  </thead>\n",
              "  <tbody>\n",
              "    <tr>\n",
              "      <th>0</th>\n",
              "      <td>2019-10-08</td>\n",
              "      <td>23800</td>\n",
              "    </tr>\n",
              "    <tr>\n",
              "      <th>1</th>\n",
              "      <td>2019-10-10</td>\n",
              "      <td>23550</td>\n",
              "    </tr>\n",
              "    <tr>\n",
              "      <th>2</th>\n",
              "      <td>2019-10-11</td>\n",
              "      <td>23950</td>\n",
              "    </tr>\n",
              "    <tr>\n",
              "      <th>3</th>\n",
              "      <td>2019-10-14</td>\n",
              "      <td>25650</td>\n",
              "    </tr>\n",
              "    <tr>\n",
              "      <th>4</th>\n",
              "      <td>2019-10-15</td>\n",
              "      <td>26000</td>\n",
              "    </tr>\n",
              "    <tr>\n",
              "      <th>...</th>\n",
              "      <td>...</td>\n",
              "      <td>...</td>\n",
              "    </tr>\n",
              "    <tr>\n",
              "      <th>233</th>\n",
              "      <td>2020-09-14</td>\n",
              "      <td>58000</td>\n",
              "    </tr>\n",
              "    <tr>\n",
              "      <th>234</th>\n",
              "      <td>2020-09-15</td>\n",
              "      <td>58000</td>\n",
              "    </tr>\n",
              "    <tr>\n",
              "      <th>235</th>\n",
              "      <td>2020-09-16</td>\n",
              "      <td>58300</td>\n",
              "    </tr>\n",
              "    <tr>\n",
              "      <th>236</th>\n",
              "      <td>2020-09-17</td>\n",
              "      <td>56300</td>\n",
              "    </tr>\n",
              "    <tr>\n",
              "      <th>237</th>\n",
              "      <td>2020-09-18</td>\n",
              "      <td>58000</td>\n",
              "    </tr>\n",
              "  </tbody>\n",
              "</table>\n",
              "<p>238 rows × 2 columns</p>\n",
              "</div>"
            ],
            "text/plain": [
              "            ds      y\n",
              "0   2019-10-08  23800\n",
              "1   2019-10-10  23550\n",
              "2   2019-10-11  23950\n",
              "3   2019-10-14  25650\n",
              "4   2019-10-15  26000\n",
              "..         ...    ...\n",
              "233 2020-09-14  58000\n",
              "234 2020-09-15  58000\n",
              "235 2020-09-16  58300\n",
              "236 2020-09-17  56300\n",
              "237 2020-09-18  58000\n",
              "\n",
              "[238 rows x 2 columns]"
            ]
          },
          "metadata": {
            "tags": []
          },
          "execution_count": 12
        }
      ]
    },
    {
      "cell_type": "code",
      "metadata": {
        "id": "csi2ha4p8eiR",
        "outputId": "47ffc2a4-0dfc-4665-d9b8-8dd8d533964e",
        "colab": {
          "base_uri": "https://localhost:8080/",
          "height": 402
        }
      },
      "source": [
        "# 조정가능한 값 (limit_percentage)\n",
        "limit_percentage=30\n",
        "\n",
        "\n",
        "train_data['cap'] = train_data['y'].shift() * (1+limit_percentage/100)   # 당일날의 상한(cap), 하한(하한)은 전날 종가의 10%이내로 설정\n",
        "train_data['floor'] = train_data['y'].shift() * (1-limit_percentage/100)\n",
        "train_data.fillna(method='bfill', inplace=True)\n",
        "train_data"
      ],
      "execution_count": 13,
      "outputs": [
        {
          "output_type": "execute_result",
          "data": {
            "text/html": [
              "<div>\n",
              "<style scoped>\n",
              "    .dataframe tbody tr th:only-of-type {\n",
              "        vertical-align: middle;\n",
              "    }\n",
              "\n",
              "    .dataframe tbody tr th {\n",
              "        vertical-align: top;\n",
              "    }\n",
              "\n",
              "    .dataframe thead th {\n",
              "        text-align: right;\n",
              "    }\n",
              "</style>\n",
              "<table border=\"1\" class=\"dataframe\">\n",
              "  <thead>\n",
              "    <tr style=\"text-align: right;\">\n",
              "      <th></th>\n",
              "      <th>ds</th>\n",
              "      <th>y</th>\n",
              "      <th>cap</th>\n",
              "      <th>floor</th>\n",
              "    </tr>\n",
              "  </thead>\n",
              "  <tbody>\n",
              "    <tr>\n",
              "      <th>0</th>\n",
              "      <td>2019-10-08</td>\n",
              "      <td>23800</td>\n",
              "      <td>30940.0</td>\n",
              "      <td>16660.0</td>\n",
              "    </tr>\n",
              "    <tr>\n",
              "      <th>1</th>\n",
              "      <td>2019-10-10</td>\n",
              "      <td>23550</td>\n",
              "      <td>30940.0</td>\n",
              "      <td>16660.0</td>\n",
              "    </tr>\n",
              "    <tr>\n",
              "      <th>2</th>\n",
              "      <td>2019-10-11</td>\n",
              "      <td>23950</td>\n",
              "      <td>30615.0</td>\n",
              "      <td>16485.0</td>\n",
              "    </tr>\n",
              "    <tr>\n",
              "      <th>3</th>\n",
              "      <td>2019-10-14</td>\n",
              "      <td>25650</td>\n",
              "      <td>31135.0</td>\n",
              "      <td>16765.0</td>\n",
              "    </tr>\n",
              "    <tr>\n",
              "      <th>4</th>\n",
              "      <td>2019-10-15</td>\n",
              "      <td>26000</td>\n",
              "      <td>33345.0</td>\n",
              "      <td>17955.0</td>\n",
              "    </tr>\n",
              "    <tr>\n",
              "      <th>...</th>\n",
              "      <td>...</td>\n",
              "      <td>...</td>\n",
              "      <td>...</td>\n",
              "      <td>...</td>\n",
              "    </tr>\n",
              "    <tr>\n",
              "      <th>233</th>\n",
              "      <td>2020-09-14</td>\n",
              "      <td>58000</td>\n",
              "      <td>76310.0</td>\n",
              "      <td>41090.0</td>\n",
              "    </tr>\n",
              "    <tr>\n",
              "      <th>234</th>\n",
              "      <td>2020-09-15</td>\n",
              "      <td>58000</td>\n",
              "      <td>75400.0</td>\n",
              "      <td>40600.0</td>\n",
              "    </tr>\n",
              "    <tr>\n",
              "      <th>235</th>\n",
              "      <td>2020-09-16</td>\n",
              "      <td>58300</td>\n",
              "      <td>75400.0</td>\n",
              "      <td>40600.0</td>\n",
              "    </tr>\n",
              "    <tr>\n",
              "      <th>236</th>\n",
              "      <td>2020-09-17</td>\n",
              "      <td>56300</td>\n",
              "      <td>75790.0</td>\n",
              "      <td>40810.0</td>\n",
              "    </tr>\n",
              "    <tr>\n",
              "      <th>237</th>\n",
              "      <td>2020-09-18</td>\n",
              "      <td>58000</td>\n",
              "      <td>73190.0</td>\n",
              "      <td>39410.0</td>\n",
              "    </tr>\n",
              "  </tbody>\n",
              "</table>\n",
              "<p>238 rows × 4 columns</p>\n",
              "</div>"
            ],
            "text/plain": [
              "            ds      y      cap    floor\n",
              "0   2019-10-08  23800  30940.0  16660.0\n",
              "1   2019-10-10  23550  30940.0  16660.0\n",
              "2   2019-10-11  23950  30615.0  16485.0\n",
              "3   2019-10-14  25650  31135.0  16765.0\n",
              "4   2019-10-15  26000  33345.0  17955.0\n",
              "..         ...    ...      ...      ...\n",
              "233 2020-09-14  58000  76310.0  41090.0\n",
              "234 2020-09-15  58000  75400.0  40600.0\n",
              "235 2020-09-16  58300  75400.0  40600.0\n",
              "236 2020-09-17  56300  75790.0  40810.0\n",
              "237 2020-09-18  58000  73190.0  39410.0\n",
              "\n",
              "[238 rows x 4 columns]"
            ]
          },
          "metadata": {
            "tags": []
          },
          "execution_count": 13
        }
      ]
    },
    {
      "cell_type": "code",
      "metadata": {
        "id": "grEL8o7Q1ElU",
        "outputId": "e56bad08-e453-4f6b-b9cb-ab428d4786f3",
        "colab": {
          "base_uri": "https://localhost:8080/",
          "height": 70
        }
      },
      "source": [
        "'''\n",
        "train_diff=train['y'].diff()\n",
        "train_diff=train_diff.dropna()                # 종가를 1차차분한 값들 -> train_diff\n",
        "\n",
        "train_data=pd.DataFrame({'ds':train['ds'][1:],'y':train_diff})\n",
        "\n",
        "plt.figure(figsize=(12, 5))\n",
        "plt.rcParams['lines.linewidth'] = 1\n",
        "plt.grid(axis='y')\n",
        "plt.plot(train_data['ds'],train_data['y'])\n",
        "plt.title('Stock Price 1 Difference', fontsize=20)\n",
        "plt.xlabel('Days', fontsize=10)\n",
        "plt.ylabel('Value', fontsize=10)\n",
        "#plt.xticks(train_data['ds'], fontsize=10)\n",
        "plt.show()\n",
        "'''"
      ],
      "execution_count": 14,
      "outputs": [
        {
          "output_type": "execute_result",
          "data": {
            "application/vnd.google.colaboratory.intrinsic+json": {
              "type": "string"
            },
            "text/plain": [
              "\"\\ntrain_diff=train['y'].diff()\\ntrain_diff=train_diff.dropna()                # 종가를 1차차분한 값들 -> train_diff\\n\\ntrain_data=pd.DataFrame({'ds':train['ds'][1:],'y':train_diff})\\n\\nplt.figure(figsize=(12, 5))\\nplt.rcParams['lines.linewidth'] = 1\\nplt.grid(axis='y')\\nplt.plot(train_data['ds'],train_data['y'])\\nplt.title('Stock Price 1 Difference', fontsize=20)\\nplt.xlabel('Days', fontsize=10)\\nplt.ylabel('Value', fontsize=10)\\n#plt.xticks(train_data['ds'], fontsize=10)\\nplt.show()\\n\""
            ]
          },
          "metadata": {
            "tags": []
          },
          "execution_count": 14
        }
      ]
    },
    {
      "cell_type": "code",
      "metadata": {
        "id": "ImST3sNa22Z0",
        "outputId": "d298e451-2b90-4235-ed16-c395146791fa",
        "colab": {
          "base_uri": "https://localhost:8080/"
        }
      },
      "source": [
        "print(train_data['ds'][0])                  # train_Data의 시작날짜\n",
        "print(train_data['ds'][len(train_data)-1])  # train_Datad의 끝날짜"
      ],
      "execution_count": 15,
      "outputs": [
        {
          "output_type": "stream",
          "text": [
            "2019-10-08 00:00:00\n",
            "2020-09-18 00:00:00\n"
          ],
          "name": "stdout"
        }
      ]
    },
    {
      "cell_type": "code",
      "metadata": {
        "id": "A5Y5fDb9mhxw",
        "outputId": "0edf9978-497e-463a-98ac-7fa0f00081cb",
        "colab": {
          "base_uri": "https://localhost:8080/"
        }
      },
      "source": [
        "# 주말, 공휴일의 영향을 고려하기위함. (아직 Doing)\n",
        "!pip install workalendar\n",
        "from workalendar.asia import SouthKorea\n",
        "import datetime\\\n",
        " \n",
        "kor_holiday=np.array(SouthKorea().holidays(2019))   # 2019년 한국의 공휴일 날짜가 담긴 array \n",
        "\n",
        "def print_whichday(year, month, day) :     # 년-월-일을 입력하면 요일을 말해주는 함수 \n",
        "    r = ['월요일', '화요일', '수요일', '목요일', '금요일', '토요일', '일요일']\n",
        "    aday = datetime.date(year, month, day)\n",
        "    bday = aday.weekday()\n",
        "    return r[bday]\n",
        "\n",
        "test_date='2020-10-03'\n",
        "y, m, d = test_date.split('-')\n",
        "print(print_whichday(int(y), int(m), int(d)))"
      ],
      "execution_count": 16,
      "outputs": [
        {
          "output_type": "stream",
          "text": [
            "Requirement already satisfied: workalendar in /usr/local/lib/python3.6/dist-packages (12.0.0)\n",
            "Requirement already satisfied: setuptools>=1.0 in /usr/local/lib/python3.6/dist-packages (from workalendar) (50.3.0)\n",
            "Requirement already satisfied: lunardate in /usr/local/lib/python3.6/dist-packages (from workalendar) (0.2.0)\n",
            "Requirement already satisfied: python-dateutil in /usr/local/lib/python3.6/dist-packages (from workalendar) (2.8.1)\n",
            "Requirement already satisfied: pyluach in /usr/local/lib/python3.6/dist-packages (from workalendar) (1.1.1)\n",
            "Requirement already satisfied: pyCalverter in /usr/local/lib/python3.6/dist-packages (from workalendar) (1.6.1)\n",
            "Requirement already satisfied: skyfield-data in /usr/local/lib/python3.6/dist-packages (from workalendar) (1.1.0)\n",
            "Requirement already satisfied: pytz in /usr/local/lib/python3.6/dist-packages (from workalendar) (2018.9)\n",
            "Requirement already satisfied: skyfield in /usr/local/lib/python3.6/dist-packages (from workalendar) (1.29)\n",
            "Requirement already satisfied: six>=1.5 in /usr/local/lib/python3.6/dist-packages (from python-dateutil->workalendar) (1.15.0)\n",
            "Requirement already satisfied: jplephem>=2.13 in /usr/local/lib/python3.6/dist-packages (from skyfield->workalendar) (2.15)\n",
            "Requirement already satisfied: numpy in /usr/local/lib/python3.6/dist-packages (from skyfield->workalendar) (1.18.5)\n",
            "Requirement already satisfied: sgp4>=2.2 in /usr/local/lib/python3.6/dist-packages (from skyfield->workalendar) (2.12)\n",
            "Requirement already satisfied: certifi>=2017.4.17 in /usr/local/lib/python3.6/dist-packages (from skyfield->workalendar) (2020.6.20)\n",
            "토요일\n"
          ],
          "name": "stdout"
        }
      ]
    },
    {
      "cell_type": "code",
      "metadata": {
        "id": "VEw0DesC_8Vm",
        "outputId": "3ced7576-568e-4f06-f9bd-2e896346045c",
        "colab": {
          "base_uri": "https://localhost:8080/",
          "height": 35
        }
      },
      "source": [
        "# 출처: https://zamezzz.tistory.com/279 [배워가는블로거]\n",
        "# Holiday Parameter\n",
        "\n",
        "national_holidays=['2019-10-09','2019-12-25','2020-01-01','2020-01-24','2020-01-25','2020-01-26','2020-03-01','2020-04-30','2020-05-05','2020-06-06','2020-08-15','2020-08-17']\n",
        "\n",
        "\n",
        "nationalHolidays = pd.DataFrame({\n",
        "\n",
        "  'holiday': 'nationalHolidays',\n",
        "\n",
        "  'ds': pd.to_datetime(['2019-10-09','2019-12-25','2020-01-01','2020-01-24','2020-01-25','2020-01-26','2020-03-01','2020-04-30','2020-05-05','2020-06-06','2020-08-15','2020-08-17']),\n",
        "  'lower_window': -1,\n",
        "  'upper_window': 0,\n",
        "})\n",
        "\n",
        "\n",
        "'''\n",
        "updatedays = pd.DataFrame({\n",
        "\n",
        "  'holiday': 'updatedays',\n",
        "\n",
        "  'ds': pd.to_datetime(['2018-01-01','',....]),\n",
        "\n",
        "  'lower_window': 0,\n",
        "\n",
        "  'upper_window': 1\n",
        "\n",
        "})\n",
        "'''\n",
        "\n"
      ],
      "execution_count": 17,
      "outputs": [
        {
          "output_type": "execute_result",
          "data": {
            "application/vnd.google.colaboratory.intrinsic+json": {
              "type": "string"
            },
            "text/plain": [
              "\"\\nupdatedays = pd.DataFrame({\\n\\n  'holiday': 'updatedays',\\n\\n  'ds': pd.to_datetime(['2018-01-01','',....]),\\n\\n  'lower_window': 0,\\n\\n  'upper_window': 1\\n\\n})\\n\""
            ]
          },
          "metadata": {
            "tags": []
          },
          "execution_count": 17
        }
      ]
    },
    {
      "cell_type": "code",
      "metadata": {
        "id": "ZPOpw1jh71CQ"
      },
      "source": [
        "from fbprophet import Prophet\n",
        "from fbprophet import Prophet\n",
        "from fbprophet.diagnostics import cross_validation\n",
        "from fbprophet.diagnostics import performance_metrics\n",
        "from fbprophet.plot import plot_cross_validation_metric\n",
        "from fbprophet.plot import add_changepoints_to_plot\n",
        "import itertools\n",
        "\n",
        "# https://hyperconnect.github.io/2020/03/09/prophet-package.html 참고하여 parameter 조정\n",
        "# https://zzsza.github.io/data/2019/02/06/prophet/ 참고 "
      ],
      "execution_count": 18,
      "outputs": []
    },
    {
      "cell_type": "code",
      "metadata": {
        "id": "ZxJRO8HD7prC"
      },
      "source": [
        "# cp = ARIMA로부터 추정된 changingpoint 리스트 \n",
        "'''\n",
        "cp=['2020-08-07',\n",
        " '2020-08-11',\n",
        " '2020-08-12',\n",
        " '2020-08-13',\n",
        " '2020-08-18',\n",
        " '2020-08-19',\n",
        " '2020-08-20',\n",
        " '2020-08-21',\n",
        " '2020-08-26',\n",
        " '2020-08-28',\n",
        " '2020-08-31',\n",
        " '2020-09-02',\n",
        " '2020-09-03',\n",
        " '2020-09-07',\n",
        " '2020-09-08',\n",
        " '2020-09-15',\n",
        " '2020-09-16',\n",
        " '2020-09-17']\n",
        "'''\n",
        "cp=['2020-08-11',\n",
        " '2020-08-12',\n",
        " '2020-08-13',\n",
        " '2020-08-18',\n",
        " '2020-08-19',\n",
        " '2020-08-20',\n",
        " '2020-08-26',\n",
        " '2020-08-28',\n",
        " '2020-08-31',\n",
        " '2020-09-02',\n",
        " '2020-09-03',\n",
        " '2020-09-07',\n",
        " '2020-09-08',\n",
        " '2020-09-17']    # 트레져 앨범 발매일\n"
      ],
      "execution_count": 19,
      "outputs": []
    },
    {
      "cell_type": "code",
      "metadata": {
        "id": "pQeCHysTwoEk",
        "outputId": "91aae206-b9b1-465a-b9f0-9f8e2180421e",
        "colab": {
          "base_uri": "https://localhost:8080/",
          "height": 402
        }
      },
      "source": [
        "train_copy=copy.deepcopy(train_data)\n",
        "train_copy['y']=train_copy['y']*0.001          # scale 변화를 더 크게 하기위해 1000으로 나눠줌\n",
        "train_copy['cap']=train_copy['cap']*0.001\n",
        "train_copy['floor']=train_copy['floor']*0.001\n",
        "train_copy"
      ],
      "execution_count": 45,
      "outputs": [
        {
          "output_type": "execute_result",
          "data": {
            "text/html": [
              "<div>\n",
              "<style scoped>\n",
              "    .dataframe tbody tr th:only-of-type {\n",
              "        vertical-align: middle;\n",
              "    }\n",
              "\n",
              "    .dataframe tbody tr th {\n",
              "        vertical-align: top;\n",
              "    }\n",
              "\n",
              "    .dataframe thead th {\n",
              "        text-align: right;\n",
              "    }\n",
              "</style>\n",
              "<table border=\"1\" class=\"dataframe\">\n",
              "  <thead>\n",
              "    <tr style=\"text-align: right;\">\n",
              "      <th></th>\n",
              "      <th>ds</th>\n",
              "      <th>y</th>\n",
              "      <th>cap</th>\n",
              "      <th>floor</th>\n",
              "    </tr>\n",
              "  </thead>\n",
              "  <tbody>\n",
              "    <tr>\n",
              "      <th>0</th>\n",
              "      <td>2019-10-08</td>\n",
              "      <td>23.80</td>\n",
              "      <td>30.940</td>\n",
              "      <td>16.660</td>\n",
              "    </tr>\n",
              "    <tr>\n",
              "      <th>1</th>\n",
              "      <td>2019-10-10</td>\n",
              "      <td>23.55</td>\n",
              "      <td>30.940</td>\n",
              "      <td>16.660</td>\n",
              "    </tr>\n",
              "    <tr>\n",
              "      <th>2</th>\n",
              "      <td>2019-10-11</td>\n",
              "      <td>23.95</td>\n",
              "      <td>30.615</td>\n",
              "      <td>16.485</td>\n",
              "    </tr>\n",
              "    <tr>\n",
              "      <th>3</th>\n",
              "      <td>2019-10-14</td>\n",
              "      <td>25.65</td>\n",
              "      <td>31.135</td>\n",
              "      <td>16.765</td>\n",
              "    </tr>\n",
              "    <tr>\n",
              "      <th>4</th>\n",
              "      <td>2019-10-15</td>\n",
              "      <td>26.00</td>\n",
              "      <td>33.345</td>\n",
              "      <td>17.955</td>\n",
              "    </tr>\n",
              "    <tr>\n",
              "      <th>...</th>\n",
              "      <td>...</td>\n",
              "      <td>...</td>\n",
              "      <td>...</td>\n",
              "      <td>...</td>\n",
              "    </tr>\n",
              "    <tr>\n",
              "      <th>233</th>\n",
              "      <td>2020-09-14</td>\n",
              "      <td>58.00</td>\n",
              "      <td>76.310</td>\n",
              "      <td>41.090</td>\n",
              "    </tr>\n",
              "    <tr>\n",
              "      <th>234</th>\n",
              "      <td>2020-09-15</td>\n",
              "      <td>58.00</td>\n",
              "      <td>75.400</td>\n",
              "      <td>40.600</td>\n",
              "    </tr>\n",
              "    <tr>\n",
              "      <th>235</th>\n",
              "      <td>2020-09-16</td>\n",
              "      <td>58.30</td>\n",
              "      <td>75.400</td>\n",
              "      <td>40.600</td>\n",
              "    </tr>\n",
              "    <tr>\n",
              "      <th>236</th>\n",
              "      <td>2020-09-17</td>\n",
              "      <td>56.30</td>\n",
              "      <td>75.790</td>\n",
              "      <td>40.810</td>\n",
              "    </tr>\n",
              "    <tr>\n",
              "      <th>237</th>\n",
              "      <td>2020-09-18</td>\n",
              "      <td>58.00</td>\n",
              "      <td>73.190</td>\n",
              "      <td>39.410</td>\n",
              "    </tr>\n",
              "  </tbody>\n",
              "</table>\n",
              "<p>238 rows × 4 columns</p>\n",
              "</div>"
            ],
            "text/plain": [
              "            ds      y     cap   floor\n",
              "0   2019-10-08  23.80  30.940  16.660\n",
              "1   2019-10-10  23.55  30.940  16.660\n",
              "2   2019-10-11  23.95  30.615  16.485\n",
              "3   2019-10-14  25.65  31.135  16.765\n",
              "4   2019-10-15  26.00  33.345  17.955\n",
              "..         ...    ...     ...     ...\n",
              "233 2020-09-14  58.00  76.310  41.090\n",
              "234 2020-09-15  58.00  75.400  40.600\n",
              "235 2020-09-16  58.30  75.400  40.600\n",
              "236 2020-09-17  56.30  75.790  40.810\n",
              "237 2020-09-18  58.00  73.190  39.410\n",
              "\n",
              "[238 rows x 4 columns]"
            ]
          },
          "metadata": {
            "tags": []
          },
          "execution_count": 45
        }
      ]
    },
    {
      "cell_type": "code",
      "metadata": {
        "id": "dvGr5e-G725n",
        "outputId": "9997929f-6a69-42ec-c28c-4cff18e986ad",
        "colab": {
          "base_uri": "https://localhost:8080/",
          "height": 229
        }
      },
      "source": [
        "import random\n",
        "random.seed(100)\n",
        "\n",
        "from tqdm import tqdm_notebook as tqdm\n",
        "from time import sleep \n",
        "\n",
        "for i in tqdm(range(len(test)),desc='tqdm'):\n",
        "  m=Prophet(                growth = 'logistic',\n",
        "                            daily_seasonality = True,\n",
        "                            weekly_seasonality = 'auto',\n",
        "                            yearly_seasonality = False,\n",
        "                            changepoints=cp,            # \n",
        "                            changepoint_prior_scale=0.4,           # changepoint_prior_scale : 0.05 (default)\n",
        "                            changepoint_range=0.9,                 # changepoint_range : 0.8 (default)        \n",
        "                            holidays=nationalHolidays)             # \n",
        "  m.fit(train_copy)\n",
        "\n",
        "  #future=pd.DataFrame({'ds': test.index[i]})\n",
        "  future =  m.make_future_dataframe(periods=1,freq='D')\n",
        "\n",
        "  future['cap'] = train_copy['cap'].append(round(pd.Series(train_copy['y'].values[-1]*(1+limit_percentage/100)),3),ignore_index=True)\n",
        "  future['floor'] = train_copy['floor'].append(round(pd.Series(train_copy['y'].values[-1]*(1-limit_percentage/100)),3),ignore_index=True)\n",
        "  future.fillna(method='bfill', inplace=True)\n",
        "  \n",
        "  forecast = m.predict(future)\n",
        "  train_copy=copy.deepcopy(forecast)\n",
        "  train_copy=forecast[['ds','yhat','yhat_upper','yhat_lower']]\n",
        "  train_copy=train_copy.rename(columns={'ds':'ds','yhat':'y','yhat_upper':'cap','yhat_lower':'floor'})\n",
        "\n",
        "  print('Error : ',(test['종가'][i]-(list(train_copy['y'])[-1]*1000)),' / yhat : ',list(train_copy['y'])[-1]*1000,' / y : ',test['종가'][i],' / y_고가 : ',test['고가'][i],' / y_저가 : ',test['저가'][i])\n",
        "  #print(train_copy.tail(10))\n",
        "  #print()\n"
      ],
      "execution_count": 46,
      "outputs": [
        {
          "output_type": "display_data",
          "data": {
            "text/html": [
              "<div style=\"display:flex;flex-direction:row;\"><span>tqdm</span><progress style='margin:2px 4px;description_width:initial;' max='10' value='10'></progress>100% 10/10 [00:24&lt;00:00,  2.47s/it]</div>"
            ],
            "text/plain": [
              "<tqdm._fake_ipywidgets.HBox object>"
            ]
          },
          "metadata": {
            "tags": []
          }
        },
        {
          "output_type": "stream",
          "text": [
            "Error :  -2867.6863157994376  / yhat :  58467.68631579944  / y :  55600  / y_고가 :  58200  / y_저가 :  55500\n",
            "Error :  -2878.1360738380317  / yhat :  58078.13607383803  / y :  55200  / y_고가 :  56600  / y_저가 :  54500\n",
            "Error :  -1606.1744390293388  / yhat :  57506.17443902934  / y :  55900  / y_고가 :  56400  / y_저가 :  52500\n",
            "Error :  -5607.570858949002  / yhat :  57507.570858949  / y :  51900  / y_고가 :  55600  / y_저가 :  51800\n",
            "Error :  -6614.196577536983  / yhat :  57514.19657753698  / y :  50900  / y_고가 :  52900  / y_저가 :  49400\n",
            "Error :  -495.6690655323837  / yhat :  57495.669065532384  / y :  57000  / y_고가 :  57500  / y_저가 :  51800\n",
            "Error :  486.9617596313692  / yhat :  57513.03824036863  / y :  58000  / y_고가 :  58000  / y_저가 :  54900\n",
            "Error :  -5114.734433233018  / yhat :  57614.73443323302  / y :  52500  / y_고가 :  57400  / y_저가 :  51800\n",
            "Error :  -6207.664332104636  / yhat :  57707.664332104636  / y :  51500  / y_고가 :  53200  / y_저가 :  50200\n",
            "Error :  -6238.958864584405  / yhat :  57838.958864584405  / y :  51600  / y_고가 :  52700  / y_저가 :  51200\n",
            "\n"
          ],
          "name": "stdout"
        }
      ]
    },
    {
      "cell_type": "code",
      "metadata": {
        "id": "iSxvGFslzgMp"
      },
      "source": [
        "ds_index=[0]\n",
        "forecast=forecast.iloc[:, ~forecast.columns.isin(forecast.columns[ds_index])]*1000   #  날짜를 나타내는 열인 'ds'를 제외한 다른 열들에 1000을 곱해줌\n",
        "forecast['ds']=train_copy['ds']\n",
        "forecast=forecast[['ds','trend',\t'cap',\t'floor',\t'yhat_lower',\t'yhat_upper',\t'trend_lower',\t'trend_upper',\t'additive_terms',\t'additive_terms_lower',\t'additive_terms_upper',\t'daily','daily_lower',\t'daily_upper',\t'holidays',\t'holidays_lower',\t'holidays_upper',\t'nationalHolidays',\t'nationalHolidays_lower',\t'nationalHolidays_upper',\t'weekly',\t'weekly_lower',\t'weekly_upper',\t'multiplicative_terms',\t'multiplicative_terms_lower',\t'multiplicative_terms_upper',\t'yhat']]"
      ],
      "execution_count": 47,
      "outputs": []
    },
    {
      "cell_type": "code",
      "metadata": {
        "id": "5284yNv32kju",
        "outputId": "beddb75b-97f2-4d70-964a-0ab013b42237",
        "colab": {
          "base_uri": "https://localhost:8080/",
          "height": 343
        }
      },
      "source": [
        "forecast[['ds','yhat','yhat_lower','yhat_upper']].tail(10)"
      ],
      "execution_count": 48,
      "outputs": [
        {
          "output_type": "execute_result",
          "data": {
            "text/html": [
              "<div>\n",
              "<style scoped>\n",
              "    .dataframe tbody tr th:only-of-type {\n",
              "        vertical-align: middle;\n",
              "    }\n",
              "\n",
              "    .dataframe tbody tr th {\n",
              "        vertical-align: top;\n",
              "    }\n",
              "\n",
              "    .dataframe thead th {\n",
              "        text-align: right;\n",
              "    }\n",
              "</style>\n",
              "<table border=\"1\" class=\"dataframe\">\n",
              "  <thead>\n",
              "    <tr style=\"text-align: right;\">\n",
              "      <th></th>\n",
              "      <th>ds</th>\n",
              "      <th>yhat</th>\n",
              "      <th>yhat_lower</th>\n",
              "      <th>yhat_upper</th>\n",
              "    </tr>\n",
              "  </thead>\n",
              "  <tbody>\n",
              "    <tr>\n",
              "      <th>238</th>\n",
              "      <td>2020-09-19</td>\n",
              "      <td>58467.717213</td>\n",
              "      <td>58467.717213</td>\n",
              "      <td>58467.717213</td>\n",
              "    </tr>\n",
              "    <tr>\n",
              "      <th>239</th>\n",
              "      <td>2020-09-20</td>\n",
              "      <td>58078.123743</td>\n",
              "      <td>58078.123743</td>\n",
              "      <td>58078.123743</td>\n",
              "    </tr>\n",
              "    <tr>\n",
              "      <th>240</th>\n",
              "      <td>2020-09-21</td>\n",
              "      <td>57506.201719</td>\n",
              "      <td>57506.201719</td>\n",
              "      <td>57506.201719</td>\n",
              "    </tr>\n",
              "    <tr>\n",
              "      <th>241</th>\n",
              "      <td>2020-09-22</td>\n",
              "      <td>57507.571565</td>\n",
              "      <td>57507.571565</td>\n",
              "      <td>57507.571565</td>\n",
              "    </tr>\n",
              "    <tr>\n",
              "      <th>242</th>\n",
              "      <td>2020-09-23</td>\n",
              "      <td>57514.196679</td>\n",
              "      <td>57514.196679</td>\n",
              "      <td>57514.196679</td>\n",
              "    </tr>\n",
              "    <tr>\n",
              "      <th>243</th>\n",
              "      <td>2020-09-24</td>\n",
              "      <td>57495.669067</td>\n",
              "      <td>57495.669067</td>\n",
              "      <td>57495.669067</td>\n",
              "    </tr>\n",
              "    <tr>\n",
              "      <th>244</th>\n",
              "      <td>2020-09-25</td>\n",
              "      <td>57513.038240</td>\n",
              "      <td>57513.038240</td>\n",
              "      <td>57513.038240</td>\n",
              "    </tr>\n",
              "    <tr>\n",
              "      <th>245</th>\n",
              "      <td>2020-09-26</td>\n",
              "      <td>57614.734433</td>\n",
              "      <td>57614.734433</td>\n",
              "      <td>57614.734433</td>\n",
              "    </tr>\n",
              "    <tr>\n",
              "      <th>246</th>\n",
              "      <td>2020-09-27</td>\n",
              "      <td>57707.664332</td>\n",
              "      <td>57707.664332</td>\n",
              "      <td>57707.664332</td>\n",
              "    </tr>\n",
              "    <tr>\n",
              "      <th>247</th>\n",
              "      <td>2020-09-28</td>\n",
              "      <td>57838.958865</td>\n",
              "      <td>57838.958865</td>\n",
              "      <td>57838.958865</td>\n",
              "    </tr>\n",
              "  </tbody>\n",
              "</table>\n",
              "</div>"
            ],
            "text/plain": [
              "            ds          yhat    yhat_lower    yhat_upper\n",
              "238 2020-09-19  58467.717213  58467.717213  58467.717213\n",
              "239 2020-09-20  58078.123743  58078.123743  58078.123743\n",
              "240 2020-09-21  57506.201719  57506.201719  57506.201719\n",
              "241 2020-09-22  57507.571565  57507.571565  57507.571565\n",
              "242 2020-09-23  57514.196679  57514.196679  57514.196679\n",
              "243 2020-09-24  57495.669067  57495.669067  57495.669067\n",
              "244 2020-09-25  57513.038240  57513.038240  57513.038240\n",
              "245 2020-09-26  57614.734433  57614.734433  57614.734433\n",
              "246 2020-09-27  57707.664332  57707.664332  57707.664332\n",
              "247 2020-09-28  57838.958865  57838.958865  57838.958865"
            ]
          },
          "metadata": {
            "tags": []
          },
          "execution_count": 48
        }
      ]
    },
    {
      "cell_type": "code",
      "metadata": {
        "id": "ea2lZnpT64JJ",
        "outputId": "4533401f-75e3-47be-aba4-7604a4c0d7ef",
        "colab": {
          "base_uri": "https://localhost:8080/",
          "height": 531
        }
      },
      "source": [
        "result_pred=forecast[-len(test):]\n",
        "result_pred"
      ],
      "execution_count": 49,
      "outputs": [
        {
          "output_type": "execute_result",
          "data": {
            "text/html": [
              "<div>\n",
              "<style scoped>\n",
              "    .dataframe tbody tr th:only-of-type {\n",
              "        vertical-align: middle;\n",
              "    }\n",
              "\n",
              "    .dataframe tbody tr th {\n",
              "        vertical-align: top;\n",
              "    }\n",
              "\n",
              "    .dataframe thead th {\n",
              "        text-align: right;\n",
              "    }\n",
              "</style>\n",
              "<table border=\"1\" class=\"dataframe\">\n",
              "  <thead>\n",
              "    <tr style=\"text-align: right;\">\n",
              "      <th></th>\n",
              "      <th>ds</th>\n",
              "      <th>trend</th>\n",
              "      <th>cap</th>\n",
              "      <th>floor</th>\n",
              "      <th>yhat_lower</th>\n",
              "      <th>yhat_upper</th>\n",
              "      <th>trend_lower</th>\n",
              "      <th>trend_upper</th>\n",
              "      <th>additive_terms</th>\n",
              "      <th>additive_terms_lower</th>\n",
              "      <th>additive_terms_upper</th>\n",
              "      <th>daily</th>\n",
              "      <th>daily_lower</th>\n",
              "      <th>daily_upper</th>\n",
              "      <th>holidays</th>\n",
              "      <th>holidays_lower</th>\n",
              "      <th>holidays_upper</th>\n",
              "      <th>nationalHolidays</th>\n",
              "      <th>nationalHolidays_lower</th>\n",
              "      <th>nationalHolidays_upper</th>\n",
              "      <th>weekly</th>\n",
              "      <th>weekly_lower</th>\n",
              "      <th>weekly_upper</th>\n",
              "      <th>multiplicative_terms</th>\n",
              "      <th>multiplicative_terms_lower</th>\n",
              "      <th>multiplicative_terms_upper</th>\n",
              "      <th>yhat</th>\n",
              "    </tr>\n",
              "  </thead>\n",
              "  <tbody>\n",
              "    <tr>\n",
              "      <th>238</th>\n",
              "      <td>2020-09-19</td>\n",
              "      <td>58467.717213</td>\n",
              "      <td>58467.717213</td>\n",
              "      <td>58467.717213</td>\n",
              "      <td>58467.717213</td>\n",
              "      <td>58467.717213</td>\n",
              "      <td>58467.717213</td>\n",
              "      <td>58467.717213</td>\n",
              "      <td>3.822456e-11</td>\n",
              "      <td>3.822456e-11</td>\n",
              "      <td>3.822456e-11</td>\n",
              "      <td>4.197519e-11</td>\n",
              "      <td>4.197519e-11</td>\n",
              "      <td>4.197519e-11</td>\n",
              "      <td>0.0</td>\n",
              "      <td>0.0</td>\n",
              "      <td>0.0</td>\n",
              "      <td>0.0</td>\n",
              "      <td>0.0</td>\n",
              "      <td>0.0</td>\n",
              "      <td>-3.750624e-12</td>\n",
              "      <td>-3.750624e-12</td>\n",
              "      <td>-3.750624e-12</td>\n",
              "      <td>0.0</td>\n",
              "      <td>0.0</td>\n",
              "      <td>0.0</td>\n",
              "      <td>58467.717213</td>\n",
              "    </tr>\n",
              "    <tr>\n",
              "      <th>239</th>\n",
              "      <td>2020-09-20</td>\n",
              "      <td>58078.123743</td>\n",
              "      <td>58078.123743</td>\n",
              "      <td>58078.123743</td>\n",
              "      <td>58078.123743</td>\n",
              "      <td>58078.123743</td>\n",
              "      <td>58078.123743</td>\n",
              "      <td>58078.123743</td>\n",
              "      <td>3.432233e-11</td>\n",
              "      <td>3.432233e-11</td>\n",
              "      <td>3.432233e-11</td>\n",
              "      <td>4.197519e-11</td>\n",
              "      <td>4.197519e-11</td>\n",
              "      <td>4.197519e-11</td>\n",
              "      <td>0.0</td>\n",
              "      <td>0.0</td>\n",
              "      <td>0.0</td>\n",
              "      <td>0.0</td>\n",
              "      <td>0.0</td>\n",
              "      <td>0.0</td>\n",
              "      <td>-7.652860e-12</td>\n",
              "      <td>-7.652860e-12</td>\n",
              "      <td>-7.652860e-12</td>\n",
              "      <td>0.0</td>\n",
              "      <td>0.0</td>\n",
              "      <td>0.0</td>\n",
              "      <td>58078.123743</td>\n",
              "    </tr>\n",
              "    <tr>\n",
              "      <th>240</th>\n",
              "      <td>2020-09-21</td>\n",
              "      <td>57506.201719</td>\n",
              "      <td>57506.201719</td>\n",
              "      <td>57506.201719</td>\n",
              "      <td>57506.201719</td>\n",
              "      <td>57506.201719</td>\n",
              "      <td>57506.201719</td>\n",
              "      <td>57506.201719</td>\n",
              "      <td>6.293953e-11</td>\n",
              "      <td>6.293953e-11</td>\n",
              "      <td>6.293953e-11</td>\n",
              "      <td>4.197519e-11</td>\n",
              "      <td>4.197519e-11</td>\n",
              "      <td>4.197519e-11</td>\n",
              "      <td>0.0</td>\n",
              "      <td>0.0</td>\n",
              "      <td>0.0</td>\n",
              "      <td>0.0</td>\n",
              "      <td>0.0</td>\n",
              "      <td>0.0</td>\n",
              "      <td>2.096434e-11</td>\n",
              "      <td>2.096434e-11</td>\n",
              "      <td>2.096434e-11</td>\n",
              "      <td>0.0</td>\n",
              "      <td>0.0</td>\n",
              "      <td>0.0</td>\n",
              "      <td>57506.201719</td>\n",
              "    </tr>\n",
              "    <tr>\n",
              "      <th>241</th>\n",
              "      <td>2020-09-22</td>\n",
              "      <td>57507.571565</td>\n",
              "      <td>57507.571565</td>\n",
              "      <td>57507.571565</td>\n",
              "      <td>57507.571565</td>\n",
              "      <td>57507.571565</td>\n",
              "      <td>57507.571565</td>\n",
              "      <td>57507.571565</td>\n",
              "      <td>8.152403e-11</td>\n",
              "      <td>8.152403e-11</td>\n",
              "      <td>8.152403e-11</td>\n",
              "      <td>4.197519e-11</td>\n",
              "      <td>4.197519e-11</td>\n",
              "      <td>4.197519e-11</td>\n",
              "      <td>0.0</td>\n",
              "      <td>0.0</td>\n",
              "      <td>0.0</td>\n",
              "      <td>0.0</td>\n",
              "      <td>0.0</td>\n",
              "      <td>0.0</td>\n",
              "      <td>3.954885e-11</td>\n",
              "      <td>3.954885e-11</td>\n",
              "      <td>3.954885e-11</td>\n",
              "      <td>0.0</td>\n",
              "      <td>0.0</td>\n",
              "      <td>0.0</td>\n",
              "      <td>57507.571565</td>\n",
              "    </tr>\n",
              "    <tr>\n",
              "      <th>242</th>\n",
              "      <td>2020-09-23</td>\n",
              "      <td>57514.196679</td>\n",
              "      <td>57514.196679</td>\n",
              "      <td>57514.196679</td>\n",
              "      <td>57514.196679</td>\n",
              "      <td>57514.196679</td>\n",
              "      <td>57514.196679</td>\n",
              "      <td>57514.196679</td>\n",
              "      <td>5.539212e-11</td>\n",
              "      <td>5.539212e-11</td>\n",
              "      <td>5.539212e-11</td>\n",
              "      <td>4.197519e-11</td>\n",
              "      <td>4.197519e-11</td>\n",
              "      <td>4.197519e-11</td>\n",
              "      <td>0.0</td>\n",
              "      <td>0.0</td>\n",
              "      <td>0.0</td>\n",
              "      <td>0.0</td>\n",
              "      <td>0.0</td>\n",
              "      <td>0.0</td>\n",
              "      <td>1.341694e-11</td>\n",
              "      <td>1.341694e-11</td>\n",
              "      <td>1.341694e-11</td>\n",
              "      <td>0.0</td>\n",
              "      <td>0.0</td>\n",
              "      <td>0.0</td>\n",
              "      <td>57514.196679</td>\n",
              "    </tr>\n",
              "    <tr>\n",
              "      <th>243</th>\n",
              "      <td>2020-09-24</td>\n",
              "      <td>57495.669067</td>\n",
              "      <td>57495.669067</td>\n",
              "      <td>57495.669067</td>\n",
              "      <td>57495.669067</td>\n",
              "      <td>57495.669067</td>\n",
              "      <td>57495.669067</td>\n",
              "      <td>57495.669067</td>\n",
              "      <td>8.253897e-12</td>\n",
              "      <td>8.253897e-12</td>\n",
              "      <td>8.253897e-12</td>\n",
              "      <td>4.197519e-11</td>\n",
              "      <td>4.197519e-11</td>\n",
              "      <td>4.197519e-11</td>\n",
              "      <td>0.0</td>\n",
              "      <td>0.0</td>\n",
              "      <td>0.0</td>\n",
              "      <td>0.0</td>\n",
              "      <td>0.0</td>\n",
              "      <td>0.0</td>\n",
              "      <td>-3.372129e-11</td>\n",
              "      <td>-3.372129e-11</td>\n",
              "      <td>-3.372129e-11</td>\n",
              "      <td>0.0</td>\n",
              "      <td>0.0</td>\n",
              "      <td>0.0</td>\n",
              "      <td>57495.669067</td>\n",
              "    </tr>\n",
              "    <tr>\n",
              "      <th>244</th>\n",
              "      <td>2020-09-25</td>\n",
              "      <td>57513.038240</td>\n",
              "      <td>57513.038240</td>\n",
              "      <td>57513.038240</td>\n",
              "      <td>57513.038240</td>\n",
              "      <td>57513.038240</td>\n",
              "      <td>57513.038240</td>\n",
              "      <td>57513.038240</td>\n",
              "      <td>1.316984e-11</td>\n",
              "      <td>1.316984e-11</td>\n",
              "      <td>1.316984e-11</td>\n",
              "      <td>4.197519e-11</td>\n",
              "      <td>4.197519e-11</td>\n",
              "      <td>4.197519e-11</td>\n",
              "      <td>0.0</td>\n",
              "      <td>0.0</td>\n",
              "      <td>0.0</td>\n",
              "      <td>0.0</td>\n",
              "      <td>0.0</td>\n",
              "      <td>0.0</td>\n",
              "      <td>-2.880535e-11</td>\n",
              "      <td>-2.880535e-11</td>\n",
              "      <td>-2.880535e-11</td>\n",
              "      <td>0.0</td>\n",
              "      <td>0.0</td>\n",
              "      <td>0.0</td>\n",
              "      <td>57513.038240</td>\n",
              "    </tr>\n",
              "    <tr>\n",
              "      <th>245</th>\n",
              "      <td>2020-09-26</td>\n",
              "      <td>57614.734433</td>\n",
              "      <td>57614.734433</td>\n",
              "      <td>57614.734433</td>\n",
              "      <td>57614.734433</td>\n",
              "      <td>57614.734433</td>\n",
              "      <td>57614.734433</td>\n",
              "      <td>57614.734433</td>\n",
              "      <td>3.822456e-11</td>\n",
              "      <td>3.822456e-11</td>\n",
              "      <td>3.822456e-11</td>\n",
              "      <td>4.197519e-11</td>\n",
              "      <td>4.197519e-11</td>\n",
              "      <td>4.197519e-11</td>\n",
              "      <td>0.0</td>\n",
              "      <td>0.0</td>\n",
              "      <td>0.0</td>\n",
              "      <td>0.0</td>\n",
              "      <td>0.0</td>\n",
              "      <td>0.0</td>\n",
              "      <td>-3.750624e-12</td>\n",
              "      <td>-3.750624e-12</td>\n",
              "      <td>-3.750624e-12</td>\n",
              "      <td>0.0</td>\n",
              "      <td>0.0</td>\n",
              "      <td>0.0</td>\n",
              "      <td>57614.734433</td>\n",
              "    </tr>\n",
              "    <tr>\n",
              "      <th>246</th>\n",
              "      <td>2020-09-27</td>\n",
              "      <td>57707.664332</td>\n",
              "      <td>57707.664332</td>\n",
              "      <td>57707.664332</td>\n",
              "      <td>57707.664332</td>\n",
              "      <td>57707.664332</td>\n",
              "      <td>57707.664332</td>\n",
              "      <td>57707.664332</td>\n",
              "      <td>3.432233e-11</td>\n",
              "      <td>3.432233e-11</td>\n",
              "      <td>3.432233e-11</td>\n",
              "      <td>4.197519e-11</td>\n",
              "      <td>4.197519e-11</td>\n",
              "      <td>4.197519e-11</td>\n",
              "      <td>0.0</td>\n",
              "      <td>0.0</td>\n",
              "      <td>0.0</td>\n",
              "      <td>0.0</td>\n",
              "      <td>0.0</td>\n",
              "      <td>0.0</td>\n",
              "      <td>-7.652860e-12</td>\n",
              "      <td>-7.652860e-12</td>\n",
              "      <td>-7.652860e-12</td>\n",
              "      <td>0.0</td>\n",
              "      <td>0.0</td>\n",
              "      <td>0.0</td>\n",
              "      <td>57707.664332</td>\n",
              "    </tr>\n",
              "    <tr>\n",
              "      <th>247</th>\n",
              "      <td>2020-09-28</td>\n",
              "      <td>57838.958865</td>\n",
              "      <td>75020.000000</td>\n",
              "      <td>40395.000000</td>\n",
              "      <td>57838.958865</td>\n",
              "      <td>57838.958865</td>\n",
              "      <td>57838.958865</td>\n",
              "      <td>57838.958865</td>\n",
              "      <td>6.293953e-11</td>\n",
              "      <td>6.293953e-11</td>\n",
              "      <td>6.293953e-11</td>\n",
              "      <td>4.197519e-11</td>\n",
              "      <td>4.197519e-11</td>\n",
              "      <td>4.197519e-11</td>\n",
              "      <td>0.0</td>\n",
              "      <td>0.0</td>\n",
              "      <td>0.0</td>\n",
              "      <td>0.0</td>\n",
              "      <td>0.0</td>\n",
              "      <td>0.0</td>\n",
              "      <td>2.096434e-11</td>\n",
              "      <td>2.096434e-11</td>\n",
              "      <td>2.096434e-11</td>\n",
              "      <td>0.0</td>\n",
              "      <td>0.0</td>\n",
              "      <td>0.0</td>\n",
              "      <td>57838.958865</td>\n",
              "    </tr>\n",
              "  </tbody>\n",
              "</table>\n",
              "</div>"
            ],
            "text/plain": [
              "            ds         trend  ...  multiplicative_terms_upper          yhat\n",
              "238 2020-09-19  58467.717213  ...                         0.0  58467.717213\n",
              "239 2020-09-20  58078.123743  ...                         0.0  58078.123743\n",
              "240 2020-09-21  57506.201719  ...                         0.0  57506.201719\n",
              "241 2020-09-22  57507.571565  ...                         0.0  57507.571565\n",
              "242 2020-09-23  57514.196679  ...                         0.0  57514.196679\n",
              "243 2020-09-24  57495.669067  ...                         0.0  57495.669067\n",
              "244 2020-09-25  57513.038240  ...                         0.0  57513.038240\n",
              "245 2020-09-26  57614.734433  ...                         0.0  57614.734433\n",
              "246 2020-09-27  57707.664332  ...                         0.0  57707.664332\n",
              "247 2020-09-28  57838.958865  ...                         0.0  57838.958865\n",
              "\n",
              "[10 rows x 27 columns]"
            ]
          },
          "metadata": {
            "tags": []
          },
          "execution_count": 49
        }
      ]
    },
    {
      "cell_type": "code",
      "metadata": {
        "id": "TSQgwZr6KRNd"
      },
      "source": [
        "result_pred=forecast['yhat'].tail(10)\n",
        "result_pred_df=pd.DataFrame(result_pred)\n",
        "result_pred_df.index=test.index"
      ],
      "execution_count": 50,
      "outputs": []
    },
    {
      "cell_type": "code",
      "metadata": {
        "id": "2xk9qdsQ7aqY",
        "outputId": "5df5ab6b-fcc3-423b-ad17-119d9987728d",
        "colab": {
          "base_uri": "https://localhost:8080/",
          "height": 278
        }
      },
      "source": [
        "# 실제값만 plot해서 보기\n",
        "fig = plt.figure(figsize=(12,8))\n",
        "ax1 = fig.add_subplot(211)\n",
        "ax1.plot(test['종가'],marker='o')\n",
        "ax1.plot(result_pred_df,marker='o',color='red')\n",
        "ax1.set_xlabel('Date')\n",
        "ax1.set_ylabel('Y and Yhat')\n",
        "plt.show"
      ],
      "execution_count": 51,
      "outputs": [
        {
          "output_type": "execute_result",
          "data": {
            "text/plain": [
              "<function matplotlib.pyplot.show>"
            ]
          },
          "metadata": {
            "tags": []
          },
          "execution_count": 51
        },
        {
          "output_type": "display_data",
          "data": {
            "image/png": "[encoded data removed]",
            "text/plain": [
              "<Figure size 864x576 with 1 Axes>"
            ]
          },
          "metadata": {
            "tags": [],
            "needs_background": "light"
          }
        }
      ]
    },
    {
      "cell_type": "code",
      "metadata": {
        "id": "IP9LyeQE8cY8",
        "outputId": "cc29da8f-1baf-4e37-c32d-cd239f8a6dad",
        "colab": {
          "base_uri": "https://localhost:8080/",
          "height": 392
        }
      },
      "source": [
        "# 예측값, 실제값 따로따로 보기\n",
        "fig = plt.figure(figsize=(12,6))\n",
        "ax1 = fig.add_subplot(2, 1, 1)\n",
        "ax2 = fig.add_subplot(2, 1, 2)\n",
        "ax1.plot(result_pred_df,marker='o',color='red')\n",
        "ax2.plot(test['종가'],label='실제값',marker='o')\n",
        "plt.title('예측값')"
      ],
      "execution_count": 52,
      "outputs": [
        {
          "output_type": "execute_result",
          "data": {
            "text/plain": [
              "Text(0.5, 1.0, '예측값')"
            ]
          },
          "metadata": {
            "tags": []
          },
          "execution_count": 52
        },
        {
          "output_type": "display_data",
          "data": {
            "image/png": "[encoded data removed]",
            "text/plain": [
              "<Figure size 864x432 with 2 Axes>"
            ]
          },
          "metadata": {
            "tags": [],
            "needs_background": "light"
          }
        }
      ]
    },
    {
      "cell_type": "code",
      "metadata": {
        "id": "AVRJNSXN6nhK",
        "outputId": "8259e7bc-4ff5-4226-bf32-1d59f2e4e133",
        "colab": {
          "base_uri": "https://localhost:8080/",
          "height": 53
        }
      },
      "source": [
        "'''\n",
        "fig = plt.figure(figsize=(15,12))\n",
        "ax1 = fig.add_subplot(211)\n",
        "ax1.plot(test['종가'],label='실제값')\n",
        "ax1.plot(result_pred,color='red',label='예측값')\n",
        "ax1.set_xlabel('Date')\n",
        "ax1.set_ylabel('Y')\n",
        "ax1.legend(loc='best')\n",
        "plt.show\n",
        "plt.plot(forecast['yhat'])\n",
        "'''"
      ],
      "execution_count": 28,
      "outputs": [
        {
          "output_type": "execute_result",
          "data": {
            "application/vnd.google.colaboratory.intrinsic+json": {
              "type": "string"
            },
            "text/plain": [
              "\"\\nfig = plt.figure(figsize=(15,12))\\nax1 = fig.add_subplot(211)\\nax1.plot(test['종가'],label='실제값')\\nax1.plot(result_pred,color='red',label='예측값')\\nax1.set_xlabel('Date')\\nax1.set_ylabel('Y')\\nax1.legend(loc='best')\\nplt.show\\nplt.plot(forecast['yhat'])\\n\""
            ]
          },
          "metadata": {
            "tags": []
          },
          "execution_count": 28
        }
      ]
    },
    {
      "cell_type": "code",
      "metadata": {
        "id": "nYsWf5mm8KvX"
      },
      "source": [
        "# m.plot(forecast)"
      ],
      "execution_count": 29,
      "outputs": []
    },
    {
      "cell_type": "code",
      "metadata": {
        "id": "FNbAFcI8QKOC",
        "outputId": "2477c7d8-865e-4f3e-bcce-dd3376ee8343",
        "colab": {
          "base_uri": "https://localhost:8080/",
          "height": 1000
        }
      },
      "source": [
        "m.plot_components(forecast)"
      ],
      "execution_count": 30,
      "outputs": [
        {
          "output_type": "execute_result",
          "data": {
            "image/png": "[encoded data removed]",
            "text/plain": [
              "<Figure size 648x864 with 4 Axes>"
            ]
          },
          "metadata": {
            "tags": []
          },
          "execution_count": 30
        },
        {
          "output_type": "display_data",
          "data": {
            "image/png": "[encoded data removed]",
            "text/plain": [
              "<Figure size 648x864 with 4 Axes>"
            ]
          },
          "metadata": {
            "tags": []
          }
        }
      ]
    },
    {
      "cell_type": "code",
      "metadata": {
        "id": "In0GwK5Z191i"
      },
      "source": [
        "#fig = m.plot(forecast)\n",
        "#a = add_changepoints_to_plot(fig.gca(), m, forecast)  # 빨간 실선은 트렌드"
      ],
      "execution_count": 31,
      "outputs": []
    },
    {
      "cell_type": "code",
      "metadata": {
        "id": "CI_ADwOHQP1R"
      },
      "source": [
        "#for changepoint in m.changepoints:\n",
        "#    plt.axvline(changepoint,ls='--', lw=1)"
      ],
      "execution_count": 32,
      "outputs": []
    },
    {
      "cell_type": "code",
      "metadata": {
        "id": "vi13LM-_lOuX",
        "outputId": "d871a8af-ab02-4a01-9416-de3cba8c4426",
        "colab": {
          "base_uri": "https://localhost:8080/",
          "height": 125
        }
      },
      "source": [
        "\n",
        "'''\n",
        "Parameters\n",
        "    ----------\n",
        "    growth: String 'linear' or 'logistic' to specify a linear or logistic\n",
        "        trend.\n",
        "    changepoints: List of dates at which to include potential changepoints. If\n",
        "        not specified, potential changepoints are selected automatically.\n",
        "    n_changepoints: Number of potential changepoints to include. Not used\n",
        "        if input `changepoints` is supplied. If `changepoints` is not supplied,\n",
        "        then n_changepoints potential changepoints are selected uniformly from\n",
        "        the first `changepoint_range` proportion of the history.\n",
        "    changepoint_range: Proportion of history in which trend changepoints will\n",
        "        be estimated. Defaults to 0.8 for the first 80%. Not used if\n",
        "        `changepoints` is specified.\n",
        "    yearly_seasonality: Fit yearly seasonality.\n",
        "        Can be 'auto', True, False, or a number of Fourier terms to generate.\n",
        "    weekly_seasonality: Fit weekly seasonality.\n",
        "        Can be 'auto', True, False, or a number of Fourier terms to generate.\n",
        "    daily_seasonality: Fit daily seasonality.\n",
        "        Can be 'auto', True, False, or a number of Fourier terms to generate.\n",
        "    holidays: pd.DataFrame with columns holiday (string) and ds (date type)\n",
        "        and optionally columns lower_window and upper_window which specify a\n",
        "        range of days around the date to be included as holidays.\n",
        "        lower_window=-2 will include 2 days prior to the date as holidays. Also\n",
        "        optionally can have a column prior_scale specifying the prior scale for\n",
        "        that holiday.\n",
        "    seasonality_mode: 'additive' (default) or 'multiplicative'.\n",
        "    seasonality_prior_scale: Parameter modulating the strength of the\n",
        "        seasonality model. Larger values allow the model to fit larger seasonal\n",
        "        fluctuations, smaller values dampen the seasonality. Can be specified\n",
        "        for individual seasonalities using add_seasonality.\n",
        "    holidays_prior_scale: Parameter modulating the strength of the holiday\n",
        "        components model, unless overridden in the holidays input.\n",
        "    changepoint_prior_scale: Parameter modulating the flexibility of the\n",
        "        automatic changepoint selection. Large values will allow many\n",
        "        changepoints, small values will allow few changepoints.\n",
        "    mcmc_samples: Integer, if greater than 0, will do full Bayesian inference\n",
        "        with the specified number of MCMC samples. If 0, will do MAP\n",
        "        estimation.\n",
        "    interval_width: Float, width of the uncertainty intervals provided\n",
        "        for the forecast. If mcmc_samples=0, this will be only the uncertainty\n",
        "        in the trend using the MAP estimate of the extrapolated generative\n",
        "        model. If mcmc.samples>0, this will be integrated over all model\n",
        "        parameters, which will include uncertainty in seasonality.\n",
        "    uncertainty_samples: Number of simulated draws used to estimate\n",
        "        uncertainty intervals. Settings this value to 0 or False will disable\n",
        "        uncertainty estimation and speed up the calculation.\n",
        "    stan_backend: str as defined in StanBackendEnum default: None - will try to\n",
        "        iterate over all available backends and find the working one\n",
        "    \"\"\"\n",
        "'''"
      ],
      "execution_count": 33,
      "outputs": [
        {
          "output_type": "execute_result",
          "data": {
            "application/vnd.google.colaboratory.intrinsic+json": {
              "type": "string"
            },
            "text/plain": [
              "'\\nParameters\\n    ----------\\n    growth: String \\'linear\\' or \\'logistic\\' to specify a linear or logistic\\n        trend.\\n    changepoints: List of dates at which to include potential changepoints. If\\n        not specified, potential changepoints are selected automatically.\\n    n_changepoints: Number of potential changepoints to include. Not used\\n        if input `changepoints` is supplied. If `changepoints` is not supplied,\\n        then n_changepoints potential changepoints are selected uniformly from\\n        the first `changepoint_range` proportion of the history.\\n    changepoint_range: Proportion of history in which trend changepoints will\\n        be estimated. Defaults to 0.8 for the first 80%. Not used if\\n        `changepoints` is specified.\\n    yearly_seasonality: Fit yearly seasonality.\\n        Can be \\'auto\\', True, False, or a number of Fourier terms to generate.\\n    weekly_seasonality: Fit weekly seasonality.\\n        Can be \\'auto\\', True, False, or a number of Fourier terms to generate.\\n    daily_seasonality: Fit daily seasonality.\\n        Can be \\'auto\\', True, False, or a number of Fourier terms to generate.\\n    holidays: pd.DataFrame with columns holiday (string) and ds (date type)\\n        and optionally columns lower_window and upper_window which specify a\\n        range of days around the date to be included as holidays.\\n        lower_window=-2 will include 2 days prior to the date as holidays. Also\\n        optionally can have a column prior_scale specifying the prior scale for\\n        that holiday.\\n    seasonality_mode: \\'additive\\' (default) or \\'multiplicative\\'.\\n    seasonality_prior_scale: Parameter modulating the strength of the\\n        seasonality model. Larger values allow the model to fit larger seasonal\\n        fluctuations, smaller values dampen the seasonality. Can be specified\\n        for individual seasonalities using add_seasonality.\\n    holidays_prior_scale: Parameter modulating the strength of the holiday\\n        components model, unless overridden in the holidays input.\\n    changepoint_prior_scale: Parameter modulating the flexibility of the\\n        automatic changepoint selection. Large values will allow many\\n        changepoints, small values will allow few changepoints.\\n    mcmc_samples: Integer, if greater than 0, will do full Bayesian inference\\n        with the specified number of MCMC samples. If 0, will do MAP\\n        estimation.\\n    interval_width: Float, width of the uncertainty intervals provided\\n        for the forecast. If mcmc_samples=0, this will be only the uncertainty\\n        in the trend using the MAP estimate of the extrapolated generative\\n        model. If mcmc.samples>0, this will be integrated over all model\\n        parameters, which will include uncertainty in seasonality.\\n    uncertainty_samples: Number of simulated draws used to estimate\\n        uncertainty intervals. Settings this value to 0 or False will disable\\n        uncertainty estimation and speed up the calculation.\\n    stan_backend: str as defined in StanBackendEnum default: None - will try to\\n        iterate over all available backends and find the working one\\n    \"\"\"\\n'"
            ]
          },
          "metadata": {
            "tags": []
          },
          "execution_count": 33
        }
      ]
    }
  ]
}
