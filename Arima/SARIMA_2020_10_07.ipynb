{
  "nbformat": 4,
  "nbformat_minor": 0,
  "metadata": {
    "colab": {
      "name": "SARIMA_2020-10-07",
      "provenance": [],
      "collapsed_sections": [],
      "authorship_tag": "ABX9TyNet2l4mlZJpiwXL/JJ8wID",
      "include_colab_link": true
    },
    "kernelspec": {
      "name": "python3",
      "display_name": "Python 3"
    }
  },
  "cells": [
    {
      "cell_type": "markdown",
      "metadata": {
        "id": "view-in-github",
        "colab_type": "text"
      },
      "source": [
        "<a href=\"https://colab.research.google.com/github/ejihoon6065/Project_TurnAround/blob/master/SARIMA_2020_10_07.ipynb\" target=\"_parent\"><img src=\"https://colab.research.google.com/assets/colab-badge.svg\" alt=\"Open In Colab\"/></a>"
      ]
    },
    {
      "cell_type": "code",
      "metadata": {
        "id": "x1aIshWIMpjh",
        "outputId": "ed568a1d-8e09-4055-c859-b6a4b60b2443",
        "colab": {
          "base_uri": "https://localhost:8080/"
        }
      },
      "source": [
        "import pandas as pd\n",
        "import csv\n",
        "import matplotlib as mpl\n",
        "import matplotlib.pyplot as plt\n",
        "%matplotlib inline\n",
        "import seaborn as sns\n",
        "#sns.set() # setting seaborn default for plots\n",
        "import matplotlib.font_manager as fm\n",
        "import copy\n",
        "# 그래프에서 마이너스 폰트 깨지는 문제에 대한 대처\n",
        "mpl.rcParams['axes.unicode_minus'] = False\n",
        "import numpy as np\n",
        "\n",
        "\n",
        "from scipy import stats  # Box-Cox 검정\n",
        "import statsmodels.api as sm  # qqplot\n",
        "from statsmodels.tsa.stattools import adfuller    # adfuller : ADF그래프 그려주는 함수\n",
        "from statsmodels.tsa.seasonal import seasonal_decompose\n",
        "from statsmodels.tsa.arima_model import ARIMA\n",
        "from pandas.plotting import register_matplotlib_converters\n",
        "from statsmodels.stats.diagnostic import acorr_ljungbox # Ljung-Box 검정\n",
        "\n",
        "import warnings\n",
        "warnings.filterwarnings(\"ignore\")\n",
        "\n",
        "import itertools\n",
        "\n",
        "\n",
        "# 돌리기전에, https://colab.research.google.com/drive/1oBXX3k3OOjdivwlDhpLmAqfq5B5dzFR1#scrollTo=AbTlhWommsXE 에 있는 코드도 참고 \n",
        "# https://towardsdatascience.com/stock-market-analysis-using-arima-8731ded2447a 참고"
      ],
      "execution_count": 1,
      "outputs": [
        {
          "output_type": "stream",
          "text": [
            "/usr/local/lib/python3.6/dist-packages/statsmodels/tools/_testing.py:19: FutureWarning: pandas.util.testing is deprecated. Use the functions in the public API at pandas.testing instead.\n",
            "  import pandas.util.testing as tm\n"
          ],
          "name": "stderr"
        }
      ]
    },
    {
      "cell_type": "code",
      "metadata": {
        "id": "lteXXeA2Mr1v",
        "outputId": "1b5479fd-11db-44f9-fe5b-0c270413247f",
        "colab": {
          "base_uri": "https://localhost:8080/"
        }
      },
      "source": [
        "!pip install -U pykrx  # KRX데이터를 크롤링하기 위한 라이브러리설치"
      ],
      "execution_count": 2,
      "outputs": [
        {
          "output_type": "stream",
          "text": [
            "Collecting pykrx\n",
            "\u001b[?25l  Downloading https://files.pythonhosted.org/packages/c9/12/70cc31494c9e727fa216103b674d231124fabdac6ee8a4d8f43059afbc36/pykrx-0.1.41-py3-none-any.whl (40kB)\n",
            "\u001b[K     |████████████████████████████████| 40kB 1.8MB/s \n",
            "\u001b[?25hRequirement already satisfied, skipping upgrade: numpy in /usr/local/lib/python3.6/dist-packages (from pykrx) (1.18.5)\n",
            "Requirement already satisfied, skipping upgrade: pandas in /usr/local/lib/python3.6/dist-packages (from pykrx) (1.1.2)\n",
            "Requirement already satisfied, skipping upgrade: requests in /usr/local/lib/python3.6/dist-packages (from pykrx) (2.23.0)\n",
            "Collecting datetime\n",
            "\u001b[?25l  Downloading https://files.pythonhosted.org/packages/73/22/a5297f3a1f92468cc737f8ce7ba6e5f245fcfafeae810ba37bd1039ea01c/DateTime-4.3-py2.py3-none-any.whl (60kB)\n",
            "\u001b[K     |████████████████████████████████| 61kB 3.3MB/s \n",
            "\u001b[?25hRequirement already satisfied, skipping upgrade: xlrd in /usr/local/lib/python3.6/dist-packages (from pykrx) (1.1.0)\n",
            "Requirement already satisfied, skipping upgrade: pytz>=2017.2 in /usr/local/lib/python3.6/dist-packages (from pandas->pykrx) (2018.9)\n",
            "Requirement already satisfied, skipping upgrade: python-dateutil>=2.7.3 in /usr/local/lib/python3.6/dist-packages (from pandas->pykrx) (2.8.1)\n",
            "Requirement already satisfied, skipping upgrade: idna<3,>=2.5 in /usr/local/lib/python3.6/dist-packages (from requests->pykrx) (2.10)\n",
            "Requirement already satisfied, skipping upgrade: certifi>=2017.4.17 in /usr/local/lib/python3.6/dist-packages (from requests->pykrx) (2020.6.20)\n",
            "Requirement already satisfied, skipping upgrade: urllib3!=1.25.0,!=1.25.1,<1.26,>=1.21.1 in /usr/local/lib/python3.6/dist-packages (from requests->pykrx) (1.24.3)\n",
            "Requirement already satisfied, skipping upgrade: chardet<4,>=3.0.2 in /usr/local/lib/python3.6/dist-packages (from requests->pykrx) (3.0.4)\n",
            "Collecting zope.interface\n",
            "\u001b[?25l  Downloading https://files.pythonhosted.org/packages/c5/89/1eb9dbb9e24f5e2c29ab1a88097b2f1333858aac3cd3cccc6c4c1c8ad867/zope.interface-5.1.2-cp36-cp36m-manylinux2010_x86_64.whl (236kB)\n",
            "\u001b[K     |████████████████████████████████| 245kB 20.8MB/s \n",
            "\u001b[?25hRequirement already satisfied, skipping upgrade: six>=1.5 in /usr/local/lib/python3.6/dist-packages (from python-dateutil>=2.7.3->pandas->pykrx) (1.15.0)\n",
            "Requirement already satisfied, skipping upgrade: setuptools in /usr/local/lib/python3.6/dist-packages (from zope.interface->datetime->pykrx) (50.3.0)\n",
            "Installing collected packages: zope.interface, datetime, pykrx\n",
            "Successfully installed datetime-4.3 pykrx-0.1.41 zope.interface-5.1.2\n"
          ],
          "name": "stdout"
        }
      ]
    },
    {
      "cell_type": "code",
      "metadata": {
        "id": "d1e_jLtaMufy",
        "outputId": "932e4ad8-cfb5-43d4-daa1-ed14f4d8c0b0",
        "colab": {
          "base_uri": "https://localhost:8080/"
        }
      },
      "source": [
        "from google.colab import drive\n",
        "drive.mount('/content/drive')"
      ],
      "execution_count": 3,
      "outputs": [
        {
          "output_type": "stream",
          "text": [
            "Mounted at /content/drive\n"
          ],
          "name": "stdout"
        }
      ]
    },
    {
      "cell_type": "code",
      "metadata": {
        "id": "G0ym91avMwJu"
      },
      "source": [
        "from datetime import datetime,timedelta\n",
        "\n",
        "today=datetime.today().strftime(\"%Y%m%d\")                      # 현재날짜\n",
        "year1=(datetime.today()-timedelta(365)).strftime('%Y%m%d')     # 현재날짜로부터 1년전 날짜"
      ],
      "execution_count": 8,
      "outputs": []
    },
    {
      "cell_type": "code",
      "metadata": {
        "id": "cKKvtxFjyc5G",
        "outputId": "e5c6480f-d39d-4f92-fae2-e2b4636b0627",
        "colab": {
          "base_uri": "https://localhost:8080/"
        }
      },
      "source": [
        "print(today,year1)"
      ],
      "execution_count": 9,
      "outputs": [
        {
          "output_type": "stream",
          "text": [
            "20201007 20191008\n"
          ],
          "name": "stdout"
        }
      ]
    },
    {
      "cell_type": "code",
      "metadata": {
        "id": "VQ5oe-HmM0qn",
        "outputId": "1b8e9ae5-8984-4ae5-d372-d94735f4239a",
        "colab": {
          "base_uri": "https://localhost:8080/",
          "height": 431
        }
      },
      "source": [
        "# 주가 크롤링\n",
        "from pykrx import stock\n",
        "df = stock.get_market_ohlcv_by_date(year1, today, \"122870\")  # (시작날짜,종료날짜,종목번호)\n",
        "df"
      ],
      "execution_count": 10,
      "outputs": [
        {
          "output_type": "execute_result",
          "data": {
            "text/html": [
              "<div>\n",
              "<style scoped>\n",
              "    .dataframe tbody tr th:only-of-type {\n",
              "        vertical-align: middle;\n",
              "    }\n",
              "\n",
              "    .dataframe tbody tr th {\n",
              "        vertical-align: top;\n",
              "    }\n",
              "\n",
              "    .dataframe thead th {\n",
              "        text-align: right;\n",
              "    }\n",
              "</style>\n",
              "<table border=\"1\" class=\"dataframe\">\n",
              "  <thead>\n",
              "    <tr style=\"text-align: right;\">\n",
              "      <th>와이지엔터테인먼트</th>\n",
              "      <th>시가</th>\n",
              "      <th>고가</th>\n",
              "      <th>저가</th>\n",
              "      <th>종가</th>\n",
              "      <th>거래량</th>\n",
              "    </tr>\n",
              "    <tr>\n",
              "      <th>날짜</th>\n",
              "      <th></th>\n",
              "      <th></th>\n",
              "      <th></th>\n",
              "      <th></th>\n",
              "      <th></th>\n",
              "    </tr>\n",
              "  </thead>\n",
              "  <tbody>\n",
              "    <tr>\n",
              "      <th>2019-10-08</th>\n",
              "      <td>23400</td>\n",
              "      <td>23900</td>\n",
              "      <td>22900</td>\n",
              "      <td>23800</td>\n",
              "      <td>148848</td>\n",
              "    </tr>\n",
              "    <tr>\n",
              "      <th>2019-10-10</th>\n",
              "      <td>23550</td>\n",
              "      <td>23700</td>\n",
              "      <td>23000</td>\n",
              "      <td>23550</td>\n",
              "      <td>150525</td>\n",
              "    </tr>\n",
              "    <tr>\n",
              "      <th>2019-10-11</th>\n",
              "      <td>23800</td>\n",
              "      <td>25200</td>\n",
              "      <td>23650</td>\n",
              "      <td>23950</td>\n",
              "      <td>474910</td>\n",
              "    </tr>\n",
              "    <tr>\n",
              "      <th>2019-10-14</th>\n",
              "      <td>24350</td>\n",
              "      <td>25850</td>\n",
              "      <td>24150</td>\n",
              "      <td>25650</td>\n",
              "      <td>558471</td>\n",
              "    </tr>\n",
              "    <tr>\n",
              "      <th>2019-10-15</th>\n",
              "      <td>25600</td>\n",
              "      <td>26700</td>\n",
              "      <td>25350</td>\n",
              "      <td>26000</td>\n",
              "      <td>425303</td>\n",
              "    </tr>\n",
              "    <tr>\n",
              "      <th>...</th>\n",
              "      <td>...</td>\n",
              "      <td>...</td>\n",
              "      <td>...</td>\n",
              "      <td>...</td>\n",
              "      <td>...</td>\n",
              "    </tr>\n",
              "    <tr>\n",
              "      <th>2020-09-28</th>\n",
              "      <td>52300</td>\n",
              "      <td>57500</td>\n",
              "      <td>51800</td>\n",
              "      <td>57000</td>\n",
              "      <td>1067907</td>\n",
              "    </tr>\n",
              "    <tr>\n",
              "      <th>2020-09-29</th>\n",
              "      <td>57700</td>\n",
              "      <td>58000</td>\n",
              "      <td>54900</td>\n",
              "      <td>58000</td>\n",
              "      <td>758762</td>\n",
              "    </tr>\n",
              "    <tr>\n",
              "      <th>2020-10-05</th>\n",
              "      <td>57100</td>\n",
              "      <td>57400</td>\n",
              "      <td>51800</td>\n",
              "      <td>52500</td>\n",
              "      <td>1428801</td>\n",
              "    </tr>\n",
              "    <tr>\n",
              "      <th>2020-10-06</th>\n",
              "      <td>52000</td>\n",
              "      <td>53200</td>\n",
              "      <td>50200</td>\n",
              "      <td>51500</td>\n",
              "      <td>633818</td>\n",
              "    </tr>\n",
              "    <tr>\n",
              "      <th>2020-10-07</th>\n",
              "      <td>51600</td>\n",
              "      <td>52700</td>\n",
              "      <td>51200</td>\n",
              "      <td>51600</td>\n",
              "      <td>319603</td>\n",
              "    </tr>\n",
              "  </tbody>\n",
              "</table>\n",
              "<p>248 rows × 5 columns</p>\n",
              "</div>"
            ],
            "text/plain": [
              "와이지엔터테인먼트      시가     고가     저가     종가      거래량\n",
              "날짜                                             \n",
              "2019-10-08  23400  23900  22900  23800   148848\n",
              "2019-10-10  23550  23700  23000  23550   150525\n",
              "2019-10-11  23800  25200  23650  23950   474910\n",
              "2019-10-14  24350  25850  24150  25650   558471\n",
              "2019-10-15  25600  26700  25350  26000   425303\n",
              "...           ...    ...    ...    ...      ...\n",
              "2020-09-28  52300  57500  51800  57000  1067907\n",
              "2020-09-29  57700  58000  54900  58000   758762\n",
              "2020-10-05  57100  57400  51800  52500  1428801\n",
              "2020-10-06  52000  53200  50200  51500   633818\n",
              "2020-10-07  51600  52700  51200  51600   319603\n",
              "\n",
              "[248 rows x 5 columns]"
            ]
          },
          "metadata": {
            "tags": []
          },
          "execution_count": 10
        }
      ]
    },
    {
      "cell_type": "code",
      "metadata": {
        "id": "X8JE_P7RYbVb",
        "outputId": "61a70de3-2a0f-4760-8a6f-326caf671ad3",
        "colab": {
          "base_uri": "https://localhost:8080/",
          "height": 730
        }
      },
      "source": [
        "# 선형 모델 적용이 적합한지 확인해보기  (Scatter_plot의 모양이 선형일 수록, 선형모델적용이 타당한 것으로 해석 가능)\n",
        "\n",
        "from pandas.plotting import lag_plot\n",
        "\n",
        "fig, axes = plt.subplots(3, 2, figsize=(8, 12))\n",
        "plt.title('YG Autocorrelation plot')\n",
        "\n",
        "# The axis coordinates for the plots\n",
        "ax_idcs = [\n",
        "    (0, 0),\n",
        "    (0, 1),\n",
        "    (1, 0),\n",
        "    (1, 1),\n",
        "    (2, 0),\n",
        "    (2, 1)\n",
        "]\n",
        "\n",
        "for lag, ax_coords in enumerate(ax_idcs, 1):\n",
        "    ax_row, ax_col = ax_coords\n",
        "    axis = axes[ax_row][ax_col]\n",
        "    lag_plot(df['종가'], lag=lag, ax=axis)\n",
        "    axis.set_title(f\"Lag={lag}\")\n",
        "\n",
        "plt.show()\n",
        "\n",
        "# 그래프의 해석 결과: \n",
        "# A linear shape to the plot suggests that an autoregressive model is probably a better choice.\n",
        "# An elliptical plot suggests that the data comes from a single-cycle sinusoidal model."
      ],
      "execution_count": 11,
      "outputs": [
        {
          "output_type": "display_data",
          "data": {
            "image/png": "[encoded data removed]",
            "text/plain": [
              "<Figure size 576x864 with 6 Axes>"
            ]
          },
          "metadata": {
            "tags": [],
            "needs_background": "light"
          }
        }
      ]
    },
    {
      "cell_type": "code",
      "metadata": {
        "id": "PlOSi35V683j",
        "outputId": "75222259-f65f-4288-8e99-135d3c0afe72",
        "colab": {
          "base_uri": "https://localhost:8080/"
        }
      },
      "source": [
        "df.shape "
      ],
      "execution_count": 12,
      "outputs": [
        {
          "output_type": "execute_result",
          "data": {
            "text/plain": [
              "(248, 5)"
            ]
          },
          "metadata": {
            "tags": []
          },
          "execution_count": 12
        }
      ]
    },
    {
      "cell_type": "code",
      "metadata": {
        "id": "RI71I9lyi0tv",
        "outputId": "36f6bdcf-b118-42a0-9498-55f6c7665726",
        "colab": {
          "base_uri": "https://localhost:8080/"
        }
      },
      "source": [
        "# train, validfate, testset으로 나누는데, 금융 시계열 데이터이므로, one-step forecast validation 필요 \n",
        "# https://neocarus.tistory.com/entry/%EB%AA%A8%ED%98%95%EC%9D%98-%EC%A0%81%ED%95%A9%EC%84%B1%EC%97%90-%EB%8C%80%ED%95%9C-%EA%B5%90%EC%B0%A8%EA%B2%80%EC%A6%9D%EC%9D%84-%EC%88%98%ED%96%89%ED%95%98%EB%8A%94-%EB%B0%A9%EB%B2%95 참고\n",
        "\n",
        "# train -> 선학습\n",
        "# validation_set의 one-step forecast validation 하기위한 과정\n",
        "# 이후, test개수만큼 predict 필요\n",
        "\n",
        "# 개수로 247개 -> train : 207개, validation : 30개, test : 10개로 개수로 데이터셋나눌수 있도록 \n",
        "\n",
        "print(df.shape)\n",
        "\n",
        "# 조정가능한 값 (validation_size , test_size)\n",
        "validation_size=40  # (2달)\n",
        "test_size=10        # (2주)\n",
        "\n",
        "train=df[:len(df)-validation_size]\n",
        "validation=df[len(df)-validation_size:len(df)-test_size]\n",
        "test=df[len(df)-test_size:]\n",
        "\n",
        "print(train.shape)\n",
        "print(validation.shape)\n",
        "print(test.shape)"
      ],
      "execution_count": 13,
      "outputs": [
        {
          "output_type": "stream",
          "text": [
            "(248, 5)\n",
            "(208, 5)\n",
            "(30, 5)\n",
            "(10, 5)\n"
          ],
          "name": "stdout"
        }
      ]
    },
    {
      "cell_type": "code",
      "metadata": {
        "id": "RX96pJ-VkIbs"
      },
      "source": [
        "# column들 중, 종가만 고려한다\n",
        "train.drop(['시가', '고가','저가','거래량'], axis='columns', inplace=True)\n",
        "validation.drop(['시가', '고가','저가','거래량'], axis='columns', inplace=True)\n",
        "test.drop(['시가', '고가','저가','거래량'], axis='columns', inplace=True)"
      ],
      "execution_count": 14,
      "outputs": []
    },
    {
      "cell_type": "code",
      "metadata": {
        "id": "BZrHy4zqjyL8",
        "outputId": "3f2fdad0-e4bb-47e1-b698-19f9994f5c33",
        "colab": {
          "base_uri": "https://localhost:8080/",
          "height": 705
        }
      },
      "source": [
        "pip install pmdarima"
      ],
      "execution_count": 15,
      "outputs": [
        {
          "output_type": "stream",
          "text": [
            "Collecting pmdarima\n",
            "\u001b[?25l  Downloading https://files.pythonhosted.org/packages/be/62/725b3b6ae0e56c77534de5a8139322e7b863ca53fd5bd6bd3b7de87d0c20/pmdarima-1.7.1-cp36-cp36m-manylinux1_x86_64.whl (1.5MB)\n",
            "\u001b[K     |████████████████████████████████| 1.5MB 2.7MB/s \n",
            "\u001b[?25hCollecting setuptools<50.0.0\n",
            "\u001b[?25l  Downloading https://files.pythonhosted.org/packages/c3/a9/5dc32465951cf4812e9e93b4ad2d314893c2fa6d5f66ce5c057af6e76d85/setuptools-49.6.0-py3-none-any.whl (803kB)\n",
            "\u001b[K     |████████████████████████████████| 808kB 17.3MB/s \n",
            "\u001b[?25hRequirement already satisfied: urllib3 in /usr/local/lib/python3.6/dist-packages (from pmdarima) (1.24.3)\n",
            "Requirement already satisfied: scikit-learn>=0.22 in /usr/local/lib/python3.6/dist-packages (from pmdarima) (0.22.2.post1)\n",
            "Requirement already satisfied: scipy>=1.3.2 in /usr/local/lib/python3.6/dist-packages (from pmdarima) (1.4.1)\n",
            "Requirement already satisfied: joblib>=0.11 in /usr/local/lib/python3.6/dist-packages (from pmdarima) (0.16.0)\n",
            "Collecting Cython<0.29.18,>=0.29\n",
            "\u001b[?25l  Downloading https://files.pythonhosted.org/packages/e7/d7/510ddef0248f3e1e91f9cc7e31c0f35f8954d0af92c5c3fd4c853e859ebe/Cython-0.29.17-cp36-cp36m-manylinux1_x86_64.whl (2.1MB)\n",
            "\u001b[K     |████████████████████████████████| 2.1MB 11.9MB/s \n",
            "\u001b[?25hRequirement already satisfied: pandas>=0.19 in /usr/local/lib/python3.6/dist-packages (from pmdarima) (1.1.2)\n",
            "Collecting statsmodels<0.12,>=0.11\n",
            "\u001b[?25l  Downloading https://files.pythonhosted.org/packages/cb/83/540fd83238a18abe6c2d280fa8e489ac5fcefa1f370f0ca1acd16ae1b860/statsmodels-0.11.1-cp36-cp36m-manylinux1_x86_64.whl (8.7MB)\n",
            "\u001b[K     |████████████████████████████████| 8.7MB 38.6MB/s \n",
            "\u001b[?25hRequirement already satisfied: numpy>=1.17.3 in /usr/local/lib/python3.6/dist-packages (from pmdarima) (1.18.5)\n",
            "Requirement already satisfied: pytz>=2017.2 in /usr/local/lib/python3.6/dist-packages (from pandas>=0.19->pmdarima) (2018.9)\n",
            "Requirement already satisfied: python-dateutil>=2.7.3 in /usr/local/lib/python3.6/dist-packages (from pandas>=0.19->pmdarima) (2.8.1)\n",
            "Requirement already satisfied: patsy>=0.5 in /usr/local/lib/python3.6/dist-packages (from statsmodels<0.12,>=0.11->pmdarima) (0.5.1)\n",
            "Requirement already satisfied: six>=1.5 in /usr/local/lib/python3.6/dist-packages (from python-dateutil>=2.7.3->pandas>=0.19->pmdarima) (1.15.0)\n",
            "\u001b[31mERROR: datascience 0.10.6 has requirement folium==0.2.1, but you'll have folium 0.8.3 which is incompatible.\u001b[0m\n",
            "Installing collected packages: setuptools, Cython, statsmodels, pmdarima\n",
            "  Found existing installation: setuptools 50.3.0\n",
            "    Uninstalling setuptools-50.3.0:\n",
            "      Successfully uninstalled setuptools-50.3.0\n",
            "  Found existing installation: Cython 0.29.21\n",
            "    Uninstalling Cython-0.29.21:\n",
            "      Successfully uninstalled Cython-0.29.21\n",
            "  Found existing installation: statsmodels 0.10.2\n",
            "    Uninstalling statsmodels-0.10.2:\n",
            "      Successfully uninstalled statsmodels-0.10.2\n",
            "Successfully installed Cython-0.29.17 pmdarima-1.7.1 setuptools-49.6.0 statsmodels-0.11.1\n"
          ],
          "name": "stdout"
        },
        {
          "output_type": "display_data",
          "data": {
            "application/vnd.colab-display-data+json": {
              "pip_warning": {
                "packages": [
                  "pkg_resources",
                  "statsmodels"
                ]
              }
            }
          },
          "metadata": {
            "tags": []
          }
        }
      ]
    },
    {
      "cell_type": "code",
      "metadata": {
        "id": "h2eExisajjFk",
        "outputId": "08d57463-3e4e-4ea5-cd9a-1b228b6cf13f",
        "colab": {
          "base_uri": "https://localhost:8080/"
        }
      },
      "source": [
        "from pmdarima import auto_arima\n",
        "import pmdarima as pm\n",
        "auto = pm.auto_arima(y=train, d=1, start_p=1, start_q=1,\n",
        "                            max_p=5, max_q=5, m=60,\n",
        "                            seasonal=True,\n",
        "                            D=1, trace=True,\n",
        "                            error_action='ignore',  \n",
        "                            suppress_warnings=True,\n",
        "                            stepwise=True,\n",
        "                            max_order=None)"
      ],
      "execution_count": 16,
      "outputs": [
        {
          "output_type": "stream",
          "text": [
            "Performing stepwise search to minimize aic\n",
            " ARIMA(1,1,1)(1,1,1)[60]             : AIC=inf, Time=nan sec\n",
            " ARIMA(0,1,0)(0,1,0)[60]             : AIC=2560.972, Time=1.37 sec\n",
            " ARIMA(1,1,0)(1,1,0)[60]             : AIC=2558.243, Time=8.34 sec\n",
            " ARIMA(0,1,1)(0,1,1)[60]             : AIC=inf, Time=nan sec\n",
            " ARIMA(1,1,0)(0,1,0)[60]             : AIC=2562.708, Time=0.75 sec\n",
            " ARIMA(1,1,0)(2,1,0)[60]             : AIC=2550.918, Time=43.61 sec\n",
            " ARIMA(1,1,0)(2,1,1)[60]             : AIC=inf, Time=nan sec\n",
            " ARIMA(1,1,0)(1,1,1)[60]             : AIC=inf, Time=nan sec\n",
            " ARIMA(0,1,0)(2,1,0)[60]             : AIC=2547.356, Time=37.36 sec\n",
            " ARIMA(0,1,0)(1,1,0)[60]             : AIC=2557.436, Time=5.11 sec\n",
            " ARIMA(0,1,0)(2,1,1)[60]             : AIC=inf, Time=nan sec\n",
            " ARIMA(0,1,0)(1,1,1)[60]             : AIC=inf, Time=nan sec\n",
            " ARIMA(0,1,1)(2,1,0)[60]             : AIC=2551.342, Time=46.91 sec\n",
            " ARIMA(1,1,1)(2,1,0)[60]             : AIC=inf, Time=213.26 sec\n",
            " ARIMA(0,1,0)(2,1,0)[60] intercept   : AIC=2550.850, Time=40.34 sec\n",
            "\n",
            "Best model:  ARIMA(0,1,0)(2,1,0)[60]          \n",
            "Total fit time: 397.248 seconds\n"
          ],
          "name": "stdout"
        }
      ]
    },
    {
      "cell_type": "code",
      "metadata": {
        "id": "OpsrB8Gjjq8W",
        "outputId": "43b2e120-10aa-4c0d-d17e-7f267e6e252c",
        "colab": {
          "base_uri": "https://localhost:8080/"
        }
      },
      "source": [
        "result_seasonal=auto.fit(train)\n",
        "print(result_seasonal.summary())"
      ],
      "execution_count": 17,
      "outputs": [
        {
          "output_type": "stream",
          "text": [
            "                                 Statespace Model Results                                 \n",
            "==========================================================================================\n",
            "Dep. Variable:                                  y   No. Observations:                  208\n",
            "Model:             SARIMAX(0, 1, 0)x(2, 1, 0, 60)   Log Likelihood               -1270.678\n",
            "Date:                            Wed, 07 Oct 2020   AIC                           2547.356\n",
            "Time:                                    11:27:52   BIC                           2556.327\n",
            "Sample:                                         0   HQIC                          2551.001\n",
            "                                            - 208                                         \n",
            "Covariance Type:                              opg                                         \n",
            "==============================================================================\n",
            "                 coef    std err          z      P>|z|      [0.025      0.975]\n",
            "------------------------------------------------------------------------------\n",
            "ar.S.L60      -0.3012      0.047     -6.464      0.000      -0.393      -0.210\n",
            "ar.S.L120     -0.2606      0.041     -6.404      0.000      -0.340      -0.181\n",
            "sigma2      1.939e+06   2.65e+05      7.311      0.000    1.42e+06    2.46e+06\n",
            "===================================================================================\n",
            "Ljung-Box (Q):                       34.19   Jarque-Bera (JB):                 0.17\n",
            "Prob(Q):                              0.73   Prob(JB):                         0.92\n",
            "Heteroskedasticity (H):               1.66   Skew:                             0.08\n",
            "Prob(H) (two-sided):                  0.08   Kurtosis:                         3.06\n",
            "===================================================================================\n",
            "\n",
            "Warnings:\n",
            "[1] Covariance matrix calculated using the outer product of gradients (complex-step).\n"
          ],
          "name": "stdout"
        }
      ]
    },
    {
      "cell_type": "code",
      "metadata": {
        "id": "y37set89juhg",
        "outputId": "5962473d-5657-4f34-d83d-85c715f14f28",
        "colab": {
          "base_uri": "https://localhost:8080/",
          "height": 621
        }
      },
      "source": [
        "result_seasonal.plot_diagnostics(figsize=(12,10))          \n",
        "plt.show()  \n",
        "\n",
        "# 잡음(불규칙요인)의 분포 살피기 (표준잔차, 잔차분포, Normal Q-Q (QQ-Plot), 상관성)\n",
        "\n",
        "# https://data.library.virginia.edu/diagnostic-plots/ 참고\n",
        "\n",
        "# 표준화 잔차 (Standardized residual) : 추정 회귀식으로부터 관측치가 얼마나 떨어져 있는지, 절댓값 3이상이면 이상값이 확실, 연구자에 따라 2~3사이의 값을 이상값일 가능성이 달라짐.\n",
        "# 잔차분포 (Histogram plus estimated density) :  KDE - 커널밀도추정 (정규분포를 스무딩한 것) ( https://darkpgmr.tistory.com/147 참고 ) - 잔차분포(N(0,1))가 KDE와 비슷하다 즉, 잔차가 정규분포 다시말해 회귀모델의 가정중 하나인 잔차가 독립이라는 것을 따른다는 이야기  \n",
        "# QQ-plot (Normal-QQ) : 수집 데이터를 표준정규분포의 분위수와 비교하여 그리는 그래프 -> 데이터의 정규성 가정에 대한 검토를 가능하게 해줌 -> 집단이 정규성을 따른다면, 점들이 직선의 형태로 그려짐.\n",
        "# 상관성 (Correlogram): ACF 그래프 "
      ],
      "execution_count": 18,
      "outputs": [
        {
          "output_type": "display_data",
          "data": {
            "image/png": "[encoded data removed]",
            "text/plain": [
              "<Figure size 864x720 with 4 Axes>"
            ]
          },
          "metadata": {
            "tags": [],
            "needs_background": "light"
          }
        }
      ]
    },
    {
      "cell_type": "code",
      "metadata": {
        "id": "ykk4BO5elcK1",
        "outputId": "8fbd62b6-9d92-4d61-e4d1-9e1925c8c22e",
        "colab": {
          "base_uri": "https://localhost:8080/"
        }
      },
      "source": [
        "model = auto  # seeded from the model we've already fit (trainset으로 이미 학습된 모델)\n",
        "\n",
        "def forecast_one_step():\n",
        "    fc, conf_int = model.predict(n_periods=1, return_conf_int=True)\n",
        "    #print('fc : ',fc)\n",
        "    #print('conf_int : ',conf_int)\n",
        "    return (\n",
        "        fc.tolist()[0],\n",
        "        np.asarray(conf_int).tolist()[0])\n",
        "\n",
        "forecasts = []\n",
        "confidence_intervals = []\n",
        "errors = [] \n",
        "\n",
        "\n",
        "df_validation=df[validation.index[0]:validation.index[-1]]\n",
        "\n",
        "for i in range(len(df_validation['종가'])):\n",
        "  fc, conf = forecast_one_step()\n",
        "  forecasts.append(fc)\n",
        "  confidence_intervals.append(conf)\n",
        "  errors.append(fc-df_validation['종가'][i])\n",
        "  print('Error : ',fc-df_validation['종가'][i],' / y_pred : ',fc,' / y(종가) : ',df_validation['종가'][i],' / 저가 : ',df_validation['저가'][i],' / 고가 : ',df_validation['고가'][i])\n",
        "  # Updates the existing model with a small number of MLE steps\n",
        "  model.update(df_validation['종가'][i])"
      ],
      "execution_count": 19,
      "outputs": [
        {
          "output_type": "stream",
          "text": [
            "Error :  493.29447246261407  / y_pred :  44443.294472462614  / y(종가) :  43950  / 저가 :  43750  / 고가 :  45350\n",
            "Error :  -1159.0317709247538  / y_pred :  44440.968229075246  / y(종가) :  45600  / 저가 :  43400  / 고가 :  46100\n",
            "Error :  1701.031494506533  / y_pred :  47401.03149450653  / y(종가) :  45700  / 저가 :  44850  / 고가 :  46400\n",
            "Error :  1483.268996964296  / y_pred :  45733.268996964296  / y(종가) :  44250  / 저가 :  43600  / 고가 :  45800\n",
            "Error :  -4431.951700238053  / y_pred :  43818.04829976195  / y(종가) :  48250  / 저가 :  45700  / 고가 :  50800\n",
            "Error :  -983.8776544030989  / y_pred :  47516.1223455969  / y(종가) :  48500  / 저가 :  47500  / 고가 :  49450\n",
            "Error :  1747.8083630998299  / y_pred :  48497.80836309983  / y(종가) :  46750  / 저가 :  46050  / 고가 :  49300\n",
            "Error :  -2107.5746950878674  / y_pred :  47192.42530491213  / y(종가) :  49300  / 저가 :  46200  / 고가 :  49900\n",
            "Error :  2739.562824449502  / y_pred :  49239.5628244495  / y(종가) :  46500  / 저가 :  46000  / 고가 :  48800\n",
            "Error :  -1439.7100868656926  / y_pred :  45260.28991313431  / y(종가) :  46700  / 저가 :  44700  / 고가 :  47500\n",
            "Error :  -592.7953351970646  / y_pred :  46207.204664802935  / y(종가) :  46800  / 저가 :  45100  / 고가 :  47150\n",
            "Error :  -1474.4148983385821  / y_pred :  47225.58510166142  / y(종가) :  48700  / 저가 :  47000  / 고가 :  49350\n",
            "Error :  -1811.5112762099598  / y_pred :  48588.48872379004  / y(종가) :  50400  / 저가 :  48100  / 고가 :  50800\n",
            "Error :  -363.4697958271572  / y_pred :  50536.53020417284  / y(종가) :  50900  / 저가 :  49450  / 고가 :  51400\n",
            "Error :  1937.9106400801684  / y_pred :  50937.91064008017  / y(종가) :  49000  / 저가 :  47600  / 고가 :  52500\n",
            "Error :  2098.9258480004573  / y_pred :  48748.92584800046  / y(종가) :  46650  / 저가 :  46000  / 고가 :  49000\n",
            "Error :  -330.23765920417645  / y_pred :  48119.76234079582  / y(종가) :  48450  / 저가 :  46800  / 고가 :  49400\n",
            "Error :  -1810.9499917544672  / y_pred :  48389.05000824553  / y(종가) :  50200  / 저가 :  48700  / 고가 :  50600\n",
            "Error :  -1963.9561566321572  / y_pred :  50236.04384336784  / y(종가) :  52200  / 저가 :  49750  / 고가 :  52300\n",
            "Error :  154.17304333920765  / y_pred :  52454.17304333921  / y(종가) :  52300  / 저가 :  49650  / 고가 :  53000\n",
            "Error :  -3622.920779939981  / y_pred :  51077.07922006002  / y(종가) :  54700  / 저가 :  51900  / 고가 :  54900\n",
            "Error :  -4072.2966292860365  / y_pred :  53527.70337071396  / y(종가) :  57600  / 저가 :  54200  / 고가 :  58500\n",
            "Error :  631.312805208574  / y_pred :  58331.312805208574  / y(종가) :  57700  / 저가 :  56200  / 고가 :  60500\n",
            "Error :  -115.20759321980586  / y_pred :  57584.792406780194  / y(종가) :  57700  / 저가 :  56700  / 고가 :  59000\n",
            "Error :  -997.5566625855863  / y_pred :  57702.443337414414  / y(종가) :  58700  / 저가 :  56900  / 고가 :  60500\n",
            "Error :  745.404585850898  / y_pred :  58745.4045858509  / y(종가) :  58000  / 저가 :  57500  / 고가 :  59300\n",
            "Error :  489.2031374021244  / y_pred :  58489.203137402124  / y(종가) :  58000  / 저가 :  57000  / 고가 :  58400\n",
            "Error :  513.0461461836967  / y_pred :  58813.0461461837  / y(종가) :  58300  / 저가 :  57300  / 고가 :  58800\n",
            "Error :  2269.9277175548486  / y_pred :  58569.92771755485  / y(종가) :  56300  / 저가 :  55800  / 고가 :  58300\n",
            "Error :  -884.7959233735382  / y_pred :  57115.20407662646  / y(종가) :  58000  / 저가 :  55600  / 고가 :  58000\n"
          ],
          "name": "stdout"
        }
      ]
    },
    {
      "cell_type": "code",
      "metadata": {
        "id": "sDrnmpg4hRi7",
        "outputId": "b2d5fe9a-10bc-4c29-e2ad-87adf446067d",
        "colab": {
          "base_uri": "https://localhost:8080/"
        }
      },
      "source": [
        "errors_abs=np.abs(errors)\n",
        "\n",
        "print('오차절대값의 최대 : ',np.max(errors_abs))\n",
        "print('오차절대값의 최소 : ',np.min(errors_abs))"
      ],
      "execution_count": 25,
      "outputs": [
        {
          "output_type": "stream",
          "text": [
            "오차절대값의 최대 :  4431.951700238053\n",
            "오차절대값의 최소 :  115.20759321980586\n"
          ],
          "name": "stdout"
        }
      ]
    },
    {
      "cell_type": "code",
      "metadata": {
        "id": "cjUzvY-uhd98",
        "outputId": "f31b843a-1a77-4bba-d069-f9bf4aef688d",
        "colab": {
          "base_uri": "https://localhost:8080/",
          "height": 965
        }
      },
      "source": [
        "df_validation"
      ],
      "execution_count": 26,
      "outputs": [
        {
          "output_type": "execute_result",
          "data": {
            "text/html": [
              "<div>\n",
              "<style scoped>\n",
              "    .dataframe tbody tr th:only-of-type {\n",
              "        vertical-align: middle;\n",
              "    }\n",
              "\n",
              "    .dataframe tbody tr th {\n",
              "        vertical-align: top;\n",
              "    }\n",
              "\n",
              "    .dataframe thead th {\n",
              "        text-align: right;\n",
              "    }\n",
              "</style>\n",
              "<table border=\"1\" class=\"dataframe\">\n",
              "  <thead>\n",
              "    <tr style=\"text-align: right;\">\n",
              "      <th>와이지엔터테인먼트</th>\n",
              "      <th>시가</th>\n",
              "      <th>고가</th>\n",
              "      <th>저가</th>\n",
              "      <th>종가</th>\n",
              "      <th>거래량</th>\n",
              "    </tr>\n",
              "    <tr>\n",
              "      <th>날짜</th>\n",
              "      <th></th>\n",
              "      <th></th>\n",
              "      <th></th>\n",
              "      <th></th>\n",
              "      <th></th>\n",
              "    </tr>\n",
              "  </thead>\n",
              "  <tbody>\n",
              "    <tr>\n",
              "      <th>2020-08-07</th>\n",
              "      <td>44950</td>\n",
              "      <td>45350</td>\n",
              "      <td>43750</td>\n",
              "      <td>43950</td>\n",
              "      <td>426223</td>\n",
              "    </tr>\n",
              "    <tr>\n",
              "      <th>2020-08-10</th>\n",
              "      <td>44900</td>\n",
              "      <td>46100</td>\n",
              "      <td>43400</td>\n",
              "      <td>45600</td>\n",
              "      <td>863517</td>\n",
              "    </tr>\n",
              "    <tr>\n",
              "      <th>2020-08-11</th>\n",
              "      <td>46150</td>\n",
              "      <td>46400</td>\n",
              "      <td>44850</td>\n",
              "      <td>45700</td>\n",
              "      <td>421615</td>\n",
              "    </tr>\n",
              "    <tr>\n",
              "      <th>2020-08-12</th>\n",
              "      <td>45750</td>\n",
              "      <td>45800</td>\n",
              "      <td>43600</td>\n",
              "      <td>44250</td>\n",
              "      <td>455990</td>\n",
              "    </tr>\n",
              "    <tr>\n",
              "      <th>2020-08-13</th>\n",
              "      <td>46150</td>\n",
              "      <td>50800</td>\n",
              "      <td>45700</td>\n",
              "      <td>48250</td>\n",
              "      <td>2380126</td>\n",
              "    </tr>\n",
              "    <tr>\n",
              "      <th>2020-08-14</th>\n",
              "      <td>48450</td>\n",
              "      <td>49450</td>\n",
              "      <td>47500</td>\n",
              "      <td>48500</td>\n",
              "      <td>712309</td>\n",
              "    </tr>\n",
              "    <tr>\n",
              "      <th>2020-08-18</th>\n",
              "      <td>49000</td>\n",
              "      <td>49300</td>\n",
              "      <td>46050</td>\n",
              "      <td>46750</td>\n",
              "      <td>720514</td>\n",
              "    </tr>\n",
              "    <tr>\n",
              "      <th>2020-08-19</th>\n",
              "      <td>46750</td>\n",
              "      <td>49900</td>\n",
              "      <td>46200</td>\n",
              "      <td>49300</td>\n",
              "      <td>857261</td>\n",
              "    </tr>\n",
              "    <tr>\n",
              "      <th>2020-08-20</th>\n",
              "      <td>48800</td>\n",
              "      <td>48800</td>\n",
              "      <td>46000</td>\n",
              "      <td>46500</td>\n",
              "      <td>642998</td>\n",
              "    </tr>\n",
              "    <tr>\n",
              "      <th>2020-08-21</th>\n",
              "      <td>46700</td>\n",
              "      <td>47500</td>\n",
              "      <td>44700</td>\n",
              "      <td>46700</td>\n",
              "      <td>425496</td>\n",
              "    </tr>\n",
              "    <tr>\n",
              "      <th>2020-08-24</th>\n",
              "      <td>46100</td>\n",
              "      <td>47150</td>\n",
              "      <td>45100</td>\n",
              "      <td>46800</td>\n",
              "      <td>258061</td>\n",
              "    </tr>\n",
              "    <tr>\n",
              "      <th>2020-08-25</th>\n",
              "      <td>47200</td>\n",
              "      <td>49350</td>\n",
              "      <td>47000</td>\n",
              "      <td>48700</td>\n",
              "      <td>397671</td>\n",
              "    </tr>\n",
              "    <tr>\n",
              "      <th>2020-08-26</th>\n",
              "      <td>48750</td>\n",
              "      <td>50800</td>\n",
              "      <td>48100</td>\n",
              "      <td>50400</td>\n",
              "      <td>586564</td>\n",
              "    </tr>\n",
              "    <tr>\n",
              "      <th>2020-08-27</th>\n",
              "      <td>49950</td>\n",
              "      <td>51400</td>\n",
              "      <td>49450</td>\n",
              "      <td>50900</td>\n",
              "      <td>528784</td>\n",
              "    </tr>\n",
              "    <tr>\n",
              "      <th>2020-08-28</th>\n",
              "      <td>50900</td>\n",
              "      <td>52500</td>\n",
              "      <td>47600</td>\n",
              "      <td>49000</td>\n",
              "      <td>1298643</td>\n",
              "    </tr>\n",
              "    <tr>\n",
              "      <th>2020-08-31</th>\n",
              "      <td>48950</td>\n",
              "      <td>49000</td>\n",
              "      <td>46000</td>\n",
              "      <td>46650</td>\n",
              "      <td>748647</td>\n",
              "    </tr>\n",
              "    <tr>\n",
              "      <th>2020-09-01</th>\n",
              "      <td>47550</td>\n",
              "      <td>49400</td>\n",
              "      <td>46800</td>\n",
              "      <td>48450</td>\n",
              "      <td>657023</td>\n",
              "    </tr>\n",
              "    <tr>\n",
              "      <th>2020-09-02</th>\n",
              "      <td>49000</td>\n",
              "      <td>50600</td>\n",
              "      <td>48700</td>\n",
              "      <td>50200</td>\n",
              "      <td>461506</td>\n",
              "    </tr>\n",
              "    <tr>\n",
              "      <th>2020-09-03</th>\n",
              "      <td>51400</td>\n",
              "      <td>52300</td>\n",
              "      <td>49750</td>\n",
              "      <td>52200</td>\n",
              "      <td>574772</td>\n",
              "    </tr>\n",
              "    <tr>\n",
              "      <th>2020-09-04</th>\n",
              "      <td>49650</td>\n",
              "      <td>53000</td>\n",
              "      <td>49650</td>\n",
              "      <td>52300</td>\n",
              "      <td>732555</td>\n",
              "    </tr>\n",
              "    <tr>\n",
              "      <th>2020-09-07</th>\n",
              "      <td>53000</td>\n",
              "      <td>54900</td>\n",
              "      <td>51900</td>\n",
              "      <td>54700</td>\n",
              "      <td>583146</td>\n",
              "    </tr>\n",
              "    <tr>\n",
              "      <th>2020-09-08</th>\n",
              "      <td>54700</td>\n",
              "      <td>58500</td>\n",
              "      <td>54200</td>\n",
              "      <td>57600</td>\n",
              "      <td>896783</td>\n",
              "    </tr>\n",
              "    <tr>\n",
              "      <th>2020-09-09</th>\n",
              "      <td>57700</td>\n",
              "      <td>60500</td>\n",
              "      <td>56200</td>\n",
              "      <td>57700</td>\n",
              "      <td>821117</td>\n",
              "    </tr>\n",
              "    <tr>\n",
              "      <th>2020-09-10</th>\n",
              "      <td>58700</td>\n",
              "      <td>59000</td>\n",
              "      <td>56700</td>\n",
              "      <td>57700</td>\n",
              "      <td>470213</td>\n",
              "    </tr>\n",
              "    <tr>\n",
              "      <th>2020-09-11</th>\n",
              "      <td>57400</td>\n",
              "      <td>60500</td>\n",
              "      <td>56900</td>\n",
              "      <td>58700</td>\n",
              "      <td>456164</td>\n",
              "    </tr>\n",
              "    <tr>\n",
              "      <th>2020-09-14</th>\n",
              "      <td>59300</td>\n",
              "      <td>59300</td>\n",
              "      <td>57500</td>\n",
              "      <td>58000</td>\n",
              "      <td>329573</td>\n",
              "    </tr>\n",
              "    <tr>\n",
              "      <th>2020-09-15</th>\n",
              "      <td>57800</td>\n",
              "      <td>58400</td>\n",
              "      <td>57000</td>\n",
              "      <td>58000</td>\n",
              "      <td>270909</td>\n",
              "    </tr>\n",
              "    <tr>\n",
              "      <th>2020-09-16</th>\n",
              "      <td>58000</td>\n",
              "      <td>58800</td>\n",
              "      <td>57300</td>\n",
              "      <td>58300</td>\n",
              "      <td>290431</td>\n",
              "    </tr>\n",
              "    <tr>\n",
              "      <th>2020-09-17</th>\n",
              "      <td>58300</td>\n",
              "      <td>58300</td>\n",
              "      <td>55800</td>\n",
              "      <td>56300</td>\n",
              "      <td>427639</td>\n",
              "    </tr>\n",
              "    <tr>\n",
              "      <th>2020-09-18</th>\n",
              "      <td>56900</td>\n",
              "      <td>58000</td>\n",
              "      <td>55600</td>\n",
              "      <td>58000</td>\n",
              "      <td>288517</td>\n",
              "    </tr>\n",
              "  </tbody>\n",
              "</table>\n",
              "</div>"
            ],
            "text/plain": [
              "와이지엔터테인먼트      시가     고가     저가     종가      거래량\n",
              "날짜                                             \n",
              "2020-08-07  44950  45350  43750  43950   426223\n",
              "2020-08-10  44900  46100  43400  45600   863517\n",
              "2020-08-11  46150  46400  44850  45700   421615\n",
              "2020-08-12  45750  45800  43600  44250   455990\n",
              "2020-08-13  46150  50800  45700  48250  2380126\n",
              "2020-08-14  48450  49450  47500  48500   712309\n",
              "2020-08-18  49000  49300  46050  46750   720514\n",
              "2020-08-19  46750  49900  46200  49300   857261\n",
              "2020-08-20  48800  48800  46000  46500   642998\n",
              "2020-08-21  46700  47500  44700  46700   425496\n",
              "2020-08-24  46100  47150  45100  46800   258061\n",
              "2020-08-25  47200  49350  47000  48700   397671\n",
              "2020-08-26  48750  50800  48100  50400   586564\n",
              "2020-08-27  49950  51400  49450  50900   528784\n",
              "2020-08-28  50900  52500  47600  49000  1298643\n",
              "2020-08-31  48950  49000  46000  46650   748647\n",
              "2020-09-01  47550  49400  46800  48450   657023\n",
              "2020-09-02  49000  50600  48700  50200   461506\n",
              "2020-09-03  51400  52300  49750  52200   574772\n",
              "2020-09-04  49650  53000  49650  52300   732555\n",
              "2020-09-07  53000  54900  51900  54700   583146\n",
              "2020-09-08  54700  58500  54200  57600   896783\n",
              "2020-09-09  57700  60500  56200  57700   821117\n",
              "2020-09-10  58700  59000  56700  57700   470213\n",
              "2020-09-11  57400  60500  56900  58700   456164\n",
              "2020-09-14  59300  59300  57500  58000   329573\n",
              "2020-09-15  57800  58400  57000  58000   270909\n",
              "2020-09-16  58000  58800  57300  58300   290431\n",
              "2020-09-17  58300  58300  55800  56300   427639\n",
              "2020-09-18  56900  58000  55600  58000   288517"
            ]
          },
          "metadata": {
            "tags": []
          },
          "execution_count": 26
        }
      ]
    },
    {
      "cell_type": "code",
      "metadata": {
        "id": "dI1VasDn3Tb6",
        "outputId": "85100d43-8c22-44f7-87a1-192958910f56",
        "colab": {
          "base_uri": "https://localhost:8080/",
          "height": 970
        }
      },
      "source": [
        "errors=pd.DataFrame(errors,columns={'오차'})\n",
        "errors=round(errors)  # 주가는 소수단위포함하지 않으므로 소수점 반올림 처리\n",
        "print('Average Of Error : ',np.mean(errors))\n",
        "errors"
      ],
      "execution_count": 27,
      "outputs": [
        {
          "output_type": "stream",
          "text": [
            "Average Of Error :  오차   -371.966667\n",
            "dtype: float64\n"
          ],
          "name": "stdout"
        },
        {
          "output_type": "execute_result",
          "data": {
            "text/html": [
              "<div>\n",
              "<style scoped>\n",
              "    .dataframe tbody tr th:only-of-type {\n",
              "        vertical-align: middle;\n",
              "    }\n",
              "\n",
              "    .dataframe tbody tr th {\n",
              "        vertical-align: top;\n",
              "    }\n",
              "\n",
              "    .dataframe thead th {\n",
              "        text-align: right;\n",
              "    }\n",
              "</style>\n",
              "<table border=\"1\" class=\"dataframe\">\n",
              "  <thead>\n",
              "    <tr style=\"text-align: right;\">\n",
              "      <th></th>\n",
              "      <th>오차</th>\n",
              "    </tr>\n",
              "  </thead>\n",
              "  <tbody>\n",
              "    <tr>\n",
              "      <th>0</th>\n",
              "      <td>493.0</td>\n",
              "    </tr>\n",
              "    <tr>\n",
              "      <th>1</th>\n",
              "      <td>-1159.0</td>\n",
              "    </tr>\n",
              "    <tr>\n",
              "      <th>2</th>\n",
              "      <td>1701.0</td>\n",
              "    </tr>\n",
              "    <tr>\n",
              "      <th>3</th>\n",
              "      <td>1483.0</td>\n",
              "    </tr>\n",
              "    <tr>\n",
              "      <th>4</th>\n",
              "      <td>-4432.0</td>\n",
              "    </tr>\n",
              "    <tr>\n",
              "      <th>5</th>\n",
              "      <td>-984.0</td>\n",
              "    </tr>\n",
              "    <tr>\n",
              "      <th>6</th>\n",
              "      <td>1748.0</td>\n",
              "    </tr>\n",
              "    <tr>\n",
              "      <th>7</th>\n",
              "      <td>-2108.0</td>\n",
              "    </tr>\n",
              "    <tr>\n",
              "      <th>8</th>\n",
              "      <td>2740.0</td>\n",
              "    </tr>\n",
              "    <tr>\n",
              "      <th>9</th>\n",
              "      <td>-1440.0</td>\n",
              "    </tr>\n",
              "    <tr>\n",
              "      <th>10</th>\n",
              "      <td>-593.0</td>\n",
              "    </tr>\n",
              "    <tr>\n",
              "      <th>11</th>\n",
              "      <td>-1474.0</td>\n",
              "    </tr>\n",
              "    <tr>\n",
              "      <th>12</th>\n",
              "      <td>-1812.0</td>\n",
              "    </tr>\n",
              "    <tr>\n",
              "      <th>13</th>\n",
              "      <td>-363.0</td>\n",
              "    </tr>\n",
              "    <tr>\n",
              "      <th>14</th>\n",
              "      <td>1938.0</td>\n",
              "    </tr>\n",
              "    <tr>\n",
              "      <th>15</th>\n",
              "      <td>2099.0</td>\n",
              "    </tr>\n",
              "    <tr>\n",
              "      <th>16</th>\n",
              "      <td>-330.0</td>\n",
              "    </tr>\n",
              "    <tr>\n",
              "      <th>17</th>\n",
              "      <td>-1811.0</td>\n",
              "    </tr>\n",
              "    <tr>\n",
              "      <th>18</th>\n",
              "      <td>-1964.0</td>\n",
              "    </tr>\n",
              "    <tr>\n",
              "      <th>19</th>\n",
              "      <td>154.0</td>\n",
              "    </tr>\n",
              "    <tr>\n",
              "      <th>20</th>\n",
              "      <td>-3623.0</td>\n",
              "    </tr>\n",
              "    <tr>\n",
              "      <th>21</th>\n",
              "      <td>-4072.0</td>\n",
              "    </tr>\n",
              "    <tr>\n",
              "      <th>22</th>\n",
              "      <td>631.0</td>\n",
              "    </tr>\n",
              "    <tr>\n",
              "      <th>23</th>\n",
              "      <td>-115.0</td>\n",
              "    </tr>\n",
              "    <tr>\n",
              "      <th>24</th>\n",
              "      <td>-998.0</td>\n",
              "    </tr>\n",
              "    <tr>\n",
              "      <th>25</th>\n",
              "      <td>745.0</td>\n",
              "    </tr>\n",
              "    <tr>\n",
              "      <th>26</th>\n",
              "      <td>489.0</td>\n",
              "    </tr>\n",
              "    <tr>\n",
              "      <th>27</th>\n",
              "      <td>513.0</td>\n",
              "    </tr>\n",
              "    <tr>\n",
              "      <th>28</th>\n",
              "      <td>2270.0</td>\n",
              "    </tr>\n",
              "    <tr>\n",
              "      <th>29</th>\n",
              "      <td>-885.0</td>\n",
              "    </tr>\n",
              "  </tbody>\n",
              "</table>\n",
              "</div>"
            ],
            "text/plain": [
              "        오차\n",
              "0    493.0\n",
              "1  -1159.0\n",
              "2   1701.0\n",
              "3   1483.0\n",
              "4  -4432.0\n",
              "5   -984.0\n",
              "6   1748.0\n",
              "7  -2108.0\n",
              "8   2740.0\n",
              "9  -1440.0\n",
              "10  -593.0\n",
              "11 -1474.0\n",
              "12 -1812.0\n",
              "13  -363.0\n",
              "14  1938.0\n",
              "15  2099.0\n",
              "16  -330.0\n",
              "17 -1811.0\n",
              "18 -1964.0\n",
              "19   154.0\n",
              "20 -3623.0\n",
              "21 -4072.0\n",
              "22   631.0\n",
              "23  -115.0\n",
              "24  -998.0\n",
              "25   745.0\n",
              "26   489.0\n",
              "27   513.0\n",
              "28  2270.0\n",
              "29  -885.0"
            ]
          },
          "metadata": {
            "tags": []
          },
          "execution_count": 27
        }
      ]
    },
    {
      "cell_type": "code",
      "metadata": {
        "id": "pEjLhHhUTZjf",
        "outputId": "70b129d6-dc86-42ea-b98a-f03fdff5b84c",
        "colab": {
          "base_uri": "https://localhost:8080/",
          "height": 388
        }
      },
      "source": [
        "# 오차의 정규성 분포 확인\n",
        "\n",
        "fig = plt.figure(figsize=(12,6))\n",
        "ax1 = fig.add_subplot(2, 1, 1)\n",
        "ax2 = fig.add_subplot(2, 1, 2)\n",
        "\n",
        "sns.distplot(errors['오차'],ax=ax1)\n",
        "stats.probplot(errors['오차'], plot=ax2)\n",
        "plt.show()\n"
      ],
      "execution_count": 28,
      "outputs": [
        {
          "output_type": "display_data",
          "data": {
            "image/png": "[encoded data removed]",
            "text/plain": [
              "<Figure size 864x432 with 2 Axes>"
            ]
          },
          "metadata": {
            "tags": [],
            "needs_background": "light"
          }
        }
      ]
    },
    {
      "cell_type": "code",
      "metadata": {
        "id": "Z6HkMCBi2_Jf",
        "outputId": "91729870-bd4b-413f-bce0-972e57925666",
        "colab": {
          "base_uri": "https://localhost:8080/",
          "height": 246
        }
      },
      "source": [
        "# 예측값과 실제값 차이그래프 확인\n",
        "\n",
        "plt.figure(figsize=(12, 3))\n",
        "plt.rcParams['lines.linewidth'] = 1\n",
        "plt.grid(axis='y')\n",
        "plt.bar(errors.index, errors['오차'],color='red')\n",
        "plt.title('Validation_Forecast Errors', fontsize=20)\n",
        "plt.xlabel('Days', fontsize=10)\n",
        "plt.ylabel('Errors', fontsize=10)\n",
        "plt.xticks(errors.index, fontsize=10)\n",
        "plt.show()"
      ],
      "execution_count": 29,
      "outputs": [
        {
          "output_type": "display_data",
          "data": {
            "image/png": "[encoded data removed]",
            "text/plain": [
              "<Figure size 864x216 with 1 Axes>"
            ]
          },
          "metadata": {
            "tags": [],
            "needs_background": "light"
          }
        }
      ]
    },
    {
      "cell_type": "code",
      "metadata": {
        "id": "tCbbIO5gOia-",
        "outputId": "ca881670-78d4-4234-f9dc-05b3e5560b7a",
        "colab": {
          "base_uri": "https://localhost:8080/"
        }
      },
      "source": [
        "from numpy import array, mean\n",
        "from scipy.stats import sem, t\n",
        "\n",
        "\n",
        "def mean_confidence_interval(data, confidence=.999): \n",
        "    a = 1.0 * array(data) \n",
        "    n = len(a) \n",
        "    m, se = mean(a), sem(a)                      # mean : 평균, sem : 평균의 표준오차 \n",
        "    h = se * t._ppf((1 + confidence) / 2., n - 1) \n",
        "    return m, m - h, m + h\n",
        "\n",
        "\n",
        "avg,floor,cap=mean_confidence_interval(errors)\n",
        "\n",
        "error_lst=[]\n",
        "for i in range(len(errors['오차'])):\n",
        "  if (errors['오차'][i] > cap) | (errors['오차'][i] < floor):\n",
        "    error_lst.append((i,errors['오차'][i]))\n",
        "\n",
        "error_lst  "
      ],
      "execution_count": 30,
      "outputs": [
        {
          "output_type": "execute_result",
          "data": {
            "text/plain": [
              "[(2, 1701.0),\n",
              " (3, 1483.0),\n",
              " (4, -4432.0),\n",
              " (6, 1748.0),\n",
              " (7, -2108.0),\n",
              " (8, 2740.0),\n",
              " (12, -1812.0),\n",
              " (14, 1938.0),\n",
              " (15, 2099.0),\n",
              " (17, -1811.0),\n",
              " (18, -1964.0),\n",
              " (20, -3623.0),\n",
              " (21, -4072.0),\n",
              " (28, 2270.0)]"
            ]
          },
          "metadata": {
            "tags": []
          },
          "execution_count": 30
        }
      ]
    },
    {
      "cell_type": "code",
      "metadata": {
        "id": "GsBPdlqGS4dg"
      },
      "source": [
        "temp=[i[0] for i in error_lst]\n",
        "\n",
        "change_points=pd.DataFrame({'종가':validation['종가'],'날짜':validation.index,'인덱스':range(0,30)})\n",
        "\n",
        "cp=[]\n",
        "for i,v in enumerate(change_points.index):\n",
        "  if i in temp:\n",
        "    cp.append(v.strftime(\"%Y-%m-%d\"))"
      ],
      "execution_count": 32,
      "outputs": []
    },
    {
      "cell_type": "code",
      "metadata": {
        "id": "gFxE5EzRwSTv",
        "outputId": "949e68bd-49fe-4290-f7c4-c737c424eaac",
        "colab": {
          "base_uri": "https://localhost:8080/"
        }
      },
      "source": [
        "cp  # prophet에 들어갈 changingpoint 리스트"
      ],
      "execution_count": 33,
      "outputs": [
        {
          "output_type": "execute_result",
          "data": {
            "text/plain": [
              "['2020-08-11',\n",
              " '2020-08-12',\n",
              " '2020-08-13',\n",
              " '2020-08-18',\n",
              " '2020-08-19',\n",
              " '2020-08-20',\n",
              " '2020-08-26',\n",
              " '2020-08-28',\n",
              " '2020-08-31',\n",
              " '2020-09-02',\n",
              " '2020-09-03',\n",
              " '2020-09-07',\n",
              " '2020-09-08',\n",
              " '2020-09-17']"
            ]
          },
          "metadata": {
            "tags": []
          },
          "execution_count": 33
        }
      ]
    },
    {
      "cell_type": "code",
      "metadata": {
        "id": "exb0RMRbpvAR"
      },
      "source": [
        "forecasts=pd.DataFrame(forecasts,index=validation.index,columns={'종가'})\n",
        "forecasts=round(forecasts)"
      ],
      "execution_count": 34,
      "outputs": []
    },
    {
      "cell_type": "code",
      "metadata": {
        "id": "89Xb9_5s5ux6",
        "outputId": "5feba397-468b-4e71-c1e3-dfb17cca5b34",
        "colab": {
          "base_uri": "https://localhost:8080/",
          "height": 965
        }
      },
      "source": [
        "forecasts"
      ],
      "execution_count": 36,
      "outputs": [
        {
          "output_type": "execute_result",
          "data": {
            "text/html": [
              "<div>\n",
              "<style scoped>\n",
              "    .dataframe tbody tr th:only-of-type {\n",
              "        vertical-align: middle;\n",
              "    }\n",
              "\n",
              "    .dataframe tbody tr th {\n",
              "        vertical-align: top;\n",
              "    }\n",
              "\n",
              "    .dataframe thead th {\n",
              "        text-align: right;\n",
              "    }\n",
              "</style>\n",
              "<table border=\"1\" class=\"dataframe\">\n",
              "  <thead>\n",
              "    <tr style=\"text-align: right;\">\n",
              "      <th></th>\n",
              "      <th>종가</th>\n",
              "    </tr>\n",
              "    <tr>\n",
              "      <th>날짜</th>\n",
              "      <th></th>\n",
              "    </tr>\n",
              "  </thead>\n",
              "  <tbody>\n",
              "    <tr>\n",
              "      <th>2020-08-07</th>\n",
              "      <td>44443.0</td>\n",
              "    </tr>\n",
              "    <tr>\n",
              "      <th>2020-08-10</th>\n",
              "      <td>44441.0</td>\n",
              "    </tr>\n",
              "    <tr>\n",
              "      <th>2020-08-11</th>\n",
              "      <td>47401.0</td>\n",
              "    </tr>\n",
              "    <tr>\n",
              "      <th>2020-08-12</th>\n",
              "      <td>45733.0</td>\n",
              "    </tr>\n",
              "    <tr>\n",
              "      <th>2020-08-13</th>\n",
              "      <td>43818.0</td>\n",
              "    </tr>\n",
              "    <tr>\n",
              "      <th>2020-08-14</th>\n",
              "      <td>47516.0</td>\n",
              "    </tr>\n",
              "    <tr>\n",
              "      <th>2020-08-18</th>\n",
              "      <td>48498.0</td>\n",
              "    </tr>\n",
              "    <tr>\n",
              "      <th>2020-08-19</th>\n",
              "      <td>47192.0</td>\n",
              "    </tr>\n",
              "    <tr>\n",
              "      <th>2020-08-20</th>\n",
              "      <td>49240.0</td>\n",
              "    </tr>\n",
              "    <tr>\n",
              "      <th>2020-08-21</th>\n",
              "      <td>45260.0</td>\n",
              "    </tr>\n",
              "    <tr>\n",
              "      <th>2020-08-24</th>\n",
              "      <td>46207.0</td>\n",
              "    </tr>\n",
              "    <tr>\n",
              "      <th>2020-08-25</th>\n",
              "      <td>47226.0</td>\n",
              "    </tr>\n",
              "    <tr>\n",
              "      <th>2020-08-26</th>\n",
              "      <td>48588.0</td>\n",
              "    </tr>\n",
              "    <tr>\n",
              "      <th>2020-08-27</th>\n",
              "      <td>50537.0</td>\n",
              "    </tr>\n",
              "    <tr>\n",
              "      <th>2020-08-28</th>\n",
              "      <td>50938.0</td>\n",
              "    </tr>\n",
              "    <tr>\n",
              "      <th>2020-08-31</th>\n",
              "      <td>48749.0</td>\n",
              "    </tr>\n",
              "    <tr>\n",
              "      <th>2020-09-01</th>\n",
              "      <td>48120.0</td>\n",
              "    </tr>\n",
              "    <tr>\n",
              "      <th>2020-09-02</th>\n",
              "      <td>48389.0</td>\n",
              "    </tr>\n",
              "    <tr>\n",
              "      <th>2020-09-03</th>\n",
              "      <td>50236.0</td>\n",
              "    </tr>\n",
              "    <tr>\n",
              "      <th>2020-09-04</th>\n",
              "      <td>52454.0</td>\n",
              "    </tr>\n",
              "    <tr>\n",
              "      <th>2020-09-07</th>\n",
              "      <td>51077.0</td>\n",
              "    </tr>\n",
              "    <tr>\n",
              "      <th>2020-09-08</th>\n",
              "      <td>53528.0</td>\n",
              "    </tr>\n",
              "    <tr>\n",
              "      <th>2020-09-09</th>\n",
              "      <td>58331.0</td>\n",
              "    </tr>\n",
              "    <tr>\n",
              "      <th>2020-09-10</th>\n",
              "      <td>57585.0</td>\n",
              "    </tr>\n",
              "    <tr>\n",
              "      <th>2020-09-11</th>\n",
              "      <td>57702.0</td>\n",
              "    </tr>\n",
              "    <tr>\n",
              "      <th>2020-09-14</th>\n",
              "      <td>58745.0</td>\n",
              "    </tr>\n",
              "    <tr>\n",
              "      <th>2020-09-15</th>\n",
              "      <td>58489.0</td>\n",
              "    </tr>\n",
              "    <tr>\n",
              "      <th>2020-09-16</th>\n",
              "      <td>58813.0</td>\n",
              "    </tr>\n",
              "    <tr>\n",
              "      <th>2020-09-17</th>\n",
              "      <td>58570.0</td>\n",
              "    </tr>\n",
              "    <tr>\n",
              "      <th>2020-09-18</th>\n",
              "      <td>57115.0</td>\n",
              "    </tr>\n",
              "  </tbody>\n",
              "</table>\n",
              "</div>"
            ],
            "text/plain": [
              "                 종가\n",
              "날짜                 \n",
              "2020-08-07  44443.0\n",
              "2020-08-10  44441.0\n",
              "2020-08-11  47401.0\n",
              "2020-08-12  45733.0\n",
              "2020-08-13  43818.0\n",
              "2020-08-14  47516.0\n",
              "2020-08-18  48498.0\n",
              "2020-08-19  47192.0\n",
              "2020-08-20  49240.0\n",
              "2020-08-21  45260.0\n",
              "2020-08-24  46207.0\n",
              "2020-08-25  47226.0\n",
              "2020-08-26  48588.0\n",
              "2020-08-27  50537.0\n",
              "2020-08-28  50938.0\n",
              "2020-08-31  48749.0\n",
              "2020-09-01  48120.0\n",
              "2020-09-02  48389.0\n",
              "2020-09-03  50236.0\n",
              "2020-09-04  52454.0\n",
              "2020-09-07  51077.0\n",
              "2020-09-08  53528.0\n",
              "2020-09-09  58331.0\n",
              "2020-09-10  57585.0\n",
              "2020-09-11  57702.0\n",
              "2020-09-14  58745.0\n",
              "2020-09-15  58489.0\n",
              "2020-09-16  58813.0\n",
              "2020-09-17  58570.0\n",
              "2020-09-18  57115.0"
            ]
          },
          "metadata": {
            "tags": []
          },
          "execution_count": 36
        }
      ]
    },
    {
      "cell_type": "code",
      "metadata": {
        "id": "oNqq9CbK5ysP",
        "outputId": "fe24cbe1-8f90-4ddd-9bcc-ad48bd10348f",
        "colab": {
          "base_uri": "https://localhost:8080/",
          "height": 373
        }
      },
      "source": [
        "test"
      ],
      "execution_count": 37,
      "outputs": [
        {
          "output_type": "execute_result",
          "data": {
            "text/html": [
              "<div>\n",
              "<style scoped>\n",
              "    .dataframe tbody tr th:only-of-type {\n",
              "        vertical-align: middle;\n",
              "    }\n",
              "\n",
              "    .dataframe tbody tr th {\n",
              "        vertical-align: top;\n",
              "    }\n",
              "\n",
              "    .dataframe thead th {\n",
              "        text-align: right;\n",
              "    }\n",
              "</style>\n",
              "<table border=\"1\" class=\"dataframe\">\n",
              "  <thead>\n",
              "    <tr style=\"text-align: right;\">\n",
              "      <th>와이지엔터테인먼트</th>\n",
              "      <th>종가</th>\n",
              "    </tr>\n",
              "    <tr>\n",
              "      <th>날짜</th>\n",
              "      <th></th>\n",
              "    </tr>\n",
              "  </thead>\n",
              "  <tbody>\n",
              "    <tr>\n",
              "      <th>2020-09-21</th>\n",
              "      <td>55600</td>\n",
              "    </tr>\n",
              "    <tr>\n",
              "      <th>2020-09-22</th>\n",
              "      <td>55200</td>\n",
              "    </tr>\n",
              "    <tr>\n",
              "      <th>2020-09-23</th>\n",
              "      <td>55900</td>\n",
              "    </tr>\n",
              "    <tr>\n",
              "      <th>2020-09-24</th>\n",
              "      <td>51900</td>\n",
              "    </tr>\n",
              "    <tr>\n",
              "      <th>2020-09-25</th>\n",
              "      <td>50900</td>\n",
              "    </tr>\n",
              "    <tr>\n",
              "      <th>2020-09-28</th>\n",
              "      <td>57000</td>\n",
              "    </tr>\n",
              "    <tr>\n",
              "      <th>2020-09-29</th>\n",
              "      <td>58000</td>\n",
              "    </tr>\n",
              "    <tr>\n",
              "      <th>2020-10-05</th>\n",
              "      <td>52500</td>\n",
              "    </tr>\n",
              "    <tr>\n",
              "      <th>2020-10-06</th>\n",
              "      <td>51500</td>\n",
              "    </tr>\n",
              "    <tr>\n",
              "      <th>2020-10-07</th>\n",
              "      <td>51600</td>\n",
              "    </tr>\n",
              "  </tbody>\n",
              "</table>\n",
              "</div>"
            ],
            "text/plain": [
              "와이지엔터테인먼트      종가\n",
              "날짜               \n",
              "2020-09-21  55600\n",
              "2020-09-22  55200\n",
              "2020-09-23  55900\n",
              "2020-09-24  51900\n",
              "2020-09-25  50900\n",
              "2020-09-28  57000\n",
              "2020-09-29  58000\n",
              "2020-10-05  52500\n",
              "2020-10-06  51500\n",
              "2020-10-07  51600"
            ]
          },
          "metadata": {
            "tags": []
          },
          "execution_count": 37
        }
      ]
    },
    {
      "cell_type": "code",
      "metadata": {
        "id": "HeJHjXNGynVR"
      },
      "source": [
        "def MPE(y_true,y_pred):  # MPE지표는 따로 라이브러리를 못찾아서 함수를 만듦\n",
        "    return np.mean((y_true - y_pred) / y_true) * 100"
      ],
      "execution_count": 38,
      "outputs": []
    },
    {
      "cell_type": "code",
      "metadata": {
        "id": "2K6v_ABEZNmt",
        "outputId": "ebe17dab-1b7d-46a7-ad65-2639391c2198",
        "colab": {
          "base_uri": "https://localhost:8080/",
          "height": 499
        }
      },
      "source": [
        "# 현재 설정되어 있는 폰트 사이즈와 글꼴을 알아보자    ( https://colab.research.google.com/github/nicewook/datascience_exercise/blob/master/korean_font_on_matplotlib.ipynb#scrollTo=nzZ6wGntXBrP 참고)\n",
        "\n",
        "# Validation 그래프\n",
        "fig = plt.figure(figsize=(15,12))\n",
        "ax1 = fig.add_subplot(211)\n",
        "ax1.plot(validation['종가'],label='실제값',marker='o')\n",
        "ax1.plot(forecasts['종가'],color='red',label='예측값',marker='o')\n",
        "ax1.set_xlabel('Date')\n",
        "ax1.set_ylabel('Y')\n",
        "ax1.legend(loc=2)\n",
        "plt.show\n",
        "\n",
        "\n",
        "from sklearn.metrics import mean_squared_error\n",
        "from pmdarima.metrics import smape\n",
        "from sklearn.metrics import mean_absolute_error\n",
        "# https://partrita.github.io/posts/regression-error/ 참고\n",
        "\n",
        "print('Validation Accuracy : \\n')\n",
        "print(f\"Mean squared error(MSE): {mean_squared_error(validation, forecasts)}\")\n",
        "print(f\"Mean absolute error(MAE): {mean_absolute_error(validation, forecasts)}\")\n",
        "print(f\"Mean absolute percentage error(MAPE): {(mean_absolute_error(validation, forecasts))/validation.shape[0]*100}\")\n",
        "print(f\"MPE: {MPE(validation['종가'], forecasts['종가'])}\")\n",
        "print(f\"RMSE: {mean_squared_error(validation, forecasts)**0.5}\")\n",
        "print(f\"SMAPE: {smape(validation, forecasts)}\")"
      ],
      "execution_count": 39,
      "outputs": [
        {
          "output_type": "stream",
          "text": [
            "Validation Accuracy : \n",
            "\n",
            "Mean squared error(MSE): 3461637.566666667\n",
            "Mean absolute error(MAE): 1505.5666666666666\n",
            "Mean absolute percentage error(MAPE): 5018.555555555556\n",
            "MPE: 0.6726019180721824\n",
            "RMSE: 1860.5476523504221\n",
            "SMAPE: 3.0121711412017627\n"
          ],
          "name": "stdout"
        },
        {
          "output_type": "display_data",
          "data": {
            "image/png": "[encoded data removed]",
            "text/plain": [
              "<Figure size 1080x864 with 1 Axes>"
            ]
          },
          "metadata": {
            "tags": [],
            "needs_background": "light"
          }
        }
      ]
    },
    {
      "cell_type": "code",
      "metadata": {
        "id": "3itV9gCxuSK1"
      },
      "source": [
        "fc, conf_int = model.predict(n_periods=test.shape[0], return_conf_int=True)"
      ],
      "execution_count": 41,
      "outputs": []
    },
    {
      "cell_type": "code",
      "metadata": {
        "id": "Gm2sWDWCvvUa"
      },
      "source": [
        "# 상한, 하한 담기\n",
        "cap=[]\n",
        "floor=[]\n",
        "for i in conf_int:\n",
        "  cap.append(i[1])\n",
        "  floor.append(i[0])"
      ],
      "execution_count": 42,
      "outputs": []
    },
    {
      "cell_type": "code",
      "metadata": {
        "id": "KjAvpYn-vDcQ",
        "outputId": "1140d63c-6da9-455f-f2d1-5688e560c3ac",
        "colab": {
          "base_uri": "https://localhost:8080/",
          "height": 373
        }
      },
      "source": [
        "pred=pd.DataFrame({'yhat':fc,'upper':cap,'lower':floor},index=test.index)\n",
        "pred"
      ],
      "execution_count": 43,
      "outputs": [
        {
          "output_type": "execute_result",
          "data": {
            "text/html": [
              "<div>\n",
              "<style scoped>\n",
              "    .dataframe tbody tr th:only-of-type {\n",
              "        vertical-align: middle;\n",
              "    }\n",
              "\n",
              "    .dataframe tbody tr th {\n",
              "        vertical-align: top;\n",
              "    }\n",
              "\n",
              "    .dataframe thead th {\n",
              "        text-align: right;\n",
              "    }\n",
              "</style>\n",
              "<table border=\"1\" class=\"dataframe\">\n",
              "  <thead>\n",
              "    <tr style=\"text-align: right;\">\n",
              "      <th></th>\n",
              "      <th>yhat</th>\n",
              "      <th>upper</th>\n",
              "      <th>lower</th>\n",
              "    </tr>\n",
              "    <tr>\n",
              "      <th>날짜</th>\n",
              "      <th></th>\n",
              "      <th></th>\n",
              "      <th></th>\n",
              "    </tr>\n",
              "  </thead>\n",
              "  <tbody>\n",
              "    <tr>\n",
              "      <th>2020-09-21</th>\n",
              "      <td>58895.404011</td>\n",
              "      <td>61624.371382</td>\n",
              "      <td>56166.436641</td>\n",
              "    </tr>\n",
              "    <tr>\n",
              "      <th>2020-09-22</th>\n",
              "      <td>61230.447916</td>\n",
              "      <td>65089.790582</td>\n",
              "      <td>57371.105250</td>\n",
              "    </tr>\n",
              "    <tr>\n",
              "      <th>2020-09-23</th>\n",
              "      <td>61823.980954</td>\n",
              "      <td>66550.691091</td>\n",
              "      <td>57097.270816</td>\n",
              "    </tr>\n",
              "    <tr>\n",
              "      <th>2020-09-24</th>\n",
              "      <td>61021.335933</td>\n",
              "      <td>66479.270674</td>\n",
              "      <td>55563.401192</td>\n",
              "    </tr>\n",
              "    <tr>\n",
              "      <th>2020-09-25</th>\n",
              "      <td>63449.926993</td>\n",
              "      <td>69552.083541</td>\n",
              "      <td>57347.770444</td>\n",
              "    </tr>\n",
              "    <tr>\n",
              "      <th>2020-09-28</th>\n",
              "      <td>63507.911834</td>\n",
              "      <td>70192.489416</td>\n",
              "      <td>56823.334252</td>\n",
              "    </tr>\n",
              "    <tr>\n",
              "      <th>2020-09-29</th>\n",
              "      <td>63726.659975</td>\n",
              "      <td>70946.828972</td>\n",
              "      <td>56506.490977</td>\n",
              "    </tr>\n",
              "    <tr>\n",
              "      <th>2020-10-05</th>\n",
              "      <td>64262.806573</td>\n",
              "      <td>71981.491905</td>\n",
              "      <td>56544.121240</td>\n",
              "    </tr>\n",
              "    <tr>\n",
              "      <th>2020-10-06</th>\n",
              "      <td>65540.939335</td>\n",
              "      <td>73727.841446</td>\n",
              "      <td>57354.037225</td>\n",
              "    </tr>\n",
              "    <tr>\n",
              "      <th>2020-10-07</th>\n",
              "      <td>65374.275600</td>\n",
              "      <td>74004.028150</td>\n",
              "      <td>56744.523049</td>\n",
              "    </tr>\n",
              "  </tbody>\n",
              "</table>\n",
              "</div>"
            ],
            "text/plain": [
              "                    yhat         upper         lower\n",
              "날짜                                                  \n",
              "2020-09-21  58895.404011  61624.371382  56166.436641\n",
              "2020-09-22  61230.447916  65089.790582  57371.105250\n",
              "2020-09-23  61823.980954  66550.691091  57097.270816\n",
              "2020-09-24  61021.335933  66479.270674  55563.401192\n",
              "2020-09-25  63449.926993  69552.083541  57347.770444\n",
              "2020-09-28  63507.911834  70192.489416  56823.334252\n",
              "2020-09-29  63726.659975  70946.828972  56506.490977\n",
              "2020-10-05  64262.806573  71981.491905  56544.121240\n",
              "2020-10-06  65540.939335  73727.841446  57354.037225\n",
              "2020-10-07  65374.275600  74004.028150  56744.523049"
            ]
          },
          "metadata": {
            "tags": []
          },
          "execution_count": 43
        }
      ]
    },
    {
      "cell_type": "code",
      "metadata": {
        "id": "svs2bsIU3nf_",
        "outputId": "86131be5-2125-4960-cd53-62e5f7c24083",
        "colab": {
          "base_uri": "https://localhost:8080/",
          "height": 476
        }
      },
      "source": [
        "plt.figure(figsize=(12,7))\n",
        "plt.plot(df['종가'], 'green', color='blue', label='Training Data')\n",
        "plt.plot(validation.index,validation['종가'],color='green', marker='o', linestyle='dashed', label='Forecasted Price')\n",
        "plt.plot(test.index, test['종가'], color='black', label='Actual Price')\n",
        "plt.plot(pred.index, pred['yhat'], color='red', label='Predicted Price')\n",
        "plt.title('YG Stock Prices Prediction')\n",
        "plt.xlabel('Dates')\n",
        "plt.ylabel('Prices')\n",
        "#plt.xticks(np.arange(0,7982, 1300), df['Date'][0:7982:1300])\n",
        "plt.legend()"
      ],
      "execution_count": 45,
      "outputs": [
        {
          "output_type": "execute_result",
          "data": {
            "text/plain": [
              "<matplotlib.legend.Legend at 0x7fbab240e710>"
            ]
          },
          "metadata": {
            "tags": []
          },
          "execution_count": 45
        },
        {
          "output_type": "display_data",
          "data": {
            "image/png": "[encoded data removed]",
            "text/plain": [
              "<Figure size 864x504 with 1 Axes>"
            ]
          },
          "metadata": {
            "tags": [],
            "needs_background": "light"
          }
        }
      ]
    },
    {
      "cell_type": "code",
      "metadata": {
        "id": "PP0N3xlh4RC_",
        "outputId": "fcd91986-9cf8-4b02-868b-e829c6c7b04f",
        "colab": {
          "base_uri": "https://localhost:8080/",
          "height": 564
        }
      },
      "source": [
        "plt.figure(figsize=(12,7))\n",
        "plt.plot(pred.index, pred['yhat'], color='red',label='Predicted Price',marker='o')\n",
        "plt.plot(test.index, test['종가'], color='blue', label='Actual Price',marker='o')\n",
        "plt.legend()\n",
        "plt.title('YG Stock Prices Prediction')\n",
        "plt.xlabel('Dates')\n",
        "plt.ylabel('Prices')\n",
        "#plt.xticks(np.arange(6386,7982, 300), df['Date'][6386:7982:300])\n",
        "plt.legend()\n",
        "\n",
        "print('Testset Accuracy : \\n')\n",
        "print(f\"Mean squared error: {mean_squared_error(validation, forecasts)}\")\n",
        "\n",
        "print(f\"RMSE: {mean_squared_error(validation, forecasts)**0.5}\")\n",
        "print(f\"MPE: {MPE(validation['종가'], forecasts['종가'])}\")\n",
        "print(f\"SMAPE: {smape(validation, forecasts)}\")"
      ],
      "execution_count": 44,
      "outputs": [
        {
          "output_type": "stream",
          "text": [
            "Testset Accuracy : \n",
            "\n",
            "Mean squared error: 3461637.566666667\n",
            "RMSE: 1860.5476523504221\n",
            "MPE: 0.6726019180721824\n",
            "SMAPE: 3.0121711412017627\n"
          ],
          "name": "stdout"
        },
        {
          "output_type": "display_data",
          "data": {
            "image/png": "[encoded data removed]",
            "text/plain": [
              "<Figure size 864x504 with 1 Axes>"
            ]
          },
          "metadata": {
            "tags": [],
            "needs_background": "light"
          }
        }
      ]
    },
    {
      "cell_type": "code",
      "metadata": {
        "id": "xYnlh2Oar0p8"
      },
      "source": [
        "'''\n",
        "<오차지표>\n",
        "https://m.blog.naver.com/pmw9440/221813530210 참고\n",
        "\n",
        "MS: mean squared error\n",
        "RMSE: root mean squared error\n",
        "MAE: mean absolute error\n",
        "MAPE: mean absolute percent error\n",
        "MDAPE: median absolute percent error\n",
        "SMAPE: \n",
        "\n",
        "'''"
      ],
      "execution_count": null,
      "outputs": []
    },
    {
      "cell_type": "code",
      "metadata": {
        "id": "U5U51a-LXblj"
      },
      "source": [
        "'''\n",
        "n_steps = 5\n",
        "training_period = 0 + n_steps\n",
        "end = len(df) - n_steps - training_period - 10\n",
        "validation_size = 20\n",
        "start = end - validation_size\n",
        "print('start : ',start,'/ end : ',end,'/ validation_size : ',validation_size,'/ n_step : ',n_steps,'/ training_period : ',training_period)\n",
        "\n",
        "for i in range(start,end):\n",
        "  data = df[i:i+training_period+n_steps]\n",
        "\n",
        "'''"
      ],
      "execution_count": null,
      "outputs": []
    }
  ]
}
