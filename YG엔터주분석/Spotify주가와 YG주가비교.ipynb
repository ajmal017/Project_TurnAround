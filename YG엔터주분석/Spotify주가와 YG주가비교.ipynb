{
 "cells": [
  {
   "cell_type": "code",
   "execution_count": 9,
   "metadata": {},
   "outputs": [],
   "source": [
    "from pandas_datareader import data\n",
    "import matplotlib as mpl\n",
    "import matplotlib.pyplot as plt\n",
    "import pandas as pd\n",
    "%matplotlib inline\n",
    "import matplotlib.font_manager as fm\n",
    "import copy\n",
    "# 그래프에서 마이너스 폰트 깨지는 문제에 대한 대처\n",
    "mpl.rcParams['axes.unicode_minus'] = False\n",
    "import numpy as np"
   ]
  },
  {
   "cell_type": "code",
   "execution_count": 10,
   "metadata": {},
   "outputs": [
    {
     "name": "stdout",
     "output_type": "stream",
     "text": [
      "# 설정 되어있는 폰트 사이즈\n",
      "10.0\n",
      "# 설정 되어있는 폰트 글꼴\n",
      "['Malgun Gothic']\n"
     ]
    }
   ],
   "source": [
    "# 한글폰트로 설정(그래프깨짐 방지)\n",
    "\n",
    "font_list = fm.findSystemFonts(fontpaths=None, fontext='ttf')\n",
    "font_list\n",
    "\n",
    "f = [f.name for f in fm.fontManager.ttflist]\n",
    "[(f.name, f.fname) for f in fm.fontManager.ttflist if 'Malgun' in f.name]\n",
    "\n",
    "\n",
    "font_path = 'C:\\\\Windows\\\\Fonts\\\\malgun.ttf'\n",
    "font_name = fm.FontProperties(fname=font_path).get_name()\n",
    " \n",
    "#font 설정\n",
    "mpl.rc('font',family=font_name)\n",
    "\n",
    "# size, family\n",
    "print('# 설정 되어있는 폰트 사이즈')\n",
    "print (plt.rcParams['font.size'] ) \n",
    "print('# 설정 되어있는 폰트 글꼴')\n",
    "print (plt.rcParams['font.family'] )"
   ]
  },
  {
   "cell_type": "code",
   "execution_count": 13,
   "metadata": {},
   "outputs": [
    {
     "data": {
      "text/plain": [
       "'0.9.6'"
      ]
     },
     "execution_count": 13,
     "metadata": {},
     "output_type": "execute_result"
    }
   ],
   "source": [
    "import FinanceDataReader as fdr\n",
    "from pykrx import stock\n",
    "fdr.__version__"
   ]
  },
  {
   "cell_type": "code",
   "execution_count": 23,
   "metadata": {},
   "outputs": [],
   "source": [
    "\n",
    "start_date = '2013-01-02'\n",
    "end_date = '2020-08-24'\n",
    "spot_data = data.DataReader('SPOT','yahoo', start_date, end_date)\n",
    "\n",
    "spot_data.shape\n",
    "spot_data.to_csv('C:/Users/user/Project_cslee/YG엔터주분석/YG_Data/spotify_stock.csv')"
   ]
  },
  {
   "cell_type": "code",
   "execution_count": 22,
   "metadata": {},
   "outputs": [
    {
     "data": {
      "text/html": [
       "<div>\n",
       "<style scoped>\n",
       "    .dataframe tbody tr th:only-of-type {\n",
       "        vertical-align: middle;\n",
       "    }\n",
       "\n",
       "    .dataframe tbody tr th {\n",
       "        vertical-align: top;\n",
       "    }\n",
       "\n",
       "    .dataframe thead th {\n",
       "        text-align: right;\n",
       "    }\n",
       "</style>\n",
       "<table border=\"1\" class=\"dataframe\">\n",
       "  <thead>\n",
       "    <tr style=\"text-align: right;\">\n",
       "      <th></th>\n",
       "      <th>시가</th>\n",
       "      <th>고가</th>\n",
       "      <th>저가</th>\n",
       "      <th>종가</th>\n",
       "      <th>거래량</th>\n",
       "    </tr>\n",
       "    <tr>\n",
       "      <th>날짜</th>\n",
       "      <th></th>\n",
       "      <th></th>\n",
       "      <th></th>\n",
       "      <th></th>\n",
       "      <th></th>\n",
       "    </tr>\n",
       "  </thead>\n",
       "  <tbody>\n",
       "    <tr>\n",
       "      <th>2018-04-03</th>\n",
       "      <td>32050</td>\n",
       "      <td>32750</td>\n",
       "      <td>31700</td>\n",
       "      <td>32400</td>\n",
       "      <td>238284</td>\n",
       "    </tr>\n",
       "    <tr>\n",
       "      <th>2018-04-04</th>\n",
       "      <td>32450</td>\n",
       "      <td>32450</td>\n",
       "      <td>30350</td>\n",
       "      <td>30900</td>\n",
       "      <td>255279</td>\n",
       "    </tr>\n",
       "    <tr>\n",
       "      <th>2018-04-05</th>\n",
       "      <td>31100</td>\n",
       "      <td>31300</td>\n",
       "      <td>30100</td>\n",
       "      <td>30150</td>\n",
       "      <td>147718</td>\n",
       "    </tr>\n",
       "    <tr>\n",
       "      <th>2018-04-06</th>\n",
       "      <td>30150</td>\n",
       "      <td>30800</td>\n",
       "      <td>29550</td>\n",
       "      <td>29850</td>\n",
       "      <td>154638</td>\n",
       "    </tr>\n",
       "    <tr>\n",
       "      <th>2018-04-09</th>\n",
       "      <td>30150</td>\n",
       "      <td>30800</td>\n",
       "      <td>30050</td>\n",
       "      <td>30550</td>\n",
       "      <td>120177</td>\n",
       "    </tr>\n",
       "    <tr>\n",
       "      <th>...</th>\n",
       "      <td>...</td>\n",
       "      <td>...</td>\n",
       "      <td>...</td>\n",
       "      <td>...</td>\n",
       "      <td>...</td>\n",
       "    </tr>\n",
       "    <tr>\n",
       "      <th>2020-08-18</th>\n",
       "      <td>49000</td>\n",
       "      <td>49300</td>\n",
       "      <td>46050</td>\n",
       "      <td>46750</td>\n",
       "      <td>720514</td>\n",
       "    </tr>\n",
       "    <tr>\n",
       "      <th>2020-08-19</th>\n",
       "      <td>46750</td>\n",
       "      <td>49900</td>\n",
       "      <td>46200</td>\n",
       "      <td>49300</td>\n",
       "      <td>857261</td>\n",
       "    </tr>\n",
       "    <tr>\n",
       "      <th>2020-08-20</th>\n",
       "      <td>48800</td>\n",
       "      <td>48800</td>\n",
       "      <td>46000</td>\n",
       "      <td>46500</td>\n",
       "      <td>642998</td>\n",
       "    </tr>\n",
       "    <tr>\n",
       "      <th>2020-08-21</th>\n",
       "      <td>46700</td>\n",
       "      <td>47500</td>\n",
       "      <td>44700</td>\n",
       "      <td>46700</td>\n",
       "      <td>425496</td>\n",
       "    </tr>\n",
       "    <tr>\n",
       "      <th>2020-08-24</th>\n",
       "      <td>46100</td>\n",
       "      <td>47150</td>\n",
       "      <td>45100</td>\n",
       "      <td>46800</td>\n",
       "      <td>258061</td>\n",
       "    </tr>\n",
       "  </tbody>\n",
       "</table>\n",
       "<p>589 rows × 5 columns</p>\n",
       "</div>"
      ],
      "text/plain": [
       "               시가     고가     저가     종가     거래량\n",
       "날짜                                            \n",
       "2018-04-03  32050  32750  31700  32400  238284\n",
       "2018-04-04  32450  32450  30350  30900  255279\n",
       "2018-04-05  31100  31300  30100  30150  147718\n",
       "2018-04-06  30150  30800  29550  29850  154638\n",
       "2018-04-09  30150  30800  30050  30550  120177\n",
       "...           ...    ...    ...    ...     ...\n",
       "2020-08-18  49000  49300  46050  46750  720514\n",
       "2020-08-19  46750  49900  46200  49300  857261\n",
       "2020-08-20  48800  48800  46000  46500  642998\n",
       "2020-08-21  46700  47500  44700  46700  425496\n",
       "2020-08-24  46100  47150  45100  46800  258061\n",
       "\n",
       "[589 rows x 5 columns]"
      ]
     },
     "execution_count": 22,
     "metadata": {},
     "output_type": "execute_result"
    }
   ],
   "source": [
    "df = stock.get_market_ohlcv_by_date(\"20180403\", \"20200824\", \"122870\")\n",
    "# df = stock.get_market_ohlcv_by_date(\"20180810\", \"20181212\", \"005930\", \"m\") d : 일 m : 월, y : 년도\n",
    "df.shape\n",
    "df"
   ]
  },
  {
   "cell_type": "code",
   "execution_count": 26,
   "metadata": {},
   "outputs": [
    {
     "data": {
      "text/plain": [
       "'\\nfig = plt.figure(figsize=(10, 10))\\nax1 = fig.add_subplot()\\nax2 = ax1.twinx()\\n\\nx=\\ny_spot=spot_data[\\'Close\\']\\ny_YG=df[\\'종가\\']\\ncurve1, = ax1.plot(x, y, label=\"sin\", color=\\'r\\')\\ncurve2, = ax2.plot(x, z, label=\"sinh\", color=\\'b\\')\\n'"
      ]
     },
     "execution_count": 26,
     "metadata": {},
     "output_type": "execute_result"
    }
   ],
   "source": [
    "'''\n",
    "fig = plt.figure(figsize=(10, 10))\n",
    "ax1 = fig.add_subplot()\n",
    "ax2 = ax1.twinx()\n",
    "\n",
    "x=\n",
    "y_spot=spot_data['Close']\n",
    "y_YG=df['종가']\n",
    "curve1, = ax1.plot(x, y, label=\"sin\", color='r')\n",
    "curve2, = ax2.plot(x, z, label=\"sinh\", color='b')\n",
    "'''\n"
   ]
  },
  {
   "cell_type": "code",
   "execution_count": 28,
   "metadata": {},
   "outputs": [
    {
     "data": {
      "image/png": "[encoded data removed]",
      "text/plain": [
       "<Figure size 720x720 with 2 Axes>"
      ]
     },
     "metadata": {
      "needs_background": "light"
     },
     "output_type": "display_data"
    }
   ],
   "source": [
    "fig = plt.figure(figsize=(10, 10))\n",
    "ax1 = fig.add_subplot(2,1,1)\n",
    "ax2 = fig.add_subplot(2,1,2)\n",
    "\n",
    "ax1.plot(spot_data['Close'], color='b')\n",
    "ax2.plot(df['종가'],color='r')\n",
    "ax1.set_title('Spotify 주가',fontsize=15)\n",
    "ax2.set_title(\"YG 주가\", fontsize=15)\n",
    "plt.show()"
   ]
  },
  {
   "cell_type": "code",
   "execution_count": null,
   "metadata": {},
   "outputs": [],
   "source": [
    "\n",
    "\n",
    "ax.plot(,'k-')  # k-- : 점선, k- : 실선 \n"
   ]
  }
 ],
 "metadata": {
  "kernelspec": {
   "display_name": "Python 3",
   "language": "python",
   "name": "python3"
  },
  "language_info": {
   "codemirror_mode": {
    "name": "ipython",
    "version": 3
   },
   "file_extension": ".py",
   "mimetype": "text/x-python",
   "name": "python",
   "nbconvert_exporter": "python",
   "pygments_lexer": "ipython3",
   "version": "3.7.6"
  }
 },
 "nbformat": 4,
 "nbformat_minor": 4
}
