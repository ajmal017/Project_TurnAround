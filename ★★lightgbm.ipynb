{
  "nbformat": 4,
  "nbformat_minor": 0,
  "metadata": {
    "colab": {
      "name": "★★lightgbm.ipynb",
      "provenance": [],
      "toc_visible": true,
      "mount_file_id": "1zEo1ZlqwcIymXwClHQE1LvppVKafPhnq",
      "authorship_tag": "ABX9TyOcnI+McXZuFQt2H8Nm2dO3",
      "include_colab_link": true
    },
    "kernelspec": {
      "name": "python3",
      "display_name": "Python 3"
    }
  },
  "cells": [
    {
      "cell_type": "markdown",
      "metadata": {
        "id": "view-in-github",
        "colab_type": "text"
      },
      "source": [
        "<a href=\"https://colab.research.google.com/github/ejihoon6065/Project_TurnAround/blob/master/%E2%98%85%E2%98%85lightgbm.ipynb\" target=\"_parent\"><img src=\"https://colab.research.google.com/assets/colab-badge.svg\" alt=\"Open In Colab\"/></a>"
      ]
    },
    {
      "cell_type": "code",
      "metadata": {
        "id": "_Qt29GNCGZx1"
      },
      "source": [
        "# https://wikidocs.net/35341\n",
        "# https://www.kaggle.com/samratp/lightgbm-xgboost-catboost"
      ],
      "execution_count": null,
      "outputs": []
    },
    {
      "cell_type": "code",
      "metadata": {
        "id": "4H2JUf31ioDE"
      },
      "source": [
        "from lightgbm import LGBMClassifier, plot_importance"
      ],
      "execution_count": 5,
      "outputs": []
    },
    {
      "cell_type": "code",
      "metadata": {
        "id": "emqbvfz9jsYX"
      },
      "source": [
        "import numpy as np\n",
        "from sklearn.model_selection import train_test_split"
      ],
      "execution_count": 9,
      "outputs": []
    },
    {
      "cell_type": "code",
      "metadata": {
        "id": "Yz2B8c9Aj4ZY"
      },
      "source": [
        "X = pd.read_csv('/content/drive/My Drive/19년 20년 통합_임시.csv', encoding=\"CP949\")\n",
        "Y = pd.read_csv('/content/drive/My Drive/19년 20년 통합_y.csv', encoding=\"CP949\")"
      ],
      "execution_count": 182,
      "outputs": []
    },
    {
      "cell_type": "code",
      "metadata": {
        "id": "2lanC2fPjnHf"
      },
      "source": [
        "X_train, X_test, Y_train, Y_test = train_test_split(X, Y, test_size=0.33, random_state=321)"
      ],
      "execution_count": 183,
      "outputs": []
    },
    {
      "cell_type": "code",
      "metadata": {
        "id": "qG2r5LeqnoeW",
        "outputId": "d82d88f5-6a58-458f-fc27-f96f969621d8",
        "colab": {
          "base_uri": "https://localhost:8080/",
          "height": 233
        }
      },
      "source": [
        "Y_train=Y_train['labeling']\n",
        "Y_train"
      ],
      "execution_count": 184,
      "outputs": [
        {
          "output_type": "execute_result",
          "data": {
            "text/plain": [
              "381    1\n",
              "239    1\n",
              "480    1\n",
              "146    0\n",
              "323    1\n",
              "      ..\n",
              "410    1\n",
              "168    0\n",
              "401    1\n",
              "124    0\n",
              "538    1\n",
              "Name: labeling, Length: 420, dtype: int64"
            ]
          },
          "metadata": {
            "tags": []
          },
          "execution_count": 184
        }
      ]
    },
    {
      "cell_type": "code",
      "metadata": {
        "id": "zekshnZWprNY",
        "outputId": "ab77e74d-afd1-4fbc-9a8a-0c50c0b06e9c",
        "colab": {
          "base_uri": "https://localhost:8080/",
          "height": 35
        }
      },
      "source": [
        "X_train=X_train.iloc[:,0:15]\n",
        "X_train.shape"
      ],
      "execution_count": 185,
      "outputs": [
        {
          "output_type": "execute_result",
          "data": {
            "text/plain": [
              "(420, 15)"
            ]
          },
          "metadata": {
            "tags": []
          },
          "execution_count": 185
        }
      ]
    },
    {
      "cell_type": "code",
      "metadata": {
        "id": "OANO8HDYv0Ks"
      },
      "source": [
        "X_train_index=X_train['0']"
      ],
      "execution_count": 186,
      "outputs": []
    },
    {
      "cell_type": "code",
      "metadata": {
        "id": "-26EUylE0F46"
      },
      "source": [
        "X_train=X_train.iloc[:,0:15]\n",
        "index_len=X_train.shape[0]\n",
        "X_train.index=range(0,index_len)"
      ],
      "execution_count": 187,
      "outputs": []
    },
    {
      "cell_type": "code",
      "metadata": {
        "id": "09JjCSX-4ZbO",
        "outputId": "2436c4c9-523e-4704-df69-6afb16cba1a4",
        "colab": {
          "base_uri": "https://localhost:8080/",
          "height": 287
        }
      },
      "source": [
        "X_train.iloc[0,1:]"
      ],
      "execution_count": 189,
      "outputs": [
        {
          "output_type": "execute_result",
          "data": {
            "text/plain": [
              "1                       베트남 자동차 시장 경쟁 치열…앞다퉈 생산 확대\n",
              "2                  '배기가스 조작' 폭스바겐, 캐나다서 과징금 1천700억\n",
              "3                         두산重 파워서비스BG장에 박홍욱 부사장 선임\n",
              "4     윤종원 기업은행장 \"사태 장기화돼 마음 아파…전향적인 자세로 노조와 대화할 것\"\n",
              "5             최태원 SK 회장, 다보스포럼서 사회적가치 추구 성과 공유(종합)\n",
              "6      다보스포럼 패널로 등장한 최태원 SK그룹 회장 \"사회적 가치 측정 고도화해야\"\n",
              "7                  최태원, 다보스포럼 공식 초청…사회적가치 추구 성과 공유\n",
              "8            설 앞두고 시중에 5조6천억원 풀려…한은서 신권 7천건 교환(종합)\n",
              "9                       금주(1월 17일~23일)의 신설법인 1231개\n",
              "10               대전시, 방사성 물질 누출 원자력연구원에 사과·재발방지 요구\n",
              "11                   한은 설연휴 '우한 폐렴' 여파 주시…28일 점검회의\n",
              "12                대한항공·아시아나 노조, '우한폐렴' 승무원 안전체계 촉구\n",
              "13                화천 야생멧돼지 폐사체서 ASF 3건 추가 확진…총 98건\n",
              "14                        세종시 산울리 공동주택 설계공모 당선작 발표\n",
              "Name: 0, dtype: object"
            ]
          },
          "metadata": {
            "tags": []
          },
          "execution_count": 189
        }
      ]
    },
    {
      "cell_type": "code",
      "metadata": {
        "id": "chFRgcuhyffY",
        "outputId": "b440fd42-c799-405d-a367-4cf9a527d35b",
        "colab": {
          "base_uri": "https://localhost:8080/",
          "height": 53
        }
      },
      "source": [
        "pip install PyKomoran"
      ],
      "execution_count": 140,
      "outputs": [
        {
          "output_type": "stream",
          "text": [
            "Requirement already satisfied: PyKomoran in /usr/local/lib/python3.6/dist-packages (0.1.5)\n",
            "Requirement already satisfied: py4j==0.10.8.1 in /usr/local/lib/python3.6/dist-packages (from PyKomoran) (0.10.8.1)\n"
          ],
          "name": "stdout"
        }
      ]
    },
    {
      "cell_type": "code",
      "metadata": {
        "id": "XyuyxDnpuJx4",
        "outputId": "af2e65fc-243c-4f7d-8e11-30fd1690d29c",
        "colab": {
          "base_uri": "https://localhost:8080/",
          "height": 32
        }
      },
      "source": [
        "# bag of words \n",
        "from PyKomoran import *\n",
        "\n",
        "date_index=X_train_index\n",
        "words=[]"
      ],
      "execution_count": 165,
      "outputs": [
        {
          "output_type": "execute_result",
          "data": {
            "text/html": [
              "<div>\n",
              "<style scoped>\n",
              "    .dataframe tbody tr th:only-of-type {\n",
              "        vertical-align: middle;\n",
              "    }\n",
              "\n",
              "    .dataframe tbody tr th {\n",
              "        vertical-align: top;\n",
              "    }\n",
              "\n",
              "    .dataframe thead th {\n",
              "        text-align: right;\n",
              "    }\n",
              "</style>\n",
              "<table border=\"1\" class=\"dataframe\">\n",
              "  <thead>\n",
              "    <tr style=\"text-align: right;\">\n",
              "      <th></th>\n",
              "    </tr>\n",
              "  </thead>\n",
              "  <tbody>\n",
              "  </tbody>\n",
              "</table>\n",
              "</div>"
            ],
            "text/plain": [
              "Empty DataFrame\n",
              "Columns: []\n",
              "Index: []"
            ]
          },
          "metadata": {
            "tags": []
          },
          "execution_count": 165
        }
      ]
    },
    {
      "cell_type": "code",
      "metadata": {
        "id": "g73OHa_B4mVh",
        "outputId": "9e932f1a-7a3e-419e-80bd-c49c9f1e72b3",
        "colab": {
          "base_uri": "https://localhost:8080/",
          "height": 1000
        }
      },
      "source": [
        "X_train"
      ],
      "execution_count": 190,
      "outputs": [
        {
          "output_type": "execute_result",
          "data": {
            "text/html": [
              "<div>\n",
              "<style scoped>\n",
              "    .dataframe tbody tr th:only-of-type {\n",
              "        vertical-align: middle;\n",
              "    }\n",
              "\n",
              "    .dataframe tbody tr th {\n",
              "        vertical-align: top;\n",
              "    }\n",
              "\n",
              "    .dataframe thead th {\n",
              "        text-align: right;\n",
              "    }\n",
              "</style>\n",
              "<table border=\"1\" class=\"dataframe\">\n",
              "  <thead>\n",
              "    <tr style=\"text-align: right;\">\n",
              "      <th></th>\n",
              "      <th>0</th>\n",
              "      <th>1</th>\n",
              "      <th>2</th>\n",
              "      <th>3</th>\n",
              "      <th>4</th>\n",
              "      <th>5</th>\n",
              "      <th>6</th>\n",
              "      <th>7</th>\n",
              "      <th>8</th>\n",
              "      <th>9</th>\n",
              "      <th>10</th>\n",
              "      <th>11</th>\n",
              "      <th>12</th>\n",
              "      <th>13</th>\n",
              "      <th>14</th>\n",
              "    </tr>\n",
              "  </thead>\n",
              "  <tbody>\n",
              "    <tr>\n",
              "      <th>0</th>\n",
              "      <td>2020.01.23</td>\n",
              "      <td>베트남 자동차 시장 경쟁 치열…앞다퉈 생산 확대</td>\n",
              "      <td>'배기가스 조작' 폭스바겐, 캐나다서 과징금 1천700억</td>\n",
              "      <td>두산重 파워서비스BG장에 박홍욱 부사장 선임</td>\n",
              "      <td>윤종원 기업은행장 \"사태 장기화돼 마음 아파…전향적인 자세로 노조와 대화할 것\"</td>\n",
              "      <td>최태원 SK 회장, 다보스포럼서 사회적가치 추구 성과 공유(종합)</td>\n",
              "      <td>다보스포럼 패널로 등장한 최태원 SK그룹 회장 \"사회적 가치 측정 고도화해야\"</td>\n",
              "      <td>최태원, 다보스포럼 공식 초청…사회적가치 추구 성과 공유</td>\n",
              "      <td>설 앞두고 시중에 5조6천억원 풀려…한은서 신권 7천건 교환(종합)</td>\n",
              "      <td>금주(1월 17일~23일)의 신설법인 1231개</td>\n",
              "      <td>대전시, 방사성 물질 누출 원자력연구원에 사과·재발방지 요구</td>\n",
              "      <td>한은 설연휴 '우한 폐렴' 여파 주시…28일 점검회의</td>\n",
              "      <td>대한항공·아시아나 노조, '우한폐렴' 승무원 안전체계 촉구</td>\n",
              "      <td>화천 야생멧돼지 폐사체서 ASF 3건 추가 확진…총 98건</td>\n",
              "      <td>세종시 산울리 공동주택 설계공모 당선작 발표</td>\n",
              "    </tr>\n",
              "    <tr>\n",
              "      <th>1</th>\n",
              "      <td>2019.09.03</td>\n",
              "      <td>트럼프, 中무역협상 지연 경고…\"재선되면 합의 더 어려워질 것\"</td>\n",
              "      <td>英과 브렉시트 협상 촉구한 펜스에 버라드커 기존 탈퇴협정 고수</td>\n",
              "      <td>유럽-이란, 핵합의 명운 건 막판 '불꽃접촉'…\"美 용인 관건\"(종합2보)</td>\n",
              "      <td>伊 오성운동-민주당 새 연정 정책안 합의…난민정책 완화될듯</td>\n",
              "      <td>벨기에 앤트워프서 폭발로 일부 가옥 붕괴…\"최소 2명 부상\"</td>\n",
              "      <td>남아공서 외국인 소유 상점 대거 약탈…'제노포비아' 논란(종합)</td>\n",
              "      <td>NYT \"北 단거리미사일, 미군 3만명 주둔 韓·日기지 8곳 사정권\"(종합)</td>\n",
              "      <td>홍콩 동맹휴학·총파업 이틀째…경찰 또 무더기 검거작전(종합)</td>\n",
              "      <td>시진핑 \"집중된 위험…투쟁은 장기적일 것\"</td>\n",
              "      <td>유엔 \"예멘 내전 책임자 명단, 인권최고대표에 제출\"</td>\n",
              "      <td>伊 베네치아 내년부터 옥외 흡연 금지 추진</td>\n",
              "      <td>유럽-이란, 핵합의 명운 건 막판 '불꽃 접촉'…\"美 용인 관건\"(종합)</td>\n",
              "      <td>中 화웨이, 일본에 \"소스코드 공개할 테니 검증하라\" 제안</td>\n",
              "      <td>홍콩 행정장관, \"관두고 싶다\" 녹취 공개되자 \"사퇴는 없다\"(종합2보)</td>\n",
              "    </tr>\n",
              "    <tr>\n",
              "      <th>2</th>\n",
              "      <td>2020.05.03</td>\n",
              "      <td>홍남기 \"생활방역 전환은 경제회복 불씨 댕길 티핑포인트\"</td>\n",
              "      <td>靑 '전국민 고용보험' 과제 언급…기재차관 \"고용제도 보수해야\"(종합)</td>\n",
              "      <td>S&amp;amp;P \"한국 올 성장률 마이너스로 떨어져도 내년엔 5% 이상 반등\"</td>\n",
              "      <td>전통시장은 이미 코로나 이전으로 …</td>\n",
              "      <td>연휴에 여행 대신 '명품백' 질렀다</td>\n",
              "      <td>\"입으면 시원해져요\"…여름 패션 키워드 '냉감 소재'</td>\n",
              "      <td>롯데마트, 토마토 소비촉진 행사</td>\n",
              "      <td>세븐일레븐, 가족사랑 선물세트</td>\n",
              "      <td>이마트, 무항생제 생닭만 판매</td>\n",
              "      <td>CU, 제로페이 5% 추가 할인</td>\n",
              "      <td>완구업계 '언택트 제품' 출시 봇물</td>\n",
              "      <td>수출 중소기업에 최대 1억 지원</td>\n",
              "      <td>펫 드라이룸·공기청정기…반려동물 공략 나선 소형 가전업체</td>\n",
              "      <td>현대·기아차, 美서 투싼·팰리세이드 앞세워 '4월 공포' 넘겨</td>\n",
              "    </tr>\n",
              "    <tr>\n",
              "      <th>3</th>\n",
              "      <td>2019.06.02</td>\n",
              "      <td>맥매스터 \"北, 미국 등 전세계에 '핵 위협' 할 수 있어\"</td>\n",
              "      <td>비건 \"지속적 협상 통해 북미 갈라놓은 차이 좁힐 것으로 확신\"</td>\n",
              "      <td>아프리카 탄자니아도 비닐봉지 금지…사용하면 벌금</td>\n",
              "      <td>美국방대행, 중단된 한미훈련 재개 질문에 \"필요하다 생각 안해\"</td>\n",
              "      <td>다뉴브강 수위 하루사이 26cm 하강…빠른 속도로 낮아질 듯</td>\n",
              "      <td>日 아베, 오는 7일 통산 재임일수 2천721일…역대 3위</td>\n",
              "      <td>獨 대연정 소수파 사민당 대표 사임…유럽의회 선거부진 여파</td>\n",
              "      <td>아프간 카불서 또 연쇄 폭탄테러…1명 사망·17명 부상</td>\n",
              "      <td>다시 흔들리는 獨 대연정…사민당 대표 퇴장 여파는</td>\n",
              "      <td>대한항공 여객기, 日 오키나와 공항서 활주로 진입후 이륙 중단</td>\n",
              "      <td>추돌-전진-후진-전진…뺑소니 의혹 커지는 크루즈 2분50초 행적</td>\n",
              "      <td>\"가이드 적성이라며 좋아했는데…아들 빨리 찾아 데려나 갔으면\"</td>\n",
              "      <td>유럽의회 선거 참패에 날레스 독일 사민당 대표 사퇴</td>\n",
              "      <td>헝가리 잠수사 \"수중서 몸 가누기도 어려워…시계 제로\"</td>\n",
              "    </tr>\n",
              "    <tr>\n",
              "      <th>4</th>\n",
              "      <td>2019.11.26</td>\n",
              "      <td>서울반도체, 5G 반도체·스마트조명 등 198개 특허 독일서 경매</td>\n",
              "      <td>르노삼성 트위지 시승한 아세안 기업인들</td>\n",
              "      <td>현대차, 인니에 1조8천억 車공장…'일본차 아성' 공략 나선다(종합)</td>\n",
              "      <td>BAT코리아 '글로 프로' 출시</td>\n",
              "      <td>신격호 롯데 명예회장, 또 아산병원 입원…\"탈수 증세\"</td>\n",
              "      <td>현대차, 인니에 완성차 공장 세운다</td>\n",
              "      <td>JP모건 \"내년 한국 경제성장률 2.3% 전망\"</td>\n",
              "      <td>이니스트에스티, 의약품 원료 공급→글로벌 바이오 제약사로 도약</td>\n",
              "      <td>한화갤러리아, 타임월드 완전 자회사 편입 추진한다</td>\n",
              "      <td>올리브영서 올해 가장 잘 팔린 화장품 보니…'색조 화장'이 대세였네</td>\n",
              "      <td>오리온 \"제주 용암수로 에비앙과 경쟁하겠다\"</td>\n",
              "      <td>'광주형 일자리' 합작법인 사무실 개소…업무 본격 시작</td>\n",
              "      <td>수도권 5등급 차량 운행 내년 2∼3월 집중단속…28만2천대 대상</td>\n",
              "      <td>현대차, 인도네시아에 1조8천억 투자…아세안車 25만대 공략</td>\n",
              "    </tr>\n",
              "    <tr>\n",
              "      <th>...</th>\n",
              "      <td>...</td>\n",
              "      <td>...</td>\n",
              "      <td>...</td>\n",
              "      <td>...</td>\n",
              "      <td>...</td>\n",
              "      <td>...</td>\n",
              "      <td>...</td>\n",
              "      <td>...</td>\n",
              "      <td>...</td>\n",
              "      <td>...</td>\n",
              "      <td>...</td>\n",
              "      <td>...</td>\n",
              "      <td>...</td>\n",
              "      <td>...</td>\n",
              "      <td>...</td>\n",
              "    </tr>\n",
              "    <tr>\n",
              "      <th>415</th>\n",
              "      <td>2020.02.22</td>\n",
              "      <td>코로나19 확산…대구 '그린에너지엑스포' 7월로 연기</td>\n",
              "      <td>코로나19 충격에…중 인민은행 기준금리 조정 시사</td>\n",
              "      <td>삼성전자 구미사업장 직원 확진에 일시 폐쇄…생산 차질 우려(종합)</td>\n",
              "      <td>NH농협은행, 임시 폐쇄한 대구 영업점 4곳…24일 정상 영업</td>\n",
              "      <td>농협은행, 대구지역 임시폐쇄 점포 4곳 24일부터 정상영업</td>\n",
              "      <td>삼성전자 구미사업장 직원 확진에 일시 폐쇄…생산 차질 우려</td>\n",
              "      <td>[단독] 삼성전자 구미사업장 코로나 확진자 발생…24일 오전까지 사업장 폐쇄</td>\n",
              "      <td>[영상]'택시 VS 렌탈' 갈등 원점으로/'반쪽 행사' 우려되는 부산모터쇼/전기차 ...</td>\n",
              "      <td>금융당국 \"회계사 1차시험 23일 그대로 실시…연기시 별도 안내\"</td>\n",
              "      <td>주유소 기름값 하락폭 확대…\"코로나19 영향 가시화\"</td>\n",
              "      <td>코로나로 세계 경기 위축되나…미·일 등 2월 PMI 악화</td>\n",
              "      <td>삼성전자, 갤럭시S20으로 8K TV 콘텐츠 확대 나선다</td>\n",
              "      <td>'코로나 패닉' 경제·통화정책 쏟아내나…다음주 종합경기대책·27일 금통위</td>\n",
              "      <td>울산전담여행사 10곳 지정…지역 관광상품 개발 앞장</td>\n",
              "    </tr>\n",
              "    <tr>\n",
              "      <th>416</th>\n",
              "      <td>2019.06.24</td>\n",
              "      <td>벨기에 대테러당국 \"美 대사관 테러 기획한 남성 체포\"</td>\n",
              "      <td>브라질, 올해 성장률 전망치 또 하향조정할듯…1% 밑돌 가능성</td>\n",
              "      <td>\"EU 식품 약 3분의 1, 성분 다른데도 동일·유사상표로 판매\"</td>\n",
              "      <td>WTO \"G20, 8개월동안 20개 무역규제 도입…증가 추세\"</td>\n",
              "      <td>트럼프 \"연준, 금리 내려야할 때 고집센 아이처럼 꼼짝 안 해\"</td>\n",
              "      <td>북아프리카 스페인령 세우타 이슬람교회당에 괴한들 총격</td>\n",
              "      <td>이스탄불 재선거 野 승리에 '터키 자산' 강세…\"불확실성 해소\"(종합)</td>\n",
              "      <td>트럼프, 이란 갈등 고조 속 \"각국이 자국 유조선 보호해야\"</td>\n",
              "      <td>독일서 유로파이터 전투기 2대 추락…조종사들 탈출</td>\n",
              "      <td>홍콩 행정장관 '고립무원'…친중국 최대 정당도 '송환법 철회'로(종합)</td>\n",
              "      <td>\"중앙아 카자흐 남부서 군 탄약고 폭발…최소 16명 부상\"(종합)</td>\n",
              "      <td>'북한 카드' 쥔 시진핑, 이번주 G20서 트럼프와 세기의 담판(종합)</td>\n",
              "      <td>푸틴 대통령, 對서방 식료품 금수 제재 내년 말까지 또 연장</td>\n",
              "      <td>스웨덴, 中 부패사범 중국에 인도 거부…\"홍콩 시위 영향\"</td>\n",
              "    </tr>\n",
              "    <tr>\n",
              "      <th>417</th>\n",
              "      <td>2020.02.13</td>\n",
              "      <td>러시아산 킹크랩 반값</td>\n",
              "      <td>우리카드, 아파트 관리비 전용 '카드의정석 APT' 카드 출시</td>\n",
              "      <td>롯데케미칼-GS에너지 합작 '롯데GS화학'출범</td>\n",
              "      <td>'反조원태' KCGI, 실탄 마련·이사회 장악으로 장기전 나서나</td>\n",
              "      <td>정부, '수용성' 풍선효과 판단…내주 초 '조정대상지역' 확대(종합2보)</td>\n",
              "      <td>'조현아 연합군'의 재반격…이사회 과반 확보해 조원태 견제하나(종합)</td>\n",
              "      <td>대구시장 \"경북도지사와 함께 신공항 선정위 개최 요청\"(종합)</td>\n",
              "      <td>엔씨 '리니지2M'·넥슨 'V4' 올라탔는데…신작 밀린 넷마블 부진</td>\n",
              "      <td>'기생충' 효과에 웃은 CJ ENM…작년 영업익 9.5%↑(종합)</td>\n",
              "      <td>조현아 연합군, 김신배 포스코 이사회의장 등 8명 이사후보 제안(종합)</td>\n",
              "      <td>권영수 부회장, LG화학 이사회 의장도 맡을 듯</td>\n",
              "      <td>'조현아 연합군' 조원태에 맞불…한진칼 사내·사외이사 8명 추천</td>\n",
              "      <td>현대상선 작년 영업손실 3천40억원…전년 대비 45.6% 개선</td>\n",
              "      <td>상조공제조합 이사장 자격 개정…공정위 '밥그릇 챙기기' 논란</td>\n",
              "    </tr>\n",
              "    <tr>\n",
              "      <th>418</th>\n",
              "      <td>2020.05.11</td>\n",
              "      <td>사우디 솔선수범에 쿠웨이트도 추가 감산…'일 8만 배럴'</td>\n",
              "      <td>뉴욕증시, 한·중·독 코로나19 재유행 우려에 하락 출발</td>\n",
              "      <td>삼척시, 올해 수소차 172대 보급…74억 투입</td>\n",
              "      <td>테슬라, 정부 반대 무시하고 공장 재가동</td>\n",
              "      <td>사우디 \"원유, 6월에는 하루 100만 배럴 더 감산\"</td>\n",
              "      <td>\"중국, 코로나19로 연말 9%대 실업률·사회불안 우려\"</td>\n",
              "      <td>주민 폭행에 극단선택 경비원…경비초소 분향소엔 주민 추모물결(종합2보)</td>\n",
              "      <td>5대그룹 임원들, 긴급재난지원금 자발적 기부한다</td>\n",
              "      <td>'초슈퍼예산' 총괄 기재부 예산실장에 안도걸 예산총괄심의관</td>\n",
              "      <td>경기도 '착한여행 캠페인' 첫날…관광지 17곳 입장권 '완판'</td>\n",
              "      <td>미래에셋 미국 호텔인수 취소 소송전, 오는 8월 시작</td>\n",
              "      <td>GS칼텍스 1분기 영업적자 1조 넘었다…창사 후 최악 실적</td>\n",
              "      <td>미래에셋 美호텔인수 취소 둘러싼 소송, 8월 첫 재판(종합)</td>\n",
              "      <td>강남구 프리미엄 독서실 작심 대표 \"대학진학 대신 창업…'K독서실' 수출하겠다\"</td>\n",
              "    </tr>\n",
              "    <tr>\n",
              "      <th>419</th>\n",
              "      <td>2020.07.01</td>\n",
              "      <td>중국 온라인여행사 '한국 관광상품' 판매에 200만명 지켜봤다</td>\n",
              "      <td>3분의 1 불과한 '강성' 현장파…사회적 대화 줄곧 반대</td>\n",
              "      <td>증선위 '회계처리 위반' 도암엔지니어링에 임원해임 권고</td>\n",
              "      <td>핵연료 재검토위원장 김소영 교수</td>\n",
              "      <td>카카오페이증권 \"생활밀착형 투자문화 확산시킬 것\"(종합)</td>\n",
              "      <td>사용후핵연료 관리정책재검토위 새 위원장에 김소영 KAIST 교수</td>\n",
              "      <td>도로교통공단, '모바일운전면허 확인 서비스' 도입</td>\n",
              "      <td>코로나 대출 '끼워팔기' 했나…금감원, 시중은행 점검</td>\n",
              "      <td>한진칼 BW 공모 청약 7조원 몰려…경쟁률 24.45대 1</td>\n",
              "      <td>요진건설, 평택 고덕서 1천100억대 지식산업센터 공사 수주</td>\n",
              "      <td>年 700억 CO 경보기 시장 열린다</td>\n",
              "      <td>\"티셔츠처럼 편하다\" 日 엄마들도 반한 '코니 아기띠'</td>\n",
              "      <td>다산신도시 택배대란 재현되나…차량 진입 막히자 배송 거부</td>\n",
              "      <td>[포토] KS-SQI 인증 수여식</td>\n",
              "    </tr>\n",
              "  </tbody>\n",
              "</table>\n",
              "<p>420 rows × 15 columns</p>\n",
              "</div>"
            ],
            "text/plain": [
              "              0  ...                                            14\n",
              "0    2020.01.23  ...                      세종시 산울리 공동주택 설계공모 당선작 발표\n",
              "1    2019.09.03  ...      홍콩 행정장관, \"관두고 싶다\" 녹취 공개되자 \"사퇴는 없다\"(종합2보)\n",
              "2    2020.05.03  ...            현대·기아차, 美서 투싼·팰리세이드 앞세워 '4월 공포' 넘겨\n",
              "3    2019.06.02  ...                헝가리 잠수사 \"수중서 몸 가누기도 어려워…시계 제로\"\n",
              "4    2019.11.26  ...             현대차, 인도네시아에 1조8천억 투자…아세안車 25만대 공략\n",
              "..          ...  ...                                           ...\n",
              "415  2020.02.22  ...                  울산전담여행사 10곳 지정…지역 관광상품 개발 앞장\n",
              "416  2019.06.24  ...              스웨덴, 中 부패사범 중국에 인도 거부…\"홍콩 시위 영향\"\n",
              "417  2020.02.13  ...             상조공제조합 이사장 자격 개정…공정위 '밥그릇 챙기기' 논란\n",
              "418  2020.05.11  ...  강남구 프리미엄 독서실 작심 대표 \"대학진학 대신 창업…'K독서실' 수출하겠다\"\n",
              "419  2020.07.01  ...                            [포토] KS-SQI 인증 수여식\n",
              "\n",
              "[420 rows x 15 columns]"
            ]
          },
          "metadata": {
            "tags": []
          },
          "execution_count": 190
        }
      ]
    },
    {
      "cell_type": "code",
      "metadata": {
        "id": "fpzYBA9p5Hx7",
        "outputId": "8f122b51-9e49-4fec-86c6-61db2acb8f09",
        "colab": {
          "base_uri": "https://localhost:8080/",
          "height": 35
        }
      },
      "source": [
        "print(X_train.shape)"
      ],
      "execution_count": 191,
      "outputs": [
        {
          "output_type": "stream",
          "text": [
            "(420, 15)\n"
          ],
          "name": "stdout"
        }
      ]
    },
    {
      "cell_type": "code",
      "metadata": {
        "id": "anKxD3Nz11QB",
        "outputId": "265a2438-1936-4fa3-fb1d-60f153846742",
        "colab": {
          "base_uri": "https://localhost:8080/",
          "height": 53
        }
      },
      "source": [
        "lst=[]\n",
        "lst_date=[]\n",
        "for i in range(0,X_train.shape[0]):\n",
        "  for j in range(len(X_train.iloc[i,:])):\n",
        "    \n",
        "    if j>=1:\n",
        "      lst_date.append(X_train.iloc[i,0])\n",
        "      lst.append(X_train.iloc[i,j])\n",
        "\n",
        "    \n",
        "print(len(lst))\n",
        "print(len(lst_date))\n",
        "\n"
      ],
      "execution_count": 198,
      "outputs": [
        {
          "output_type": "stream",
          "text": [
            "5880\n",
            "5880\n"
          ],
          "name": "stdout"
        }
      ]
    },
    {
      "cell_type": "code",
      "metadata": {
        "id": "lBgWgv-d6ALI",
        "outputId": "67960061-ae78-4ccf-c81f-86de8282e935",
        "colab": {
          "base_uri": "https://localhost:8080/",
          "height": 35
        }
      },
      "source": [
        "X_train.shape[0]*X_train.shape[1]"
      ],
      "execution_count": 199,
      "outputs": [
        {
          "output_type": "execute_result",
          "data": {
            "text/plain": [
              "6300"
            ]
          },
          "metadata": {
            "tags": []
          },
          "execution_count": 199
        }
      ]
    },
    {
      "cell_type": "code",
      "metadata": {
        "id": "DIrlJqMh4GqD",
        "outputId": "2ed9fed1-5dc1-4d58-c9ac-85e9b4aa8646",
        "colab": {
          "base_uri": "https://localhost:8080/",
          "height": 35
        }
      },
      "source": [
        "lst[0]"
      ],
      "execution_count": 200,
      "outputs": [
        {
          "output_type": "execute_result",
          "data": {
            "application/vnd.google.colaboratory.intrinsic+json": {
              "type": "string"
            },
            "text/plain": [
              "'베트남 자동차 시장 경쟁 치열…앞다퉈 생산 확대'"
            ]
          },
          "metadata": {
            "tags": []
          },
          "execution_count": 200
        }
      ]
    },
    {
      "cell_type": "code",
      "metadata": {
        "id": "FMetJsjN3hpW",
        "outputId": "c2b467d3-3c0d-4a39-b857-eeb4602ab841",
        "colab": {
          "base_uri": "https://localhost:8080/",
          "height": 35
        }
      },
      "source": [
        "train_data=pd.DataFrame({'date':lst_date,'sen':lst})"
      ],
      "execution_count": 224,
      "outputs": [
        {
          "output_type": "stream",
          "text": [
            "<class 'pandas.core.series.Series'>\n"
          ],
          "name": "stdout"
        }
      ]
    },
    {
      "cell_type": "code",
      "metadata": {
        "id": "dy5g6b4E-r0c",
        "outputId": "253df338-afd9-4a28-9d90-75f5b0b77eaa",
        "colab": {
          "base_uri": "https://localhost:8080/",
          "height": 35
        }
      },
      "source": [
        "print(type(train_data))"
      ],
      "execution_count": null,
      "outputs": [
        {
          "output_type": "stream",
          "text": [
            "<class 'pandas.core.frame.DataFrame'>\n"
          ],
          "name": "stdout"
        }
      ]
    },
    {
      "cell_type": "code",
      "metadata": {
        "id": "nnE7h3362hl5",
        "outputId": "aa73a9b3-7d25-4618-e879-5fca38ce6f27",
        "colab": {
          "base_uri": "https://localhost:8080/",
          "height": 431
        }
      },
      "source": [
        "pip install pykrx"
      ],
      "execution_count": 202,
      "outputs": [
        {
          "output_type": "stream",
          "text": [
            "Collecting pykrx\n",
            "\u001b[?25l  Downloading https://files.pythonhosted.org/packages/c9/12/70cc31494c9e727fa216103b674d231124fabdac6ee8a4d8f43059afbc36/pykrx-0.1.41-py3-none-any.whl (40kB)\n",
            "\u001b[K     |████████████████████████████████| 40kB 1.3MB/s \n",
            "\u001b[?25hRequirement already satisfied: xlrd in /usr/local/lib/python3.6/dist-packages (from pykrx) (1.1.0)\n",
            "Requirement already satisfied: numpy in /usr/local/lib/python3.6/dist-packages (from pykrx) (1.18.5)\n",
            "Collecting datetime\n",
            "\u001b[?25l  Downloading https://files.pythonhosted.org/packages/73/22/a5297f3a1f92468cc737f8ce7ba6e5f245fcfafeae810ba37bd1039ea01c/DateTime-4.3-py2.py3-none-any.whl (60kB)\n",
            "\u001b[K     |████████████████████████████████| 61kB 2.4MB/s \n",
            "\u001b[?25hRequirement already satisfied: requests in /usr/local/lib/python3.6/dist-packages (from pykrx) (2.23.0)\n",
            "Requirement already satisfied: pandas in /usr/local/lib/python3.6/dist-packages (from pykrx) (1.1.2)\n",
            "Requirement already satisfied: pytz in /usr/local/lib/python3.6/dist-packages (from datetime->pykrx) (2018.9)\n",
            "Collecting zope.interface\n",
            "\u001b[?25l  Downloading https://files.pythonhosted.org/packages/c5/89/1eb9dbb9e24f5e2c29ab1a88097b2f1333858aac3cd3cccc6c4c1c8ad867/zope.interface-5.1.2-cp36-cp36m-manylinux2010_x86_64.whl (236kB)\n",
            "\u001b[K     |████████████████████████████████| 245kB 12.2MB/s \n",
            "\u001b[?25hRequirement already satisfied: idna<3,>=2.5 in /usr/local/lib/python3.6/dist-packages (from requests->pykrx) (2.10)\n",
            "Requirement already satisfied: chardet<4,>=3.0.2 in /usr/local/lib/python3.6/dist-packages (from requests->pykrx) (3.0.4)\n",
            "Requirement already satisfied: certifi>=2017.4.17 in /usr/local/lib/python3.6/dist-packages (from requests->pykrx) (2020.6.20)\n",
            "Requirement already satisfied: urllib3!=1.25.0,!=1.25.1,<1.26,>=1.21.1 in /usr/local/lib/python3.6/dist-packages (from requests->pykrx) (1.24.3)\n",
            "Requirement already satisfied: python-dateutil>=2.7.3 in /usr/local/lib/python3.6/dist-packages (from pandas->pykrx) (2.8.1)\n",
            "Requirement already satisfied: setuptools in /usr/local/lib/python3.6/dist-packages (from zope.interface->datetime->pykrx) (50.3.0)\n",
            "Requirement already satisfied: six>=1.5 in /usr/local/lib/python3.6/dist-packages (from python-dateutil>=2.7.3->pandas->pykrx) (1.15.0)\n",
            "Installing collected packages: zope.interface, datetime, pykrx\n",
            "Successfully installed datetime-4.3 pykrx-0.1.41 zope.interface-5.1.2\n"
          ],
          "name": "stdout"
        }
      ]
    },
    {
      "cell_type": "code",
      "metadata": {
        "id": "lwKRi5fdz8r4"
      },
      "source": [
        "kospi_data=pd.read_csv('/content/drive/My Drive/코스피_data.csv',encoding='utf-8-sig')"
      ],
      "execution_count": 208,
      "outputs": []
    },
    {
      "cell_type": "code",
      "metadata": {
        "id": "HLxTcGcx8gTX",
        "outputId": "af9e2afb-6e90-463b-93fa-c9917b5d576f",
        "colab": {
          "base_uri": "https://localhost:8080/",
          "height": 419
        }
      },
      "source": [
        "kospi_data"
      ],
      "execution_count": 209,
      "outputs": [
        {
          "output_type": "execute_result",
          "data": {
            "text/html": [
              "<div>\n",
              "<style scoped>\n",
              "    .dataframe tbody tr th:only-of-type {\n",
              "        vertical-align: middle;\n",
              "    }\n",
              "\n",
              "    .dataframe tbody tr th {\n",
              "        vertical-align: top;\n",
              "    }\n",
              "\n",
              "    .dataframe thead th {\n",
              "        text-align: right;\n",
              "    }\n",
              "</style>\n",
              "<table border=\"1\" class=\"dataframe\">\n",
              "  <thead>\n",
              "    <tr style=\"text-align: right;\">\n",
              "      <th></th>\n",
              "      <th>년/월/일</th>\n",
              "      <th>종가</th>\n",
              "      <th>대비</th>\n",
              "      <th>등락률(%)</th>\n",
              "      <th>시가</th>\n",
              "      <th>고가</th>\n",
              "      <th>저가</th>\n",
              "      <th>거래량(천주)</th>\n",
              "      <th>거래대금(원)</th>\n",
              "      <th>상장시가총액(원)</th>\n",
              "    </tr>\n",
              "  </thead>\n",
              "  <tbody>\n",
              "    <tr>\n",
              "      <th>0</th>\n",
              "      <td>2020-01-28</td>\n",
              "      <td>2,176.72</td>\n",
              "      <td>-69.41</td>\n",
              "      <td>-3.09</td>\n",
              "      <td>2,192.22</td>\n",
              "      <td>2,199.93</td>\n",
              "      <td>2,166.23</td>\n",
              "      <td>808,879</td>\n",
              "      <td>8,818,232,390,840</td>\n",
              "      <td>1,466,083,102,897,140</td>\n",
              "    </tr>\n",
              "    <tr>\n",
              "      <th>1</th>\n",
              "      <td>2020-01-29</td>\n",
              "      <td>2,185.28</td>\n",
              "      <td>8.56</td>\n",
              "      <td>0.39</td>\n",
              "      <td>2,188.18</td>\n",
              "      <td>2,195.45</td>\n",
              "      <td>2,172.33</td>\n",
              "      <td>692,301</td>\n",
              "      <td>6,589,949,501,296</td>\n",
              "      <td>1,472,171,521,931,850</td>\n",
              "    </tr>\n",
              "    <tr>\n",
              "      <th>2</th>\n",
              "      <td>2020-01-30</td>\n",
              "      <td>2,148.00</td>\n",
              "      <td>-37.28</td>\n",
              "      <td>-1.71</td>\n",
              "      <td>2,181.54</td>\n",
              "      <td>2,187.45</td>\n",
              "      <td>2,139.72</td>\n",
              "      <td>602,838</td>\n",
              "      <td>7,105,203,082,012</td>\n",
              "      <td>1,446,505,817,054,810</td>\n",
              "    </tr>\n",
              "    <tr>\n",
              "      <th>3</th>\n",
              "      <td>2020-01-31</td>\n",
              "      <td>2,119.01</td>\n",
              "      <td>-28.99</td>\n",
              "      <td>-1.35</td>\n",
              "      <td>2,160.60</td>\n",
              "      <td>2,167.23</td>\n",
              "      <td>2,119.01</td>\n",
              "      <td>710,508</td>\n",
              "      <td>7,226,687,169,037</td>\n",
              "      <td>1,427,047,754,939,810</td>\n",
              "    </tr>\n",
              "    <tr>\n",
              "      <th>4</th>\n",
              "      <td>2020-02-03</td>\n",
              "      <td>2,118.88</td>\n",
              "      <td>-0.13</td>\n",
              "      <td>-0.01</td>\n",
              "      <td>2,086.61</td>\n",
              "      <td>2,126.73</td>\n",
              "      <td>2,082.74</td>\n",
              "      <td>836,700</td>\n",
              "      <td>8,068,704,032,225</td>\n",
              "      <td>1,427,133,301,985,750</td>\n",
              "    </tr>\n",
              "    <tr>\n",
              "      <th>...</th>\n",
              "      <td>...</td>\n",
              "      <td>...</td>\n",
              "      <td>...</td>\n",
              "      <td>...</td>\n",
              "      <td>...</td>\n",
              "      <td>...</td>\n",
              "      <td>...</td>\n",
              "      <td>...</td>\n",
              "      <td>...</td>\n",
              "      <td>...</td>\n",
              "    </tr>\n",
              "    <tr>\n",
              "      <th>104</th>\n",
              "      <td>2020-06-26</td>\n",
              "      <td>2,134.65</td>\n",
              "      <td>22.28</td>\n",
              "      <td>1.05</td>\n",
              "      <td>2,137.47</td>\n",
              "      <td>2,142.04</td>\n",
              "      <td>2,115.25</td>\n",
              "      <td>761,044</td>\n",
              "      <td>9,821,159,648,182</td>\n",
              "      <td>1,436,168,481,341,000</td>\n",
              "    </tr>\n",
              "    <tr>\n",
              "      <th>105</th>\n",
              "      <td>2020-06-29</td>\n",
              "      <td>2,093.48</td>\n",
              "      <td>-41.17</td>\n",
              "      <td>-1.93</td>\n",
              "      <td>2,105.54</td>\n",
              "      <td>2,120.50</td>\n",
              "      <td>2,087.84</td>\n",
              "      <td>643,156</td>\n",
              "      <td>9,025,867,722,947</td>\n",
              "      <td>1,408,463,551,776,580</td>\n",
              "    </tr>\n",
              "    <tr>\n",
              "      <th>106</th>\n",
              "      <td>2020-06-30</td>\n",
              "      <td>2,108.33</td>\n",
              "      <td>14.85</td>\n",
              "      <td>0.71</td>\n",
              "      <td>2,124.38</td>\n",
              "      <td>2,134.38</td>\n",
              "      <td>2,108.26</td>\n",
              "      <td>708,605</td>\n",
              "      <td>11,699,082,707,241</td>\n",
              "      <td>1,418,860,741,475,320</td>\n",
              "    </tr>\n",
              "    <tr>\n",
              "      <th>107</th>\n",
              "      <td>2020-07-01</td>\n",
              "      <td>2,106.70</td>\n",
              "      <td>-1.63</td>\n",
              "      <td>-0.08</td>\n",
              "      <td>2,128.81</td>\n",
              "      <td>2,133.55</td>\n",
              "      <td>2,101.33</td>\n",
              "      <td>1,116,221</td>\n",
              "      <td>10,232,631,942,700</td>\n",
              "      <td>1,417,280,238,019,280</td>\n",
              "    </tr>\n",
              "    <tr>\n",
              "      <th>108</th>\n",
              "      <td>2020-07-02</td>\n",
              "      <td>2,135.37</td>\n",
              "      <td>28.67</td>\n",
              "      <td>1.36</td>\n",
              "      <td>2,116.72</td>\n",
              "      <td>2,135.37</td>\n",
              "      <td>2,113.98</td>\n",
              "      <td>1,091,965</td>\n",
              "      <td>10,745,168,204,526</td>\n",
              "      <td>1,445,664,482,444,930</td>\n",
              "    </tr>\n",
              "  </tbody>\n",
              "</table>\n",
              "<p>109 rows × 10 columns</p>\n",
              "</div>"
            ],
            "text/plain": [
              "          년/월/일        종가  ...             거래대금(원)              상장시가총액(원)\n",
              "0    2020-01-28  2,176.72  ...   8,818,232,390,840  1,466,083,102,897,140\n",
              "1    2020-01-29  2,185.28  ...   6,589,949,501,296  1,472,171,521,931,850\n",
              "2    2020-01-30  2,148.00  ...   7,105,203,082,012  1,446,505,817,054,810\n",
              "3    2020-01-31  2,119.01  ...   7,226,687,169,037  1,427,047,754,939,810\n",
              "4    2020-02-03  2,118.88  ...   8,068,704,032,225  1,427,133,301,985,750\n",
              "..          ...       ...  ...                 ...                    ...\n",
              "104  2020-06-26  2,134.65  ...   9,821,159,648,182  1,436,168,481,341,000\n",
              "105  2020-06-29  2,093.48  ...   9,025,867,722,947  1,408,463,551,776,580\n",
              "106  2020-06-30  2,108.33  ...  11,699,082,707,241  1,418,860,741,475,320\n",
              "107  2020-07-01  2,106.70  ...  10,232,631,942,700  1,417,280,238,019,280\n",
              "108  2020-07-02  2,135.37  ...  10,745,168,204,526  1,445,664,482,444,930\n",
              "\n",
              "[109 rows x 10 columns]"
            ]
          },
          "metadata": {
            "tags": []
          },
          "execution_count": 209
        }
      ]
    },
    {
      "cell_type": "code",
      "metadata": {
        "id": "-iRFyYOB9m1o"
      },
      "source": [
        "import datetime\n",
        "\n",
        "day=['월','화','수','목','금','토','일']\n",
        "\n",
        "day[datetime.date(2020,1,3).weekday()]\n",
        "\n",
        "days=[]\n",
        "for i in train_data['date']:\n",
        "  i=pd.to_datetime(i)\n",
        "  y=i.strftime('%Y')\n",
        "  m=i.strftime('%m')\n",
        "  d=i.strftime('%d')\n",
        "  days.append(day[datetime.date(int(y),int(m),int(d)).weekday()])"
      ],
      "execution_count": 230,
      "outputs": []
    },
    {
      "cell_type": "code",
      "metadata": {
        "id": "9qhA75aHAUkt",
        "outputId": "3f9fc675-432e-498d-89ca-59eff2a48f80",
        "colab": {
          "base_uri": "https://localhost:8080/",
          "height": 419
        }
      },
      "source": [
        "train_data['요일']=days\n",
        "train_data"
      ],
      "execution_count": 229,
      "outputs": [
        {
          "output_type": "execute_result",
          "data": {
            "text/html": [
              "<div>\n",
              "<style scoped>\n",
              "    .dataframe tbody tr th:only-of-type {\n",
              "        vertical-align: middle;\n",
              "    }\n",
              "\n",
              "    .dataframe tbody tr th {\n",
              "        vertical-align: top;\n",
              "    }\n",
              "\n",
              "    .dataframe thead th {\n",
              "        text-align: right;\n",
              "    }\n",
              "</style>\n",
              "<table border=\"1\" class=\"dataframe\">\n",
              "  <thead>\n",
              "    <tr style=\"text-align: right;\">\n",
              "      <th></th>\n",
              "      <th>date</th>\n",
              "      <th>sen</th>\n",
              "      <th>요일</th>\n",
              "    </tr>\n",
              "  </thead>\n",
              "  <tbody>\n",
              "    <tr>\n",
              "      <th>0</th>\n",
              "      <td>2020-01-23</td>\n",
              "      <td>베트남 자동차 시장 경쟁 치열…앞다퉈 생산 확대</td>\n",
              "      <td>목</td>\n",
              "    </tr>\n",
              "    <tr>\n",
              "      <th>1</th>\n",
              "      <td>2020-01-23</td>\n",
              "      <td>'배기가스 조작' 폭스바겐, 캐나다서 과징금 1천700억</td>\n",
              "      <td>목</td>\n",
              "    </tr>\n",
              "    <tr>\n",
              "      <th>2</th>\n",
              "      <td>2020-01-23</td>\n",
              "      <td>두산重 파워서비스BG장에 박홍욱 부사장 선임</td>\n",
              "      <td>목</td>\n",
              "    </tr>\n",
              "    <tr>\n",
              "      <th>3</th>\n",
              "      <td>2020-01-23</td>\n",
              "      <td>윤종원 기업은행장 \"사태 장기화돼 마음 아파…전향적인 자세로 노조와 대화할 것\"</td>\n",
              "      <td>목</td>\n",
              "    </tr>\n",
              "    <tr>\n",
              "      <th>4</th>\n",
              "      <td>2020-01-23</td>\n",
              "      <td>최태원 SK 회장, 다보스포럼서 사회적가치 추구 성과 공유(종합)</td>\n",
              "      <td>목</td>\n",
              "    </tr>\n",
              "    <tr>\n",
              "      <th>...</th>\n",
              "      <td>...</td>\n",
              "      <td>...</td>\n",
              "      <td>...</td>\n",
              "    </tr>\n",
              "    <tr>\n",
              "      <th>5875</th>\n",
              "      <td>2020-07-01</td>\n",
              "      <td>요진건설, 평택 고덕서 1천100억대 지식산업센터 공사 수주</td>\n",
              "      <td>수</td>\n",
              "    </tr>\n",
              "    <tr>\n",
              "      <th>5876</th>\n",
              "      <td>2020-07-01</td>\n",
              "      <td>年 700억 CO 경보기 시장 열린다</td>\n",
              "      <td>수</td>\n",
              "    </tr>\n",
              "    <tr>\n",
              "      <th>5877</th>\n",
              "      <td>2020-07-01</td>\n",
              "      <td>\"티셔츠처럼 편하다\" 日 엄마들도 반한 '코니 아기띠'</td>\n",
              "      <td>수</td>\n",
              "    </tr>\n",
              "    <tr>\n",
              "      <th>5878</th>\n",
              "      <td>2020-07-01</td>\n",
              "      <td>다산신도시 택배대란 재현되나…차량 진입 막히자 배송 거부</td>\n",
              "      <td>수</td>\n",
              "    </tr>\n",
              "    <tr>\n",
              "      <th>5879</th>\n",
              "      <td>2020-07-01</td>\n",
              "      <td>[포토] KS-SQI 인증 수여식</td>\n",
              "      <td>수</td>\n",
              "    </tr>\n",
              "  </tbody>\n",
              "</table>\n",
              "<p>5880 rows × 3 columns</p>\n",
              "</div>"
            ],
            "text/plain": [
              "           date                                           sen 요일\n",
              "0    2020-01-23                    베트남 자동차 시장 경쟁 치열…앞다퉈 생산 확대  목\n",
              "1    2020-01-23               '배기가스 조작' 폭스바겐, 캐나다서 과징금 1천700억  목\n",
              "2    2020-01-23                      두산重 파워서비스BG장에 박홍욱 부사장 선임  목\n",
              "3    2020-01-23  윤종원 기업은행장 \"사태 장기화돼 마음 아파…전향적인 자세로 노조와 대화할 것\"  목\n",
              "4    2020-01-23          최태원 SK 회장, 다보스포럼서 사회적가치 추구 성과 공유(종합)  목\n",
              "...         ...                                           ... ..\n",
              "5875 2020-07-01             요진건설, 평택 고덕서 1천100억대 지식산업센터 공사 수주  수\n",
              "5876 2020-07-01                          年 700억 CO 경보기 시장 열린다  수\n",
              "5877 2020-07-01                \"티셔츠처럼 편하다\" 日 엄마들도 반한 '코니 아기띠'  수\n",
              "5878 2020-07-01               다산신도시 택배대란 재현되나…차량 진입 막히자 배송 거부  수\n",
              "5879 2020-07-01                            [포토] KS-SQI 인증 수여식  수\n",
              "\n",
              "[5880 rows x 3 columns]"
            ]
          },
          "metadata": {
            "tags": []
          },
          "execution_count": 229
        }
      ]
    },
    {
      "cell_type": "code",
      "metadata": {
        "id": "imAfh2NJA7UU",
        "outputId": "ec371a2b-8249-41f3-85b5-c578b2975fc4",
        "colab": {
          "base_uri": "https://localhost:8080/",
          "height": 737
        }
      },
      "source": [
        "!pip install workalendar"
      ],
      "execution_count": 231,
      "outputs": [
        {
          "output_type": "stream",
          "text": [
            "Collecting workalendar\n",
            "\u001b[?25l  Downloading https://files.pythonhosted.org/packages/c6/93/a6bd967b9ff40361292456084bb2c2a52991a397e114850c973513ba8180/workalendar-12.0.0-py3-none-any.whl (178kB)\n",
            "\r\u001b[K     |█▉                              | 10kB 6.6MB/s eta 0:00:01\r\u001b[K     |███▋                            | 20kB 1.1MB/s eta 0:00:01\r\u001b[K     |█████▌                          | 30kB 1.5MB/s eta 0:00:01\r\u001b[K     |███████▎                        | 40kB 1.7MB/s eta 0:00:01\r\u001b[K     |█████████▏                      | 51kB 1.3MB/s eta 0:00:01\r\u001b[K     |███████████                     | 61kB 1.4MB/s eta 0:00:01\r\u001b[K     |████████████▉                   | 71kB 1.6MB/s eta 0:00:01\r\u001b[K     |██████████████▋                 | 81kB 1.8MB/s eta 0:00:01\r\u001b[K     |████████████████▌               | 92kB 1.9MB/s eta 0:00:01\r\u001b[K     |██████████████████▎             | 102kB 1.8MB/s eta 0:00:01\r\u001b[K     |████████████████████▏           | 112kB 1.8MB/s eta 0:00:01\r\u001b[K     |██████████████████████          | 122kB 1.8MB/s eta 0:00:01\r\u001b[K     |███████████████████████▉        | 133kB 1.8MB/s eta 0:00:01\r\u001b[K     |█████████████████████████▋      | 143kB 1.8MB/s eta 0:00:01\r\u001b[K     |███████████████████████████▌    | 153kB 1.8MB/s eta 0:00:01\r\u001b[K     |█████████████████████████████▎  | 163kB 1.8MB/s eta 0:00:01\r\u001b[K     |███████████████████████████████▏| 174kB 1.8MB/s eta 0:00:01\r\u001b[K     |████████████████████████████████| 184kB 1.8MB/s \n",
            "\u001b[?25hCollecting pyluach\n",
            "  Downloading https://files.pythonhosted.org/packages/0f/1d/0944aab24d817a866d7aea97851c3d3c71c9e10f6efd93c43b18c856a9b4/pyluach-1.1.1-py3-none-any.whl\n",
            "Requirement already satisfied: python-dateutil in /usr/local/lib/python3.6/dist-packages (from workalendar) (2.8.1)\n",
            "Collecting pyCalverter\n",
            "  Downloading https://files.pythonhosted.org/packages/4f/5c/57c6853f7a5bc41fc9da7651ae67b9c76381083742613faa7381724081e9/pyCalverter-1.6.1.tar.gz\n",
            "Requirement already satisfied: pytz in /usr/local/lib/python3.6/dist-packages (from workalendar) (2018.9)\n",
            "Collecting skyfield\n",
            "\u001b[?25l  Downloading https://files.pythonhosted.org/packages/aa/dc/42b8a7f94fb72d40c2362bf1fb725704dd2764640a1e7290d4734ced1eb7/skyfield-1.30.tar.gz (294kB)\n",
            "\u001b[K     |████████████████████████████████| 296kB 5.7MB/s \n",
            "\u001b[?25hRequirement already satisfied: setuptools>=1.0 in /usr/local/lib/python3.6/dist-packages (from workalendar) (50.3.0)\n",
            "Collecting skyfield-data\n",
            "\u001b[?25l  Downloading https://files.pythonhosted.org/packages/c7/f0/5e40d2ae2cb78148193c24b36c8881c3b94a92d77e3d9d16b3a652f64524/skyfield_data-1.1.0-py2.py3-none-any.whl (16.0MB)\n",
            "\u001b[K     |████████████████████████████████| 16.0MB 64.3MB/s \n",
            "\u001b[?25hCollecting lunardate\n",
            "  Downloading https://files.pythonhosted.org/packages/4e/7e/377a3cbba646ec0cf79433ef858881d809a3b87eb887b0901cb83c66a758/lunardate-0.2.0-py3-none-any.whl\n",
            "Requirement already satisfied: six>=1.5 in /usr/local/lib/python3.6/dist-packages (from python-dateutil->workalendar) (1.15.0)\n",
            "Requirement already satisfied: certifi>=2017.4.17 in /usr/local/lib/python3.6/dist-packages (from skyfield->workalendar) (2020.6.20)\n",
            "Collecting jplephem>=2.13\n",
            "\u001b[?25l  Downloading https://files.pythonhosted.org/packages/c9/f0/e57456436531333455f40864622c5ae359654ccede8fe1156c3c2ac6c492/jplephem-2.15.tar.gz (40kB)\n",
            "\u001b[K     |████████████████████████████████| 40kB 5.0MB/s \n",
            "\u001b[?25hRequirement already satisfied: numpy in /usr/local/lib/python3.6/dist-packages (from skyfield->workalendar) (1.18.5)\n",
            "Collecting sgp4>=2.2\n",
            "\u001b[?25l  Downloading https://files.pythonhosted.org/packages/1a/2c/c42c37a1b42595fb382e599d056c88c75bedb4a881da8f3789710f8ae65c/sgp4-2.12-cp36-cp36m-manylinux2010_x86_64.whl (247kB)\n",
            "\u001b[K     |████████████████████████████████| 256kB 43.4MB/s \n",
            "\u001b[?25hBuilding wheels for collected packages: pyCalverter, skyfield, jplephem\n",
            "  Building wheel for pyCalverter (setup.py) ... \u001b[?25l\u001b[?25hdone\n",
            "  Created wheel for pyCalverter: filename=pyCalverter-1.6.1-cp36-none-any.whl size=4202 sha256=b3420526ce21a12be0fbb7dc6821360d88f0b2bb8004d78f32cf41b4c9d1b3bf\n",
            "  Stored in directory: /root/.cache/pip/wheels/77/4d/86/db4ff4eca6178dbbd5a365d095f97f6021e2a48f09908be79c\n",
            "  Building wheel for skyfield (setup.py) ... \u001b[?25l\u001b[?25hdone\n",
            "  Created wheel for skyfield: filename=skyfield-1.30-cp36-none-any.whl size=333582 sha256=56562797b43fb4efd07a969baf9bbfa2315d61ce9001a39a3d1fedf2f12a56f9\n",
            "  Stored in directory: /root/.cache/pip/wheels/a2/d4/bc/435b4e8aed154d5526c2ab6ada1b7f401dec86eed7b1dfeacf\n",
            "  Building wheel for jplephem (setup.py) ... \u001b[?25l\u001b[?25hdone\n",
            "  Created wheel for jplephem: filename=jplephem-2.15-cp36-none-any.whl size=46021 sha256=ece7025f4e08fb696185d07ae115ff2813c7b9363e58579235b9043a3d9e04e8\n",
            "  Stored in directory: /root/.cache/pip/wheels/01/71/9c/beaa33beb607ef67b62765324a10cd3584e30fbeef8856b7a8\n",
            "Successfully built pyCalverter skyfield jplephem\n",
            "Installing collected packages: pyluach, pyCalverter, jplephem, sgp4, skyfield, skyfield-data, lunardate, workalendar\n",
            "Successfully installed jplephem-2.15 lunardate-0.2.0 pyCalverter-1.6.1 pyluach-1.1.1 sgp4-2.12 skyfield-1.30 skyfield-data-1.1.0 workalendar-12.0.0\n"
          ],
          "name": "stdout"
        }
      ]
    },
    {
      "cell_type": "code",
      "metadata": {
        "id": "umlS-uBnA8fx",
        "outputId": "eb164e4a-84c3-4e6b-8d0f-c63ee445bf26",
        "colab": {
          "base_uri": "https://localhost:8080/",
          "height": 305
        }
      },
      "source": [
        "from workalendar.asia import SouthKorea\n",
        "holidays = pd.concat([pd.Series(np.array(SouthKorea().holidays(2020))[:, 0])])\n",
        "holidays"
      ],
      "execution_count": 234,
      "outputs": [
        {
          "output_type": "execute_result",
          "data": {
            "text/plain": [
              "0     2020-01-01\n",
              "1     2020-01-24\n",
              "2     2020-01-25\n",
              "3     2020-01-26\n",
              "4     2020-03-01\n",
              "5     2020-04-30\n",
              "6     2020-05-05\n",
              "7     2020-06-06\n",
              "8     2020-08-15\n",
              "9     2020-09-30\n",
              "10    2020-10-01\n",
              "11    2020-10-02\n",
              "12    2020-10-03\n",
              "13    2020-10-09\n",
              "14    2020-12-25\n",
              "dtype: object"
            ]
          },
          "metadata": {
            "tags": []
          },
          "execution_count": 234
        }
      ]
    },
    {
      "cell_type": "code",
      "metadata": {
        "id": "Nxyt9K2NDtZG",
        "outputId": "dbb58760-9ef3-428b-dd81-a28285cf3367",
        "colab": {
          "base_uri": "https://localhost:8080/",
          "height": 35
        }
      },
      "source": [
        "ex1=datetime.date(2020,1,31)\n",
        "\n",
        "print(ex1+day_delta)"
      ],
      "execution_count": 238,
      "outputs": [
        {
          "output_type": "stream",
          "text": [
            "2020-02-01\n"
          ],
          "name": "stdout"
        }
      ]
    },
    {
      "cell_type": "code",
      "metadata": {
        "id": "MsmSB1EmAd6A",
        "outputId": "2859acd2-f09c-4abf-b8e5-6f92310979cd",
        "colab": {
          "base_uri": "https://localhost:8080/",
          "height": 448
        }
      },
      "source": [
        "# 라벨링\n",
        "label=[]\n",
        "day_delta = datetime.timedelta(days=1)\n",
        "\n",
        "for i in range(train_data.shape[0]):\n",
        "  i=pd.to_datetime(i)\n",
        "  y=int(i.strftime('%Y'))\n",
        "  m=int(i.strftime('%m'))\n",
        "  d=int(i.strftime('%d'))\n",
        "  ds=datetime.date(y,m,d)+day_delta\n",
        "  if (train_data.iloc[i,2]=='금') | (train_data.iloc[i,2]=='토') | (ds in holidays):\n",
        "    label.append(2)\n",
        "\n",
        "  else:\n",
        "    if (kospi_data['년/월/일']==ds):\n",
        "      if kospi_data['등락률(%)']>0:\n",
        "        label.append(1)\n",
        "      elif kospi_data['등락률(%)']<0:\n",
        "        label.append(0)"
      ],
      "execution_count": 241,
      "outputs": [
        {
          "output_type": "error",
          "ename": "ValueError",
          "evalue": "ignored",
          "traceback": [
            "\u001b[0;31m---------------------------------------------------------------------------\u001b[0m",
            "\u001b[0;31mValueError\u001b[0m                                Traceback (most recent call last)",
            "\u001b[0;32m/usr/local/lib/python3.6/dist-packages/pandas/core/indexing.py\u001b[0m in \u001b[0;36m_has_valid_tuple\u001b[0;34m(self, key)\u001b[0m\n\u001b[1;32m    701\u001b[0m             \u001b[0;32mtry\u001b[0m\u001b[0;34m:\u001b[0m\u001b[0;34m\u001b[0m\u001b[0;34m\u001b[0m\u001b[0m\n\u001b[0;32m--> 702\u001b[0;31m                 \u001b[0mself\u001b[0m\u001b[0;34m.\u001b[0m\u001b[0m_validate_key\u001b[0m\u001b[0;34m(\u001b[0m\u001b[0mk\u001b[0m\u001b[0;34m,\u001b[0m \u001b[0mi\u001b[0m\u001b[0;34m)\u001b[0m\u001b[0;34m\u001b[0m\u001b[0;34m\u001b[0m\u001b[0m\n\u001b[0m\u001b[1;32m    703\u001b[0m             \u001b[0;32mexcept\u001b[0m \u001b[0mValueError\u001b[0m \u001b[0;32mas\u001b[0m \u001b[0merr\u001b[0m\u001b[0;34m:\u001b[0m\u001b[0;34m\u001b[0m\u001b[0;34m\u001b[0m\u001b[0m\n",
            "\u001b[0;32m/usr/local/lib/python3.6/dist-packages/pandas/core/indexing.py\u001b[0m in \u001b[0;36m_validate_key\u001b[0;34m(self, key, axis)\u001b[0m\n\u001b[1;32m   1368\u001b[0m         \u001b[0;32melse\u001b[0m\u001b[0;34m:\u001b[0m\u001b[0;34m\u001b[0m\u001b[0;34m\u001b[0m\u001b[0m\n\u001b[0;32m-> 1369\u001b[0;31m             \u001b[0;32mraise\u001b[0m \u001b[0mValueError\u001b[0m\u001b[0;34m(\u001b[0m\u001b[0;34mf\"Can only index by location with a [{self._valid_types}]\"\u001b[0m\u001b[0;34m)\u001b[0m\u001b[0;34m\u001b[0m\u001b[0;34m\u001b[0m\u001b[0m\n\u001b[0m\u001b[1;32m   1370\u001b[0m \u001b[0;34m\u001b[0m\u001b[0m\n",
            "\u001b[0;31mValueError\u001b[0m: Can only index by location with a [integer, integer slice (START point is INCLUDED, END point is EXCLUDED), listlike of integers, boolean array]",
            "\nThe above exception was the direct cause of the following exception:\n",
            "\u001b[0;31mValueError\u001b[0m                                Traceback (most recent call last)",
            "\u001b[0;32m<ipython-input-241-b1de01213dcb>\u001b[0m in \u001b[0;36m<module>\u001b[0;34m()\u001b[0m\n\u001b[1;32m      9\u001b[0m   \u001b[0md\u001b[0m\u001b[0;34m=\u001b[0m\u001b[0mint\u001b[0m\u001b[0;34m(\u001b[0m\u001b[0mi\u001b[0m\u001b[0;34m.\u001b[0m\u001b[0mstrftime\u001b[0m\u001b[0;34m(\u001b[0m\u001b[0;34m'%d'\u001b[0m\u001b[0;34m)\u001b[0m\u001b[0;34m)\u001b[0m\u001b[0;34m\u001b[0m\u001b[0;34m\u001b[0m\u001b[0m\n\u001b[1;32m     10\u001b[0m   \u001b[0mds\u001b[0m\u001b[0;34m=\u001b[0m\u001b[0mdatetime\u001b[0m\u001b[0;34m.\u001b[0m\u001b[0mdate\u001b[0m\u001b[0;34m(\u001b[0m\u001b[0my\u001b[0m\u001b[0;34m,\u001b[0m\u001b[0mm\u001b[0m\u001b[0;34m,\u001b[0m\u001b[0md\u001b[0m\u001b[0;34m)\u001b[0m\u001b[0;34m+\u001b[0m\u001b[0mday_delta\u001b[0m\u001b[0;34m\u001b[0m\u001b[0;34m\u001b[0m\u001b[0m\n\u001b[0;32m---> 11\u001b[0;31m   \u001b[0;32mif\u001b[0m \u001b[0;34m(\u001b[0m\u001b[0mtrain_data\u001b[0m\u001b[0;34m.\u001b[0m\u001b[0miloc\u001b[0m\u001b[0;34m[\u001b[0m\u001b[0mi\u001b[0m\u001b[0;34m,\u001b[0m\u001b[0;36m2\u001b[0m\u001b[0;34m]\u001b[0m\u001b[0;34m==\u001b[0m\u001b[0;34m'금'\u001b[0m\u001b[0;34m)\u001b[0m \u001b[0;34m|\u001b[0m \u001b[0;34m(\u001b[0m\u001b[0mtrain_data\u001b[0m\u001b[0;34m.\u001b[0m\u001b[0miloc\u001b[0m\u001b[0;34m[\u001b[0m\u001b[0mi\u001b[0m\u001b[0;34m,\u001b[0m\u001b[0;36m2\u001b[0m\u001b[0;34m]\u001b[0m\u001b[0;34m==\u001b[0m\u001b[0;34m'토'\u001b[0m\u001b[0;34m)\u001b[0m \u001b[0;34m|\u001b[0m \u001b[0;34m(\u001b[0m\u001b[0mds\u001b[0m \u001b[0;32min\u001b[0m \u001b[0mholidays\u001b[0m\u001b[0;34m)\u001b[0m\u001b[0;34m:\u001b[0m\u001b[0;34m\u001b[0m\u001b[0;34m\u001b[0m\u001b[0m\n\u001b[0m\u001b[1;32m     12\u001b[0m     \u001b[0mlabel\u001b[0m\u001b[0;34m.\u001b[0m\u001b[0mappend\u001b[0m\u001b[0;34m(\u001b[0m\u001b[0;36m2\u001b[0m\u001b[0;34m)\u001b[0m\u001b[0;34m\u001b[0m\u001b[0;34m\u001b[0m\u001b[0m\n\u001b[1;32m     13\u001b[0m \u001b[0;34m\u001b[0m\u001b[0m\n",
            "\u001b[0;32m/usr/local/lib/python3.6/dist-packages/pandas/core/indexing.py\u001b[0m in \u001b[0;36m__getitem__\u001b[0;34m(self, key)\u001b[0m\n\u001b[1;32m    871\u001b[0m                     \u001b[0;31m# AttributeError for IntervalTree get_value\u001b[0m\u001b[0;34m\u001b[0m\u001b[0;34m\u001b[0m\u001b[0;34m\u001b[0m\u001b[0m\n\u001b[1;32m    872\u001b[0m                     \u001b[0;32mpass\u001b[0m\u001b[0;34m\u001b[0m\u001b[0;34m\u001b[0m\u001b[0m\n\u001b[0;32m--> 873\u001b[0;31m             \u001b[0;32mreturn\u001b[0m \u001b[0mself\u001b[0m\u001b[0;34m.\u001b[0m\u001b[0m_getitem_tuple\u001b[0m\u001b[0;34m(\u001b[0m\u001b[0mkey\u001b[0m\u001b[0;34m)\u001b[0m\u001b[0;34m\u001b[0m\u001b[0;34m\u001b[0m\u001b[0m\n\u001b[0m\u001b[1;32m    874\u001b[0m         \u001b[0;32melse\u001b[0m\u001b[0;34m:\u001b[0m\u001b[0;34m\u001b[0m\u001b[0;34m\u001b[0m\u001b[0m\n\u001b[1;32m    875\u001b[0m             \u001b[0;31m# we by definition only have the 0th axis\u001b[0m\u001b[0;34m\u001b[0m\u001b[0;34m\u001b[0m\u001b[0;34m\u001b[0m\u001b[0m\n",
            "\u001b[0;32m/usr/local/lib/python3.6/dist-packages/pandas/core/indexing.py\u001b[0m in \u001b[0;36m_getitem_tuple\u001b[0;34m(self, tup)\u001b[0m\n\u001b[1;32m   1441\u001b[0m     \u001b[0;32mdef\u001b[0m \u001b[0m_getitem_tuple\u001b[0m\u001b[0;34m(\u001b[0m\u001b[0mself\u001b[0m\u001b[0;34m,\u001b[0m \u001b[0mtup\u001b[0m\u001b[0;34m:\u001b[0m \u001b[0mTuple\u001b[0m\u001b[0;34m)\u001b[0m\u001b[0;34m:\u001b[0m\u001b[0;34m\u001b[0m\u001b[0;34m\u001b[0m\u001b[0m\n\u001b[1;32m   1442\u001b[0m \u001b[0;34m\u001b[0m\u001b[0m\n\u001b[0;32m-> 1443\u001b[0;31m         \u001b[0mself\u001b[0m\u001b[0;34m.\u001b[0m\u001b[0m_has_valid_tuple\u001b[0m\u001b[0;34m(\u001b[0m\u001b[0mtup\u001b[0m\u001b[0;34m)\u001b[0m\u001b[0;34m\u001b[0m\u001b[0;34m\u001b[0m\u001b[0m\n\u001b[0m\u001b[1;32m   1444\u001b[0m         \u001b[0;32mtry\u001b[0m\u001b[0;34m:\u001b[0m\u001b[0;34m\u001b[0m\u001b[0;34m\u001b[0m\u001b[0m\n\u001b[1;32m   1445\u001b[0m             \u001b[0;32mreturn\u001b[0m \u001b[0mself\u001b[0m\u001b[0;34m.\u001b[0m\u001b[0m_getitem_lowerdim\u001b[0m\u001b[0;34m(\u001b[0m\u001b[0mtup\u001b[0m\u001b[0;34m)\u001b[0m\u001b[0;34m\u001b[0m\u001b[0;34m\u001b[0m\u001b[0m\n",
            "\u001b[0;32m/usr/local/lib/python3.6/dist-packages/pandas/core/indexing.py\u001b[0m in \u001b[0;36m_has_valid_tuple\u001b[0;34m(self, key)\u001b[0m\n\u001b[1;32m    705\u001b[0m                     \u001b[0;34m\"Location based indexing can only have \"\u001b[0m\u001b[0;34m\u001b[0m\u001b[0;34m\u001b[0m\u001b[0m\n\u001b[1;32m    706\u001b[0m                     \u001b[0;34mf\"[{self._valid_types}] types\"\u001b[0m\u001b[0;34m\u001b[0m\u001b[0;34m\u001b[0m\u001b[0m\n\u001b[0;32m--> 707\u001b[0;31m                 ) from err\n\u001b[0m\u001b[1;32m    708\u001b[0m \u001b[0;34m\u001b[0m\u001b[0m\n\u001b[1;32m    709\u001b[0m     \u001b[0;32mdef\u001b[0m \u001b[0m_is_nested_tuple_indexer\u001b[0m\u001b[0;34m(\u001b[0m\u001b[0mself\u001b[0m\u001b[0;34m,\u001b[0m \u001b[0mtup\u001b[0m\u001b[0;34m:\u001b[0m \u001b[0mTuple\u001b[0m\u001b[0;34m)\u001b[0m \u001b[0;34m->\u001b[0m \u001b[0mbool\u001b[0m\u001b[0;34m:\u001b[0m\u001b[0;34m\u001b[0m\u001b[0;34m\u001b[0m\u001b[0m\n",
            "\u001b[0;31mValueError\u001b[0m: Location based indexing can only have [integer, integer slice (START point is INCLUDED, END point is EXCLUDED), listlike of integers, boolean array] types"
          ]
        }
      ]
    },
    {
      "cell_type": "code",
      "metadata": {
        "id": "XnPFwEYElEjX",
        "outputId": "ee17d5e6-1a2b-4f2c-e07b-53609f5dc680",
        "colab": {
          "base_uri": "https://localhost:8080/",
          "height": 358
        }
      },
      "source": [
        "lgb = LGBMClassifier(n_estimators = 400)\n",
        "lgb.fit(X_train, Y_train)"
      ],
      "execution_count": 73,
      "outputs": [
        {
          "output_type": "error",
          "ename": "ValueError",
          "evalue": "ignored",
          "traceback": [
            "\u001b[0;31m---------------------------------------------------------------------------\u001b[0m",
            "\u001b[0;31mValueError\u001b[0m                                Traceback (most recent call last)",
            "\u001b[0;32m<ipython-input-73-c6ef09b7b549>\u001b[0m in \u001b[0;36m<module>\u001b[0;34m()\u001b[0m\n\u001b[1;32m      1\u001b[0m \u001b[0mlgb\u001b[0m \u001b[0;34m=\u001b[0m \u001b[0mLGBMClassifier\u001b[0m\u001b[0;34m(\u001b[0m\u001b[0mn_estimators\u001b[0m \u001b[0;34m=\u001b[0m \u001b[0;36m400\u001b[0m\u001b[0;34m)\u001b[0m\u001b[0;34m\u001b[0m\u001b[0;34m\u001b[0m\u001b[0m\n\u001b[0;32m----> 2\u001b[0;31m \u001b[0mlgb\u001b[0m\u001b[0;34m.\u001b[0m\u001b[0mfit\u001b[0m\u001b[0;34m(\u001b[0m\u001b[0mX_train\u001b[0m\u001b[0;34m,\u001b[0m \u001b[0mY_train\u001b[0m\u001b[0;34m)\u001b[0m\u001b[0;34m\u001b[0m\u001b[0;34m\u001b[0m\u001b[0m\n\u001b[0m",
            "\u001b[0;32m/usr/local/lib/python3.6/dist-packages/lightgbm/sklearn.py\u001b[0m in \u001b[0;36mfit\u001b[0;34m(self, X, y, sample_weight, init_score, eval_set, eval_names, eval_sample_weight, eval_class_weight, eval_init_score, eval_metric, early_stopping_rounds, verbose, feature_name, categorical_feature, callbacks)\u001b[0m\n\u001b[1;32m    742\u001b[0m                                         \u001b[0mverbose\u001b[0m\u001b[0;34m=\u001b[0m\u001b[0mverbose\u001b[0m\u001b[0;34m,\u001b[0m \u001b[0mfeature_name\u001b[0m\u001b[0;34m=\u001b[0m\u001b[0mfeature_name\u001b[0m\u001b[0;34m,\u001b[0m\u001b[0;34m\u001b[0m\u001b[0;34m\u001b[0m\u001b[0m\n\u001b[1;32m    743\u001b[0m                                         \u001b[0mcategorical_feature\u001b[0m\u001b[0;34m=\u001b[0m\u001b[0mcategorical_feature\u001b[0m\u001b[0;34m,\u001b[0m\u001b[0;34m\u001b[0m\u001b[0;34m\u001b[0m\u001b[0m\n\u001b[0;32m--> 744\u001b[0;31m                                         callbacks=callbacks)\n\u001b[0m\u001b[1;32m    745\u001b[0m         \u001b[0;32mreturn\u001b[0m \u001b[0mself\u001b[0m\u001b[0;34m\u001b[0m\u001b[0;34m\u001b[0m\u001b[0m\n\u001b[1;32m    746\u001b[0m \u001b[0;34m\u001b[0m\u001b[0m\n",
            "\u001b[0;32m/usr/local/lib/python3.6/dist-packages/lightgbm/sklearn.py\u001b[0m in \u001b[0;36mfit\u001b[0;34m(self, X, y, sample_weight, init_score, group, eval_set, eval_names, eval_sample_weight, eval_class_weight, eval_init_score, eval_group, eval_metric, early_stopping_rounds, verbose, feature_name, categorical_feature, callbacks)\u001b[0m\n\u001b[1;32m    542\u001b[0m                               \u001b[0mverbose_eval\u001b[0m\u001b[0;34m=\u001b[0m\u001b[0mverbose\u001b[0m\u001b[0;34m,\u001b[0m \u001b[0mfeature_name\u001b[0m\u001b[0;34m=\u001b[0m\u001b[0mfeature_name\u001b[0m\u001b[0;34m,\u001b[0m\u001b[0;34m\u001b[0m\u001b[0;34m\u001b[0m\u001b[0m\n\u001b[1;32m    543\u001b[0m                               \u001b[0mcategorical_feature\u001b[0m\u001b[0;34m=\u001b[0m\u001b[0mcategorical_feature\u001b[0m\u001b[0;34m,\u001b[0m\u001b[0;34m\u001b[0m\u001b[0;34m\u001b[0m\u001b[0m\n\u001b[0;32m--> 544\u001b[0;31m                               callbacks=callbacks)\n\u001b[0m\u001b[1;32m    545\u001b[0m \u001b[0;34m\u001b[0m\u001b[0m\n\u001b[1;32m    546\u001b[0m         \u001b[0;32mif\u001b[0m \u001b[0mevals_result\u001b[0m\u001b[0;34m:\u001b[0m\u001b[0;34m\u001b[0m\u001b[0;34m\u001b[0m\u001b[0m\n",
            "\u001b[0;32m/usr/local/lib/python3.6/dist-packages/lightgbm/engine.py\u001b[0m in \u001b[0;36mtrain\u001b[0;34m(params, train_set, num_boost_round, valid_sets, valid_names, fobj, feval, init_model, feature_name, categorical_feature, early_stopping_rounds, evals_result, verbose_eval, learning_rates, keep_training_booster, callbacks)\u001b[0m\n\u001b[1;32m    195\u001b[0m     \u001b[0;31m# construct booster\u001b[0m\u001b[0;34m\u001b[0m\u001b[0;34m\u001b[0m\u001b[0;34m\u001b[0m\u001b[0m\n\u001b[1;32m    196\u001b[0m     \u001b[0;32mtry\u001b[0m\u001b[0;34m:\u001b[0m\u001b[0;34m\u001b[0m\u001b[0;34m\u001b[0m\u001b[0m\n\u001b[0;32m--> 197\u001b[0;31m         \u001b[0mbooster\u001b[0m \u001b[0;34m=\u001b[0m \u001b[0mBooster\u001b[0m\u001b[0;34m(\u001b[0m\u001b[0mparams\u001b[0m\u001b[0;34m=\u001b[0m\u001b[0mparams\u001b[0m\u001b[0;34m,\u001b[0m \u001b[0mtrain_set\u001b[0m\u001b[0;34m=\u001b[0m\u001b[0mtrain_set\u001b[0m\u001b[0;34m)\u001b[0m\u001b[0;34m\u001b[0m\u001b[0;34m\u001b[0m\u001b[0m\n\u001b[0m\u001b[1;32m    198\u001b[0m         \u001b[0;32mif\u001b[0m \u001b[0mis_valid_contain_train\u001b[0m\u001b[0;34m:\u001b[0m\u001b[0;34m\u001b[0m\u001b[0;34m\u001b[0m\u001b[0m\n\u001b[1;32m    199\u001b[0m             \u001b[0mbooster\u001b[0m\u001b[0;34m.\u001b[0m\u001b[0mset_train_data_name\u001b[0m\u001b[0;34m(\u001b[0m\u001b[0mtrain_data_name\u001b[0m\u001b[0;34m)\u001b[0m\u001b[0;34m\u001b[0m\u001b[0;34m\u001b[0m\u001b[0m\n",
            "\u001b[0;32m/usr/local/lib/python3.6/dist-packages/lightgbm/basic.py\u001b[0m in \u001b[0;36m__init__\u001b[0;34m(self, params, train_set, model_file, silent)\u001b[0m\n\u001b[1;32m   1550\u001b[0m             \u001b[0mself\u001b[0m\u001b[0;34m.\u001b[0m\u001b[0mhandle\u001b[0m \u001b[0;34m=\u001b[0m \u001b[0mctypes\u001b[0m\u001b[0;34m.\u001b[0m\u001b[0mc_void_p\u001b[0m\u001b[0;34m(\u001b[0m\u001b[0;34m)\u001b[0m\u001b[0;34m\u001b[0m\u001b[0;34m\u001b[0m\u001b[0m\n\u001b[1;32m   1551\u001b[0m             _safe_call(_LIB.LGBM_BoosterCreate(\n\u001b[0;32m-> 1552\u001b[0;31m                 \u001b[0mtrain_set\u001b[0m\u001b[0;34m.\u001b[0m\u001b[0mconstruct\u001b[0m\u001b[0;34m(\u001b[0m\u001b[0;34m)\u001b[0m\u001b[0;34m.\u001b[0m\u001b[0mhandle\u001b[0m\u001b[0;34m,\u001b[0m\u001b[0;34m\u001b[0m\u001b[0;34m\u001b[0m\u001b[0m\n\u001b[0m\u001b[1;32m   1553\u001b[0m                 \u001b[0mc_str\u001b[0m\u001b[0;34m(\u001b[0m\u001b[0mparams_str\u001b[0m\u001b[0;34m)\u001b[0m\u001b[0;34m,\u001b[0m\u001b[0;34m\u001b[0m\u001b[0;34m\u001b[0m\u001b[0m\n\u001b[1;32m   1554\u001b[0m                 ctypes.byref(self.handle)))\n",
            "\u001b[0;32m/usr/local/lib/python3.6/dist-packages/lightgbm/basic.py\u001b[0m in \u001b[0;36mconstruct\u001b[0;34m(self)\u001b[0m\n\u001b[1;32m    999\u001b[0m                                 \u001b[0minit_score\u001b[0m\u001b[0;34m=\u001b[0m\u001b[0mself\u001b[0m\u001b[0;34m.\u001b[0m\u001b[0minit_score\u001b[0m\u001b[0;34m,\u001b[0m \u001b[0mpredictor\u001b[0m\u001b[0;34m=\u001b[0m\u001b[0mself\u001b[0m\u001b[0;34m.\u001b[0m\u001b[0m_predictor\u001b[0m\u001b[0;34m,\u001b[0m\u001b[0;34m\u001b[0m\u001b[0;34m\u001b[0m\u001b[0m\n\u001b[1;32m   1000\u001b[0m                                 \u001b[0msilent\u001b[0m\u001b[0;34m=\u001b[0m\u001b[0mself\u001b[0m\u001b[0;34m.\u001b[0m\u001b[0msilent\u001b[0m\u001b[0;34m,\u001b[0m \u001b[0mfeature_name\u001b[0m\u001b[0;34m=\u001b[0m\u001b[0mself\u001b[0m\u001b[0;34m.\u001b[0m\u001b[0mfeature_name\u001b[0m\u001b[0;34m,\u001b[0m\u001b[0;34m\u001b[0m\u001b[0;34m\u001b[0m\u001b[0m\n\u001b[0;32m-> 1001\u001b[0;31m                                 categorical_feature=self.categorical_feature, params=self.params)\n\u001b[0m\u001b[1;32m   1002\u001b[0m             \u001b[0;32mif\u001b[0m \u001b[0mself\u001b[0m\u001b[0;34m.\u001b[0m\u001b[0mfree_raw_data\u001b[0m\u001b[0;34m:\u001b[0m\u001b[0;34m\u001b[0m\u001b[0;34m\u001b[0m\u001b[0m\n\u001b[1;32m   1003\u001b[0m                 \u001b[0mself\u001b[0m\u001b[0;34m.\u001b[0m\u001b[0mdata\u001b[0m \u001b[0;34m=\u001b[0m \u001b[0;32mNone\u001b[0m\u001b[0;34m\u001b[0m\u001b[0;34m\u001b[0m\u001b[0m\n",
            "\u001b[0;32m/usr/local/lib/python3.6/dist-packages/lightgbm/basic.py\u001b[0m in \u001b[0;36m_lazy_init\u001b[0;34m(self, data, label, reference, weight, group, init_score, predictor, silent, feature_name, categorical_feature, params)\u001b[0m\n\u001b[1;32m    727\u001b[0m                                                                                              \u001b[0mfeature_name\u001b[0m\u001b[0;34m,\u001b[0m\u001b[0;34m\u001b[0m\u001b[0;34m\u001b[0m\u001b[0m\n\u001b[1;32m    728\u001b[0m                                                                                              \u001b[0mcategorical_feature\u001b[0m\u001b[0;34m,\u001b[0m\u001b[0;34m\u001b[0m\u001b[0;34m\u001b[0m\u001b[0m\n\u001b[0;32m--> 729\u001b[0;31m                                                                                              self.pandas_categorical)\n\u001b[0m\u001b[1;32m    730\u001b[0m         \u001b[0mlabel\u001b[0m \u001b[0;34m=\u001b[0m \u001b[0m_label_from_pandas\u001b[0m\u001b[0;34m(\u001b[0m\u001b[0mlabel\u001b[0m\u001b[0;34m)\u001b[0m\u001b[0;34m\u001b[0m\u001b[0;34m\u001b[0m\u001b[0m\n\u001b[1;32m    731\u001b[0m         \u001b[0mself\u001b[0m\u001b[0;34m.\u001b[0m\u001b[0mdata_has_header\u001b[0m \u001b[0;34m=\u001b[0m \u001b[0;32mFalse\u001b[0m\u001b[0;34m\u001b[0m\u001b[0;34m\u001b[0m\u001b[0m\n",
            "\u001b[0;32m/usr/local/lib/python3.6/dist-packages/lightgbm/basic.py\u001b[0m in \u001b[0;36m_data_from_pandas\u001b[0;34m(data, feature_name, categorical_feature, pandas_categorical)\u001b[0m\n\u001b[1;32m    275\u001b[0m             msg = (\"DataFrame.dtypes for data must be int, float or bool.\\n\"\n\u001b[1;32m    276\u001b[0m                    \"Did not expect the data types in fields \")\n\u001b[0;32m--> 277\u001b[0;31m             \u001b[0;32mraise\u001b[0m \u001b[0mValueError\u001b[0m\u001b[0;34m(\u001b[0m\u001b[0mmsg\u001b[0m \u001b[0;34m+\u001b[0m \u001b[0;34m', '\u001b[0m\u001b[0;34m.\u001b[0m\u001b[0mjoin\u001b[0m\u001b[0;34m(\u001b[0m\u001b[0mbad_fields\u001b[0m\u001b[0;34m)\u001b[0m\u001b[0;34m)\u001b[0m\u001b[0;34m\u001b[0m\u001b[0;34m\u001b[0m\u001b[0m\n\u001b[0m\u001b[1;32m    278\u001b[0m         \u001b[0mdata\u001b[0m \u001b[0;34m=\u001b[0m \u001b[0mdata\u001b[0m\u001b[0;34m.\u001b[0m\u001b[0mvalues\u001b[0m\u001b[0;34m.\u001b[0m\u001b[0mastype\u001b[0m\u001b[0;34m(\u001b[0m\u001b[0;34m'float'\u001b[0m\u001b[0;34m)\u001b[0m\u001b[0;34m\u001b[0m\u001b[0;34m\u001b[0m\u001b[0m\n\u001b[1;32m    279\u001b[0m     \u001b[0;32melse\u001b[0m\u001b[0;34m:\u001b[0m\u001b[0;34m\u001b[0m\u001b[0;34m\u001b[0m\u001b[0m\n",
            "\u001b[0;31mValueError\u001b[0m: DataFrame.dtypes for data must be int, float or bool.\nDid not expect the data types in fields 0, 1, 2, 3, 4, 5, 6, 7, 8, 9, 10, 11, 12, 13, 14"
          ]
        }
      ]
    },
    {
      "cell_type": "code",
      "metadata": {
        "id": "2FYK5U7QuH9p"
      },
      "source": [
        ""
      ],
      "execution_count": null,
      "outputs": []
    },
    {
      "cell_type": "code",
      "metadata": {
        "id": "e1ogCWFQhnP1"
      },
      "source": [
        ""
      ],
      "execution_count": null,
      "outputs": []
    }
  ]
}