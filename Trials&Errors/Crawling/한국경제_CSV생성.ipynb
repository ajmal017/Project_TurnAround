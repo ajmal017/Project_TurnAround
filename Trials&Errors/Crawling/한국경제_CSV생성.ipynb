{
 "cells": [
  {
   "cell_type": "code",
   "execution_count": null,
   "metadata": {},
   "outputs": [],
   "source": [
    "from wordcloud import WordCloud, STOPWORDS\n",
    "import urllib.request\n",
    "from urllib.request import urlopen\n",
    "import requests \n",
    "from urllib.request import HTTPError\n",
    "from bs4 import BeautifulSoup\n",
    "import pandas as pd\n",
    "\n",
    "\n",
    "\n",
    "year = 2020\n",
    "month = '09' # 월 입력 01, 02, 03, ..., 12\n",
    "list1 = []\n",
    "for i in range(30): # range : 일 입력\n",
    "    list2 = []\n",
    "    day = str(i+1)\n",
    "    if i+1 <=9 :\n",
    "        day = '0' + day\n",
    "    list2.append(str(year)+'.'+month+'.'+day)\n",
    "    for j in range(5) : # range : 페이지 수 입력\n",
    "        page = j+1\n",
    "        url = f'https://hankyung.com/economy?date={year}.{month}.{day}&page={page}'\n",
    "        #url = 'https://www.hankyung.com/economy?date=2020.04.01'\n",
    "        response = requests.get(url)\n",
    "        html = response.text\n",
    "        #print(html)\n",
    "        soup = BeautifulSoup(response.content.decode('UTF-8','replace'))\n",
    "        #print(soup)\n",
    "        #tit1 = soup.find_all('div', 'article') # 1~ 10\n",
    "        tit2 = soup.find_all('h3', 'tit') # 나머지 \n",
    "        #print(tit1)\n",
    "        #print(tit2)\n",
    "        \n",
    "        for i in range(len(tit2)):\n",
    "            a=str(tit2[i])\n",
    "            a2 = a.split('>')[2]\n",
    "            a3 = a2.split('<')[0]\n",
    "            list2.append(a3)\n",
    "    list1.append(list2)\n",
    "\n",
    "pd_list = pd.DataFrame(list1)\n",
    "pd_list.to_csv(\"result.csv\", mode='w', encoding='cp949', index=False)"
   ]
  },
  {
   "cell_type": "code",
   "execution_count": null,
   "metadata": {},
   "outputs": [],
   "source": []
  }
 ],
 "metadata": {
  "kernelspec": {
   "display_name": "Python 3",
   "language": "python",
   "name": "python3"
  },
  "language_info": {
   "codemirror_mode": {
    "name": "ipython",
    "version": 3
   },
   "file_extension": ".py",
   "mimetype": "text/x-python",
   "name": "python",
   "nbconvert_exporter": "python",
   "pygments_lexer": "ipython3",
   "version": "3.7.6"
  }
 },
 "nbformat": 4,
 "nbformat_minor": 4
}
