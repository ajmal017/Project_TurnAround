{
 "cells": [
  {
   "cell_type": "code",
   "execution_count": null,
   "metadata": {},
   "outputs": [],
   "source": [
    "#!/usr/bin/env python3\n",
    "import os\n",
    "import sys\n",
    "\n",
    "import json\n",
    "from datetime import datetime  \n",
    "from datetime import timedelta\n",
    "\n",
    "\n",
    "from yahoo_finance import repeat_download\n",
    "\n",
    "# collect the tickers to crawl their corresponding price information\n",
    "def get_tickers(date, tickers):\n",
    "    try:\n",
    "        f = open('./input/news/' + date[:4] + '/news_' + date + '.csv')\n",
    "        for l in f:\n",
    "            l = l.strip().split(',')\n",
    "            ticker = l[0]\n",
    "            tickers.add(ticker)\n",
    "    except:\n",
    "        print('No News file ' + date)\n",
    "    return(tickers)\n",
    "\n",
    "def save_daily_price(end_date, tickers):\n",
    "    datetime_object = datetime.strptime(end_date, '%Y%m%d')\n",
    "    start_date = (datetime_object - timedelta(days=28)).date().strftime('%Y%m%d')\n",
    "    output = './input/prices/' + end_date[:4] + '/price_' + end_date\n",
    "    end_date = '29991231' # up to the most recent news\n",
    "    price_set = {}\n",
    "    price_set['^GSPC'] = repeat_download('^GSPC', start_date, end_date) # download S&P 500\n",
    "    for num, ticker in enumerate(tickers):\n",
    "        price_set[ticker] = repeat_download(ticker, start_date, end_date)\n",
    "        with open(output, 'w') as outfile:\n",
    "            json.dump(price_set, outfile, indent=4)\n",
    "        print(num, ticker)\n",
    "\n",
    "\n",
    "def main():\n",
    "    cur_date = sys.argv[1]\n",
    "    today = cur_date\n",
    "    tlist = set()\n",
    "    tlist = get_tickers(cur_date, tlist)\n",
    "    print(cur_date)\n",
    "    for ii in range(3):\n",
    "        datetime_object = datetime.strptime(cur_date, '%Y%m%d')\n",
    "        cur_date = (datetime_object - timedelta(days=1)).date().strftime('%Y%m%d')\n",
    "        tlist = get_tickers(cur_date, tlist)\n",
    "        print(cur_date)\n",
    "    print(tlist)\n",
    "    save_daily_price(today, tlist)\n",
    "\n",
    "if __name__ == \"__main__\":\n",
    "    main()\n",
    "\n"
   ]
  }
 ],
 "metadata": {
  "kernelspec": {
   "display_name": "Python 3",
   "language": "python",
   "name": "python3"
  },
  "language_info": {
   "codemirror_mode": {
    "name": "ipython",
    "version": 3
   },
   "file_extension": ".py",
   "mimetype": "text/x-python",
   "name": "python",
   "nbconvert_exporter": "python",
   "pygments_lexer": "ipython3",
   "version": "3.7.2"
  }
 },
 "nbformat": 4,
 "nbformat_minor": 4
}
