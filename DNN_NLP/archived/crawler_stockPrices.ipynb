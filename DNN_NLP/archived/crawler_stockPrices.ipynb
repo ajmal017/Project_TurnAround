{
 "cells": [
  {
   "cell_type": "code",
   "execution_count": null,
   "metadata": {},
   "outputs": [],
   "source": [
    "#!/usr/bin/python\n",
    "import sys\n",
    "import os\n",
    "import json\n",
    "import time\n",
    "import numpy as np\n",
    "import random\n",
    "from math import log\n",
    "from yahoo_finance import Share\n",
    "from pprint import pprint\n",
    "\n",
    "def stock_Prices():\n",
    "    # exit if the output already existed\n",
    "    # if os.path.isfile('./input/stockPrices.json'):\n",
    "    #     sys.exit(\"Prices data already existed!\")\n",
    "\n",
    "    priceSet = {}\n",
    "    fin = open('./input/tickerList.csv')\n",
    "    for num, line in enumerate(fin):\n",
    "        line = line.strip().split(',')\n",
    "        ticker, name, exchange, MarketCap = line\n",
    "        if 1:\n",
    "            print(num, ticker)\n",
    "            yahoo = Share(ticker)\n",
    "            time.sleep(np.random.poisson(3))\n",
    "            prices = yahoo.get_historical('2005-01-01', '2020-01-01')\n",
    "            priceDt = {}\n",
    "            for i in range(len(prices)):\n",
    "                date = ''.join(prices[i]['Date'].split('-'))\n",
    "                priceDt[date] = round(log(float(prices[i]['Close']) / float(prices[i]['Open'])), 6)\n",
    "            priceSet[ticker] = priceDt\n",
    "        #except:\n",
    "            #continue\n",
    "\n",
    "    with open('./input/stockPrices.json', 'w') as outfile:\n",
    "        json.dump(priceSet, outfile, indent=4)\n",
    "\n",
    "def main():\n",
    "    stock_Prices()\n",
    "\n",
    "if __name__ == \"__main__\":\n",
    "    main()\n"
   ]
  }
 ],
 "metadata": {
  "kernelspec": {
   "display_name": "Python 3",
   "language": "python",
   "name": "python3"
  },
  "language_info": {
   "codemirror_mode": {
    "name": "ipython",
    "version": 3
   },
   "file_extension": ".py",
   "mimetype": "text/x-python",
   "name": "python",
   "nbconvert_exporter": "python",
   "pygments_lexer": "ipython3",
   "version": "3.7.2"
  }
 },
 "nbformat": 4,
 "nbformat_minor": 4
}
