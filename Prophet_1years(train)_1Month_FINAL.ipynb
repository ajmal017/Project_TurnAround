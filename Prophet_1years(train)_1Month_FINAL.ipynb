{
  "nbformat": 4,
  "nbformat_minor": 0,
  "metadata": {
    "colab": {
      "name": "Prophet_1years(train)_1Month_FINAL",
      "provenance": [],
      "collapsed_sections": [],
      "authorship_tag": "ABX9TyMvPWpqs2aaQag5kn5Eplxk",
      "include_colab_link": true
    },
    "kernelspec": {
      "name": "python3",
      "display_name": "Python 3"
    },
    "widgets": {
      "application/vnd.jupyter.widget-state+json": {
        "9917fcadace64d63a27609e73e4bc690": {
          "model_module": "@jupyter-widgets/controls",
          "model_name": "HBoxModel",
          "state": {
            "_view_name": "HBoxView",
            "_dom_classes": [],
            "_model_name": "HBoxModel",
            "_view_module": "@jupyter-widgets/controls",
            "_model_module_version": "1.5.0",
            "_view_count": null,
            "_view_module_version": "1.5.0",
            "box_style": "",
            "layout": "IPY_MODEL_4fa93554108043459820da08dcb7b87f",
            "_model_module": "@jupyter-widgets/controls",
            "children": [
              "IPY_MODEL_6428b669e1684c658395f51b803194b6",
              "IPY_MODEL_3e653ed3e7d0454abe582522d25461cb"
            ]
          }
        },
        "4fa93554108043459820da08dcb7b87f": {
          "model_module": "@jupyter-widgets/base",
          "model_name": "LayoutModel",
          "state": {
            "_view_name": "LayoutView",
            "grid_template_rows": null,
            "right": null,
            "justify_content": null,
            "_view_module": "@jupyter-widgets/base",
            "overflow": null,
            "_model_module_version": "1.2.0",
            "_view_count": null,
            "flex_flow": null,
            "width": null,
            "min_width": null,
            "border": null,
            "align_items": null,
            "bottom": null,
            "_model_module": "@jupyter-widgets/base",
            "top": null,
            "grid_column": null,
            "overflow_y": null,
            "overflow_x": null,
            "grid_auto_flow": null,
            "grid_area": null,
            "grid_template_columns": null,
            "flex": null,
            "_model_name": "LayoutModel",
            "justify_items": null,
            "grid_row": null,
            "max_height": null,
            "align_content": null,
            "visibility": null,
            "align_self": null,
            "height": null,
            "min_height": null,
            "padding": null,
            "grid_auto_rows": null,
            "grid_gap": null,
            "max_width": null,
            "order": null,
            "_view_module_version": "1.2.0",
            "grid_template_areas": null,
            "object_position": null,
            "object_fit": null,
            "grid_auto_columns": null,
            "margin": null,
            "display": null,
            "left": null
          }
        },
        "6428b669e1684c658395f51b803194b6": {
          "model_module": "@jupyter-widgets/controls",
          "model_name": "FloatProgressModel",
          "state": {
            "_view_name": "ProgressView",
            "style": "IPY_MODEL_e28ea3e1d8114290a8284d9e9d1b43d3",
            "_dom_classes": [],
            "description": "tqdm: 100%",
            "_model_name": "FloatProgressModel",
            "bar_style": "success",
            "max": 20,
            "_view_module": "@jupyter-widgets/controls",
            "_model_module_version": "1.5.0",
            "value": 20,
            "_view_count": null,
            "_view_module_version": "1.5.0",
            "orientation": "horizontal",
            "min": 0,
            "description_tooltip": null,
            "_model_module": "@jupyter-widgets/controls",
            "layout": "IPY_MODEL_ba8589dde1f045d9b8ddc9b7ae855a7b"
          }
        },
        "3e653ed3e7d0454abe582522d25461cb": {
          "model_module": "@jupyter-widgets/controls",
          "model_name": "HTMLModel",
          "state": {
            "_view_name": "HTMLView",
            "style": "IPY_MODEL_1fd3ab0f35934e89aba9c72c4528bd21",
            "_dom_classes": [],
            "description": "",
            "_model_name": "HTMLModel",
            "placeholder": "​",
            "_view_module": "@jupyter-widgets/controls",
            "_model_module_version": "1.5.0",
            "value": " 20/20 [00:00&lt;00:00, 199.96it/s]",
            "_view_count": null,
            "_view_module_version": "1.5.0",
            "description_tooltip": null,
            "_model_module": "@jupyter-widgets/controls",
            "layout": "IPY_MODEL_44fc9031046c40199124f87a4508a50b"
          }
        },
        "e28ea3e1d8114290a8284d9e9d1b43d3": {
          "model_module": "@jupyter-widgets/controls",
          "model_name": "ProgressStyleModel",
          "state": {
            "_view_name": "StyleView",
            "_model_name": "ProgressStyleModel",
            "description_width": "initial",
            "_view_module": "@jupyter-widgets/base",
            "_model_module_version": "1.5.0",
            "_view_count": null,
            "_view_module_version": "1.2.0",
            "bar_color": null,
            "_model_module": "@jupyter-widgets/controls"
          }
        },
        "ba8589dde1f045d9b8ddc9b7ae855a7b": {
          "model_module": "@jupyter-widgets/base",
          "model_name": "LayoutModel",
          "state": {
            "_view_name": "LayoutView",
            "grid_template_rows": null,
            "right": null,
            "justify_content": null,
            "_view_module": "@jupyter-widgets/base",
            "overflow": null,
            "_model_module_version": "1.2.0",
            "_view_count": null,
            "flex_flow": null,
            "width": null,
            "min_width": null,
            "border": null,
            "align_items": null,
            "bottom": null,
            "_model_module": "@jupyter-widgets/base",
            "top": null,
            "grid_column": null,
            "overflow_y": null,
            "overflow_x": null,
            "grid_auto_flow": null,
            "grid_area": null,
            "grid_template_columns": null,
            "flex": null,
            "_model_name": "LayoutModel",
            "justify_items": null,
            "grid_row": null,
            "max_height": null,
            "align_content": null,
            "visibility": null,
            "align_self": null,
            "height": null,
            "min_height": null,
            "padding": null,
            "grid_auto_rows": null,
            "grid_gap": null,
            "max_width": null,
            "order": null,
            "_view_module_version": "1.2.0",
            "grid_template_areas": null,
            "object_position": null,
            "object_fit": null,
            "grid_auto_columns": null,
            "margin": null,
            "display": null,
            "left": null
          }
        },
        "1fd3ab0f35934e89aba9c72c4528bd21": {
          "model_module": "@jupyter-widgets/controls",
          "model_name": "DescriptionStyleModel",
          "state": {
            "_view_name": "StyleView",
            "_model_name": "DescriptionStyleModel",
            "description_width": "",
            "_view_module": "@jupyter-widgets/base",
            "_model_module_version": "1.5.0",
            "_view_count": null,
            "_view_module_version": "1.2.0",
            "_model_module": "@jupyter-widgets/controls"
          }
        },
        "44fc9031046c40199124f87a4508a50b": {
          "model_module": "@jupyter-widgets/base",
          "model_name": "LayoutModel",
          "state": {
            "_view_name": "LayoutView",
            "grid_template_rows": null,
            "right": null,
            "justify_content": null,
            "_view_module": "@jupyter-widgets/base",
            "overflow": null,
            "_model_module_version": "1.2.0",
            "_view_count": null,
            "flex_flow": null,
            "width": null,
            "min_width": null,
            "border": null,
            "align_items": null,
            "bottom": null,
            "_model_module": "@jupyter-widgets/base",
            "top": null,
            "grid_column": null,
            "overflow_y": null,
            "overflow_x": null,
            "grid_auto_flow": null,
            "grid_area": null,
            "grid_template_columns": null,
            "flex": null,
            "_model_name": "LayoutModel",
            "justify_items": null,
            "grid_row": null,
            "max_height": null,
            "align_content": null,
            "visibility": null,
            "align_self": null,
            "height": null,
            "min_height": null,
            "padding": null,
            "grid_auto_rows": null,
            "grid_gap": null,
            "max_width": null,
            "order": null,
            "_view_module_version": "1.2.0",
            "grid_template_areas": null,
            "object_position": null,
            "object_fit": null,
            "grid_auto_columns": null,
            "margin": null,
            "display": null,
            "left": null
          }
        },
        "12af5781ffb14be081ff14c5b3b94535": {
          "model_module": "@jupyter-widgets/controls",
          "model_name": "HBoxModel",
          "state": {
            "_view_name": "HBoxView",
            "_dom_classes": [],
            "_model_name": "HBoxModel",
            "_view_module": "@jupyter-widgets/controls",
            "_model_module_version": "1.5.0",
            "_view_count": null,
            "_view_module_version": "1.5.0",
            "box_style": "",
            "layout": "IPY_MODEL_d8c9d7b031034057997aabaa53af92b9",
            "_model_module": "@jupyter-widgets/controls",
            "children": [
              "IPY_MODEL_923080c944ec4398970bf750ecfd0d7e",
              "IPY_MODEL_c169327e703744ccabba5e0434bf1653"
            ]
          }
        },
        "d8c9d7b031034057997aabaa53af92b9": {
          "model_module": "@jupyter-widgets/base",
          "model_name": "LayoutModel",
          "state": {
            "_view_name": "LayoutView",
            "grid_template_rows": null,
            "right": null,
            "justify_content": null,
            "_view_module": "@jupyter-widgets/base",
            "overflow": null,
            "_model_module_version": "1.2.0",
            "_view_count": null,
            "flex_flow": null,
            "width": null,
            "min_width": null,
            "border": null,
            "align_items": null,
            "bottom": null,
            "_model_module": "@jupyter-widgets/base",
            "top": null,
            "grid_column": null,
            "overflow_y": null,
            "overflow_x": null,
            "grid_auto_flow": null,
            "grid_area": null,
            "grid_template_columns": null,
            "flex": null,
            "_model_name": "LayoutModel",
            "justify_items": null,
            "grid_row": null,
            "max_height": null,
            "align_content": null,
            "visibility": null,
            "align_self": null,
            "height": null,
            "min_height": null,
            "padding": null,
            "grid_auto_rows": null,
            "grid_gap": null,
            "max_width": null,
            "order": null,
            "_view_module_version": "1.2.0",
            "grid_template_areas": null,
            "object_position": null,
            "object_fit": null,
            "grid_auto_columns": null,
            "margin": null,
            "display": null,
            "left": null
          }
        },
        "923080c944ec4398970bf750ecfd0d7e": {
          "model_module": "@jupyter-widgets/controls",
          "model_name": "FloatProgressModel",
          "state": {
            "_view_name": "ProgressView",
            "style": "IPY_MODEL_c57d71c26257485997e20868b6b4da6c",
            "_dom_classes": [],
            "description": "tqdm: 100%",
            "_model_name": "FloatProgressModel",
            "bar_style": "success",
            "max": 20,
            "_view_module": "@jupyter-widgets/controls",
            "_model_module_version": "1.5.0",
            "value": 20,
            "_view_count": null,
            "_view_module_version": "1.5.0",
            "orientation": "horizontal",
            "min": 0,
            "description_tooltip": null,
            "_model_module": "@jupyter-widgets/controls",
            "layout": "IPY_MODEL_53571d662a3d493aac9d6340fed841f5"
          }
        },
        "c169327e703744ccabba5e0434bf1653": {
          "model_module": "@jupyter-widgets/controls",
          "model_name": "HTMLModel",
          "state": {
            "_view_name": "HTMLView",
            "style": "IPY_MODEL_66e35f0a2ef042e88e4f88462afa42e1",
            "_dom_classes": [],
            "description": "",
            "_model_name": "HTMLModel",
            "placeholder": "​",
            "_view_module": "@jupyter-widgets/controls",
            "_model_module_version": "1.5.0",
            "value": " 20/20 [36:10&lt;00:00, 108.54s/it]",
            "_view_count": null,
            "_view_module_version": "1.5.0",
            "description_tooltip": null,
            "_model_module": "@jupyter-widgets/controls",
            "layout": "IPY_MODEL_32f5c2adc3c7412fb4f06c948f188055"
          }
        },
        "c57d71c26257485997e20868b6b4da6c": {
          "model_module": "@jupyter-widgets/controls",
          "model_name": "ProgressStyleModel",
          "state": {
            "_view_name": "StyleView",
            "_model_name": "ProgressStyleModel",
            "description_width": "initial",
            "_view_module": "@jupyter-widgets/base",
            "_model_module_version": "1.5.0",
            "_view_count": null,
            "_view_module_version": "1.2.0",
            "bar_color": null,
            "_model_module": "@jupyter-widgets/controls"
          }
        },
        "53571d662a3d493aac9d6340fed841f5": {
          "model_module": "@jupyter-widgets/base",
          "model_name": "LayoutModel",
          "state": {
            "_view_name": "LayoutView",
            "grid_template_rows": null,
            "right": null,
            "justify_content": null,
            "_view_module": "@jupyter-widgets/base",
            "overflow": null,
            "_model_module_version": "1.2.0",
            "_view_count": null,
            "flex_flow": null,
            "width": null,
            "min_width": null,
            "border": null,
            "align_items": null,
            "bottom": null,
            "_model_module": "@jupyter-widgets/base",
            "top": null,
            "grid_column": null,
            "overflow_y": null,
            "overflow_x": null,
            "grid_auto_flow": null,
            "grid_area": null,
            "grid_template_columns": null,
            "flex": null,
            "_model_name": "LayoutModel",
            "justify_items": null,
            "grid_row": null,
            "max_height": null,
            "align_content": null,
            "visibility": null,
            "align_self": null,
            "height": null,
            "min_height": null,
            "padding": null,
            "grid_auto_rows": null,
            "grid_gap": null,
            "max_width": null,
            "order": null,
            "_view_module_version": "1.2.0",
            "grid_template_areas": null,
            "object_position": null,
            "object_fit": null,
            "grid_auto_columns": null,
            "margin": null,
            "display": null,
            "left": null
          }
        },
        "66e35f0a2ef042e88e4f88462afa42e1": {
          "model_module": "@jupyter-widgets/controls",
          "model_name": "DescriptionStyleModel",
          "state": {
            "_view_name": "StyleView",
            "_model_name": "DescriptionStyleModel",
            "description_width": "",
            "_view_module": "@jupyter-widgets/base",
            "_model_module_version": "1.5.0",
            "_view_count": null,
            "_view_module_version": "1.2.0",
            "_model_module": "@jupyter-widgets/controls"
          }
        },
        "32f5c2adc3c7412fb4f06c948f188055": {
          "model_module": "@jupyter-widgets/base",
          "model_name": "LayoutModel",
          "state": {
            "_view_name": "LayoutView",
            "grid_template_rows": null,
            "right": null,
            "justify_content": null,
            "_view_module": "@jupyter-widgets/base",
            "overflow": null,
            "_model_module_version": "1.2.0",
            "_view_count": null,
            "flex_flow": null,
            "width": null,
            "min_width": null,
            "border": null,
            "align_items": null,
            "bottom": null,
            "_model_module": "@jupyter-widgets/base",
            "top": null,
            "grid_column": null,
            "overflow_y": null,
            "overflow_x": null,
            "grid_auto_flow": null,
            "grid_area": null,
            "grid_template_columns": null,
            "flex": null,
            "_model_name": "LayoutModel",
            "justify_items": null,
            "grid_row": null,
            "max_height": null,
            "align_content": null,
            "visibility": null,
            "align_self": null,
            "height": null,
            "min_height": null,
            "padding": null,
            "grid_auto_rows": null,
            "grid_gap": null,
            "max_width": null,
            "order": null,
            "_view_module_version": "1.2.0",
            "grid_template_areas": null,
            "object_position": null,
            "object_fit": null,
            "grid_auto_columns": null,
            "margin": null,
            "display": null,
            "left": null
          }
        }
      }
    }
  },
  "cells": [
    {
      "cell_type": "markdown",
      "metadata": {
        "id": "view-in-github",
        "colab_type": "text"
      },
      "source": [
        "<a href=\"https://colab.research.google.com/github/ejihoon6065/Project_TurnAround/blob/master/Prophet_1years(train)_1Month_FINAL.ipynb\" target=\"_parent\"><img src=\"https://colab.research.google.com/assets/colab-badge.svg\" alt=\"Open In Colab\"/></a>"
      ]
    },
    {
      "cell_type": "code",
      "metadata": {
        "id": "60luuGpDmu0x",
        "colab_type": "code",
        "colab": {}
      },
      "source": [
        "# 아래 코드를 돌리기전 아래 URL 참고할 것, Prophet모델에 input될 데이터의 상한 하한을 그날의 값의 ±10% 이상은 변동하지 않는 제한을 두는 내용\n",
        "\n",
        "# 시계열 데이터는 일반적 데이터와는 다르게 순서가 존재하므로 일반적 cross validation 방법으로는  검증이 불가능함 -> one-step forecast validation 사용 \n",
        "# one-step forecast validation: 시간이 지남에 따라 매일매일 업데이트되는 데이터로 모델을 업데이트하고 그다음 날을 예측하는 프로세스를 반복하는 방법\n",
        "\n",
        "# https://predictor-ver1.tistory.com/6 "
      ],
      "execution_count": 1,
      "outputs": []
    },
    {
      "cell_type": "code",
      "metadata": {
        "id": "r81l3Xou9lvr",
        "colab_type": "code",
        "colab": {}
      },
      "source": [
        "# https://colab.research.google.com/notebooks/snippets/importing_libraries.ipynb 참고"
      ],
      "execution_count": 2,
      "outputs": []
    },
    {
      "cell_type": "code",
      "metadata": {
        "id": "pyyqCkmleTNG",
        "colab_type": "code",
        "colab": {
          "base_uri": "https://localhost:8080/",
          "height": 72
        },
        "outputId": "5c5f74fa-2595-4345-ce93-a2851b17b979"
      },
      "source": [
        "import pandas as pd\n",
        "import csv\n",
        "import matplotlib as mpl\n",
        "import matplotlib.pyplot as plt\n",
        "%matplotlib inline\n",
        "import seaborn as sns\n",
        "#sns.set() # setting seaborn default for plots\n",
        "import matplotlib.font_manager as fm\n",
        "import copy\n",
        "# 그래프에서 마이너스 폰트 깨지는 문제에 대한 대처\n",
        "mpl.rcParams['axes.unicode_minus'] = False\n",
        "import numpy as np\n",
        "\n",
        "\n",
        "from scipy import stats  # Box-Cox 검정\n",
        "import statsmodels.api as sm  # qqplot\n",
        "from statsmodels.tsa.stattools import adfuller    # adfuller : ADF그래프 그려주는 함수\n",
        "from statsmodels.tsa.seasonal import seasonal_decompose\n",
        "from statsmodels.tsa.arima_model import ARIMA\n",
        "from pandas.plotting import register_matplotlib_converters\n",
        "from statsmodels.stats.diagnostic import acorr_ljungbox # Ljung-Box 검정\n",
        "\n",
        "import warnings\n",
        "warnings.filterwarnings(\"ignore\")\n",
        "\n",
        "import itertools\n",
        "import copy\n",
        "import datetime"
      ],
      "execution_count": 3,
      "outputs": [
        {
          "output_type": "stream",
          "text": [
            "/usr/local/lib/python3.6/dist-packages/statsmodels/tools/_testing.py:19: FutureWarning: pandas.util.testing is deprecated. Use the functions in the public API at pandas.testing instead.\n",
            "  import pandas.util.testing as tm\n"
          ],
          "name": "stderr"
        }
      ]
    },
    {
      "cell_type": "code",
      "metadata": {
        "id": "LSAdirBneakx",
        "colab_type": "code",
        "colab": {
          "base_uri": "https://localhost:8080/",
          "height": 34
        },
        "outputId": "3ef91d57-4b68-441e-c47c-6749d5c7b608"
      },
      "source": [
        "from google.colab import drive\n",
        "drive.mount('/content/drive')"
      ],
      "execution_count": 4,
      "outputs": [
        {
          "output_type": "stream",
          "text": [
            "Mounted at /content/drive\n"
          ],
          "name": "stdout"
        }
      ]
    },
    {
      "cell_type": "code",
      "metadata": {
        "id": "Vr0aXsmHgdZi",
        "colab_type": "code",
        "colab": {
          "base_uri": "https://localhost:8080/",
          "height": 438
        },
        "outputId": "a7bee8f8-c481-480a-8f8e-3021747084c0"
      },
      "source": [
        "pip install -U pykrx  # KRX데이터를 크롤링하기 위한 라이브러리설치"
      ],
      "execution_count": 5,
      "outputs": [
        {
          "output_type": "stream",
          "text": [
            "Collecting pykrx\n",
            "\u001b[?25l  Downloading https://files.pythonhosted.org/packages/c9/12/70cc31494c9e727fa216103b674d231124fabdac6ee8a4d8f43059afbc36/pykrx-0.1.41-py3-none-any.whl (40kB)\n",
            "\r\u001b[K     |████████▏                       | 10kB 15.0MB/s eta 0:00:01\r\u001b[K     |████████████████▎               | 20kB 1.6MB/s eta 0:00:01\r\u001b[K     |████████████████████████▍       | 30kB 1.9MB/s eta 0:00:01\r\u001b[K     |████████████████████████████████| 40kB 1.6MB/s \n",
            "\u001b[?25hRequirement already satisfied, skipping upgrade: requests in /usr/local/lib/python3.6/dist-packages (from pykrx) (2.23.0)\n",
            "Collecting datetime\n",
            "\u001b[?25l  Downloading https://files.pythonhosted.org/packages/73/22/a5297f3a1f92468cc737f8ce7ba6e5f245fcfafeae810ba37bd1039ea01c/DateTime-4.3-py2.py3-none-any.whl (60kB)\n",
            "\u001b[K     |████████████████████████████████| 61kB 3.2MB/s \n",
            "\u001b[?25hRequirement already satisfied, skipping upgrade: xlrd in /usr/local/lib/python3.6/dist-packages (from pykrx) (1.1.0)\n",
            "Requirement already satisfied, skipping upgrade: pandas in /usr/local/lib/python3.6/dist-packages (from pykrx) (1.0.5)\n",
            "Requirement already satisfied, skipping upgrade: numpy in /usr/local/lib/python3.6/dist-packages (from pykrx) (1.18.5)\n",
            "Requirement already satisfied, skipping upgrade: urllib3!=1.25.0,!=1.25.1,<1.26,>=1.21.1 in /usr/local/lib/python3.6/dist-packages (from requests->pykrx) (1.24.3)\n",
            "Requirement already satisfied, skipping upgrade: chardet<4,>=3.0.2 in /usr/local/lib/python3.6/dist-packages (from requests->pykrx) (3.0.4)\n",
            "Requirement already satisfied, skipping upgrade: certifi>=2017.4.17 in /usr/local/lib/python3.6/dist-packages (from requests->pykrx) (2020.6.20)\n",
            "Requirement already satisfied, skipping upgrade: idna<3,>=2.5 in /usr/local/lib/python3.6/dist-packages (from requests->pykrx) (2.10)\n",
            "Requirement already satisfied, skipping upgrade: pytz in /usr/local/lib/python3.6/dist-packages (from datetime->pykrx) (2018.9)\n",
            "Collecting zope.interface\n",
            "\u001b[?25l  Downloading https://files.pythonhosted.org/packages/57/33/565274c28a11af60b7cfc0519d46bde4125fcd7d32ebc0a81b480d0e8da6/zope.interface-5.1.0-cp36-cp36m-manylinux2010_x86_64.whl (234kB)\n",
            "\u001b[K     |████████████████████████████████| 235kB 5.2MB/s \n",
            "\u001b[?25hRequirement already satisfied, skipping upgrade: python-dateutil>=2.6.1 in /usr/local/lib/python3.6/dist-packages (from pandas->pykrx) (2.8.1)\n",
            "Requirement already satisfied, skipping upgrade: setuptools in /usr/local/lib/python3.6/dist-packages (from zope.interface->datetime->pykrx) (50.3.0)\n",
            "Requirement already satisfied, skipping upgrade: six>=1.5 in /usr/local/lib/python3.6/dist-packages (from python-dateutil>=2.6.1->pandas->pykrx) (1.15.0)\n",
            "Installing collected packages: zope.interface, datetime, pykrx\n",
            "Successfully installed datetime-4.3 pykrx-0.1.41 zope.interface-5.1.0\n"
          ],
          "name": "stdout"
        }
      ]
    },
    {
      "cell_type": "code",
      "metadata": {
        "id": "0OUJlVoZgiu3",
        "colab_type": "code",
        "colab": {
          "base_uri": "https://localhost:8080/",
          "height": 434
        },
        "outputId": "cd1b1826-a3f3-4898-a8ab-56090bd9cded"
      },
      "source": [
        "from pykrx import stock\n",
        "df = stock.get_market_ohlcv_by_date(\"20190701\", \"20200831\", \"122870\") # DataFrame, (시작날짜,종료날짜,종목번호)\n",
        "df"
      ],
      "execution_count": null,
      "outputs": [
        {
          "output_type": "execute_result",
          "data": {
            "text/html": [
              "<div>\n",
              "<style scoped>\n",
              "    .dataframe tbody tr th:only-of-type {\n",
              "        vertical-align: middle;\n",
              "    }\n",
              "\n",
              "    .dataframe tbody tr th {\n",
              "        vertical-align: top;\n",
              "    }\n",
              "\n",
              "    .dataframe thead th {\n",
              "        text-align: right;\n",
              "    }\n",
              "</style>\n",
              "<table border=\"1\" class=\"dataframe\">\n",
              "  <thead>\n",
              "    <tr style=\"text-align: right;\">\n",
              "      <th>와이지엔터테인먼트</th>\n",
              "      <th>시가</th>\n",
              "      <th>고가</th>\n",
              "      <th>저가</th>\n",
              "      <th>종가</th>\n",
              "      <th>거래량</th>\n",
              "    </tr>\n",
              "    <tr>\n",
              "      <th>날짜</th>\n",
              "      <th></th>\n",
              "      <th></th>\n",
              "      <th></th>\n",
              "      <th></th>\n",
              "      <th></th>\n",
              "    </tr>\n",
              "  </thead>\n",
              "  <tbody>\n",
              "    <tr>\n",
              "      <th>2018-07-02</th>\n",
              "      <td>36200</td>\n",
              "      <td>37450</td>\n",
              "      <td>35550</td>\n",
              "      <td>35950</td>\n",
              "      <td>416807</td>\n",
              "    </tr>\n",
              "    <tr>\n",
              "      <th>2018-07-03</th>\n",
              "      <td>36850</td>\n",
              "      <td>38200</td>\n",
              "      <td>36200</td>\n",
              "      <td>38100</td>\n",
              "      <td>689792</td>\n",
              "    </tr>\n",
              "    <tr>\n",
              "      <th>2018-07-04</th>\n",
              "      <td>38050</td>\n",
              "      <td>38700</td>\n",
              "      <td>37350</td>\n",
              "      <td>37800</td>\n",
              "      <td>305088</td>\n",
              "    </tr>\n",
              "    <tr>\n",
              "      <th>2018-07-05</th>\n",
              "      <td>37800</td>\n",
              "      <td>38000</td>\n",
              "      <td>36200</td>\n",
              "      <td>36850</td>\n",
              "      <td>267248</td>\n",
              "    </tr>\n",
              "    <tr>\n",
              "      <th>2018-07-06</th>\n",
              "      <td>36650</td>\n",
              "      <td>37500</td>\n",
              "      <td>36350</td>\n",
              "      <td>37450</td>\n",
              "      <td>261478</td>\n",
              "    </tr>\n",
              "    <tr>\n",
              "      <th>...</th>\n",
              "      <td>...</td>\n",
              "      <td>...</td>\n",
              "      <td>...</td>\n",
              "      <td>...</td>\n",
              "      <td>...</td>\n",
              "    </tr>\n",
              "    <tr>\n",
              "      <th>2020-08-25</th>\n",
              "      <td>47200</td>\n",
              "      <td>49350</td>\n",
              "      <td>47000</td>\n",
              "      <td>48700</td>\n",
              "      <td>397671</td>\n",
              "    </tr>\n",
              "    <tr>\n",
              "      <th>2020-08-26</th>\n",
              "      <td>48750</td>\n",
              "      <td>50800</td>\n",
              "      <td>48100</td>\n",
              "      <td>50400</td>\n",
              "      <td>586564</td>\n",
              "    </tr>\n",
              "    <tr>\n",
              "      <th>2020-08-27</th>\n",
              "      <td>49950</td>\n",
              "      <td>51400</td>\n",
              "      <td>49450</td>\n",
              "      <td>50900</td>\n",
              "      <td>528784</td>\n",
              "    </tr>\n",
              "    <tr>\n",
              "      <th>2020-08-28</th>\n",
              "      <td>50900</td>\n",
              "      <td>52500</td>\n",
              "      <td>47600</td>\n",
              "      <td>49000</td>\n",
              "      <td>1298643</td>\n",
              "    </tr>\n",
              "    <tr>\n",
              "      <th>2020-08-31</th>\n",
              "      <td>48950</td>\n",
              "      <td>49000</td>\n",
              "      <td>46000</td>\n",
              "      <td>46650</td>\n",
              "      <td>748647</td>\n",
              "    </tr>\n",
              "  </tbody>\n",
              "</table>\n",
              "<p>535 rows × 5 columns</p>\n",
              "</div>"
            ],
            "text/plain": [
              "와이지엔터테인먼트      시가     고가     저가     종가      거래량\n",
              "날짜                                             \n",
              "2018-07-02  36200  37450  35550  35950   416807\n",
              "2018-07-03  36850  38200  36200  38100   689792\n",
              "2018-07-04  38050  38700  37350  37800   305088\n",
              "2018-07-05  37800  38000  36200  36850   267248\n",
              "2018-07-06  36650  37500  36350  37450   261478\n",
              "...           ...    ...    ...    ...      ...\n",
              "2020-08-25  47200  49350  47000  48700   397671\n",
              "2020-08-26  48750  50800  48100  50400   586564\n",
              "2020-08-27  49950  51400  49450  50900   528784\n",
              "2020-08-28  50900  52500  47600  49000  1298643\n",
              "2020-08-31  48950  49000  46000  46650   748647\n",
              "\n",
              "[535 rows x 5 columns]"
            ]
          },
          "metadata": {
            "tags": []
          },
          "execution_count": 6
        }
      ]
    },
    {
      "cell_type": "code",
      "metadata": {
        "id": "gDxUxTJqhv09",
        "colab_type": "code",
        "colab": {}
      },
      "source": [
        "# train,test 데이터 나누기\n",
        "\n",
        "train = df[:'2019-07-01']                   # 2018-07-01 ~ 2019-07-01 (약 1년) \n",
        "\n",
        "test1 = df['2019-07-02':'2019-08-30']            \n",
        "test2 = df['2019-09-02':'2019-10-31']          \n",
        "test3 = df['2019-11-01':'2019-12-31']          \n",
        "test4 = df['2020-01-02':'2020-02-29']           \n",
        "test5 = df['2020-03-02':'2020-04-30']  \n",
        "test_all=df['2019-07-02':'2020-04-30'] \n",
        "# 각 데이터의 column=['시가', '고가', '저가', '종가', '거래량']\n",
        "\n",
        "# Prophet모델에 input되기 위해서는 ['ds','y']로 column형식을 맞춰야 함\n",
        "\n",
        "train['날짜']=train.index\n",
        "train=pd.DataFrame({'ds':train['날짜'],'y':train['종가']})\n",
        "train=train.reset_index(drop=True)\n",
        "\n",
        "\n",
        "test1['날짜']=test1.index\n",
        "test1_n=pd.DataFrame({'y':test1['종가']})\n",
        "#test=test.reset_index(drop=True)\n",
        "\n",
        "test2['날짜']=test2.index\n",
        "test2_n=pd.DataFrame({'y':test2['종가']})\n",
        "#test=test.reset_index(drop=True)\n",
        "\n",
        "test3['날짜']=test3.index\n",
        "test3_n=pd.DataFrame({'y':test3['종가']})\n",
        "#test=test.reset_index(drop=True)\n",
        "\n",
        "test4['날짜']=test4.index\n",
        "test4_n=pd.DataFrame({'y':test4['종가']})\n",
        "#test=test.reset_index(drop=True)\n",
        "\n",
        "test5['날짜']=test5.index\n",
        "test5_n=pd.DataFrame({'y':test5['종가']})\n",
        "#test=test.reset_index(drop=True)\n",
        "\n",
        "test_all['날짜']=test_all.index\n",
        "test_all_n=pd.DataFrame({'y':test_all['종가']})\n",
        "#test=test.reset_index(drop=True)\n"
      ],
      "execution_count": null,
      "outputs": []
    },
    {
      "cell_type": "code",
      "metadata": {
        "id": "Hw6QCDXKpSyH",
        "colab_type": "code",
        "colab": {
          "base_uri": "https://localhost:8080/",
          "height": 404
        },
        "outputId": "aa17bd55-e5da-4bf7-8958-ab558f002d63"
      },
      "source": [
        "train"
      ],
      "execution_count": null,
      "outputs": [
        {
          "output_type": "execute_result",
          "data": {
            "text/html": [
              "<div>\n",
              "<style scoped>\n",
              "    .dataframe tbody tr th:only-of-type {\n",
              "        vertical-align: middle;\n",
              "    }\n",
              "\n",
              "    .dataframe tbody tr th {\n",
              "        vertical-align: top;\n",
              "    }\n",
              "\n",
              "    .dataframe thead th {\n",
              "        text-align: right;\n",
              "    }\n",
              "</style>\n",
              "<table border=\"1\" class=\"dataframe\">\n",
              "  <thead>\n",
              "    <tr style=\"text-align: right;\">\n",
              "      <th></th>\n",
              "      <th>ds</th>\n",
              "      <th>y</th>\n",
              "    </tr>\n",
              "  </thead>\n",
              "  <tbody>\n",
              "    <tr>\n",
              "      <th>0</th>\n",
              "      <td>2018-07-02</td>\n",
              "      <td>35950</td>\n",
              "    </tr>\n",
              "    <tr>\n",
              "      <th>1</th>\n",
              "      <td>2018-07-03</td>\n",
              "      <td>38100</td>\n",
              "    </tr>\n",
              "    <tr>\n",
              "      <th>2</th>\n",
              "      <td>2018-07-04</td>\n",
              "      <td>37800</td>\n",
              "    </tr>\n",
              "    <tr>\n",
              "      <th>3</th>\n",
              "      <td>2018-07-05</td>\n",
              "      <td>36850</td>\n",
              "    </tr>\n",
              "    <tr>\n",
              "      <th>4</th>\n",
              "      <td>2018-07-06</td>\n",
              "      <td>37450</td>\n",
              "    </tr>\n",
              "    <tr>\n",
              "      <th>...</th>\n",
              "      <td>...</td>\n",
              "      <td>...</td>\n",
              "    </tr>\n",
              "    <tr>\n",
              "      <th>240</th>\n",
              "      <td>2019-06-25</td>\n",
              "      <td>28750</td>\n",
              "    </tr>\n",
              "    <tr>\n",
              "      <th>241</th>\n",
              "      <td>2019-06-26</td>\n",
              "      <td>28400</td>\n",
              "    </tr>\n",
              "    <tr>\n",
              "      <th>242</th>\n",
              "      <td>2019-06-27</td>\n",
              "      <td>29150</td>\n",
              "    </tr>\n",
              "    <tr>\n",
              "      <th>243</th>\n",
              "      <td>2019-06-28</td>\n",
              "      <td>28950</td>\n",
              "    </tr>\n",
              "    <tr>\n",
              "      <th>244</th>\n",
              "      <td>2019-07-01</td>\n",
              "      <td>28500</td>\n",
              "    </tr>\n",
              "  </tbody>\n",
              "</table>\n",
              "<p>245 rows × 2 columns</p>\n",
              "</div>"
            ],
            "text/plain": [
              "            ds      y\n",
              "0   2018-07-02  35950\n",
              "1   2018-07-03  38100\n",
              "2   2018-07-04  37800\n",
              "3   2018-07-05  36850\n",
              "4   2018-07-06  37450\n",
              "..         ...    ...\n",
              "240 2019-06-25  28750\n",
              "241 2019-06-26  28400\n",
              "242 2019-06-27  29150\n",
              "243 2019-06-28  28950\n",
              "244 2019-07-01  28500\n",
              "\n",
              "[245 rows x 2 columns]"
            ]
          },
          "metadata": {
            "tags": []
          },
          "execution_count": 8
        }
      ]
    },
    {
      "cell_type": "code",
      "metadata": {
        "id": "tDrho8V1tymM",
        "colab_type": "code",
        "colab": {
          "base_uri": "https://localhost:8080/",
          "height": 52
        },
        "outputId": "ee5da2ba-3f3e-438d-9e61-25e85f726522"
      },
      "source": [
        "print(train.shape) # 245 x 2\n",
        "print(test1_n.shape) # 43 x 1"
      ],
      "execution_count": null,
      "outputs": [
        {
          "output_type": "stream",
          "text": [
            "(245, 2)\n",
            "(43, 1)\n"
          ],
          "name": "stdout"
        }
      ]
    },
    {
      "cell_type": "code",
      "metadata": {
        "id": "dPXrDRBOLvyT",
        "colab_type": "code",
        "colab": {
          "base_uri": "https://localhost:8080/",
          "height": 140
        },
        "outputId": "b72c7834-b8b3-40db-8074-a03b293f51d1"
      },
      "source": [
        "\n",
        "'''\n",
        "# train,test 데이터 나누기\n",
        "\n",
        "train = df[:'2020-04-30']                   # 2016-07-01 ~ 2019-12-28 (약 3년 반) \n",
        "#validation=df['2020-01-02':'2020-04-30']    # 2020-01-02 ~ 2020-04-31 (약 4개월)\n",
        "test=df['2020-05-01':]                      # 2020-05-01 ~ 2020-08-31 (약 4개월)  \n",
        "\n",
        "# 각 데이터의 column=['시가', '고가', '저가', '종가', '거래량']\n",
        "\n",
        "\n",
        "\n",
        "# Prophet모델에 input되기 위해서는 ['ds','y']로 column형식을 맞춰야 함\n",
        "\n",
        "train['날짜']=train.index\n",
        "train=pd.DataFrame({'ds':train['날짜'],'y':train['종가']})\n",
        "train=train.reset_index(drop=True)\n",
        "\n",
        "#validation['날짜']=validation.index\n",
        "#validation=pd.DataFrame({'ds':validation['날짜'],'y':validation['종가']})\n",
        "#validation=validation.reset_index(drop=True)\n",
        "\n",
        "test['날짜']=test.index\n",
        "test=pd.DataFrame({'y':test['종가']})\n",
        "#test=test.reset_index(drop=True)\n",
        "\n",
        "print('train.shape :',train.shape,'/ test.shape :',test.shape) # column : [ds(날짜),y(종가)]\n",
        "#print('train.shape :',train.shape,'/ validation.shape :',validation.shape,'/ test.shape :',test.shape) # column : [ds(날짜),y(종가)]\n",
        "'''"
      ],
      "execution_count": null,
      "outputs": [
        {
          "output_type": "execute_result",
          "data": {
            "application/vnd.google.colaboratory.intrinsic+json": {
              "type": "string"
            },
            "text/plain": [
              "\"\\n# train,test 데이터 나누기\\n\\ntrain = df[:'2020-04-30']                   # 2016-07-01 ~ 2019-12-28 (약 3년 반) \\n#validation=df['2020-01-02':'2020-04-30']    # 2020-01-02 ~ 2020-04-31 (약 4개월)\\ntest=df['2020-05-01':]                      # 2020-05-01 ~ 2020-08-31 (약 4개월)  \\n\\n# 각 데이터의 column=['시가', '고가', '저가', '종가', '거래량']\\n\\n\\n\\n# Prophet모델에 input되기 위해서는 ['ds','y']로 column형식을 맞춰야 함\\n\\ntrain['날짜']=train.index\\ntrain=pd.DataFrame({'ds':train['날짜'],'y':train['종가']})\\ntrain=train.reset_index(drop=True)\\n\\n#validation['날짜']=validation.index\\n#validation=pd.DataFrame({'ds':validation['날짜'],'y':validation['종가']})\\n#validation=validation.reset_index(drop=True)\\n\\ntest['날짜']=test.index\\ntest=pd.DataFrame({'y':test['종가']})\\n#test=test.reset_index(drop=True)\\n\\nprint('train.shape :',train.shape,'/ test.shape :',test.shape) # column : [ds(날짜),y(종가)]\\n#print('train.shape :',train.shape,'/ validation.shape :',validation.shape,'/ test.shape :',test.shape) # column : [ds(날짜),y(종가)]\\n\""
            ]
          },
          "metadata": {
            "tags": []
          },
          "execution_count": 10
        }
      ]
    },
    {
      "cell_type": "code",
      "metadata": {
        "id": "uBQVKUuLj1Ps",
        "colab_type": "code",
        "colab": {
          "base_uri": "https://localhost:8080/",
          "height": 1000
        },
        "outputId": "e3142ed7-ebaa-4235-d651-fa0f38a265a4"
      },
      "source": [
        "\n",
        "n_steps = 20                                    # 한달마다 업데이트\n",
        "training_period = 20 + n_steps                  # 학습은 train은 전 구간이 아닌 예측날 기준 80일(4개월) 이전의 데이터만 학습\n",
        "end = len(train) - n_steps - training_period    \n",
        "validation_size = 20                 \n",
        "start = end - validation_size\n",
        "\n",
        "print(start-end) \n",
        "\n",
        "for i in range(start, end):\n",
        "  print(train[0:i+training_period+n_steps]) \n",
        "  print()"
      ],
      "execution_count": null,
      "outputs": [
        {
          "output_type": "stream",
          "text": [
            "-20\n",
            "            ds      y\n",
            "0   2018-07-02  35950\n",
            "1   2018-07-03  38100\n",
            "2   2018-07-04  37800\n",
            "3   2018-07-05  36850\n",
            "4   2018-07-06  37450\n",
            "..         ...    ...\n",
            "220 2019-05-27  28700\n",
            "221 2019-05-28  29100\n",
            "222 2019-05-29  29300\n",
            "223 2019-05-30  30300\n",
            "224 2019-05-31  30600\n",
            "\n",
            "[225 rows x 2 columns]\n",
            "\n",
            "            ds      y\n",
            "0   2018-07-02  35950\n",
            "1   2018-07-03  38100\n",
            "2   2018-07-04  37800\n",
            "3   2018-07-05  36850\n",
            "4   2018-07-06  37450\n",
            "..         ...    ...\n",
            "221 2019-05-28  29100\n",
            "222 2019-05-29  29300\n",
            "223 2019-05-30  30300\n",
            "224 2019-05-31  30600\n",
            "225 2019-06-03  31900\n",
            "\n",
            "[226 rows x 2 columns]\n",
            "\n",
            "            ds      y\n",
            "0   2018-07-02  35950\n",
            "1   2018-07-03  38100\n",
            "2   2018-07-04  37800\n",
            "3   2018-07-05  36850\n",
            "4   2018-07-06  37450\n",
            "..         ...    ...\n",
            "222 2019-05-29  29300\n",
            "223 2019-05-30  30300\n",
            "224 2019-05-31  30600\n",
            "225 2019-06-03  31900\n",
            "226 2019-06-04  31800\n",
            "\n",
            "[227 rows x 2 columns]\n",
            "\n",
            "            ds      y\n",
            "0   2018-07-02  35950\n",
            "1   2018-07-03  38100\n",
            "2   2018-07-04  37800\n",
            "3   2018-07-05  36850\n",
            "4   2018-07-06  37450\n",
            "..         ...    ...\n",
            "223 2019-05-30  30300\n",
            "224 2019-05-31  30600\n",
            "225 2019-06-03  31900\n",
            "226 2019-06-04  31800\n",
            "227 2019-06-05  31900\n",
            "\n",
            "[228 rows x 2 columns]\n",
            "\n",
            "            ds      y\n",
            "0   2018-07-02  35950\n",
            "1   2018-07-03  38100\n",
            "2   2018-07-04  37800\n",
            "3   2018-07-05  36850\n",
            "4   2018-07-06  37450\n",
            "..         ...    ...\n",
            "224 2019-05-31  30600\n",
            "225 2019-06-03  31900\n",
            "226 2019-06-04  31800\n",
            "227 2019-06-05  31900\n",
            "228 2019-06-07  32250\n",
            "\n",
            "[229 rows x 2 columns]\n",
            "\n",
            "            ds      y\n",
            "0   2018-07-02  35950\n",
            "1   2018-07-03  38100\n",
            "2   2018-07-04  37800\n",
            "3   2018-07-05  36850\n",
            "4   2018-07-06  37450\n",
            "..         ...    ...\n",
            "225 2019-06-03  31900\n",
            "226 2019-06-04  31800\n",
            "227 2019-06-05  31900\n",
            "228 2019-06-07  32250\n",
            "229 2019-06-10  32700\n",
            "\n",
            "[230 rows x 2 columns]\n",
            "\n",
            "            ds      y\n",
            "0   2018-07-02  35950\n",
            "1   2018-07-03  38100\n",
            "2   2018-07-04  37800\n",
            "3   2018-07-05  36850\n",
            "4   2018-07-06  37450\n",
            "..         ...    ...\n",
            "226 2019-06-04  31800\n",
            "227 2019-06-05  31900\n",
            "228 2019-06-07  32250\n",
            "229 2019-06-10  32700\n",
            "230 2019-06-11  33300\n",
            "\n",
            "[231 rows x 2 columns]\n",
            "\n",
            "            ds      y\n",
            "0   2018-07-02  35950\n",
            "1   2018-07-03  38100\n",
            "2   2018-07-04  37800\n",
            "3   2018-07-05  36850\n",
            "4   2018-07-06  37450\n",
            "..         ...    ...\n",
            "227 2019-06-05  31900\n",
            "228 2019-06-07  32250\n",
            "229 2019-06-10  32700\n",
            "230 2019-06-11  33300\n",
            "231 2019-06-12  31950\n",
            "\n",
            "[232 rows x 2 columns]\n",
            "\n",
            "            ds      y\n",
            "0   2018-07-02  35950\n",
            "1   2018-07-03  38100\n",
            "2   2018-07-04  37800\n",
            "3   2018-07-05  36850\n",
            "4   2018-07-06  37450\n",
            "..         ...    ...\n",
            "228 2019-06-07  32250\n",
            "229 2019-06-10  32700\n",
            "230 2019-06-11  33300\n",
            "231 2019-06-12  31950\n",
            "232 2019-06-13  31250\n",
            "\n",
            "[233 rows x 2 columns]\n",
            "\n",
            "            ds      y\n",
            "0   2018-07-02  35950\n",
            "1   2018-07-03  38100\n",
            "2   2018-07-04  37800\n",
            "3   2018-07-05  36850\n",
            "4   2018-07-06  37450\n",
            "..         ...    ...\n",
            "229 2019-06-10  32700\n",
            "230 2019-06-11  33300\n",
            "231 2019-06-12  31950\n",
            "232 2019-06-13  31250\n",
            "233 2019-06-14  29500\n",
            "\n",
            "[234 rows x 2 columns]\n",
            "\n",
            "            ds      y\n",
            "0   2018-07-02  35950\n",
            "1   2018-07-03  38100\n",
            "2   2018-07-04  37800\n",
            "3   2018-07-05  36850\n",
            "4   2018-07-06  37450\n",
            "..         ...    ...\n",
            "230 2019-06-11  33300\n",
            "231 2019-06-12  31950\n",
            "232 2019-06-13  31250\n",
            "233 2019-06-14  29500\n",
            "234 2019-06-17  28950\n",
            "\n",
            "[235 rows x 2 columns]\n",
            "\n",
            "            ds      y\n",
            "0   2018-07-02  35950\n",
            "1   2018-07-03  38100\n",
            "2   2018-07-04  37800\n",
            "3   2018-07-05  36850\n",
            "4   2018-07-06  37450\n",
            "..         ...    ...\n",
            "231 2019-06-12  31950\n",
            "232 2019-06-13  31250\n",
            "233 2019-06-14  29500\n",
            "234 2019-06-17  28950\n",
            "235 2019-06-18  28300\n",
            "\n",
            "[236 rows x 2 columns]\n",
            "\n",
            "            ds      y\n",
            "0   2018-07-02  35950\n",
            "1   2018-07-03  38100\n",
            "2   2018-07-04  37800\n",
            "3   2018-07-05  36850\n",
            "4   2018-07-06  37450\n",
            "..         ...    ...\n",
            "232 2019-06-13  31250\n",
            "233 2019-06-14  29500\n",
            "234 2019-06-17  28950\n",
            "235 2019-06-18  28300\n",
            "236 2019-06-19  29000\n",
            "\n",
            "[237 rows x 2 columns]\n",
            "\n",
            "            ds      y\n",
            "0   2018-07-02  35950\n",
            "1   2018-07-03  38100\n",
            "2   2018-07-04  37800\n",
            "3   2018-07-05  36850\n",
            "4   2018-07-06  37450\n",
            "..         ...    ...\n",
            "233 2019-06-14  29500\n",
            "234 2019-06-17  28950\n",
            "235 2019-06-18  28300\n",
            "236 2019-06-19  29000\n",
            "237 2019-06-20  29400\n",
            "\n",
            "[238 rows x 2 columns]\n",
            "\n",
            "            ds      y\n",
            "0   2018-07-02  35950\n",
            "1   2018-07-03  38100\n",
            "2   2018-07-04  37800\n",
            "3   2018-07-05  36850\n",
            "4   2018-07-06  37450\n",
            "..         ...    ...\n",
            "234 2019-06-17  28950\n",
            "235 2019-06-18  28300\n",
            "236 2019-06-19  29000\n",
            "237 2019-06-20  29400\n",
            "238 2019-06-21  29200\n",
            "\n",
            "[239 rows x 2 columns]\n",
            "\n",
            "            ds      y\n",
            "0   2018-07-02  35950\n",
            "1   2018-07-03  38100\n",
            "2   2018-07-04  37800\n",
            "3   2018-07-05  36850\n",
            "4   2018-07-06  37450\n",
            "..         ...    ...\n",
            "235 2019-06-18  28300\n",
            "236 2019-06-19  29000\n",
            "237 2019-06-20  29400\n",
            "238 2019-06-21  29200\n",
            "239 2019-06-24  28250\n",
            "\n",
            "[240 rows x 2 columns]\n",
            "\n",
            "            ds      y\n",
            "0   2018-07-02  35950\n",
            "1   2018-07-03  38100\n",
            "2   2018-07-04  37800\n",
            "3   2018-07-05  36850\n",
            "4   2018-07-06  37450\n",
            "..         ...    ...\n",
            "236 2019-06-19  29000\n",
            "237 2019-06-20  29400\n",
            "238 2019-06-21  29200\n",
            "239 2019-06-24  28250\n",
            "240 2019-06-25  28750\n",
            "\n",
            "[241 rows x 2 columns]\n",
            "\n",
            "            ds      y\n",
            "0   2018-07-02  35950\n",
            "1   2018-07-03  38100\n",
            "2   2018-07-04  37800\n",
            "3   2018-07-05  36850\n",
            "4   2018-07-06  37450\n",
            "..         ...    ...\n",
            "237 2019-06-20  29400\n",
            "238 2019-06-21  29200\n",
            "239 2019-06-24  28250\n",
            "240 2019-06-25  28750\n",
            "241 2019-06-26  28400\n",
            "\n",
            "[242 rows x 2 columns]\n",
            "\n",
            "            ds      y\n",
            "0   2018-07-02  35950\n",
            "1   2018-07-03  38100\n",
            "2   2018-07-04  37800\n",
            "3   2018-07-05  36850\n",
            "4   2018-07-06  37450\n",
            "..         ...    ...\n",
            "238 2019-06-21  29200\n",
            "239 2019-06-24  28250\n",
            "240 2019-06-25  28750\n",
            "241 2019-06-26  28400\n",
            "242 2019-06-27  29150\n",
            "\n",
            "[243 rows x 2 columns]\n",
            "\n",
            "            ds      y\n",
            "0   2018-07-02  35950\n",
            "1   2018-07-03  38100\n",
            "2   2018-07-04  37800\n",
            "3   2018-07-05  36850\n",
            "4   2018-07-06  37450\n",
            "..         ...    ...\n",
            "239 2019-06-24  28250\n",
            "240 2019-06-25  28750\n",
            "241 2019-06-26  28400\n",
            "242 2019-06-27  29150\n",
            "243 2019-06-28  28950\n",
            "\n",
            "[244 rows x 2 columns]\n",
            "\n"
          ],
          "name": "stdout"
        }
      ]
    },
    {
      "cell_type": "code",
      "metadata": {
        "id": "hpqVsdBLljZT",
        "colab_type": "code",
        "colab": {
          "base_uri": "https://localhost:8080/",
          "height": 123
        },
        "outputId": "c91a65e4-b546-45d4-e3e6-33af2407477c"
      },
      "source": [
        "from fbprophet import Prophet\n",
        "\n",
        "# https://hyperconnect.github.io/2020/03/09/prophet-package.html 참고하여 parameter 조정\n",
        "\n",
        "'''\n",
        "Parameters\n",
        "    ----------\n",
        "    growth: String 'linear' or 'logistic' to specify a linear or logistic\n",
        "        trend.\n",
        "    changepoints: List of dates at which to include potential changepoints. If\n",
        "        not specified, potential changepoints are selected automatically.\n",
        "    n_changepoints: Number of potential changepoints to include. Not used\n",
        "        if input `changepoints` is supplied. If `changepoints` is not supplied,\n",
        "        then n_changepoints potential changepoints are selected uniformly from\n",
        "        the first `changepoint_range` proportion of the history.\n",
        "    changepoint_range: Proportion of history in which trend changepoints will\n",
        "        be estimated. Defaults to 0.8 for the first 80%. Not used if\n",
        "        `changepoints` is specified.\n",
        "    yearly_seasonality: Fit yearly seasonality.\n",
        "        Can be 'auto', True, False, or a number of Fourier terms to generate.\n",
        "    weekly_seasonality: Fit weekly seasonality.\n",
        "        Can be 'auto', True, False, or a number of Fourier terms to generate.\n",
        "    daily_seasonality: Fit daily seasonality.\n",
        "        Can be 'auto', True, False, or a number of Fourier terms to generate.\n",
        "    holidays: pd.DataFrame with columns holiday (string) and ds (date type)\n",
        "        and optionally columns lower_window and upper_window which specify a\n",
        "        range of days around the date to be included as holidays.\n",
        "        lower_window=-2 will include 2 days prior to the date as holidays. Also\n",
        "        optionally can have a column prior_scale specifying the prior scale for\n",
        "        that holiday.\n",
        "    seasonality_mode: 'additive' (default) or 'multiplicative'.\n",
        "    seasonality_prior_scale: Parameter modulating the strength of the\n",
        "        seasonality model. Larger values allow the model to fit larger seasonal\n",
        "        fluctuations, smaller values dampen the seasonality. Can be specified\n",
        "        for individual seasonalities using add_seasonality.\n",
        "    holidays_prior_scale: Parameter modulating the strength of the holiday\n",
        "        components model, unless overridden in the holidays input.\n",
        "    changepoint_prior_scale: Parameter modulating the flexibility of the\n",
        "        automatic changepoint selection. Large values will allow many\n",
        "        changepoints, small values will allow few changepoints.\n",
        "    mcmc_samples: Integer, if greater than 0, will do full Bayesian inference\n",
        "        with the specified number of MCMC samples. If 0, will do MAP\n",
        "        estimation.\n",
        "    interval_width: Float, width of the uncertainty intervals provided\n",
        "        for the forecast. If mcmc_samples=0, this will be only the uncertainty\n",
        "        in the trend using the MAP estimate of the extrapolated generative\n",
        "        model. If mcmc.samples>0, this will be integrated over all model\n",
        "        parameters, which will include uncertainty in seasonality.\n",
        "    uncertainty_samples: Number of simulated draws used to estimate\n",
        "        uncertainty intervals. Settings this value to 0 or False will disable\n",
        "        uncertainty estimation and speed up the calculation.\n",
        "    stan_backend: str as defined in StanBackendEnum default: None - will try to\n",
        "        iterate over all available backends and find the working one\n",
        "    \"\"\"\n",
        "'''"
      ],
      "execution_count": null,
      "outputs": [
        {
          "output_type": "execute_result",
          "data": {
            "application/vnd.google.colaboratory.intrinsic+json": {
              "type": "string"
            },
            "text/plain": [
              "'\\nParameters\\n    ----------\\n    growth: String \\'linear\\' or \\'logistic\\' to specify a linear or logistic\\n        trend.\\n    changepoints: List of dates at which to include potential changepoints. If\\n        not specified, potential changepoints are selected automatically.\\n    n_changepoints: Number of potential changepoints to include. Not used\\n        if input `changepoints` is supplied. If `changepoints` is not supplied,\\n        then n_changepoints potential changepoints are selected uniformly from\\n        the first `changepoint_range` proportion of the history.\\n    changepoint_range: Proportion of history in which trend changepoints will\\n        be estimated. Defaults to 0.8 for the first 80%. Not used if\\n        `changepoints` is specified.\\n    yearly_seasonality: Fit yearly seasonality.\\n        Can be \\'auto\\', True, False, or a number of Fourier terms to generate.\\n    weekly_seasonality: Fit weekly seasonality.\\n        Can be \\'auto\\', True, False, or a number of Fourier terms to generate.\\n    daily_seasonality: Fit daily seasonality.\\n        Can be \\'auto\\', True, False, or a number of Fourier terms to generate.\\n    holidays: pd.DataFrame with columns holiday (string) and ds (date type)\\n        and optionally columns lower_window and upper_window which specify a\\n        range of days around the date to be included as holidays.\\n        lower_window=-2 will include 2 days prior to the date as holidays. Also\\n        optionally can have a column prior_scale specifying the prior scale for\\n        that holiday.\\n    seasonality_mode: \\'additive\\' (default) or \\'multiplicative\\'.\\n    seasonality_prior_scale: Parameter modulating the strength of the\\n        seasonality model. Larger values allow the model to fit larger seasonal\\n        fluctuations, smaller values dampen the seasonality. Can be specified\\n        for individual seasonalities using add_seasonality.\\n    holidays_prior_scale: Parameter modulating the strength of the holiday\\n        components model, unless overridden in the holidays input.\\n    changepoint_prior_scale: Parameter modulating the flexibility of the\\n        automatic changepoint selection. Large values will allow many\\n        changepoints, small values will allow few changepoints.\\n    mcmc_samples: Integer, if greater than 0, will do full Bayesian inference\\n        with the specified number of MCMC samples. If 0, will do MAP\\n        estimation.\\n    interval_width: Float, width of the uncertainty intervals provided\\n        for the forecast. If mcmc_samples=0, this will be only the uncertainty\\n        in the trend using the MAP estimate of the extrapolated generative\\n        model. If mcmc.samples>0, this will be integrated over all model\\n        parameters, which will include uncertainty in seasonality.\\n    uncertainty_samples: Number of simulated draws used to estimate\\n        uncertainty intervals. Settings this value to 0 or False will disable\\n        uncertainty estimation and speed up the calculation.\\n    stan_backend: str as defined in StanBackendEnum default: None - will try to\\n        iterate over all available backends and find the working one\\n    \"\"\"\\n'"
            ]
          },
          "metadata": {
            "tags": []
          },
          "execution_count": 13
        }
      ]
    },
    {
      "cell_type": "code",
      "metadata": {
        "id": "r-4XXqCemXc_",
        "colab_type": "code",
        "colab": {
          "base_uri": "https://localhost:8080/",
          "height": 368
        },
        "outputId": "094519d2-78d8-4861-acc1-f408eed3d89f"
      },
      "source": [
        "!pip install --force https://github.com/chengs/tqdm/archive/colab.zip # 진행상태바 표시를 위한 tqdm 라이브러리 설치 "
      ],
      "execution_count": null,
      "outputs": [
        {
          "output_type": "stream",
          "text": [
            "Collecting https://github.com/chengs/tqdm/archive/colab.zip\n",
            "\u001b[?25l  Downloading https://github.com/chengs/tqdm/archive/colab.zip\n",
            "\u001b[K     - 296kB 6.8MB/s\n",
            "\u001b[?25hBuilding wheels for collected packages: tqdm\n",
            "  Building wheel for tqdm (setup.py) ... \u001b[?25l\u001b[?25hdone\n",
            "  Created wheel for tqdm: filename=tqdm-4.28.1-py2.py3-none-any.whl size=47868 sha256=6e4b8587508be2ef5bd34bc9ff9e94e1b8266e957946b0597d29a7d531e10c9a\n",
            "  Stored in directory: /tmp/pip-ephem-wheel-cache-_vbpr523/wheels/41/18/ee/d5dd158441b27965855b1bbae03fa2d8a91fe645c01b419896\n",
            "Successfully built tqdm\n",
            "\u001b[31mERROR: spacy 2.2.4 has requirement tqdm<5.0.0,>=4.38.0, but you'll have tqdm 4.28.1 which is incompatible.\u001b[0m\n",
            "\u001b[31mERROR: fbprophet 0.7.1 has requirement tqdm>=4.36.1, but you'll have tqdm 4.28.1 which is incompatible.\u001b[0m\n",
            "Installing collected packages: tqdm\n",
            "  Found existing installation: tqdm 4.41.1\n",
            "    Uninstalling tqdm-4.41.1:\n",
            "      Successfully uninstalled tqdm-4.41.1\n",
            "Successfully installed tqdm-4.28.1\n"
          ],
          "name": "stdout"
        },
        {
          "output_type": "display_data",
          "data": {
            "application/vnd.colab-display-data+json": {
              "pip_warning": {
                "packages": [
                  "tqdm"
                ]
              }
            }
          },
          "metadata": {
            "tags": []
          }
        }
      ]
    },
    {
      "cell_type": "code",
      "metadata": {
        "id": "jJZYFOqv5xvY",
        "colab_type": "code",
        "colab": {
          "base_uri": "https://localhost:8080/",
          "height": 35
        },
        "outputId": "d4116c7c-8289-4d35-f0b4-da1e086ec9c1"
      },
      "source": [
        "'''\n",
        "for i in train['ds']:\n",
        "  i=i.strftime(\"%Y-%m-%d\")\n",
        "  if i in cp:\n",
        "    print(i)\n",
        "'''"
      ],
      "execution_count": null,
      "outputs": [
        {
          "output_type": "execute_result",
          "data": {
            "application/vnd.google.colaboratory.intrinsic+json": {
              "type": "string"
            },
            "text/plain": [
              "'\\nfor i in train[\\'ds\\']:\\n  i=i.strftime(\"%Y-%m-%d\")\\n  if i in cp:\\n    print(i)\\n'"
            ]
          },
          "metadata": {
            "tags": []
          },
          "execution_count": 15
        }
      ]
    },
    {
      "cell_type": "code",
      "metadata": {
        "id": "Xqj3iW3i46Zt",
        "colab_type": "code",
        "colab": {}
      },
      "source": [
        "cp=['2019-07-31','2019-08-28','2019-09-20','2019-09-27','2019-10-14','2019-10-30','2019-11-14','2019-11-21','2020-01-13','2020-01-21','2020-02-03','2020-02-17','2020-03-06','2020-03-23','2020-04-28','2020-06-15','2020-06-26']"
      ],
      "execution_count": null,
      "outputs": []
    },
    {
      "cell_type": "code",
      "metadata": {
        "id": "iL9tHb6SeDhs",
        "colab_type": "code",
        "colab": {}
      },
      "source": [
        "#prophet_series"
      ],
      "execution_count": null,
      "outputs": []
    },
    {
      "cell_type": "code",
      "metadata": {
        "id": "gdNOPWNLWTKE",
        "colab_type": "code",
        "colab": {
          "base_uri": "https://localhost:8080/",
          "height": 140
        },
        "outputId": "75c3d99d-16ac-442d-c62e-7569c05cd303"
      },
      "source": [
        "\n",
        "#for i in range(0,43):\n",
        "'''\n",
        "prophet_series = pd.DataFrame([train.index, train['y']]).T\n",
        "prophet_series.columns = ['ds','y']\n",
        "prophet_series['cap'] = prophet_series['y'].shift() * 1.2     # 데이터의 상한을 직전날 종가의 ±20% 이상은 변동하지 않도록 제한\n",
        "prophet_series['floor'] = prophet_series['y'].shift() * 0.8   # 데이터의 하한을 직전날 종가의 ±20% 이상은 변동하지 않도록 제한  (logistic한 prophet예측을 위해서는 제한을 걸어야 함)\n",
        "prophet_series.fillna(method='bfill', inplace=True)\n",
        "\n",
        "\n",
        "prophet_model = Prophet(growth = 'logistic', \n",
        "                        daily_seasonality = True,\n",
        "                        changepoint_prior_scale=0.2,\n",
        "                        )\n",
        "\n",
        "prophet_model.fit(prophet_series)\n",
        "\n",
        "future =  prophet_model.make_future_dataframe(periods=1)\n",
        "future['cap'] = prophet_series['cap'].append(pd.Series(prophet_series['y'].values[-1]*1.2),ignore_index=True)\n",
        "future['floor'] = prophet_series['floor'].append(pd.Series(prophet_series['y'].values[-1]*0.8),ignore_index=True)\n",
        "future.fillna(method='bfill', inplace=True)\n",
        "\n",
        "prophet_forecast = prophet_model.predict(future)\n",
        "print(prophet_forecast.tail(1))\n",
        "print()\n",
        "print(test1.head(1))\n",
        "'''"
      ],
      "execution_count": null,
      "outputs": [
        {
          "output_type": "execute_result",
          "data": {
            "application/vnd.google.colaboratory.intrinsic+json": {
              "type": "string"
            },
            "text/plain": [
              "\"\\nprophet_series = pd.DataFrame([train.index, train['y']]).T\\nprophet_series.columns = ['ds','y']\\nprophet_series['cap'] = prophet_series['y'].shift() * 1.2     # 데이터의 상한을 직전날 종가의 ±20% 이상은 변동하지 않도록 제한\\nprophet_series['floor'] = prophet_series['y'].shift() * 0.8   # 데이터의 하한을 직전날 종가의 ±20% 이상은 변동하지 않도록 제한  (logistic한 prophet예측을 위해서는 제한을 걸어야 함)\\nprophet_series.fillna(method='bfill', inplace=True)\\n\\n\\nprophet_model = Prophet(growth = 'logistic', \\n                        daily_seasonality = True,\\n                        changepoint_prior_scale=0.2,\\n                        )\\n\\nprophet_model.fit(prophet_series)\\n\\nfuture =  prophet_model.make_future_dataframe(periods=1)\\nfuture['cap'] = prophet_series['cap'].append(pd.Series(prophet_series['y'].values[-1]*1.2),ignore_index=True)\\nfuture['floor'] = prophet_series['floor'].append(pd.Series(prophet_series['y'].values[-1]*0.8),ignore_index=True)\\nfuture.fillna(method='bfill', inplace=True)\\n\\nprophet_forecast = prophet_model.predict(future)\\nprint(prophet_forecast.tail(1))\\nprint()\\nprint(test1.head(1))\\n\""
            ]
          },
          "metadata": {
            "tags": []
          },
          "execution_count": 18
        }
      ]
    },
    {
      "cell_type": "code",
      "metadata": {
        "id": "0Ztz8f4od6t9",
        "colab_type": "code",
        "colab": {}
      },
      "source": [
        "#data = train[0:0+training_period+n_steps]\n",
        "#data"
      ],
      "execution_count": null,
      "outputs": []
    },
    {
      "cell_type": "code",
      "metadata": {
        "id": "RMlIswEwfvu3",
        "colab_type": "code",
        "colab": {}
      },
      "source": [
        "from tqdm import tqdm_notebook as tqdm\n",
        "from time import sleep \n",
        "from datetime import datetime"
      ],
      "execution_count": null,
      "outputs": []
    },
    {
      "cell_type": "code",
      "metadata": {
        "id": "ZieEsE2TofZS",
        "colab_type": "code",
        "colab": {
          "base_uri": "https://localhost:8080/",
          "height": 66,
          "referenced_widgets": [
            "9917fcadace64d63a27609e73e4bc690",
            "4fa93554108043459820da08dcb7b87f",
            "6428b669e1684c658395f51b803194b6",
            "3e653ed3e7d0454abe582522d25461cb",
            "e28ea3e1d8114290a8284d9e9d1b43d3",
            "ba8589dde1f045d9b8ddc9b7ae855a7b",
            "1fd3ab0f35934e89aba9c72c4528bd21",
            "44fc9031046c40199124f87a4508a50b"
          ]
        },
        "outputId": "fb23890d-0140-46be-8c5a-fdf6bd026080"
      },
      "source": [
        "for i in tqdm(range(start, end),desc='tqdm'):\n",
        "  data = train[i:i+training_period+n_steps]"
      ],
      "execution_count": null,
      "outputs": [
        {
          "output_type": "display_data",
          "data": {
            "application/vnd.jupyter.widget-view+json": {
              "model_id": "9917fcadace64d63a27609e73e4bc690",
              "version_minor": 0,
              "version_major": 2
            },
            "text/plain": [
              "HBox(children=(FloatProgress(value=0.0, description='tqdm', max=20.0, style=ProgressStyle(description_width='i…"
            ]
          },
          "metadata": {
            "tags": []
          }
        },
        {
          "output_type": "stream",
          "text": [
            "\n"
          ],
          "name": "stdout"
        }
      ]
    },
    {
      "cell_type": "code",
      "metadata": {
        "id": "3FBJB_wmo3MN",
        "colab_type": "code",
        "colab": {
          "base_uri": "https://localhost:8080/",
          "height": 34
        },
        "outputId": "3a591e38-b1d8-4491-af56-2cbe379a7a3d"
      },
      "source": [
        "#####################################################################3\n",
        "#for i in range(43):\n",
        "train['cap'] = train['y'].shift() * 1.3\n",
        "train['floor'] = train['y'].shift() * 0.7\n",
        "train.fillna(method='bfill', inplace=True)\n",
        "train\n",
        "\n",
        "prophet_model = Prophet(growth = 'logistic', daily_seasonality = False)\n",
        "\n",
        "prophet_model.fit(train)\n",
        "future =  prophet_model.make_future_dataframe(periods=1)\n",
        "\n",
        "future['cap'] = train['cap'].append(pd.Series(train['y'].values[-1]*1.3),ignore_index=True)\n",
        "future['floor'] = train['floor'].append(pd.Series(train['y'].values[-1]*0.7),ignore_index=True)\n",
        "future.fillna(method='bfill', inplace=True)\n",
        "\n",
        "prophet_forecast = prophet_model.predict(future)\n"
      ],
      "execution_count": null,
      "outputs": [
        {
          "output_type": "stream",
          "text": [
            "INFO:fbprophet:Disabling yearly seasonality. Run prophet with yearly_seasonality=True to override this.\n"
          ],
          "name": "stderr"
        }
      ]
    },
    {
      "cell_type": "code",
      "metadata": {
        "id": "95fxTj4Au5nf",
        "colab_type": "code",
        "colab": {
          "base_uri": "https://localhost:8080/",
          "height": 35
        },
        "outputId": "8a117bb1-a2a6-423f-9341-28c0b1496144"
      },
      "source": [
        "da=test1_n.index[0].strftime(\"%Y-%m-%d\")\n",
        "da"
      ],
      "execution_count": null,
      "outputs": [
        {
          "output_type": "execute_result",
          "data": {
            "application/vnd.google.colaboratory.intrinsic+json": {
              "type": "string"
            },
            "text/plain": [
              "'2019-07-02'"
            ]
          },
          "metadata": {
            "tags": []
          },
          "execution_count": 124
        }
      ]
    },
    {
      "cell_type": "code",
      "metadata": {
        "id": "V1L9H_-vvUUp",
        "colab_type": "code",
        "colab": {
          "base_uri": "https://localhost:8080/",
          "height": 87
        },
        "outputId": "2e0d8247-726d-4f3e-eeca-2a16fe6137e1"
      },
      "source": [
        "#da=test1_n.index[0].strftime(\"%Y-%m-%d\")\n",
        "da=test1_n.index[0]\n",
        "y=round(prophet_forecast[-1:]['yhat'])\n",
        "cap=train[-1:]['y']*1.3\n",
        "flor=train[-1:]['y']*0.7\n",
        "print(da,y,cap,flor)\n"
      ],
      "execution_count": null,
      "outputs": [
        {
          "output_type": "stream",
          "text": [
            "2019-07-02 00:00:00 245    28493.0\n",
            "Name: yhat, dtype: float64 244    37050.0\n",
            "Name: y, dtype: float64 244    19950.0\n",
            "Name: y, dtype: float64\n"
          ],
          "name": "stdout"
        }
      ]
    },
    {
      "cell_type": "code",
      "metadata": {
        "id": "3PmcJJfckuwv",
        "colab_type": "code",
        "colab": {
          "base_uri": "https://localhost:8080/",
          "height": 590
        },
        "outputId": "9117bd62-d66b-4416-f199-6e568b444773"
      },
      "source": [
        "prophet_forecast"
      ],
      "execution_count": null,
      "outputs": [
        {
          "output_type": "execute_result",
          "data": {
            "text/html": [
              "<div>\n",
              "<style scoped>\n",
              "    .dataframe tbody tr th:only-of-type {\n",
              "        vertical-align: middle;\n",
              "    }\n",
              "\n",
              "    .dataframe tbody tr th {\n",
              "        vertical-align: top;\n",
              "    }\n",
              "\n",
              "    .dataframe thead th {\n",
              "        text-align: right;\n",
              "    }\n",
              "</style>\n",
              "<table border=\"1\" class=\"dataframe\">\n",
              "  <thead>\n",
              "    <tr style=\"text-align: right;\">\n",
              "      <th></th>\n",
              "      <th>ds</th>\n",
              "      <th>trend</th>\n",
              "      <th>cap</th>\n",
              "      <th>floor</th>\n",
              "      <th>yhat_lower</th>\n",
              "      <th>yhat_upper</th>\n",
              "      <th>trend_lower</th>\n",
              "      <th>trend_upper</th>\n",
              "      <th>additive_terms</th>\n",
              "      <th>additive_terms_lower</th>\n",
              "      <th>additive_terms_upper</th>\n",
              "      <th>weekly</th>\n",
              "      <th>weekly_lower</th>\n",
              "      <th>weekly_upper</th>\n",
              "      <th>multiplicative_terms</th>\n",
              "      <th>multiplicative_terms_lower</th>\n",
              "      <th>multiplicative_terms_upper</th>\n",
              "      <th>yhat</th>\n",
              "    </tr>\n",
              "  </thead>\n",
              "  <tbody>\n",
              "    <tr>\n",
              "      <th>0</th>\n",
              "      <td>2018-07-02</td>\n",
              "      <td>35950.692579</td>\n",
              "      <td>46735.0</td>\n",
              "      <td>25165.0</td>\n",
              "      <td>34372.869553</td>\n",
              "      <td>37591.913295</td>\n",
              "      <td>35950.692579</td>\n",
              "      <td>35950.692579</td>\n",
              "      <td>-14.258692</td>\n",
              "      <td>-14.258692</td>\n",
              "      <td>-14.258692</td>\n",
              "      <td>-14.258692</td>\n",
              "      <td>-14.258692</td>\n",
              "      <td>-14.258692</td>\n",
              "      <td>0.0</td>\n",
              "      <td>0.0</td>\n",
              "      <td>0.0</td>\n",
              "      <td>35936.433887</td>\n",
              "    </tr>\n",
              "    <tr>\n",
              "      <th>1</th>\n",
              "      <td>2018-07-03</td>\n",
              "      <td>35949.315410</td>\n",
              "      <td>46735.0</td>\n",
              "      <td>25165.0</td>\n",
              "      <td>34751.687768</td>\n",
              "      <td>37945.733599</td>\n",
              "      <td>35949.315410</td>\n",
              "      <td>35949.315410</td>\n",
              "      <td>388.230957</td>\n",
              "      <td>388.230957</td>\n",
              "      <td>388.230957</td>\n",
              "      <td>388.230957</td>\n",
              "      <td>388.230957</td>\n",
              "      <td>388.230957</td>\n",
              "      <td>0.0</td>\n",
              "      <td>0.0</td>\n",
              "      <td>0.0</td>\n",
              "      <td>36337.546367</td>\n",
              "    </tr>\n",
              "    <tr>\n",
              "      <th>2</th>\n",
              "      <td>2018-07-04</td>\n",
              "      <td>38097.814937</td>\n",
              "      <td>49530.0</td>\n",
              "      <td>26670.0</td>\n",
              "      <td>36787.398148</td>\n",
              "      <td>39862.307759</td>\n",
              "      <td>38097.814937</td>\n",
              "      <td>38097.814937</td>\n",
              "      <td>194.353462</td>\n",
              "      <td>194.353462</td>\n",
              "      <td>194.353462</td>\n",
              "      <td>194.353462</td>\n",
              "      <td>194.353462</td>\n",
              "      <td>194.353462</td>\n",
              "      <td>0.0</td>\n",
              "      <td>0.0</td>\n",
              "      <td>0.0</td>\n",
              "      <td>38292.168400</td>\n",
              "    </tr>\n",
              "    <tr>\n",
              "      <th>3</th>\n",
              "      <td>2018-07-05</td>\n",
              "      <td>37796.384105</td>\n",
              "      <td>49140.0</td>\n",
              "      <td>26460.0</td>\n",
              "      <td>36570.096893</td>\n",
              "      <td>39707.599252</td>\n",
              "      <td>37796.384105</td>\n",
              "      <td>37796.384105</td>\n",
              "      <td>294.117630</td>\n",
              "      <td>294.117630</td>\n",
              "      <td>294.117630</td>\n",
              "      <td>294.117630</td>\n",
              "      <td>294.117630</td>\n",
              "      <td>294.117630</td>\n",
              "      <td>0.0</td>\n",
              "      <td>0.0</td>\n",
              "      <td>0.0</td>\n",
              "      <td>38090.501735</td>\n",
              "    </tr>\n",
              "    <tr>\n",
              "      <th>4</th>\n",
              "      <td>2018-07-06</td>\n",
              "      <td>36845.063335</td>\n",
              "      <td>47905.0</td>\n",
              "      <td>25795.0</td>\n",
              "      <td>35618.739075</td>\n",
              "      <td>38823.383778</td>\n",
              "      <td>36845.063335</td>\n",
              "      <td>36845.063335</td>\n",
              "      <td>324.898032</td>\n",
              "      <td>324.898032</td>\n",
              "      <td>324.898032</td>\n",
              "      <td>324.898032</td>\n",
              "      <td>324.898032</td>\n",
              "      <td>324.898032</td>\n",
              "      <td>0.0</td>\n",
              "      <td>0.0</td>\n",
              "      <td>0.0</td>\n",
              "      <td>37169.961366</td>\n",
              "    </tr>\n",
              "    <tr>\n",
              "      <th>...</th>\n",
              "      <td>...</td>\n",
              "      <td>...</td>\n",
              "      <td>...</td>\n",
              "      <td>...</td>\n",
              "      <td>...</td>\n",
              "      <td>...</td>\n",
              "      <td>...</td>\n",
              "      <td>...</td>\n",
              "      <td>...</td>\n",
              "      <td>...</td>\n",
              "      <td>...</td>\n",
              "      <td>...</td>\n",
              "      <td>...</td>\n",
              "      <td>...</td>\n",
              "      <td>...</td>\n",
              "      <td>...</td>\n",
              "      <td>...</td>\n",
              "      <td>...</td>\n",
              "    </tr>\n",
              "    <tr>\n",
              "      <th>241</th>\n",
              "      <td>2019-06-26</td>\n",
              "      <td>28357.635874</td>\n",
              "      <td>37375.0</td>\n",
              "      <td>20125.0</td>\n",
              "      <td>26889.175355</td>\n",
              "      <td>30161.853474</td>\n",
              "      <td>28357.635874</td>\n",
              "      <td>28357.635874</td>\n",
              "      <td>194.353462</td>\n",
              "      <td>194.353462</td>\n",
              "      <td>194.353462</td>\n",
              "      <td>194.353462</td>\n",
              "      <td>194.353462</td>\n",
              "      <td>194.353462</td>\n",
              "      <td>0.0</td>\n",
              "      <td>0.0</td>\n",
              "      <td>0.0</td>\n",
              "      <td>28551.989336</td>\n",
              "    </tr>\n",
              "    <tr>\n",
              "      <th>242</th>\n",
              "      <td>2019-06-27</td>\n",
              "      <td>28011.332998</td>\n",
              "      <td>36920.0</td>\n",
              "      <td>19880.0</td>\n",
              "      <td>26620.436828</td>\n",
              "      <td>29871.155513</td>\n",
              "      <td>28011.332998</td>\n",
              "      <td>28011.332998</td>\n",
              "      <td>294.117630</td>\n",
              "      <td>294.117630</td>\n",
              "      <td>294.117630</td>\n",
              "      <td>294.117630</td>\n",
              "      <td>294.117630</td>\n",
              "      <td>294.117630</td>\n",
              "      <td>0.0</td>\n",
              "      <td>0.0</td>\n",
              "      <td>0.0</td>\n",
              "      <td>28305.450628</td>\n",
              "    </tr>\n",
              "    <tr>\n",
              "      <th>243</th>\n",
              "      <td>2019-06-28</td>\n",
              "      <td>28749.960927</td>\n",
              "      <td>37895.0</td>\n",
              "      <td>20405.0</td>\n",
              "      <td>27537.811375</td>\n",
              "      <td>30772.307911</td>\n",
              "      <td>28749.960927</td>\n",
              "      <td>28749.960927</td>\n",
              "      <td>324.898032</td>\n",
              "      <td>324.898032</td>\n",
              "      <td>324.898032</td>\n",
              "      <td>324.898032</td>\n",
              "      <td>324.898032</td>\n",
              "      <td>324.898032</td>\n",
              "      <td>0.0</td>\n",
              "      <td>0.0</td>\n",
              "      <td>0.0</td>\n",
              "      <td>29074.858958</td>\n",
              "    </tr>\n",
              "    <tr>\n",
              "      <th>244</th>\n",
              "      <td>2019-07-01</td>\n",
              "      <td>28549.404569</td>\n",
              "      <td>37635.0</td>\n",
              "      <td>20265.0</td>\n",
              "      <td>26853.671310</td>\n",
              "      <td>30074.701819</td>\n",
              "      <td>28549.404569</td>\n",
              "      <td>28549.404569</td>\n",
              "      <td>-14.258692</td>\n",
              "      <td>-14.258692</td>\n",
              "      <td>-14.258692</td>\n",
              "      <td>-14.258692</td>\n",
              "      <td>-14.258692</td>\n",
              "      <td>-14.258692</td>\n",
              "      <td>0.0</td>\n",
              "      <td>0.0</td>\n",
              "      <td>0.0</td>\n",
              "      <td>28535.145877</td>\n",
              "    </tr>\n",
              "    <tr>\n",
              "      <th>245</th>\n",
              "      <td>2019-07-02</td>\n",
              "      <td>28104.548220</td>\n",
              "      <td>37050.0</td>\n",
              "      <td>19950.0</td>\n",
              "      <td>26973.947491</td>\n",
              "      <td>30104.828286</td>\n",
              "      <td>28104.548220</td>\n",
              "      <td>28104.548220</td>\n",
              "      <td>388.230957</td>\n",
              "      <td>388.230957</td>\n",
              "      <td>388.230957</td>\n",
              "      <td>388.230957</td>\n",
              "      <td>388.230957</td>\n",
              "      <td>388.230957</td>\n",
              "      <td>0.0</td>\n",
              "      <td>0.0</td>\n",
              "      <td>0.0</td>\n",
              "      <td>28492.779177</td>\n",
              "    </tr>\n",
              "  </tbody>\n",
              "</table>\n",
              "<p>246 rows × 18 columns</p>\n",
              "</div>"
            ],
            "text/plain": [
              "            ds         trend  ...  multiplicative_terms_upper          yhat\n",
              "0   2018-07-02  35950.692579  ...                         0.0  35936.433887\n",
              "1   2018-07-03  35949.315410  ...                         0.0  36337.546367\n",
              "2   2018-07-04  38097.814937  ...                         0.0  38292.168400\n",
              "3   2018-07-05  37796.384105  ...                         0.0  38090.501735\n",
              "4   2018-07-06  36845.063335  ...                         0.0  37169.961366\n",
              "..         ...           ...  ...                         ...           ...\n",
              "241 2019-06-26  28357.635874  ...                         0.0  28551.989336\n",
              "242 2019-06-27  28011.332998  ...                         0.0  28305.450628\n",
              "243 2019-06-28  28749.960927  ...                         0.0  29074.858958\n",
              "244 2019-07-01  28549.404569  ...                         0.0  28535.145877\n",
              "245 2019-07-02  28104.548220  ...                         0.0  28492.779177\n",
              "\n",
              "[246 rows x 18 columns]"
            ]
          },
          "metadata": {
            "tags": []
          },
          "execution_count": 26
        }
      ]
    },
    {
      "cell_type": "code",
      "metadata": {
        "id": "n7so7Ws4xir7",
        "colab_type": "code",
        "colab": {
          "base_uri": "https://localhost:8080/",
          "height": 402
        },
        "outputId": "0bb95826-523a-4c4e-aaaa-da46b347ffb1"
      },
      "source": [
        "\n",
        "b=pd.DataFrame({'ds':da,'y':y,'cap':cap,'floor':flor})\n",
        "train=pd.concat([train,b],axis=0)\n",
        "train"
      ],
      "execution_count": null,
      "outputs": [
        {
          "output_type": "execute_result",
          "data": {
            "text/html": [
              "<div>\n",
              "<style scoped>\n",
              "    .dataframe tbody tr th:only-of-type {\n",
              "        vertical-align: middle;\n",
              "    }\n",
              "\n",
              "    .dataframe tbody tr th {\n",
              "        vertical-align: top;\n",
              "    }\n",
              "\n",
              "    .dataframe thead th {\n",
              "        text-align: right;\n",
              "    }\n",
              "</style>\n",
              "<table border=\"1\" class=\"dataframe\">\n",
              "  <thead>\n",
              "    <tr style=\"text-align: right;\">\n",
              "      <th></th>\n",
              "      <th>ds</th>\n",
              "      <th>y</th>\n",
              "      <th>cap</th>\n",
              "      <th>floor</th>\n",
              "    </tr>\n",
              "  </thead>\n",
              "  <tbody>\n",
              "    <tr>\n",
              "      <th>0</th>\n",
              "      <td>2018-07-02</td>\n",
              "      <td>35950.0</td>\n",
              "      <td>46735.0</td>\n",
              "      <td>25165.0</td>\n",
              "    </tr>\n",
              "    <tr>\n",
              "      <th>1</th>\n",
              "      <td>2018-07-03</td>\n",
              "      <td>38100.0</td>\n",
              "      <td>46735.0</td>\n",
              "      <td>25165.0</td>\n",
              "    </tr>\n",
              "    <tr>\n",
              "      <th>2</th>\n",
              "      <td>2018-07-04</td>\n",
              "      <td>37800.0</td>\n",
              "      <td>49530.0</td>\n",
              "      <td>26670.0</td>\n",
              "    </tr>\n",
              "    <tr>\n",
              "      <th>3</th>\n",
              "      <td>2018-07-05</td>\n",
              "      <td>36850.0</td>\n",
              "      <td>49140.0</td>\n",
              "      <td>26460.0</td>\n",
              "    </tr>\n",
              "    <tr>\n",
              "      <th>4</th>\n",
              "      <td>2018-07-06</td>\n",
              "      <td>37450.0</td>\n",
              "      <td>47905.0</td>\n",
              "      <td>25795.0</td>\n",
              "    </tr>\n",
              "    <tr>\n",
              "      <th>...</th>\n",
              "      <td>...</td>\n",
              "      <td>...</td>\n",
              "      <td>...</td>\n",
              "      <td>...</td>\n",
              "    </tr>\n",
              "    <tr>\n",
              "      <th>242</th>\n",
              "      <td>2019-06-27</td>\n",
              "      <td>29150.0</td>\n",
              "      <td>36920.0</td>\n",
              "      <td>19880.0</td>\n",
              "    </tr>\n",
              "    <tr>\n",
              "      <th>243</th>\n",
              "      <td>2019-06-28</td>\n",
              "      <td>28950.0</td>\n",
              "      <td>37895.0</td>\n",
              "      <td>20405.0</td>\n",
              "    </tr>\n",
              "    <tr>\n",
              "      <th>244</th>\n",
              "      <td>2019-07-01</td>\n",
              "      <td>28500.0</td>\n",
              "      <td>37635.0</td>\n",
              "      <td>20265.0</td>\n",
              "    </tr>\n",
              "    <tr>\n",
              "      <th>244</th>\n",
              "      <td>2019-07-02</td>\n",
              "      <td>NaN</td>\n",
              "      <td>37050.0</td>\n",
              "      <td>19950.0</td>\n",
              "    </tr>\n",
              "    <tr>\n",
              "      <th>245</th>\n",
              "      <td>2019-07-02</td>\n",
              "      <td>28493.0</td>\n",
              "      <td>NaN</td>\n",
              "      <td>NaN</td>\n",
              "    </tr>\n",
              "  </tbody>\n",
              "</table>\n",
              "<p>247 rows × 4 columns</p>\n",
              "</div>"
            ],
            "text/plain": [
              "            ds        y      cap    floor\n",
              "0   2018-07-02  35950.0  46735.0  25165.0\n",
              "1   2018-07-03  38100.0  46735.0  25165.0\n",
              "2   2018-07-04  37800.0  49530.0  26670.0\n",
              "3   2018-07-05  36850.0  49140.0  26460.0\n",
              "4   2018-07-06  37450.0  47905.0  25795.0\n",
              "..         ...      ...      ...      ...\n",
              "242 2019-06-27  29150.0  36920.0  19880.0\n",
              "243 2019-06-28  28950.0  37895.0  20405.0\n",
              "244 2019-07-01  28500.0  37635.0  20265.0\n",
              "244 2019-07-02      NaN  37050.0  19950.0\n",
              "245 2019-07-02  28493.0      NaN      NaN\n",
              "\n",
              "[247 rows x 4 columns]"
            ]
          },
          "metadata": {
            "tags": []
          },
          "execution_count": 192
        }
      ]
    },
    {
      "cell_type": "code",
      "metadata": {
        "id": "eu8OiimnxpTn",
        "colab_type": "code",
        "colab": {}
      },
      "source": [
        "#train[-1:]['cap']=train[0]['y'].shift() * 1.3\n",
        "#\n",
        "train[-1:]['cap']=train[-2:-1]['y']*1.3\n",
        "train[-1:]['floor']=train[-2:-1]['y']*0.7\n"
      ],
      "execution_count": null,
      "outputs": []
    },
    {
      "cell_type": "code",
      "metadata": {
        "id": "bWYa2M8xyf1x",
        "colab_type": "code",
        "colab": {
          "base_uri": "https://localhost:8080/",
          "height": 402
        },
        "outputId": "b436e8bc-c178-477a-b5ed-8f356c3cfa88"
      },
      "source": [
        "train"
      ],
      "execution_count": null,
      "outputs": [
        {
          "output_type": "execute_result",
          "data": {
            "text/html": [
              "<div>\n",
              "<style scoped>\n",
              "    .dataframe tbody tr th:only-of-type {\n",
              "        vertical-align: middle;\n",
              "    }\n",
              "\n",
              "    .dataframe tbody tr th {\n",
              "        vertical-align: top;\n",
              "    }\n",
              "\n",
              "    .dataframe thead th {\n",
              "        text-align: right;\n",
              "    }\n",
              "</style>\n",
              "<table border=\"1\" class=\"dataframe\">\n",
              "  <thead>\n",
              "    <tr style=\"text-align: right;\">\n",
              "      <th></th>\n",
              "      <th>ds</th>\n",
              "      <th>y</th>\n",
              "      <th>cap</th>\n",
              "      <th>floor</th>\n",
              "    </tr>\n",
              "  </thead>\n",
              "  <tbody>\n",
              "    <tr>\n",
              "      <th>0</th>\n",
              "      <td>2018-07-02</td>\n",
              "      <td>35950.0</td>\n",
              "      <td>46735.0</td>\n",
              "      <td>25165.0</td>\n",
              "    </tr>\n",
              "    <tr>\n",
              "      <th>1</th>\n",
              "      <td>2018-07-03</td>\n",
              "      <td>38100.0</td>\n",
              "      <td>46735.0</td>\n",
              "      <td>25165.0</td>\n",
              "    </tr>\n",
              "    <tr>\n",
              "      <th>2</th>\n",
              "      <td>2018-07-04</td>\n",
              "      <td>37800.0</td>\n",
              "      <td>49530.0</td>\n",
              "      <td>26670.0</td>\n",
              "    </tr>\n",
              "    <tr>\n",
              "      <th>3</th>\n",
              "      <td>2018-07-05</td>\n",
              "      <td>36850.0</td>\n",
              "      <td>49140.0</td>\n",
              "      <td>26460.0</td>\n",
              "    </tr>\n",
              "    <tr>\n",
              "      <th>4</th>\n",
              "      <td>2018-07-06</td>\n",
              "      <td>37450.0</td>\n",
              "      <td>47905.0</td>\n",
              "      <td>25795.0</td>\n",
              "    </tr>\n",
              "    <tr>\n",
              "      <th>...</th>\n",
              "      <td>...</td>\n",
              "      <td>...</td>\n",
              "      <td>...</td>\n",
              "      <td>...</td>\n",
              "    </tr>\n",
              "    <tr>\n",
              "      <th>241</th>\n",
              "      <td>2019-06-26</td>\n",
              "      <td>28400.0</td>\n",
              "      <td>37375.0</td>\n",
              "      <td>20125.0</td>\n",
              "    </tr>\n",
              "    <tr>\n",
              "      <th>242</th>\n",
              "      <td>2019-06-27</td>\n",
              "      <td>29150.0</td>\n",
              "      <td>36920.0</td>\n",
              "      <td>19880.0</td>\n",
              "    </tr>\n",
              "    <tr>\n",
              "      <th>243</th>\n",
              "      <td>2019-06-28</td>\n",
              "      <td>28950.0</td>\n",
              "      <td>37895.0</td>\n",
              "      <td>20405.0</td>\n",
              "    </tr>\n",
              "    <tr>\n",
              "      <th>244</th>\n",
              "      <td>2019-07-01</td>\n",
              "      <td>28500.0</td>\n",
              "      <td>37635.0</td>\n",
              "      <td>20265.0</td>\n",
              "    </tr>\n",
              "    <tr>\n",
              "      <th>245</th>\n",
              "      <td>2019-07-02</td>\n",
              "      <td>28493.0</td>\n",
              "      <td>NaN</td>\n",
              "      <td>NaN</td>\n",
              "    </tr>\n",
              "  </tbody>\n",
              "</table>\n",
              "<p>246 rows × 4 columns</p>\n",
              "</div>"
            ],
            "text/plain": [
              "            ds        y      cap    floor\n",
              "0   2018-07-02  35950.0  46735.0  25165.0\n",
              "1   2018-07-03  38100.0  46735.0  25165.0\n",
              "2   2018-07-04  37800.0  49530.0  26670.0\n",
              "3   2018-07-05  36850.0  49140.0  26460.0\n",
              "4   2018-07-06  37450.0  47905.0  25795.0\n",
              "..         ...      ...      ...      ...\n",
              "241 2019-06-26  28400.0  37375.0  20125.0\n",
              "242 2019-06-27  29150.0  36920.0  19880.0\n",
              "243 2019-06-28  28950.0  37895.0  20405.0\n",
              "244 2019-07-01  28500.0  37635.0  20265.0\n",
              "245 2019-07-02  28493.0      NaN      NaN\n",
              "\n",
              "[246 rows x 4 columns]"
            ]
          },
          "metadata": {
            "tags": []
          },
          "execution_count": 176
        }
      ]
    },
    {
      "cell_type": "code",
      "metadata": {
        "id": "-PD8e6MNusDr",
        "colab_type": "code",
        "colab": {
          "base_uri": "https://localhost:8080/",
          "height": 721
        },
        "outputId": "7b964d43-fa46-4a7c-f856-5fc5f8ad9778"
      },
      "source": [
        "#print(prophet_forecast.tail(1))\n",
        "#print(test1_n.head(1))\n",
        "#print(test1_n.head(1).index)\n",
        "da=test1_n[0].index\n",
        "y=prophet_forecast.tail(1)['yhat']\n",
        "temp=pd.DataFrame([[da,y]])\n",
        "temp\n",
        "#y=prophet_forecast\n",
        "#train=pd.concat([train,prophet_forecast])"
      ],
      "execution_count": null,
      "outputs": [
        {
          "output_type": "error",
          "ename": "KeyError",
          "evalue": "ignored",
          "traceback": [
            "\u001b[0;31m---------------------------------------------------------------------------\u001b[0m",
            "\u001b[0;31mKeyError\u001b[0m                                  Traceback (most recent call last)",
            "\u001b[0;32m/usr/local/lib/python3.6/dist-packages/pandas/core/indexes/base.py\u001b[0m in \u001b[0;36mget_loc\u001b[0;34m(self, key, method, tolerance)\u001b[0m\n\u001b[1;32m   2645\u001b[0m             \u001b[0;32mtry\u001b[0m\u001b[0;34m:\u001b[0m\u001b[0;34m\u001b[0m\u001b[0;34m\u001b[0m\u001b[0m\n\u001b[0;32m-> 2646\u001b[0;31m                 \u001b[0;32mreturn\u001b[0m \u001b[0mself\u001b[0m\u001b[0;34m.\u001b[0m\u001b[0m_engine\u001b[0m\u001b[0;34m.\u001b[0m\u001b[0mget_loc\u001b[0m\u001b[0;34m(\u001b[0m\u001b[0mkey\u001b[0m\u001b[0;34m)\u001b[0m\u001b[0;34m\u001b[0m\u001b[0;34m\u001b[0m\u001b[0m\n\u001b[0m\u001b[1;32m   2647\u001b[0m             \u001b[0;32mexcept\u001b[0m \u001b[0mKeyError\u001b[0m\u001b[0;34m:\u001b[0m\u001b[0;34m\u001b[0m\u001b[0;34m\u001b[0m\u001b[0m\n",
            "\u001b[0;32mpandas/_libs/index.pyx\u001b[0m in \u001b[0;36mpandas._libs.index.IndexEngine.get_loc\u001b[0;34m()\u001b[0m\n",
            "\u001b[0;32mpandas/_libs/index.pyx\u001b[0m in \u001b[0;36mpandas._libs.index.IndexEngine.get_loc\u001b[0;34m()\u001b[0m\n",
            "\u001b[0;32mpandas/_libs/hashtable_class_helper.pxi\u001b[0m in \u001b[0;36mpandas._libs.hashtable.PyObjectHashTable.get_item\u001b[0;34m()\u001b[0m\n",
            "\u001b[0;32mpandas/_libs/hashtable_class_helper.pxi\u001b[0m in \u001b[0;36mpandas._libs.hashtable.PyObjectHashTable.get_item\u001b[0;34m()\u001b[0m\n",
            "\u001b[0;31mKeyError\u001b[0m: 0",
            "\nDuring handling of the above exception, another exception occurred:\n",
            "\u001b[0;31mKeyError\u001b[0m                                  Traceback (most recent call last)",
            "\u001b[0;32m<ipython-input-162-75023145d187>\u001b[0m in \u001b[0;36m<module>\u001b[0;34m()\u001b[0m\n\u001b[1;32m      2\u001b[0m \u001b[0;31m#print(test1_n.head(1))\u001b[0m\u001b[0;34m\u001b[0m\u001b[0;34m\u001b[0m\u001b[0;34m\u001b[0m\u001b[0m\n\u001b[1;32m      3\u001b[0m \u001b[0;31m#print(test1_n.head(1).index)\u001b[0m\u001b[0;34m\u001b[0m\u001b[0;34m\u001b[0m\u001b[0;34m\u001b[0m\u001b[0m\n\u001b[0;32m----> 4\u001b[0;31m \u001b[0mda\u001b[0m\u001b[0;34m=\u001b[0m\u001b[0mtest1_n\u001b[0m\u001b[0;34m[\u001b[0m\u001b[0;36m0\u001b[0m\u001b[0;34m]\u001b[0m\u001b[0;34m.\u001b[0m\u001b[0mindex\u001b[0m\u001b[0;34m\u001b[0m\u001b[0;34m\u001b[0m\u001b[0m\n\u001b[0m\u001b[1;32m      5\u001b[0m \u001b[0my\u001b[0m\u001b[0;34m=\u001b[0m\u001b[0mprophet_forecast\u001b[0m\u001b[0;34m.\u001b[0m\u001b[0mtail\u001b[0m\u001b[0;34m(\u001b[0m\u001b[0;36m1\u001b[0m\u001b[0;34m)\u001b[0m\u001b[0;34m[\u001b[0m\u001b[0;34m'yhat'\u001b[0m\u001b[0;34m]\u001b[0m\u001b[0;34m\u001b[0m\u001b[0;34m\u001b[0m\u001b[0m\n\u001b[1;32m      6\u001b[0m \u001b[0mtemp\u001b[0m\u001b[0;34m=\u001b[0m\u001b[0mpd\u001b[0m\u001b[0;34m.\u001b[0m\u001b[0mDataFrame\u001b[0m\u001b[0;34m(\u001b[0m\u001b[0;34m[\u001b[0m\u001b[0;34m[\u001b[0m\u001b[0mda\u001b[0m\u001b[0;34m,\u001b[0m\u001b[0my\u001b[0m\u001b[0;34m]\u001b[0m\u001b[0;34m]\u001b[0m\u001b[0;34m)\u001b[0m\u001b[0;34m\u001b[0m\u001b[0;34m\u001b[0m\u001b[0m\n",
            "\u001b[0;32m/usr/local/lib/python3.6/dist-packages/pandas/core/frame.py\u001b[0m in \u001b[0;36m__getitem__\u001b[0;34m(self, key)\u001b[0m\n\u001b[1;32m   2798\u001b[0m             \u001b[0;32mif\u001b[0m \u001b[0mself\u001b[0m\u001b[0;34m.\u001b[0m\u001b[0mcolumns\u001b[0m\u001b[0;34m.\u001b[0m\u001b[0mnlevels\u001b[0m \u001b[0;34m>\u001b[0m \u001b[0;36m1\u001b[0m\u001b[0;34m:\u001b[0m\u001b[0;34m\u001b[0m\u001b[0;34m\u001b[0m\u001b[0m\n\u001b[1;32m   2799\u001b[0m                 \u001b[0;32mreturn\u001b[0m \u001b[0mself\u001b[0m\u001b[0;34m.\u001b[0m\u001b[0m_getitem_multilevel\u001b[0m\u001b[0;34m(\u001b[0m\u001b[0mkey\u001b[0m\u001b[0;34m)\u001b[0m\u001b[0;34m\u001b[0m\u001b[0;34m\u001b[0m\u001b[0m\n\u001b[0;32m-> 2800\u001b[0;31m             \u001b[0mindexer\u001b[0m \u001b[0;34m=\u001b[0m \u001b[0mself\u001b[0m\u001b[0;34m.\u001b[0m\u001b[0mcolumns\u001b[0m\u001b[0;34m.\u001b[0m\u001b[0mget_loc\u001b[0m\u001b[0;34m(\u001b[0m\u001b[0mkey\u001b[0m\u001b[0;34m)\u001b[0m\u001b[0;34m\u001b[0m\u001b[0;34m\u001b[0m\u001b[0m\n\u001b[0m\u001b[1;32m   2801\u001b[0m             \u001b[0;32mif\u001b[0m \u001b[0mis_integer\u001b[0m\u001b[0;34m(\u001b[0m\u001b[0mindexer\u001b[0m\u001b[0;34m)\u001b[0m\u001b[0;34m:\u001b[0m\u001b[0;34m\u001b[0m\u001b[0;34m\u001b[0m\u001b[0m\n\u001b[1;32m   2802\u001b[0m                 \u001b[0mindexer\u001b[0m \u001b[0;34m=\u001b[0m \u001b[0;34m[\u001b[0m\u001b[0mindexer\u001b[0m\u001b[0;34m]\u001b[0m\u001b[0;34m\u001b[0m\u001b[0;34m\u001b[0m\u001b[0m\n",
            "\u001b[0;32m/usr/local/lib/python3.6/dist-packages/pandas/core/indexes/base.py\u001b[0m in \u001b[0;36mget_loc\u001b[0;34m(self, key, method, tolerance)\u001b[0m\n\u001b[1;32m   2646\u001b[0m                 \u001b[0;32mreturn\u001b[0m \u001b[0mself\u001b[0m\u001b[0;34m.\u001b[0m\u001b[0m_engine\u001b[0m\u001b[0;34m.\u001b[0m\u001b[0mget_loc\u001b[0m\u001b[0;34m(\u001b[0m\u001b[0mkey\u001b[0m\u001b[0;34m)\u001b[0m\u001b[0;34m\u001b[0m\u001b[0;34m\u001b[0m\u001b[0m\n\u001b[1;32m   2647\u001b[0m             \u001b[0;32mexcept\u001b[0m \u001b[0mKeyError\u001b[0m\u001b[0;34m:\u001b[0m\u001b[0;34m\u001b[0m\u001b[0;34m\u001b[0m\u001b[0m\n\u001b[0;32m-> 2648\u001b[0;31m                 \u001b[0;32mreturn\u001b[0m \u001b[0mself\u001b[0m\u001b[0;34m.\u001b[0m\u001b[0m_engine\u001b[0m\u001b[0;34m.\u001b[0m\u001b[0mget_loc\u001b[0m\u001b[0;34m(\u001b[0m\u001b[0mself\u001b[0m\u001b[0;34m.\u001b[0m\u001b[0m_maybe_cast_indexer\u001b[0m\u001b[0;34m(\u001b[0m\u001b[0mkey\u001b[0m\u001b[0;34m)\u001b[0m\u001b[0;34m)\u001b[0m\u001b[0;34m\u001b[0m\u001b[0;34m\u001b[0m\u001b[0m\n\u001b[0m\u001b[1;32m   2649\u001b[0m         \u001b[0mindexer\u001b[0m \u001b[0;34m=\u001b[0m \u001b[0mself\u001b[0m\u001b[0;34m.\u001b[0m\u001b[0mget_indexer\u001b[0m\u001b[0;34m(\u001b[0m\u001b[0;34m[\u001b[0m\u001b[0mkey\u001b[0m\u001b[0;34m]\u001b[0m\u001b[0;34m,\u001b[0m \u001b[0mmethod\u001b[0m\u001b[0;34m=\u001b[0m\u001b[0mmethod\u001b[0m\u001b[0;34m,\u001b[0m \u001b[0mtolerance\u001b[0m\u001b[0;34m=\u001b[0m\u001b[0mtolerance\u001b[0m\u001b[0;34m)\u001b[0m\u001b[0;34m\u001b[0m\u001b[0;34m\u001b[0m\u001b[0m\n\u001b[1;32m   2650\u001b[0m         \u001b[0;32mif\u001b[0m \u001b[0mindexer\u001b[0m\u001b[0;34m.\u001b[0m\u001b[0mndim\u001b[0m \u001b[0;34m>\u001b[0m \u001b[0;36m1\u001b[0m \u001b[0;32mor\u001b[0m \u001b[0mindexer\u001b[0m\u001b[0;34m.\u001b[0m\u001b[0msize\u001b[0m \u001b[0;34m>\u001b[0m \u001b[0;36m1\u001b[0m\u001b[0;34m:\u001b[0m\u001b[0;34m\u001b[0m\u001b[0;34m\u001b[0m\u001b[0m\n",
            "\u001b[0;32mpandas/_libs/index.pyx\u001b[0m in \u001b[0;36mpandas._libs.index.IndexEngine.get_loc\u001b[0;34m()\u001b[0m\n",
            "\u001b[0;32mpandas/_libs/index.pyx\u001b[0m in \u001b[0;36mpandas._libs.index.IndexEngine.get_loc\u001b[0;34m()\u001b[0m\n",
            "\u001b[0;32mpandas/_libs/hashtable_class_helper.pxi\u001b[0m in \u001b[0;36mpandas._libs.hashtable.PyObjectHashTable.get_item\u001b[0;34m()\u001b[0m\n",
            "\u001b[0;32mpandas/_libs/hashtable_class_helper.pxi\u001b[0m in \u001b[0;36mpandas._libs.hashtable.PyObjectHashTable.get_item\u001b[0;34m()\u001b[0m\n",
            "\u001b[0;31mKeyError\u001b[0m: 0"
          ]
        }
      ]
    },
    {
      "cell_type": "code",
      "metadata": {
        "id": "89Yh4EJlr3tG",
        "colab_type": "code",
        "colab": {
          "base_uri": "https://localhost:8080/",
          "height": 402
        },
        "outputId": "ac1cac86-0d18-463c-bdaa-34e7ef1978b6"
      },
      "source": [
        "train"
      ],
      "execution_count": null,
      "outputs": [
        {
          "output_type": "execute_result",
          "data": {
            "text/html": [
              "<div>\n",
              "<style scoped>\n",
              "    .dataframe tbody tr th:only-of-type {\n",
              "        vertical-align: middle;\n",
              "    }\n",
              "\n",
              "    .dataframe tbody tr th {\n",
              "        vertical-align: top;\n",
              "    }\n",
              "\n",
              "    .dataframe thead th {\n",
              "        text-align: right;\n",
              "    }\n",
              "</style>\n",
              "<table border=\"1\" class=\"dataframe\">\n",
              "  <thead>\n",
              "    <tr style=\"text-align: right;\">\n",
              "      <th></th>\n",
              "      <th>ds</th>\n",
              "      <th>y</th>\n",
              "      <th>cap</th>\n",
              "      <th>floor</th>\n",
              "    </tr>\n",
              "  </thead>\n",
              "  <tbody>\n",
              "    <tr>\n",
              "      <th>0</th>\n",
              "      <td>2018-07-02</td>\n",
              "      <td>35950</td>\n",
              "      <td>46735.0</td>\n",
              "      <td>25165.0</td>\n",
              "    </tr>\n",
              "    <tr>\n",
              "      <th>1</th>\n",
              "      <td>2018-07-03</td>\n",
              "      <td>38100</td>\n",
              "      <td>46735.0</td>\n",
              "      <td>25165.0</td>\n",
              "    </tr>\n",
              "    <tr>\n",
              "      <th>2</th>\n",
              "      <td>2018-07-04</td>\n",
              "      <td>37800</td>\n",
              "      <td>49530.0</td>\n",
              "      <td>26670.0</td>\n",
              "    </tr>\n",
              "    <tr>\n",
              "      <th>3</th>\n",
              "      <td>2018-07-05</td>\n",
              "      <td>36850</td>\n",
              "      <td>49140.0</td>\n",
              "      <td>26460.0</td>\n",
              "    </tr>\n",
              "    <tr>\n",
              "      <th>4</th>\n",
              "      <td>2018-07-06</td>\n",
              "      <td>37450</td>\n",
              "      <td>47905.0</td>\n",
              "      <td>25795.0</td>\n",
              "    </tr>\n",
              "    <tr>\n",
              "      <th>...</th>\n",
              "      <td>...</td>\n",
              "      <td>...</td>\n",
              "      <td>...</td>\n",
              "      <td>...</td>\n",
              "    </tr>\n",
              "    <tr>\n",
              "      <th>240</th>\n",
              "      <td>2019-06-25</td>\n",
              "      <td>28750</td>\n",
              "      <td>36725.0</td>\n",
              "      <td>19775.0</td>\n",
              "    </tr>\n",
              "    <tr>\n",
              "      <th>241</th>\n",
              "      <td>2019-06-26</td>\n",
              "      <td>28400</td>\n",
              "      <td>37375.0</td>\n",
              "      <td>20125.0</td>\n",
              "    </tr>\n",
              "    <tr>\n",
              "      <th>242</th>\n",
              "      <td>2019-06-27</td>\n",
              "      <td>29150</td>\n",
              "      <td>36920.0</td>\n",
              "      <td>19880.0</td>\n",
              "    </tr>\n",
              "    <tr>\n",
              "      <th>243</th>\n",
              "      <td>2019-06-28</td>\n",
              "      <td>28950</td>\n",
              "      <td>37895.0</td>\n",
              "      <td>20405.0</td>\n",
              "    </tr>\n",
              "    <tr>\n",
              "      <th>244</th>\n",
              "      <td>2019-07-01</td>\n",
              "      <td>28500</td>\n",
              "      <td>37635.0</td>\n",
              "      <td>20265.0</td>\n",
              "    </tr>\n",
              "  </tbody>\n",
              "</table>\n",
              "<p>245 rows × 4 columns</p>\n",
              "</div>"
            ],
            "text/plain": [
              "            ds      y      cap    floor\n",
              "0   2018-07-02  35950  46735.0  25165.0\n",
              "1   2018-07-03  38100  46735.0  25165.0\n",
              "2   2018-07-04  37800  49530.0  26670.0\n",
              "3   2018-07-05  36850  49140.0  26460.0\n",
              "4   2018-07-06  37450  47905.0  25795.0\n",
              "..         ...    ...      ...      ...\n",
              "240 2019-06-25  28750  36725.0  19775.0\n",
              "241 2019-06-26  28400  37375.0  20125.0\n",
              "242 2019-06-27  29150  36920.0  19880.0\n",
              "243 2019-06-28  28950  37895.0  20405.0\n",
              "244 2019-07-01  28500  37635.0  20265.0\n",
              "\n",
              "[245 rows x 4 columns]"
            ]
          },
          "metadata": {
            "tags": []
          },
          "execution_count": 112
        }
      ]
    },
    {
      "cell_type": "code",
      "metadata": {
        "id": "dN3_GEUmsDuz",
        "colab_type": "code",
        "colab": {
          "base_uri": "https://localhost:8080/",
          "height": 114
        },
        "outputId": "19edd309-6f6e-41b6-fb82-03faec3b6298"
      },
      "source": [
        "train.tail(1)"
      ],
      "execution_count": null,
      "outputs": [
        {
          "output_type": "execute_result",
          "data": {
            "text/html": [
              "<div>\n",
              "<style scoped>\n",
              "    .dataframe tbody tr th:only-of-type {\n",
              "        vertical-align: middle;\n",
              "    }\n",
              "\n",
              "    .dataframe tbody tr th {\n",
              "        vertical-align: top;\n",
              "    }\n",
              "\n",
              "    .dataframe thead th {\n",
              "        text-align: right;\n",
              "    }\n",
              "</style>\n",
              "<table border=\"1\" class=\"dataframe\">\n",
              "  <thead>\n",
              "    <tr style=\"text-align: right;\">\n",
              "      <th></th>\n",
              "      <th>ds</th>\n",
              "      <th>trend</th>\n",
              "      <th>cap</th>\n",
              "      <th>floor</th>\n",
              "      <th>yhat_lower</th>\n",
              "      <th>yhat_upper</th>\n",
              "      <th>trend_lower</th>\n",
              "      <th>trend_upper</th>\n",
              "      <th>additive_terms</th>\n",
              "      <th>additive_terms_lower</th>\n",
              "      <th>additive_terms_upper</th>\n",
              "      <th>weekly</th>\n",
              "      <th>weekly_lower</th>\n",
              "      <th>weekly_upper</th>\n",
              "      <th>multiplicative_terms</th>\n",
              "      <th>multiplicative_terms_lower</th>\n",
              "      <th>multiplicative_terms_upper</th>\n",
              "      <th>yhat</th>\n",
              "    </tr>\n",
              "  </thead>\n",
              "  <tbody>\n",
              "    <tr>\n",
              "      <th>245</th>\n",
              "      <td>2019-07-02</td>\n",
              "      <td>28368.18274</td>\n",
              "      <td>31350.0</td>\n",
              "      <td>25650.0</td>\n",
              "      <td>27105.645867</td>\n",
              "      <td>30283.983536</td>\n",
              "      <td>28368.18274</td>\n",
              "      <td>28368.18274</td>\n",
              "      <td>388.230957</td>\n",
              "      <td>388.230957</td>\n",
              "      <td>388.230957</td>\n",
              "      <td>388.230957</td>\n",
              "      <td>388.230957</td>\n",
              "      <td>388.230957</td>\n",
              "      <td>0.0</td>\n",
              "      <td>0.0</td>\n",
              "      <td>0.0</td>\n",
              "      <td>28756.413697</td>\n",
              "    </tr>\n",
              "  </tbody>\n",
              "</table>\n",
              "</div>"
            ],
            "text/plain": [
              "            ds        trend  ...  multiplicative_terms_upper          yhat\n",
              "245 2019-07-02  28368.18274  ...                         0.0  28756.413697\n",
              "\n",
              "[1 rows x 18 columns]"
            ]
          },
          "metadata": {
            "tags": []
          },
          "execution_count": 103
        }
      ]
    },
    {
      "cell_type": "code",
      "metadata": {
        "id": "jMDE_zoUpjRc",
        "colab_type": "code",
        "colab": {
          "base_uri": "https://localhost:8080/",
          "height": 34
        },
        "outputId": "dafc2122-79a3-44f0-8952-4c7ca7e128e4"
      },
      "source": [
        "print(list(prophet_forecast['yhat'])[-1],test1['종가'][0])"
      ],
      "execution_count": null,
      "outputs": [
        {
          "output_type": "stream",
          "text": [
            "28756.413697239546 29000\n"
          ],
          "name": "stdout"
        }
      ]
    },
    {
      "cell_type": "code",
      "metadata": {
        "id": "m8TDzbgvhgkN",
        "colab_type": "code",
        "colab": {
          "base_uri": "https://localhost:8080/",
          "height": 398
        },
        "outputId": "21090e05-1ae7-4cfa-9215-6ec3a314fbc5"
      },
      "source": [
        "for i in tqdm(range(start, end),desc='tqdm'):\n",
        "  data = train[i:i+training_period+n_steps]\n",
        "  prophet_series = pd.DataFrame([data.index, data['y']]).T\n",
        "  prophet_series.columns = ['ds','y']\n",
        "  prophet_model = Prophet(growth = 'logistic', daily_seasonality = False)\n",
        "  prophet_series['cap'] = prophet_series['y'].shift() * 1.1\n",
        "  prophet_series['floor'] = prophet_series['y'].shift() * 0.9\n",
        "  #train['cap'] = train['y'].shift() * 1.1\n",
        "  \n",
        "  propht_series['ds']=datetime(prophet_series['ds'])\n",
        "  prophet_series.fillna(method='bfill', inplace=True)\n",
        "\n",
        "  print(prophet_series)\n",
        "  print()"
      ],
      "execution_count": null,
      "outputs": [
        {
          "output_type": "display_data",
          "data": {
            "text/html": [
              "<div style=\"display:flex;flex-direction:row;\"><span>tqdm</span><progress style='margin:2px 4px;description_width:initial;' max='20' value='0'></progress>  0% 0/20 [00:00&lt;?, ?it/s]</div>"
            ],
            "text/plain": [
              "<tqdm._fake_ipywidgets.HBox object>"
            ]
          },
          "metadata": {
            "tags": []
          }
        },
        {
          "output_type": "stream",
          "text": [
            "\n"
          ],
          "name": "stdout"
        },
        {
          "output_type": "error",
          "ename": "TypeError",
          "evalue": "ignored",
          "traceback": [
            "\u001b[0;31m---------------------------------------------------------------------------\u001b[0m",
            "\u001b[0;31mTypeError\u001b[0m                                 Traceback (most recent call last)",
            "\u001b[0;32m<ipython-input-61-db7210883ef0>\u001b[0m in \u001b[0;36m<module>\u001b[0;34m()\u001b[0m\n\u001b[1;32m      6\u001b[0m   \u001b[0mprophet_series\u001b[0m\u001b[0;34m[\u001b[0m\u001b[0;34m'cap'\u001b[0m\u001b[0;34m]\u001b[0m \u001b[0;34m=\u001b[0m \u001b[0mprophet_series\u001b[0m\u001b[0;34m[\u001b[0m\u001b[0;34m'y'\u001b[0m\u001b[0;34m]\u001b[0m\u001b[0;34m.\u001b[0m\u001b[0mshift\u001b[0m\u001b[0;34m(\u001b[0m\u001b[0;34m)\u001b[0m \u001b[0;34m*\u001b[0m \u001b[0;36m1.1\u001b[0m\u001b[0;34m\u001b[0m\u001b[0;34m\u001b[0m\u001b[0m\n\u001b[1;32m      7\u001b[0m   \u001b[0mprophet_series\u001b[0m\u001b[0;34m[\u001b[0m\u001b[0;34m'floor'\u001b[0m\u001b[0;34m]\u001b[0m \u001b[0;34m=\u001b[0m \u001b[0mprophet_series\u001b[0m\u001b[0;34m[\u001b[0m\u001b[0;34m'y'\u001b[0m\u001b[0;34m]\u001b[0m\u001b[0;34m.\u001b[0m\u001b[0mshift\u001b[0m\u001b[0;34m(\u001b[0m\u001b[0;34m)\u001b[0m \u001b[0;34m*\u001b[0m \u001b[0;36m0.9\u001b[0m\u001b[0;34m\u001b[0m\u001b[0;34m\u001b[0m\u001b[0m\n\u001b[0;32m----> 8\u001b[0;31m   \u001b[0mpropht_series\u001b[0m\u001b[0;34m[\u001b[0m\u001b[0;34m'ds'\u001b[0m\u001b[0;34m]\u001b[0m\u001b[0;34m=\u001b[0m\u001b[0mdatetime\u001b[0m\u001b[0;34m(\u001b[0m\u001b[0mprophet_series\u001b[0m\u001b[0;34m[\u001b[0m\u001b[0;34m'ds'\u001b[0m\u001b[0;34m]\u001b[0m\u001b[0;34m)\u001b[0m\u001b[0;34m\u001b[0m\u001b[0;34m\u001b[0m\u001b[0m\n\u001b[0m\u001b[1;32m      9\u001b[0m   \u001b[0mprophet_series\u001b[0m\u001b[0;34m.\u001b[0m\u001b[0mfillna\u001b[0m\u001b[0;34m(\u001b[0m\u001b[0mmethod\u001b[0m\u001b[0;34m=\u001b[0m\u001b[0;34m'bfill'\u001b[0m\u001b[0;34m,\u001b[0m \u001b[0minplace\u001b[0m\u001b[0;34m=\u001b[0m\u001b[0;32mTrue\u001b[0m\u001b[0;34m)\u001b[0m\u001b[0;34m\u001b[0m\u001b[0;34m\u001b[0m\u001b[0m\n\u001b[1;32m     10\u001b[0m \u001b[0;34m\u001b[0m\u001b[0m\n",
            "\u001b[0;32m/usr/local/lib/python3.6/dist-packages/pandas/core/series.py\u001b[0m in \u001b[0;36mwrapper\u001b[0;34m(self)\u001b[0m\n\u001b[1;32m    110\u001b[0m         \u001b[0;32mif\u001b[0m \u001b[0mlen\u001b[0m\u001b[0;34m(\u001b[0m\u001b[0mself\u001b[0m\u001b[0;34m)\u001b[0m \u001b[0;34m==\u001b[0m \u001b[0;36m1\u001b[0m\u001b[0;34m:\u001b[0m\u001b[0;34m\u001b[0m\u001b[0;34m\u001b[0m\u001b[0m\n\u001b[1;32m    111\u001b[0m             \u001b[0;32mreturn\u001b[0m \u001b[0mconverter\u001b[0m\u001b[0;34m(\u001b[0m\u001b[0mself\u001b[0m\u001b[0;34m.\u001b[0m\u001b[0miloc\u001b[0m\u001b[0;34m[\u001b[0m\u001b[0;36m0\u001b[0m\u001b[0;34m]\u001b[0m\u001b[0;34m)\u001b[0m\u001b[0;34m\u001b[0m\u001b[0;34m\u001b[0m\u001b[0m\n\u001b[0;32m--> 112\u001b[0;31m         \u001b[0;32mraise\u001b[0m \u001b[0mTypeError\u001b[0m\u001b[0;34m(\u001b[0m\u001b[0;34mf\"cannot convert the series to {converter}\"\u001b[0m\u001b[0;34m)\u001b[0m\u001b[0;34m\u001b[0m\u001b[0;34m\u001b[0m\u001b[0m\n\u001b[0m\u001b[1;32m    113\u001b[0m \u001b[0;34m\u001b[0m\u001b[0m\n\u001b[1;32m    114\u001b[0m     \u001b[0mwrapper\u001b[0m\u001b[0;34m.\u001b[0m\u001b[0m__name__\u001b[0m \u001b[0;34m=\u001b[0m \u001b[0;34mf\"__{converter.__name__}__\"\u001b[0m\u001b[0;34m\u001b[0m\u001b[0;34m\u001b[0m\u001b[0m\n",
            "\u001b[0;31mTypeError\u001b[0m: cannot convert the series to <class 'int'>"
          ]
        }
      ]
    },
    {
      "cell_type": "code",
      "metadata": {
        "id": "5USeTzOXdzL5",
        "colab_type": "code",
        "colab": {
          "base_uri": "https://localhost:8080/",
          "height": 686
        },
        "outputId": "43af65e2-10e1-4a3f-b69f-5ad1cb322da6"
      },
      "source": [
        "\n",
        "\n",
        "for i in tqdm(range(start, end),desc='tqdm'):\n",
        "  sleep(0.5)\n",
        "  data = train[i:i+training_period+n_steps]\n",
        "  prophet_series = pd.DataFrame([data.index, data['y']]).T\n",
        "  prophet_series.columns = ['ds','y']\n",
        "  prophet_model = Prophet(growth = 'logistic', daily_seasonality = False)\n",
        "  prophet_series['cap'] = prophet_series['y'].shift() * 1.1\n",
        "  prophet_series['floor'] = prophet_series['y'].shift() * 0.9\n",
        "  prophet_series.fillna(method='bfill', inplace=True)\n",
        "\n",
        "  prophet_model.fit(prophet_series)\n",
        "  future =  prophet_model.make_future_dataframe(periods=1)\n",
        "  future['cap'] = prophet_series['cap'].append(pd.Series(prophet_series['y'].values[-1]*1.1),ignore_index=True)\n",
        "  future['floor'] = prophet_series['floor'].append(pd.Series(prophet_series['y'].values[-1]*0.9),ignore_index=True)\n",
        "  future.fillna(method='bfill', inplace=True)\n",
        "\n",
        "\n",
        "  prophet_forecast = prophet_model.predict(future[-1:])['yhat'].item()\n",
        "  yhat_logistic_prophet_list.append(prophet_forecast)  "
      ],
      "execution_count": null,
      "outputs": [
        {
          "output_type": "display_data",
          "data": {
            "text/html": [
              "<div style=\"display:flex;flex-direction:row;\"><span>tqdm</span><progress style='margin:2px 4px;description_width:initial;' max='20' value='0'></progress>  0% 0/20 [00:00&lt;?, ?it/s]</div>"
            ],
            "text/plain": [
              "<tqdm._fake_ipywidgets.HBox object>"
            ]
          },
          "metadata": {
            "tags": []
          }
        },
        {
          "output_type": "stream",
          "text": [
            "\n"
          ],
          "name": "stdout"
        },
        {
          "output_type": "error",
          "ename": "ValueError",
          "evalue": "ignored",
          "traceback": [
            "\u001b[0;31m---------------------------------------------------------------------------\u001b[0m",
            "\u001b[0;31mTypeError\u001b[0m                                 Traceback (most recent call last)",
            "\u001b[0;32m/usr/local/lib/python3.6/dist-packages/pandas/core/arrays/datetimes.py\u001b[0m in \u001b[0;36mobjects_to_datetime64ns\u001b[0;34m(data, dayfirst, yearfirst, utc, errors, require_iso8601, allow_object)\u001b[0m\n\u001b[1;32m   1857\u001b[0m         \u001b[0;32mtry\u001b[0m\u001b[0;34m:\u001b[0m\u001b[0;34m\u001b[0m\u001b[0;34m\u001b[0m\u001b[0m\n\u001b[0;32m-> 1858\u001b[0;31m             \u001b[0mvalues\u001b[0m\u001b[0;34m,\u001b[0m \u001b[0mtz_parsed\u001b[0m \u001b[0;34m=\u001b[0m \u001b[0mconversion\u001b[0m\u001b[0;34m.\u001b[0m\u001b[0mdatetime_to_datetime64\u001b[0m\u001b[0;34m(\u001b[0m\u001b[0mdata\u001b[0m\u001b[0;34m)\u001b[0m\u001b[0;34m\u001b[0m\u001b[0;34m\u001b[0m\u001b[0m\n\u001b[0m\u001b[1;32m   1859\u001b[0m             \u001b[0;31m# If tzaware, these values represent unix timestamps, so we\u001b[0m\u001b[0;34m\u001b[0m\u001b[0;34m\u001b[0m\u001b[0;34m\u001b[0m\u001b[0m\n",
            "\u001b[0;32mpandas/_libs/tslibs/conversion.pyx\u001b[0m in \u001b[0;36mpandas._libs.tslibs.conversion.datetime_to_datetime64\u001b[0;34m()\u001b[0m\n",
            "\u001b[0;31mTypeError\u001b[0m: Unrecognized value type: <class 'str'>",
            "\nDuring handling of the above exception, another exception occurred:\n",
            "\u001b[0;31mValueError\u001b[0m                                Traceback (most recent call last)",
            "\u001b[0;32m<ipython-input-45-834bb9f82387>\u001b[0m in \u001b[0;36m<module>\u001b[0;34m()\u001b[0m\n\u001b[1;32m     11\u001b[0m   \u001b[0mprophet_series\u001b[0m\u001b[0;34m.\u001b[0m\u001b[0mfillna\u001b[0m\u001b[0;34m(\u001b[0m\u001b[0mmethod\u001b[0m\u001b[0;34m=\u001b[0m\u001b[0;34m'bfill'\u001b[0m\u001b[0;34m,\u001b[0m \u001b[0minplace\u001b[0m\u001b[0;34m=\u001b[0m\u001b[0;32mTrue\u001b[0m\u001b[0;34m)\u001b[0m\u001b[0;34m\u001b[0m\u001b[0;34m\u001b[0m\u001b[0m\n\u001b[1;32m     12\u001b[0m \u001b[0;34m\u001b[0m\u001b[0m\n\u001b[0;32m---> 13\u001b[0;31m   \u001b[0mprophet_model\u001b[0m\u001b[0;34m.\u001b[0m\u001b[0mfit\u001b[0m\u001b[0;34m(\u001b[0m\u001b[0mprophet_series\u001b[0m\u001b[0;34m)\u001b[0m\u001b[0;34m\u001b[0m\u001b[0;34m\u001b[0m\u001b[0m\n\u001b[0m\u001b[1;32m     14\u001b[0m   \u001b[0mfuture\u001b[0m \u001b[0;34m=\u001b[0m  \u001b[0mprophet_model\u001b[0m\u001b[0;34m.\u001b[0m\u001b[0mmake_future_dataframe\u001b[0m\u001b[0;34m(\u001b[0m\u001b[0mperiods\u001b[0m\u001b[0;34m=\u001b[0m\u001b[0;36m1\u001b[0m\u001b[0;34m)\u001b[0m\u001b[0;34m\u001b[0m\u001b[0;34m\u001b[0m\u001b[0m\n\u001b[1;32m     15\u001b[0m   \u001b[0mfuture\u001b[0m\u001b[0;34m[\u001b[0m\u001b[0;34m'cap'\u001b[0m\u001b[0;34m]\u001b[0m \u001b[0;34m=\u001b[0m \u001b[0mprophet_series\u001b[0m\u001b[0;34m[\u001b[0m\u001b[0;34m'cap'\u001b[0m\u001b[0;34m]\u001b[0m\u001b[0;34m.\u001b[0m\u001b[0mappend\u001b[0m\u001b[0;34m(\u001b[0m\u001b[0mpd\u001b[0m\u001b[0;34m.\u001b[0m\u001b[0mSeries\u001b[0m\u001b[0;34m(\u001b[0m\u001b[0mprophet_series\u001b[0m\u001b[0;34m[\u001b[0m\u001b[0;34m'y'\u001b[0m\u001b[0;34m]\u001b[0m\u001b[0;34m.\u001b[0m\u001b[0mvalues\u001b[0m\u001b[0;34m[\u001b[0m\u001b[0;34m-\u001b[0m\u001b[0;36m1\u001b[0m\u001b[0;34m]\u001b[0m\u001b[0;34m*\u001b[0m\u001b[0;36m1.1\u001b[0m\u001b[0;34m)\u001b[0m\u001b[0;34m,\u001b[0m\u001b[0mignore_index\u001b[0m\u001b[0;34m=\u001b[0m\u001b[0;32mTrue\u001b[0m\u001b[0;34m)\u001b[0m\u001b[0;34m\u001b[0m\u001b[0;34m\u001b[0m\u001b[0m\n",
            "\u001b[0;32m/usr/local/lib/python3.6/dist-packages/fbprophet/forecaster.py\u001b[0m in \u001b[0;36mfit\u001b[0;34m(self, df, **kwargs)\u001b[0m\n\u001b[1;32m   1109\u001b[0m         \u001b[0mself\u001b[0m\u001b[0;34m.\u001b[0m\u001b[0mhistory_dates\u001b[0m \u001b[0;34m=\u001b[0m \u001b[0mpd\u001b[0m\u001b[0;34m.\u001b[0m\u001b[0mto_datetime\u001b[0m\u001b[0;34m(\u001b[0m\u001b[0mpd\u001b[0m\u001b[0;34m.\u001b[0m\u001b[0mSeries\u001b[0m\u001b[0;34m(\u001b[0m\u001b[0mdf\u001b[0m\u001b[0;34m[\u001b[0m\u001b[0;34m'ds'\u001b[0m\u001b[0;34m]\u001b[0m\u001b[0;34m.\u001b[0m\u001b[0munique\u001b[0m\u001b[0;34m(\u001b[0m\u001b[0;34m)\u001b[0m\u001b[0;34m,\u001b[0m \u001b[0mname\u001b[0m\u001b[0;34m=\u001b[0m\u001b[0;34m'ds'\u001b[0m\u001b[0;34m)\u001b[0m\u001b[0;34m)\u001b[0m\u001b[0;34m.\u001b[0m\u001b[0msort_values\u001b[0m\u001b[0;34m(\u001b[0m\u001b[0;34m)\u001b[0m\u001b[0;34m\u001b[0m\u001b[0;34m\u001b[0m\u001b[0m\n\u001b[1;32m   1110\u001b[0m \u001b[0;34m\u001b[0m\u001b[0m\n\u001b[0;32m-> 1111\u001b[0;31m         \u001b[0mhistory\u001b[0m \u001b[0;34m=\u001b[0m \u001b[0mself\u001b[0m\u001b[0;34m.\u001b[0m\u001b[0msetup_dataframe\u001b[0m\u001b[0;34m(\u001b[0m\u001b[0mhistory\u001b[0m\u001b[0;34m,\u001b[0m \u001b[0minitialize_scales\u001b[0m\u001b[0;34m=\u001b[0m\u001b[0;32mTrue\u001b[0m\u001b[0;34m)\u001b[0m\u001b[0;34m\u001b[0m\u001b[0;34m\u001b[0m\u001b[0m\n\u001b[0m\u001b[1;32m   1112\u001b[0m         \u001b[0mself\u001b[0m\u001b[0;34m.\u001b[0m\u001b[0mhistory\u001b[0m \u001b[0;34m=\u001b[0m \u001b[0mhistory\u001b[0m\u001b[0;34m\u001b[0m\u001b[0;34m\u001b[0m\u001b[0m\n\u001b[1;32m   1113\u001b[0m         \u001b[0mself\u001b[0m\u001b[0;34m.\u001b[0m\u001b[0mset_auto_seasonalities\u001b[0m\u001b[0;34m(\u001b[0m\u001b[0;34m)\u001b[0m\u001b[0;34m\u001b[0m\u001b[0;34m\u001b[0m\u001b[0m\n",
            "\u001b[0;32m/usr/local/lib/python3.6/dist-packages/fbprophet/forecaster.py\u001b[0m in \u001b[0;36msetup_dataframe\u001b[0;34m(self, df, initialize_scales)\u001b[0m\n\u001b[1;32m    260\u001b[0m         \u001b[0;32mif\u001b[0m \u001b[0mdf\u001b[0m\u001b[0;34m[\u001b[0m\u001b[0;34m'ds'\u001b[0m\u001b[0;34m]\u001b[0m\u001b[0;34m.\u001b[0m\u001b[0mdtype\u001b[0m \u001b[0;34m==\u001b[0m \u001b[0mnp\u001b[0m\u001b[0;34m.\u001b[0m\u001b[0mint64\u001b[0m\u001b[0;34m:\u001b[0m\u001b[0;34m\u001b[0m\u001b[0;34m\u001b[0m\u001b[0m\n\u001b[1;32m    261\u001b[0m             \u001b[0mdf\u001b[0m\u001b[0;34m[\u001b[0m\u001b[0;34m'ds'\u001b[0m\u001b[0;34m]\u001b[0m \u001b[0;34m=\u001b[0m \u001b[0mdf\u001b[0m\u001b[0;34m[\u001b[0m\u001b[0;34m'ds'\u001b[0m\u001b[0;34m]\u001b[0m\u001b[0;34m.\u001b[0m\u001b[0mastype\u001b[0m\u001b[0;34m(\u001b[0m\u001b[0mstr\u001b[0m\u001b[0;34m)\u001b[0m\u001b[0;34m\u001b[0m\u001b[0;34m\u001b[0m\u001b[0m\n\u001b[0;32m--> 262\u001b[0;31m         \u001b[0mdf\u001b[0m\u001b[0;34m[\u001b[0m\u001b[0;34m'ds'\u001b[0m\u001b[0;34m]\u001b[0m \u001b[0;34m=\u001b[0m \u001b[0mpd\u001b[0m\u001b[0;34m.\u001b[0m\u001b[0mto_datetime\u001b[0m\u001b[0;34m(\u001b[0m\u001b[0mdf\u001b[0m\u001b[0;34m[\u001b[0m\u001b[0;34m'ds'\u001b[0m\u001b[0;34m]\u001b[0m\u001b[0;34m)\u001b[0m\u001b[0;34m\u001b[0m\u001b[0;34m\u001b[0m\u001b[0m\n\u001b[0m\u001b[1;32m    263\u001b[0m         \u001b[0;32mif\u001b[0m \u001b[0mdf\u001b[0m\u001b[0;34m[\u001b[0m\u001b[0;34m'ds'\u001b[0m\u001b[0;34m]\u001b[0m\u001b[0;34m.\u001b[0m\u001b[0mdt\u001b[0m\u001b[0;34m.\u001b[0m\u001b[0mtz\u001b[0m \u001b[0;32mis\u001b[0m \u001b[0;32mnot\u001b[0m \u001b[0;32mNone\u001b[0m\u001b[0;34m:\u001b[0m\u001b[0;34m\u001b[0m\u001b[0;34m\u001b[0m\u001b[0m\n\u001b[1;32m    264\u001b[0m             raise ValueError(\n",
            "\u001b[0;32m/usr/local/lib/python3.6/dist-packages/pandas/core/tools/datetimes.py\u001b[0m in \u001b[0;36mto_datetime\u001b[0;34m(arg, errors, dayfirst, yearfirst, utc, format, exact, unit, infer_datetime_format, origin, cache)\u001b[0m\n\u001b[1;32m    726\u001b[0m             \u001b[0mresult\u001b[0m \u001b[0;34m=\u001b[0m \u001b[0marg\u001b[0m\u001b[0;34m.\u001b[0m\u001b[0mmap\u001b[0m\u001b[0;34m(\u001b[0m\u001b[0mcache_array\u001b[0m\u001b[0;34m)\u001b[0m\u001b[0;34m\u001b[0m\u001b[0;34m\u001b[0m\u001b[0m\n\u001b[1;32m    727\u001b[0m         \u001b[0;32melse\u001b[0m\u001b[0;34m:\u001b[0m\u001b[0;34m\u001b[0m\u001b[0;34m\u001b[0m\u001b[0m\n\u001b[0;32m--> 728\u001b[0;31m             \u001b[0mvalues\u001b[0m \u001b[0;34m=\u001b[0m \u001b[0mconvert_listlike\u001b[0m\u001b[0;34m(\u001b[0m\u001b[0marg\u001b[0m\u001b[0;34m.\u001b[0m\u001b[0m_values\u001b[0m\u001b[0;34m,\u001b[0m \u001b[0mformat\u001b[0m\u001b[0;34m)\u001b[0m\u001b[0;34m\u001b[0m\u001b[0;34m\u001b[0m\u001b[0m\n\u001b[0m\u001b[1;32m    729\u001b[0m             \u001b[0mresult\u001b[0m \u001b[0;34m=\u001b[0m \u001b[0marg\u001b[0m\u001b[0;34m.\u001b[0m\u001b[0m_constructor\u001b[0m\u001b[0;34m(\u001b[0m\u001b[0mvalues\u001b[0m\u001b[0;34m,\u001b[0m \u001b[0mindex\u001b[0m\u001b[0;34m=\u001b[0m\u001b[0marg\u001b[0m\u001b[0;34m.\u001b[0m\u001b[0mindex\u001b[0m\u001b[0;34m,\u001b[0m \u001b[0mname\u001b[0m\u001b[0;34m=\u001b[0m\u001b[0marg\u001b[0m\u001b[0;34m.\u001b[0m\u001b[0mname\u001b[0m\u001b[0;34m)\u001b[0m\u001b[0;34m\u001b[0m\u001b[0;34m\u001b[0m\u001b[0m\n\u001b[1;32m    730\u001b[0m     \u001b[0;32melif\u001b[0m \u001b[0misinstance\u001b[0m\u001b[0;34m(\u001b[0m\u001b[0marg\u001b[0m\u001b[0;34m,\u001b[0m \u001b[0;34m(\u001b[0m\u001b[0mABCDataFrame\u001b[0m\u001b[0;34m,\u001b[0m \u001b[0mabc\u001b[0m\u001b[0;34m.\u001b[0m\u001b[0mMutableMapping\u001b[0m\u001b[0;34m)\u001b[0m\u001b[0;34m)\u001b[0m\u001b[0;34m:\u001b[0m\u001b[0;34m\u001b[0m\u001b[0;34m\u001b[0m\u001b[0m\n",
            "\u001b[0;32m/usr/local/lib/python3.6/dist-packages/pandas/core/tools/datetimes.py\u001b[0m in \u001b[0;36m_convert_listlike_datetimes\u001b[0;34m(arg, format, name, tz, unit, errors, infer_datetime_format, dayfirst, yearfirst, exact)\u001b[0m\n\u001b[1;32m    445\u001b[0m             \u001b[0merrors\u001b[0m\u001b[0;34m=\u001b[0m\u001b[0merrors\u001b[0m\u001b[0;34m,\u001b[0m\u001b[0;34m\u001b[0m\u001b[0;34m\u001b[0m\u001b[0m\n\u001b[1;32m    446\u001b[0m             \u001b[0mrequire_iso8601\u001b[0m\u001b[0;34m=\u001b[0m\u001b[0mrequire_iso8601\u001b[0m\u001b[0;34m,\u001b[0m\u001b[0;34m\u001b[0m\u001b[0;34m\u001b[0m\u001b[0m\n\u001b[0;32m--> 447\u001b[0;31m             \u001b[0mallow_object\u001b[0m\u001b[0;34m=\u001b[0m\u001b[0;32mTrue\u001b[0m\u001b[0;34m,\u001b[0m\u001b[0;34m\u001b[0m\u001b[0;34m\u001b[0m\u001b[0m\n\u001b[0m\u001b[1;32m    448\u001b[0m         )\n\u001b[1;32m    449\u001b[0m \u001b[0;34m\u001b[0m\u001b[0m\n",
            "\u001b[0;32m/usr/local/lib/python3.6/dist-packages/pandas/core/arrays/datetimes.py\u001b[0m in \u001b[0;36mobjects_to_datetime64ns\u001b[0;34m(data, dayfirst, yearfirst, utc, errors, require_iso8601, allow_object)\u001b[0m\n\u001b[1;32m   1861\u001b[0m             \u001b[0;32mreturn\u001b[0m \u001b[0mvalues\u001b[0m\u001b[0;34m.\u001b[0m\u001b[0mview\u001b[0m\u001b[0;34m(\u001b[0m\u001b[0;34m\"i8\"\u001b[0m\u001b[0;34m)\u001b[0m\u001b[0;34m,\u001b[0m \u001b[0mtz_parsed\u001b[0m\u001b[0;34m\u001b[0m\u001b[0;34m\u001b[0m\u001b[0m\n\u001b[1;32m   1862\u001b[0m         \u001b[0;32mexcept\u001b[0m \u001b[0;34m(\u001b[0m\u001b[0mValueError\u001b[0m\u001b[0;34m,\u001b[0m \u001b[0mTypeError\u001b[0m\u001b[0;34m)\u001b[0m\u001b[0;34m:\u001b[0m\u001b[0;34m\u001b[0m\u001b[0;34m\u001b[0m\u001b[0m\n\u001b[0;32m-> 1863\u001b[0;31m             \u001b[0;32mraise\u001b[0m \u001b[0me\u001b[0m\u001b[0;34m\u001b[0m\u001b[0;34m\u001b[0m\u001b[0m\n\u001b[0m\u001b[1;32m   1864\u001b[0m \u001b[0;34m\u001b[0m\u001b[0m\n\u001b[1;32m   1865\u001b[0m     \u001b[0;32mif\u001b[0m \u001b[0mtz_parsed\u001b[0m \u001b[0;32mis\u001b[0m \u001b[0;32mnot\u001b[0m \u001b[0;32mNone\u001b[0m\u001b[0;34m:\u001b[0m\u001b[0;34m\u001b[0m\u001b[0;34m\u001b[0m\u001b[0m\n",
            "\u001b[0;32m/usr/local/lib/python3.6/dist-packages/pandas/core/arrays/datetimes.py\u001b[0m in \u001b[0;36mobjects_to_datetime64ns\u001b[0;34m(data, dayfirst, yearfirst, utc, errors, require_iso8601, allow_object)\u001b[0m\n\u001b[1;32m   1852\u001b[0m             \u001b[0mdayfirst\u001b[0m\u001b[0;34m=\u001b[0m\u001b[0mdayfirst\u001b[0m\u001b[0;34m,\u001b[0m\u001b[0;34m\u001b[0m\u001b[0;34m\u001b[0m\u001b[0m\n\u001b[1;32m   1853\u001b[0m             \u001b[0myearfirst\u001b[0m\u001b[0;34m=\u001b[0m\u001b[0myearfirst\u001b[0m\u001b[0;34m,\u001b[0m\u001b[0;34m\u001b[0m\u001b[0;34m\u001b[0m\u001b[0m\n\u001b[0;32m-> 1854\u001b[0;31m             \u001b[0mrequire_iso8601\u001b[0m\u001b[0;34m=\u001b[0m\u001b[0mrequire_iso8601\u001b[0m\u001b[0;34m,\u001b[0m\u001b[0;34m\u001b[0m\u001b[0;34m\u001b[0m\u001b[0m\n\u001b[0m\u001b[1;32m   1855\u001b[0m         )\n\u001b[1;32m   1856\u001b[0m     \u001b[0;32mexcept\u001b[0m \u001b[0mValueError\u001b[0m \u001b[0;32mas\u001b[0m \u001b[0me\u001b[0m\u001b[0;34m:\u001b[0m\u001b[0;34m\u001b[0m\u001b[0;34m\u001b[0m\u001b[0m\n",
            "\u001b[0;32mpandas/_libs/tslib.pyx\u001b[0m in \u001b[0;36mpandas._libs.tslib.array_to_datetime\u001b[0;34m()\u001b[0m\n",
            "\u001b[0;32mpandas/_libs/tslib.pyx\u001b[0m in \u001b[0;36mpandas._libs.tslib.array_to_datetime\u001b[0;34m()\u001b[0m\n",
            "\u001b[0;32mpandas/_libs/tslib.pyx\u001b[0m in \u001b[0;36mpandas._libs.tslib.array_to_datetime_object\u001b[0;34m()\u001b[0m\n",
            "\u001b[0;32mpandas/_libs/tslib.pyx\u001b[0m in \u001b[0;36mpandas._libs.tslib.array_to_datetime_object\u001b[0;34m()\u001b[0m\n",
            "\u001b[0;32mpandas/_libs/tslibs/parsing.pyx\u001b[0m in \u001b[0;36mpandas._libs.tslibs.parsing.parse_datetime_string\u001b[0;34m()\u001b[0m\n",
            "\u001b[0;31mValueError\u001b[0m: Given date string not likely a datetime."
          ]
        }
      ]
    },
    {
      "cell_type": "code",
      "metadata": {
        "id": "VEsAFGpgW1eb",
        "colab_type": "code",
        "colab": {
          "base_uri": "https://localhost:8080/",
          "height": 590
        },
        "outputId": "e4fbd5f5-6bd6-4565-e18f-3342a8ef98ca"
      },
      "source": [
        "yhat_logistic_prophet_list\n",
        "val=train['2020-06-03':'2020-06-28']"
      ],
      "execution_count": null,
      "outputs": [
        {
          "output_type": "execute_result",
          "data": {
            "text/html": [
              "<div>\n",
              "<style scoped>\n",
              "    .dataframe tbody tr th:only-of-type {\n",
              "        vertical-align: middle;\n",
              "    }\n",
              "\n",
              "    .dataframe tbody tr th {\n",
              "        vertical-align: top;\n",
              "    }\n",
              "\n",
              "    .dataframe thead th {\n",
              "        text-align: right;\n",
              "    }\n",
              "</style>\n",
              "<table border=\"1\" class=\"dataframe\">\n",
              "  <thead>\n",
              "    <tr style=\"text-align: right;\">\n",
              "      <th></th>\n",
              "      <th>ds</th>\n",
              "      <th>trend</th>\n",
              "      <th>cap</th>\n",
              "      <th>floor</th>\n",
              "      <th>yhat_lower</th>\n",
              "      <th>yhat_upper</th>\n",
              "      <th>trend_lower</th>\n",
              "      <th>trend_upper</th>\n",
              "      <th>additive_terms</th>\n",
              "      <th>additive_terms_lower</th>\n",
              "      <th>additive_terms_upper</th>\n",
              "      <th>daily</th>\n",
              "      <th>daily_lower</th>\n",
              "      <th>daily_upper</th>\n",
              "      <th>weekly</th>\n",
              "      <th>weekly_lower</th>\n",
              "      <th>weekly_upper</th>\n",
              "      <th>multiplicative_terms</th>\n",
              "      <th>multiplicative_terms_lower</th>\n",
              "      <th>multiplicative_terms_upper</th>\n",
              "      <th>yhat</th>\n",
              "    </tr>\n",
              "  </thead>\n",
              "  <tbody>\n",
              "    <tr>\n",
              "      <th>0</th>\n",
              "      <td>2018-07-02</td>\n",
              "      <td>35943.982486</td>\n",
              "      <td>43140.0</td>\n",
              "      <td>28760.0</td>\n",
              "      <td>34341.116875</td>\n",
              "      <td>37536.899705</td>\n",
              "      <td>35943.982486</td>\n",
              "      <td>35943.982486</td>\n",
              "      <td>-31.808825</td>\n",
              "      <td>-31.808825</td>\n",
              "      <td>-31.808825</td>\n",
              "      <td>211.425955</td>\n",
              "      <td>211.425955</td>\n",
              "      <td>211.425955</td>\n",
              "      <td>-243.234780</td>\n",
              "      <td>-243.234780</td>\n",
              "      <td>-243.234780</td>\n",
              "      <td>0.0</td>\n",
              "      <td>0.0</td>\n",
              "      <td>0.0</td>\n",
              "      <td>35912.173661</td>\n",
              "    </tr>\n",
              "    <tr>\n",
              "      <th>1</th>\n",
              "      <td>2018-07-03</td>\n",
              "      <td>35942.705043</td>\n",
              "      <td>43140.0</td>\n",
              "      <td>28760.0</td>\n",
              "      <td>34688.470216</td>\n",
              "      <td>37903.913127</td>\n",
              "      <td>35942.705043</td>\n",
              "      <td>35942.705043</td>\n",
              "      <td>373.282492</td>\n",
              "      <td>373.282492</td>\n",
              "      <td>373.282492</td>\n",
              "      <td>211.425955</td>\n",
              "      <td>211.425955</td>\n",
              "      <td>211.425955</td>\n",
              "      <td>161.856537</td>\n",
              "      <td>161.856537</td>\n",
              "      <td>161.856537</td>\n",
              "      <td>0.0</td>\n",
              "      <td>0.0</td>\n",
              "      <td>0.0</td>\n",
              "      <td>36315.987535</td>\n",
              "    </tr>\n",
              "    <tr>\n",
              "      <th>2</th>\n",
              "      <td>2018-07-04</td>\n",
              "      <td>38090.914926</td>\n",
              "      <td>45720.0</td>\n",
              "      <td>30480.0</td>\n",
              "      <td>36581.759105</td>\n",
              "      <td>39786.682550</td>\n",
              "      <td>38090.914926</td>\n",
              "      <td>38090.914926</td>\n",
              "      <td>177.938196</td>\n",
              "      <td>177.938196</td>\n",
              "      <td>177.938196</td>\n",
              "      <td>211.425955</td>\n",
              "      <td>211.425955</td>\n",
              "      <td>211.425955</td>\n",
              "      <td>-33.487759</td>\n",
              "      <td>-33.487759</td>\n",
              "      <td>-33.487759</td>\n",
              "      <td>0.0</td>\n",
              "      <td>0.0</td>\n",
              "      <td>0.0</td>\n",
              "      <td>38268.853122</td>\n",
              "    </tr>\n",
              "    <tr>\n",
              "      <th>3</th>\n",
              "      <td>2018-07-05</td>\n",
              "      <td>37789.643282</td>\n",
              "      <td>45360.0</td>\n",
              "      <td>30240.0</td>\n",
              "      <td>36531.727689</td>\n",
              "      <td>39596.614499</td>\n",
              "      <td>37789.643282</td>\n",
              "      <td>37789.643282</td>\n",
              "      <td>279.878385</td>\n",
              "      <td>279.878385</td>\n",
              "      <td>279.878385</td>\n",
              "      <td>211.425955</td>\n",
              "      <td>211.425955</td>\n",
              "      <td>211.425955</td>\n",
              "      <td>68.452430</td>\n",
              "      <td>68.452430</td>\n",
              "      <td>68.452430</td>\n",
              "      <td>0.0</td>\n",
              "      <td>0.0</td>\n",
              "      <td>0.0</td>\n",
              "      <td>38069.521668</td>\n",
              "    </tr>\n",
              "    <tr>\n",
              "      <th>4</th>\n",
              "      <td>2018-07-06</td>\n",
              "      <td>36838.594149</td>\n",
              "      <td>44220.0</td>\n",
              "      <td>29480.0</td>\n",
              "      <td>35578.567626</td>\n",
              "      <td>38841.614998</td>\n",
              "      <td>36838.594149</td>\n",
              "      <td>36838.594149</td>\n",
              "      <td>310.696017</td>\n",
              "      <td>310.696017</td>\n",
              "      <td>310.696017</td>\n",
              "      <td>211.425955</td>\n",
              "      <td>211.425955</td>\n",
              "      <td>211.425955</td>\n",
              "      <td>99.270062</td>\n",
              "      <td>99.270062</td>\n",
              "      <td>99.270062</td>\n",
              "      <td>0.0</td>\n",
              "      <td>0.0</td>\n",
              "      <td>0.0</td>\n",
              "      <td>37149.290166</td>\n",
              "    </tr>\n",
              "    <tr>\n",
              "      <th>...</th>\n",
              "      <td>...</td>\n",
              "      <td>...</td>\n",
              "      <td>...</td>\n",
              "      <td>...</td>\n",
              "      <td>...</td>\n",
              "      <td>...</td>\n",
              "      <td>...</td>\n",
              "      <td>...</td>\n",
              "      <td>...</td>\n",
              "      <td>...</td>\n",
              "      <td>...</td>\n",
              "      <td>...</td>\n",
              "      <td>...</td>\n",
              "      <td>...</td>\n",
              "      <td>...</td>\n",
              "      <td>...</td>\n",
              "      <td>...</td>\n",
              "      <td>...</td>\n",
              "      <td>...</td>\n",
              "      <td>...</td>\n",
              "      <td>...</td>\n",
              "    </tr>\n",
              "    <tr>\n",
              "      <th>242</th>\n",
              "      <td>2019-06-27</td>\n",
              "      <td>28032.148702</td>\n",
              "      <td>34080.0</td>\n",
              "      <td>22720.0</td>\n",
              "      <td>26662.185117</td>\n",
              "      <td>29872.789232</td>\n",
              "      <td>28032.148702</td>\n",
              "      <td>28032.148702</td>\n",
              "      <td>279.878385</td>\n",
              "      <td>279.878385</td>\n",
              "      <td>279.878385</td>\n",
              "      <td>211.425955</td>\n",
              "      <td>211.425955</td>\n",
              "      <td>211.425955</td>\n",
              "      <td>68.452430</td>\n",
              "      <td>68.452430</td>\n",
              "      <td>68.452430</td>\n",
              "      <td>0.0</td>\n",
              "      <td>0.0</td>\n",
              "      <td>0.0</td>\n",
              "      <td>28312.027087</td>\n",
              "    </tr>\n",
              "    <tr>\n",
              "      <th>243</th>\n",
              "      <td>2019-06-28</td>\n",
              "      <td>28771.400762</td>\n",
              "      <td>34980.0</td>\n",
              "      <td>23320.0</td>\n",
              "      <td>27515.913554</td>\n",
              "      <td>30585.105369</td>\n",
              "      <td>28771.400762</td>\n",
              "      <td>28771.400762</td>\n",
              "      <td>310.696017</td>\n",
              "      <td>310.696017</td>\n",
              "      <td>310.696017</td>\n",
              "      <td>211.425955</td>\n",
              "      <td>211.425955</td>\n",
              "      <td>211.425955</td>\n",
              "      <td>99.270062</td>\n",
              "      <td>99.270062</td>\n",
              "      <td>99.270062</td>\n",
              "      <td>0.0</td>\n",
              "      <td>0.0</td>\n",
              "      <td>0.0</td>\n",
              "      <td>29082.096780</td>\n",
              "    </tr>\n",
              "    <tr>\n",
              "      <th>244</th>\n",
              "      <td>2019-07-01</td>\n",
              "      <td>28570.919102</td>\n",
              "      <td>34740.0</td>\n",
              "      <td>23160.0</td>\n",
              "      <td>26977.399595</td>\n",
              "      <td>30058.568776</td>\n",
              "      <td>28570.919102</td>\n",
              "      <td>28570.919102</td>\n",
              "      <td>-31.808825</td>\n",
              "      <td>-31.808825</td>\n",
              "      <td>-31.808825</td>\n",
              "      <td>211.425955</td>\n",
              "      <td>211.425955</td>\n",
              "      <td>211.425955</td>\n",
              "      <td>-243.234780</td>\n",
              "      <td>-243.234780</td>\n",
              "      <td>-243.234780</td>\n",
              "      <td>0.0</td>\n",
              "      <td>0.0</td>\n",
              "      <td>0.0</td>\n",
              "      <td>28539.110277</td>\n",
              "    </tr>\n",
              "    <tr>\n",
              "      <th>245</th>\n",
              "      <td>2019-07-02</td>\n",
              "      <td>28125.801134</td>\n",
              "      <td>34200.0</td>\n",
              "      <td>22800.0</td>\n",
              "      <td>26946.617337</td>\n",
              "      <td>30002.825508</td>\n",
              "      <td>28125.801134</td>\n",
              "      <td>28125.801134</td>\n",
              "      <td>373.282492</td>\n",
              "      <td>373.282492</td>\n",
              "      <td>373.282492</td>\n",
              "      <td>211.425955</td>\n",
              "      <td>211.425955</td>\n",
              "      <td>211.425955</td>\n",
              "      <td>161.856537</td>\n",
              "      <td>161.856537</td>\n",
              "      <td>161.856537</td>\n",
              "      <td>0.0</td>\n",
              "      <td>0.0</td>\n",
              "      <td>0.0</td>\n",
              "      <td>28499.083626</td>\n",
              "    </tr>\n",
              "    <tr>\n",
              "      <th>246</th>\n",
              "      <td>2019-07-03</td>\n",
              "      <td>NaN</td>\n",
              "      <td>NaN</td>\n",
              "      <td>NaN</td>\n",
              "      <td>NaN</td>\n",
              "      <td>NaN</td>\n",
              "      <td>NaN</td>\n",
              "      <td>NaN</td>\n",
              "      <td>177.938196</td>\n",
              "      <td>177.938196</td>\n",
              "      <td>177.938196</td>\n",
              "      <td>211.425955</td>\n",
              "      <td>211.425955</td>\n",
              "      <td>211.425955</td>\n",
              "      <td>-33.487759</td>\n",
              "      <td>-33.487759</td>\n",
              "      <td>-33.487759</td>\n",
              "      <td>0.0</td>\n",
              "      <td>0.0</td>\n",
              "      <td>0.0</td>\n",
              "      <td>NaN</td>\n",
              "    </tr>\n",
              "  </tbody>\n",
              "</table>\n",
              "<p>247 rows × 21 columns</p>\n",
              "</div>"
            ],
            "text/plain": [
              "            ds         trend  ...  multiplicative_terms_upper          yhat\n",
              "0   2018-07-02  35943.982486  ...                         0.0  35912.173661\n",
              "1   2018-07-03  35942.705043  ...                         0.0  36315.987535\n",
              "2   2018-07-04  38090.914926  ...                         0.0  38268.853122\n",
              "3   2018-07-05  37789.643282  ...                         0.0  38069.521668\n",
              "4   2018-07-06  36838.594149  ...                         0.0  37149.290166\n",
              "..         ...           ...  ...                         ...           ...\n",
              "242 2019-06-27  28032.148702  ...                         0.0  28312.027087\n",
              "243 2019-06-28  28771.400762  ...                         0.0  29082.096780\n",
              "244 2019-07-01  28570.919102  ...                         0.0  28539.110277\n",
              "245 2019-07-02  28125.801134  ...                         0.0  28499.083626\n",
              "246 2019-07-03           NaN  ...                         0.0           NaN\n",
              "\n",
              "[247 rows x 21 columns]"
            ]
          },
          "metadata": {
            "tags": []
          },
          "execution_count": 16
        }
      ]
    },
    {
      "cell_type": "code",
      "metadata": {
        "id": "ZbfGomOmNu02",
        "colab_type": "code",
        "colab": {}
      },
      "source": [
        "from tqdm import tqdm_notebook as tqdm\n",
        "from time import sleep \n",
        "\n",
        "yhat_logistic_prophet_list=[]\n",
        "\n",
        "\n",
        "for i in range(0, 6):\n",
        "  prophet_series = train     \n",
        "                                         # One-Forecast방식으로 모델을 업데이트 (맨 위의 셀 URL참고)\n",
        "  \n",
        "  cp_sub=[]\n",
        "  for i in prophet_series['ds']:\n",
        "    i=i.strftime(\"%Y-%m-%d\")\n",
        "    if i in cp:\n",
        "      cp_sub.append(i)\n",
        "  \n",
        "  cp_sub=list(set(cp_sub))\n",
        "  #prophet_series = pd.DataFrame([data.index, data['gold_price']]).T\n",
        "  #prophet_series.columns = ['ds','y']\n",
        "  prophet_model = Prophet(growth = 'logistic', daily_seasonality = True,\n",
        "                          changepoints=cp_sub,\n",
        "                          changepoint_prior_scale=0.2,\n",
        "                          )\n",
        "  \n",
        "  prophet_series['cap'] = prophet_series['y'].shift() * 1.2     # 데이터의 상한을 직전날 종가의 ±30% 이상은 변동하지 않도록 제한\n",
        "  prophet_series['floor'] = prophet_series['y'].shift() * 0.8   # 데이터의 하한을 직전날 종가의 ±30% 이상은 변동하지 않도록 제한\n",
        "  prophet_series.fillna(method='bfill', inplace=True)\n",
        "  \n",
        "  prophet_model.fit(prophet_series)\n",
        "  future =  prophet_model.make_future_dataframe(periods=1)\n",
        "  future['cap'] = prophet_series['cap'].append(pd.Series(prophet_series['y'].values[-1]*1.2),ignore_index=True)\n",
        "  future['floor'] = prophet_series['floor'].append(pd.Series(prophet_series['y'].values[-1]*0.8),ignore_index=True)\n",
        "  future.fillna(method='bfill', inplace=True)\n",
        "  \n",
        "  \n",
        "  prophet_forecast = prophet_model.predict(future[-1:])['yhat'].item()\n",
        "  #print(prophet_series[-1] ,prophet_forecast)\n",
        "  yhat_logistic_prophet_list.append(prophet_forecast)  "
      ],
      "execution_count": null,
      "outputs": []
    },
    {
      "cell_type": "code",
      "metadata": {
        "id": "bWz_k0SCejC1",
        "colab_type": "code",
        "colab": {
          "base_uri": "https://localhost:8080/",
          "height": 1000,
          "referenced_widgets": [
            "12af5781ffb14be081ff14c5b3b94535",
            "d8c9d7b031034057997aabaa53af92b9",
            "923080c944ec4398970bf750ecfd0d7e",
            "c169327e703744ccabba5e0434bf1653",
            "c57d71c26257485997e20868b6b4da6c",
            "53571d662a3d493aac9d6340fed841f5",
            "66e35f0a2ef042e88e4f88462afa42e1",
            "32f5c2adc3c7412fb4f06c948f188055"
          ]
        },
        "outputId": "e4f38dc3-6817-42c0-fcc6-b7304cdb0bcc"
      },
      "source": [
        "from tqdm import tqdm_notebook as tqdm\n",
        "from time import sleep \n",
        "\n",
        "yhat_logistic_prophet_list=[]\n",
        "for i in tqdm(range(start, end),desc='tqdm'):\n",
        "  sleep(0.5)\n",
        "  prophet_series = train[0:i+training_period+n_steps]     \n",
        "                                         # One-Forecast방식으로 모델을 업데이트 (맨 위의 셀 URL참고)\n",
        "\n",
        "  cp_sub=[]\n",
        "  for i in prophet_series['ds']:\n",
        "    i=i.strftime(\"%Y-%m-%d\")\n",
        "    if i in cp:\n",
        "      cp_sub.append(i)\n",
        "  \n",
        "  cp_sub=list(set(cp_sub))\n",
        "  #prophet_series = pd.DataFrame([data.index, data['gold_price']]).T\n",
        "  #prophet_series.columns = ['ds','y']\n",
        "  prophet_model = Prophet(growth = 'logistic', daily_seasonality = True,\n",
        "                          changepoints=cp_sub,\n",
        "                          changepoint_prior_scale=0.2,\n",
        "                          )\n",
        "  \n",
        "  prophet_series['cap'] = prophet_series['y'].shift() * 1.2     # 데이터의 상한을 직전날 종가의 ±30% 이상은 변동하지 않도록 제한\n",
        "  prophet_series['floor'] = prophet_series['y'].shift() * 0.8   # 데이터의 하한을 직전날 종가의 ±30% 이상은 변동하지 않도록 제한\n",
        "  prophet_series.fillna(method='bfill', inplace=True)\n",
        "  \n",
        "  prophet_model.fit(prophet_series)\n",
        "  future =  prophet_model.make_future_dataframe(periods=1)\n",
        "  future['cap'] = prophet_series['cap'].append(pd.Series(prophet_series['y'].values[-1]*1.2),ignore_index=True)\n",
        "  future['floor'] = prophet_series['floor'].append(pd.Series(prophet_series['y'].values[-1]*0.8),ignore_index=True)\n",
        "  future.fillna(method='bfill', inplace=True)\n",
        "  \n",
        "  \n",
        "  prophet_forecast = prophet_model.predict(future[-1:])['yhat'].item()\n",
        "  #print(prophet_series[-1] ,prophet_forecast)\n",
        "  yhat_logistic_prophet_list.append(prophet_forecast)  "
      ],
      "execution_count": null,
      "outputs": [
        {
          "output_type": "display_data",
          "data": {
            "application/vnd.jupyter.widget-view+json": {
              "model_id": "12af5781ffb14be081ff14c5b3b94535",
              "version_minor": 0,
              "version_major": 2
            },
            "text/plain": [
              "HBox(children=(FloatProgress(value=0.0, description='tqdm', max=20.0, style=ProgressStyle(description_width='i…"
            ]
          },
          "metadata": {
            "tags": []
          }
        },
        {
          "output_type": "stream",
          "text": [
            "INFO:fbprophet:Disabling yearly seasonality. Run prophet with yearly_seasonality=True to override this.\n",
            "WARNING:fbprophet.models:Optimization terminated abnormally. Falling back to Newton.\n"
          ],
          "name": "stderr"
        },
        {
          "output_type": "stream",
          "text": [
            "30485.33500421772\n"
          ],
          "name": "stdout"
        },
        {
          "output_type": "stream",
          "text": [
            "INFO:fbprophet:Disabling yearly seasonality. Run prophet with yearly_seasonality=True to override this.\n",
            "WARNING:fbprophet.models:Optimization terminated abnormally. Falling back to Newton.\n"
          ],
          "name": "stderr"
        },
        {
          "output_type": "stream",
          "text": [
            "32126.479587743936\n"
          ],
          "name": "stdout"
        },
        {
          "output_type": "stream",
          "text": [
            "INFO:fbprophet:Disabling yearly seasonality. Run prophet with yearly_seasonality=True to override this.\n",
            "WARNING:fbprophet.models:Optimization terminated abnormally. Falling back to Newton.\n"
          ],
          "name": "stderr"
        },
        {
          "output_type": "stream",
          "text": [
            "33724.06117433326\n"
          ],
          "name": "stdout"
        },
        {
          "output_type": "stream",
          "text": [
            "INFO:fbprophet:Disabling yearly seasonality. Run prophet with yearly_seasonality=True to override this.\n",
            "WARNING:fbprophet.models:Optimization terminated abnormally. Falling back to Newton.\n"
          ],
          "name": "stderr"
        },
        {
          "output_type": "stream",
          "text": [
            "32039.599865560573\n"
          ],
          "name": "stdout"
        },
        {
          "output_type": "stream",
          "text": [
            "INFO:fbprophet:Disabling yearly seasonality. Run prophet with yearly_seasonality=True to override this.\n",
            "WARNING:fbprophet.models:Optimization terminated abnormally. Falling back to Newton.\n"
          ],
          "name": "stderr"
        },
        {
          "output_type": "stream",
          "text": [
            "32070.399724046518\n"
          ],
          "name": "stdout"
        },
        {
          "output_type": "stream",
          "text": [
            "INFO:fbprophet:Disabling yearly seasonality. Run prophet with yearly_seasonality=True to override this.\n",
            "WARNING:fbprophet.models:Optimization terminated abnormally. Falling back to Newton.\n"
          ],
          "name": "stderr"
        },
        {
          "output_type": "stream",
          "text": [
            "32883.75338924915\n"
          ],
          "name": "stdout"
        },
        {
          "output_type": "stream",
          "text": [
            "INFO:fbprophet:Disabling yearly seasonality. Run prophet with yearly_seasonality=True to override this.\n",
            "WARNING:fbprophet.models:Optimization terminated abnormally. Falling back to Newton.\n"
          ],
          "name": "stderr"
        },
        {
          "output_type": "stream",
          "text": [
            "33302.129473937\n"
          ],
          "name": "stdout"
        },
        {
          "output_type": "stream",
          "text": [
            "INFO:fbprophet:Disabling yearly seasonality. Run prophet with yearly_seasonality=True to override this.\n",
            "WARNING:fbprophet.models:Optimization terminated abnormally. Falling back to Newton.\n"
          ],
          "name": "stderr"
        },
        {
          "output_type": "stream",
          "text": [
            "32080.058250289298\n"
          ],
          "name": "stdout"
        },
        {
          "output_type": "stream",
          "text": [
            "INFO:fbprophet:Disabling yearly seasonality. Run prophet with yearly_seasonality=True to override this.\n",
            "WARNING:fbprophet.models:Optimization terminated abnormally. Falling back to Newton.\n"
          ],
          "name": "stderr"
        },
        {
          "output_type": "stream",
          "text": [
            "31477.34558881404\n"
          ],
          "name": "stdout"
        },
        {
          "output_type": "stream",
          "text": [
            "INFO:fbprophet:Disabling yearly seasonality. Run prophet with yearly_seasonality=True to override this.\n",
            "WARNING:fbprophet.models:Optimization terminated abnormally. Falling back to Newton.\n"
          ],
          "name": "stderr"
        },
        {
          "output_type": "stream",
          "text": [
            "29398.80295741858\n"
          ],
          "name": "stdout"
        },
        {
          "output_type": "stream",
          "text": [
            "INFO:fbprophet:Disabling yearly seasonality. Run prophet with yearly_seasonality=True to override this.\n",
            "WARNING:fbprophet.models:Optimization terminated abnormally. Falling back to Newton.\n"
          ],
          "name": "stderr"
        },
        {
          "output_type": "stream",
          "text": [
            "29231.35449405685\n"
          ],
          "name": "stdout"
        },
        {
          "output_type": "stream",
          "text": [
            "INFO:fbprophet:Disabling yearly seasonality. Run prophet with yearly_seasonality=True to override this.\n",
            "WARNING:fbprophet.models:Optimization terminated abnormally. Falling back to Newton.\n"
          ],
          "name": "stderr"
        },
        {
          "output_type": "stream",
          "text": [
            "28385.96719836076\n"
          ],
          "name": "stdout"
        },
        {
          "output_type": "stream",
          "text": [
            "INFO:fbprophet:Disabling yearly seasonality. Run prophet with yearly_seasonality=True to override this.\n",
            "WARNING:fbprophet.models:Optimization terminated abnormally. Falling back to Newton.\n"
          ],
          "name": "stderr"
        },
        {
          "output_type": "stream",
          "text": [
            "29167.01360832127\n"
          ],
          "name": "stdout"
        },
        {
          "output_type": "stream",
          "text": [
            "INFO:fbprophet:Disabling yearly seasonality. Run prophet with yearly_seasonality=True to override this.\n",
            "WARNING:fbprophet.models:Optimization terminated abnormally. Falling back to Newton.\n"
          ],
          "name": "stderr"
        },
        {
          "output_type": "stream",
          "text": [
            "29613.052195680804\n"
          ],
          "name": "stdout"
        },
        {
          "output_type": "stream",
          "text": [
            "INFO:fbprophet:Disabling yearly seasonality. Run prophet with yearly_seasonality=True to override this.\n",
            "WARNING:fbprophet.models:Optimization terminated abnormally. Falling back to Newton.\n"
          ],
          "name": "stderr"
        },
        {
          "output_type": "stream",
          "text": [
            "29091.329114558754\n"
          ],
          "name": "stdout"
        },
        {
          "output_type": "stream",
          "text": [
            "INFO:fbprophet:Disabling yearly seasonality. Run prophet with yearly_seasonality=True to override this.\n",
            "WARNING:fbprophet.models:Optimization terminated abnormally. Falling back to Newton.\n"
          ],
          "name": "stderr"
        },
        {
          "output_type": "stream",
          "text": [
            "28506.964090194346\n"
          ],
          "name": "stdout"
        },
        {
          "output_type": "stream",
          "text": [
            "INFO:fbprophet:Disabling yearly seasonality. Run prophet with yearly_seasonality=True to override this.\n",
            "WARNING:fbprophet.models:Optimization terminated abnormally. Falling back to Newton.\n"
          ],
          "name": "stderr"
        },
        {
          "output_type": "stream",
          "text": [
            "28823.729863827022\n"
          ],
          "name": "stdout"
        },
        {
          "output_type": "stream",
          "text": [
            "INFO:fbprophet:Disabling yearly seasonality. Run prophet with yearly_seasonality=True to override this.\n",
            "WARNING:fbprophet.models:Optimization terminated abnormally. Falling back to Newton.\n"
          ],
          "name": "stderr"
        },
        {
          "output_type": "stream",
          "text": [
            "28564.349923501115\n"
          ],
          "name": "stdout"
        },
        {
          "output_type": "stream",
          "text": [
            "INFO:fbprophet:Disabling yearly seasonality. Run prophet with yearly_seasonality=True to override this.\n",
            "WARNING:fbprophet.models:Optimization terminated abnormally. Falling back to Newton.\n"
          ],
          "name": "stderr"
        },
        {
          "output_type": "stream",
          "text": [
            "29341.649598901255\n"
          ],
          "name": "stdout"
        },
        {
          "output_type": "stream",
          "text": [
            "INFO:fbprophet:Disabling yearly seasonality. Run prophet with yearly_seasonality=True to override this.\n",
            "WARNING:fbprophet.models:Optimization terminated abnormally. Falling back to Newton.\n"
          ],
          "name": "stderr"
        },
        {
          "output_type": "stream",
          "text": [
            "28833.41730129556\n",
            "\n"
          ],
          "name": "stdout"
        }
      ]
    },
    {
      "cell_type": "code",
      "metadata": {
        "id": "8K5GKAa4z9Rx",
        "colab_type": "code",
        "colab": {
          "base_uri": "https://localhost:8080/",
          "height": 90
        },
        "outputId": "e014364a-485d-4b34-a0f0-c047a6c9b750"
      },
      "source": [
        "print(yhat_logistic_prophet_list)\n",
        "print(len(yhat_logistic_prophet_list)) # validation=20이므로 20\n",
        "print(validation_size)\n"
      ],
      "execution_count": null,
      "outputs": [
        {
          "output_type": "stream",
          "text": [
            "[30485.33500421772, 32126.479587743936, 33724.06117433326, 32039.599865560573, 32070.399724046518, 32883.75338924915, 33302.129473937, 32080.058250289298, 31477.34558881404, 29398.80295741858, 29231.35449405685, 28385.96719836076, 29167.01360832127, 29613.052195680804, 29091.329114558754, 28506.964090194346, 28823.729863827022, 28564.349923501115, 29341.649598901255, 28833.41730129556]\n",
            "20\n",
            "20\n"
          ],
          "name": "stdout"
        }
      ]
    },
    {
      "cell_type": "code",
      "metadata": {
        "id": "Gcx6k9Sa0JN9",
        "colab_type": "code",
        "colab": {
          "base_uri": "https://localhost:8080/",
          "height": 169
        },
        "outputId": "983056d1-c646-4772-a0eb-83cb0379b5db"
      },
      "source": [
        ""
      ],
      "execution_count": null,
      "outputs": [
        {
          "output_type": "error",
          "ename": "AttributeError",
          "evalue": "ignored",
          "traceback": [
            "\u001b[0;31m---------------------------------------------------------------------------\u001b[0m",
            "\u001b[0;31mAttributeError\u001b[0m                            Traceback (most recent call last)",
            "\u001b[0;32m<ipython-input-51-2501fd689eec>\u001b[0m in \u001b[0;36m<module>\u001b[0;34m()\u001b[0m\n\u001b[0;32m----> 1\u001b[0;31m \u001b[0myhat_logistic_prophet_list\u001b[0m\u001b[0;34m.\u001b[0m\u001b[0mplot\u001b[0m\u001b[0;34m(\u001b[0m\u001b[0;34m)\u001b[0m\u001b[0;34m\u001b[0m\u001b[0;34m\u001b[0m\u001b[0m\n\u001b[0m",
            "\u001b[0;31mAttributeError\u001b[0m: 'list' object has no attribute 'plot'"
          ]
        }
      ]
    },
    {
      "cell_type": "code",
      "metadata": {
        "id": "xID1IQyqtGrv",
        "colab_type": "code",
        "colab": {
          "base_uri": "https://localhost:8080/",
          "height": 698
        },
        "outputId": "7150e5b2-7d30-45c2-e0e9-fd7af9dba78e"
      },
      "source": [
        "prophet_series = train[0:0+training_period+n_steps]\n",
        "prophet_series"
      ],
      "execution_count": null,
      "outputs": [
        {
          "output_type": "execute_result",
          "data": {
            "text/html": [
              "<div>\n",
              "<style scoped>\n",
              "    .dataframe tbody tr th:only-of-type {\n",
              "        vertical-align: middle;\n",
              "    }\n",
              "\n",
              "    .dataframe tbody tr th {\n",
              "        vertical-align: top;\n",
              "    }\n",
              "\n",
              "    .dataframe thead th {\n",
              "        text-align: right;\n",
              "    }\n",
              "</style>\n",
              "<table border=\"1\" class=\"dataframe\">\n",
              "  <thead>\n",
              "    <tr style=\"text-align: right;\">\n",
              "      <th></th>\n",
              "      <th>ds</th>\n",
              "      <th>y</th>\n",
              "    </tr>\n",
              "  </thead>\n",
              "  <tbody>\n",
              "    <tr>\n",
              "      <th>0</th>\n",
              "      <td>2018-07-02</td>\n",
              "      <td>35950</td>\n",
              "    </tr>\n",
              "    <tr>\n",
              "      <th>1</th>\n",
              "      <td>2018-07-03</td>\n",
              "      <td>38100</td>\n",
              "    </tr>\n",
              "    <tr>\n",
              "      <th>2</th>\n",
              "      <td>2018-07-04</td>\n",
              "      <td>37800</td>\n",
              "    </tr>\n",
              "    <tr>\n",
              "      <th>3</th>\n",
              "      <td>2018-07-05</td>\n",
              "      <td>36850</td>\n",
              "    </tr>\n",
              "    <tr>\n",
              "      <th>4</th>\n",
              "      <td>2018-07-06</td>\n",
              "      <td>37450</td>\n",
              "    </tr>\n",
              "    <tr>\n",
              "      <th>5</th>\n",
              "      <td>2018-07-09</td>\n",
              "      <td>39750</td>\n",
              "    </tr>\n",
              "    <tr>\n",
              "      <th>6</th>\n",
              "      <td>2018-07-10</td>\n",
              "      <td>39100</td>\n",
              "    </tr>\n",
              "    <tr>\n",
              "      <th>7</th>\n",
              "      <td>2018-07-11</td>\n",
              "      <td>38750</td>\n",
              "    </tr>\n",
              "    <tr>\n",
              "      <th>8</th>\n",
              "      <td>2018-07-12</td>\n",
              "      <td>40450</td>\n",
              "    </tr>\n",
              "    <tr>\n",
              "      <th>9</th>\n",
              "      <td>2018-07-13</td>\n",
              "      <td>41350</td>\n",
              "    </tr>\n",
              "    <tr>\n",
              "      <th>10</th>\n",
              "      <td>2018-07-16</td>\n",
              "      <td>41750</td>\n",
              "    </tr>\n",
              "    <tr>\n",
              "      <th>11</th>\n",
              "      <td>2018-07-17</td>\n",
              "      <td>39100</td>\n",
              "    </tr>\n",
              "    <tr>\n",
              "      <th>12</th>\n",
              "      <td>2018-07-18</td>\n",
              "      <td>37850</td>\n",
              "    </tr>\n",
              "    <tr>\n",
              "      <th>13</th>\n",
              "      <td>2018-07-19</td>\n",
              "      <td>37100</td>\n",
              "    </tr>\n",
              "    <tr>\n",
              "      <th>14</th>\n",
              "      <td>2018-07-20</td>\n",
              "      <td>37150</td>\n",
              "    </tr>\n",
              "    <tr>\n",
              "      <th>15</th>\n",
              "      <td>2018-07-23</td>\n",
              "      <td>35400</td>\n",
              "    </tr>\n",
              "    <tr>\n",
              "      <th>16</th>\n",
              "      <td>2018-07-24</td>\n",
              "      <td>35400</td>\n",
              "    </tr>\n",
              "    <tr>\n",
              "      <th>17</th>\n",
              "      <td>2018-07-25</td>\n",
              "      <td>35050</td>\n",
              "    </tr>\n",
              "    <tr>\n",
              "      <th>18</th>\n",
              "      <td>2018-07-26</td>\n",
              "      <td>36600</td>\n",
              "    </tr>\n",
              "    <tr>\n",
              "      <th>19</th>\n",
              "      <td>2018-07-27</td>\n",
              "      <td>35950</td>\n",
              "    </tr>\n",
              "    <tr>\n",
              "      <th>20</th>\n",
              "      <td>2018-07-30</td>\n",
              "      <td>34000</td>\n",
              "    </tr>\n",
              "    <tr>\n",
              "      <th>21</th>\n",
              "      <td>2018-07-31</td>\n",
              "      <td>33300</td>\n",
              "    </tr>\n",
              "  </tbody>\n",
              "</table>\n",
              "</div>"
            ],
            "text/plain": [
              "           ds      y\n",
              "0  2018-07-02  35950\n",
              "1  2018-07-03  38100\n",
              "2  2018-07-04  37800\n",
              "3  2018-07-05  36850\n",
              "4  2018-07-06  37450\n",
              "5  2018-07-09  39750\n",
              "6  2018-07-10  39100\n",
              "7  2018-07-11  38750\n",
              "8  2018-07-12  40450\n",
              "9  2018-07-13  41350\n",
              "10 2018-07-16  41750\n",
              "11 2018-07-17  39100\n",
              "12 2018-07-18  37850\n",
              "13 2018-07-19  37100\n",
              "14 2018-07-20  37150\n",
              "15 2018-07-23  35400\n",
              "16 2018-07-24  35400\n",
              "17 2018-07-25  35050\n",
              "18 2018-07-26  36600\n",
              "19 2018-07-27  35950\n",
              "20 2018-07-30  34000\n",
              "21 2018-07-31  33300"
            ]
          },
          "metadata": {
            "tags": []
          },
          "execution_count": 45
        }
      ]
    },
    {
      "cell_type": "code",
      "metadata": {
        "id": "l20lezxfscII",
        "colab_type": "code",
        "colab": {}
      },
      "source": [
        "from tqdm import tqdm_notebook as tqdm\n",
        "from time import sleep \n",
        "\n",
        "yhat_logistic_prophet_list=[]\n",
        "for i in tqdm(range(start, end),desc='tqdm'):\n",
        "  sleep(0.5)\n",
        "  prophet_series = train[0:i+training_period+n_steps]     \n",
        "                                         # One-Forecast방식으로 모델을 업데이트 (맨 위의 셀 URL참고)\n",
        "  prophet_series['cap'] = prophet_series['y'].shift() * 1.2     # 데이터의 상한을 직전날 종가의 ±30% 이상은 변동하지 않도록 제한\n",
        "  prophet_series['floor'] = prophet_series['y'].shift() * 0.8   # 데이터의 하한을 직전날 종가의 ±30% 이상은 변동하지 않도록 제한\n",
        "  prophet_series.fillna(method='bfill', inplace=True)\n",
        "\n",
        "  print(prophet_series[-1])\n",
        "  prophet_model.fit(prophet_series)\n",
        "  future =  prophet_model.make_future_dataframe(periods=1)\n",
        "  future['cap'] = prophet_series['cap'].append(pd.Series(prophet_series['y'].values[-1]*1.2),ignore_index=True)\n",
        "  future['floor'] = prophet_series['floor'].append(pd.Series(prophet_series['y'].values[-1]*0.8),ignore_index=True)\n",
        "  future.fillna(method='bfill', inplace=True)\n",
        "\n",
        "  \n",
        "  prophet_forecast = prophet_model.predict(future[-1:])['yhat'].item()\n",
        "  print(prophet_forecast,)\n",
        "  yhat_logistic_prophet_list.append(prophet_forecast)  "
      ],
      "execution_count": null,
      "outputs": []
    },
    {
      "cell_type": "code",
      "metadata": {
        "id": "PoakYxP-lFPZ",
        "colab_type": "code",
        "colab": {
          "base_uri": "https://localhost:8080/",
          "height": 169
        },
        "outputId": "bbcd640a-1728-4d66-9f5b-2eea3d0f4483"
      },
      "source": [
        ""
      ],
      "execution_count": null,
      "outputs": [
        {
          "output_type": "error",
          "ename": "NameError",
          "evalue": "ignored",
          "traceback": [
            "\u001b[0;31m---------------------------------------------------------------------------\u001b[0m",
            "\u001b[0;31mNameError\u001b[0m                                 Traceback (most recent call last)",
            "\u001b[0;32m<ipython-input-46-b6dd45e8ec0a>\u001b[0m in \u001b[0;36m<module>\u001b[0;34m()\u001b[0m\n\u001b[0;32m----> 1\u001b[0;31m \u001b[0myhat_logistic_prophet\u001b[0m\u001b[0;34m\u001b[0m\u001b[0;34m\u001b[0m\u001b[0m\n\u001b[0m",
            "\u001b[0;31mNameError\u001b[0m: name 'yhat_logistic_prophet' is not defined"
          ]
        }
      ]
    },
    {
      "cell_type": "code",
      "metadata": {
        "id": "R-r1HbNG6MhJ",
        "colab_type": "code",
        "colab": {
          "base_uri": "https://localhost:8080/",
          "height": 52
        },
        "outputId": "671e5b76-cab5-4d48-936d-357c14447372"
      },
      "source": [
        "print(len(yhat_logistic_prophet_list))  # 80개\n",
        "\n",
        "print(len(test))                        # 80개\n"
      ],
      "execution_count": null,
      "outputs": [
        {
          "output_type": "stream",
          "text": [
            "20\n",
            "43\n"
          ],
          "name": "stdout"
        }
      ]
    },
    {
      "cell_type": "code",
      "metadata": {
        "id": "mXmcRHdUiEda",
        "colab_type": "code",
        "colab": {
          "base_uri": "https://localhost:8080/",
          "height": 302
        },
        "outputId": "42fcb505-e39b-418d-a301-a57931a9ae69"
      },
      "source": [
        "pred_1month=pd.DataFrame(yhat_logistic_prophet_list,index=test.index)\n",
        "pred_1month.columns=['y']\n",
        "pred_1month.plot()"
      ],
      "execution_count": null,
      "outputs": [
        {
          "output_type": "execute_result",
          "data": {
            "text/plain": [
              "<matplotlib.axes._subplots.AxesSubplot at 0x7f8f7c51ab00>"
            ]
          },
          "metadata": {
            "tags": []
          },
          "execution_count": 22
        },
        {
          "output_type": "display_data",
          "data": {
            "image/png": "[encoded data removed]",
            "text/plain": [
              "<Figure size 432x288 with 1 Axes>"
            ]
          },
          "metadata": {
            "tags": [],
            "needs_background": "light"
          }
        }
      ]
    },
    {
      "cell_type": "code",
      "metadata": {
        "id": "EmKz6dVF6f40",
        "colab_type": "code",
        "colab": {
          "base_uri": "https://localhost:8080/",
          "height": 302
        },
        "outputId": "46ae47c9-a82a-4d91-9aca-f8a86164173f"
      },
      "source": [
        "test.plot()"
      ],
      "execution_count": null,
      "outputs": [
        {
          "output_type": "execute_result",
          "data": {
            "text/plain": [
              "<matplotlib.axes._subplots.AxesSubplot at 0x7f8f788aa0f0>"
            ]
          },
          "metadata": {
            "tags": []
          },
          "execution_count": 23
        },
        {
          "output_type": "display_data",
          "data": {
            "image/png": "[encoded data removed]",
            "text/plain": [
              "<Figure size 432x288 with 1 Axes>"
            ]
          },
          "metadata": {
            "tags": [],
            "needs_background": "light"
          }
        }
      ]
    },
    {
      "cell_type": "code",
      "metadata": {
        "id": "kavE-jkCy7Iz",
        "colab_type": "code",
        "colab": {
          "base_uri": "https://localhost:8080/",
          "height": 376
        },
        "outputId": "51862cb4-2e45-45ae-a48b-274e0d967a9d"
      },
      "source": [
        "\n",
        "\n",
        "fig = plt.figure(figsize=(15,12))\n",
        "ax1 = fig.add_subplot(211)\n",
        "ax1.plot(test['y'],label='y' )\n",
        "ax1.plot(pred_1month['y'],color='red',label='yhat')\n",
        "ax1.set_xlabel('Date')\n",
        "ax1.set_ylabel('Y')\n",
        "ax1.legend(loc=2)\n",
        "plt.show\n",
        "\n",
        "# red : 예측값, blue : 실제값\n",
        "#pred_4month.plot()\n"
      ],
      "execution_count": null,
      "outputs": [
        {
          "output_type": "execute_result",
          "data": {
            "text/plain": [
              "<function matplotlib.pyplot.show>"
            ]
          },
          "metadata": {
            "tags": []
          },
          "execution_count": 24
        },
        {
          "output_type": "display_data",
          "data": {
            "image/png": "[encoded data removed]",
            "text/plain": [
              "<Figure size 1080x864 with 1 Axes>"
            ]
          },
          "metadata": {
            "tags": [],
            "needs_background": "light"
          }
        }
      ]
    },
    {
      "cell_type": "code",
      "metadata": {
        "id": "Lje55SG3Esxx",
        "colab_type": "code",
        "colab": {
          "base_uri": "https://localhost:8080/",
          "height": 669
        },
        "outputId": "bc532f33-697d-4f70-8db2-6dcb57f3c259"
      },
      "source": [
        "test"
      ],
      "execution_count": null,
      "outputs": [
        {
          "output_type": "execute_result",
          "data": {
            "text/html": [
              "<div>\n",
              "<style scoped>\n",
              "    .dataframe tbody tr th:only-of-type {\n",
              "        vertical-align: middle;\n",
              "    }\n",
              "\n",
              "    .dataframe tbody tr th {\n",
              "        vertical-align: top;\n",
              "    }\n",
              "\n",
              "    .dataframe thead th {\n",
              "        text-align: right;\n",
              "    }\n",
              "</style>\n",
              "<table border=\"1\" class=\"dataframe\">\n",
              "  <thead>\n",
              "    <tr style=\"text-align: right;\">\n",
              "      <th></th>\n",
              "      <th>y</th>\n",
              "    </tr>\n",
              "    <tr>\n",
              "      <th>날짜</th>\n",
              "      <th></th>\n",
              "    </tr>\n",
              "  </thead>\n",
              "  <tbody>\n",
              "    <tr>\n",
              "      <th>2020-08-03</th>\n",
              "      <td>42650</td>\n",
              "    </tr>\n",
              "    <tr>\n",
              "      <th>2020-08-04</th>\n",
              "      <td>42950</td>\n",
              "    </tr>\n",
              "    <tr>\n",
              "      <th>2020-08-05</th>\n",
              "      <td>45000</td>\n",
              "    </tr>\n",
              "    <tr>\n",
              "      <th>2020-08-06</th>\n",
              "      <td>45050</td>\n",
              "    </tr>\n",
              "    <tr>\n",
              "      <th>2020-08-07</th>\n",
              "      <td>43950</td>\n",
              "    </tr>\n",
              "    <tr>\n",
              "      <th>2020-08-10</th>\n",
              "      <td>45600</td>\n",
              "    </tr>\n",
              "    <tr>\n",
              "      <th>2020-08-11</th>\n",
              "      <td>45700</td>\n",
              "    </tr>\n",
              "    <tr>\n",
              "      <th>2020-08-12</th>\n",
              "      <td>44250</td>\n",
              "    </tr>\n",
              "    <tr>\n",
              "      <th>2020-08-13</th>\n",
              "      <td>48250</td>\n",
              "    </tr>\n",
              "    <tr>\n",
              "      <th>2020-08-14</th>\n",
              "      <td>48500</td>\n",
              "    </tr>\n",
              "    <tr>\n",
              "      <th>2020-08-18</th>\n",
              "      <td>46750</td>\n",
              "    </tr>\n",
              "    <tr>\n",
              "      <th>2020-08-19</th>\n",
              "      <td>49300</td>\n",
              "    </tr>\n",
              "    <tr>\n",
              "      <th>2020-08-20</th>\n",
              "      <td>46500</td>\n",
              "    </tr>\n",
              "    <tr>\n",
              "      <th>2020-08-21</th>\n",
              "      <td>46700</td>\n",
              "    </tr>\n",
              "    <tr>\n",
              "      <th>2020-08-24</th>\n",
              "      <td>46800</td>\n",
              "    </tr>\n",
              "    <tr>\n",
              "      <th>2020-08-25</th>\n",
              "      <td>48700</td>\n",
              "    </tr>\n",
              "    <tr>\n",
              "      <th>2020-08-26</th>\n",
              "      <td>50400</td>\n",
              "    </tr>\n",
              "    <tr>\n",
              "      <th>2020-08-27</th>\n",
              "      <td>50900</td>\n",
              "    </tr>\n",
              "    <tr>\n",
              "      <th>2020-08-28</th>\n",
              "      <td>49000</td>\n",
              "    </tr>\n",
              "    <tr>\n",
              "      <th>2020-08-31</th>\n",
              "      <td>46650</td>\n",
              "    </tr>\n",
              "  </tbody>\n",
              "</table>\n",
              "</div>"
            ],
            "text/plain": [
              "                y\n",
              "날짜               \n",
              "2020-08-03  42650\n",
              "2020-08-04  42950\n",
              "2020-08-05  45000\n",
              "2020-08-06  45050\n",
              "2020-08-07  43950\n",
              "2020-08-10  45600\n",
              "2020-08-11  45700\n",
              "2020-08-12  44250\n",
              "2020-08-13  48250\n",
              "2020-08-14  48500\n",
              "2020-08-18  46750\n",
              "2020-08-19  49300\n",
              "2020-08-20  46500\n",
              "2020-08-21  46700\n",
              "2020-08-24  46800\n",
              "2020-08-25  48700\n",
              "2020-08-26  50400\n",
              "2020-08-27  50900\n",
              "2020-08-28  49000\n",
              "2020-08-31  46650"
            ]
          },
          "metadata": {
            "tags": []
          },
          "execution_count": 25
        }
      ]
    },
    {
      "cell_type": "code",
      "metadata": {
        "id": "wypmcdZj-ePK",
        "colab_type": "code",
        "colab": {
          "base_uri": "https://localhost:8080/",
          "height": 34
        },
        "outputId": "fc4b0a55-291f-4059-d05f-e74c37877433"
      },
      "source": [
        "mape = ((abs( pred_1month['y'] - test['y'] ) / test['y'])*100).mean()\n",
        "print('The MAPE of our forecasts is {}%'.format( round(mape, 2) ) ) \n"
      ],
      "execution_count": null,
      "outputs": [
        {
          "output_type": "stream",
          "text": [
            "The MAPE of our forecasts is 16.08%\n"
          ],
          "name": "stdout"
        }
      ]
    }
  ]
}