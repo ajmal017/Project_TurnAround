{
  "nbformat": 4,
  "nbformat_minor": 0,
  "metadata": {
    "kernelspec": {
      "display_name": "Python 3",
      "language": "python",
      "name": "python3"
    },
    "language_info": {
      "codemirror_mode": {
        "name": "ipython",
        "version": 3
      },
      "file_extension": ".py",
      "mimetype": "text/x-python",
      "name": "python",
      "nbconvert_exporter": "python",
      "pygments_lexer": "ipython3",
      "version": "3.7.3"
    },
    "colab": {
      "name": "NLP Stock Market Prediction.ipynb",
      "provenance": [],
      "toc_visible": true,
      "include_colab_link": true
    },
    "accelerator": "GPU"
  },
  "cells": [
    {
      "cell_type": "markdown",
      "metadata": {
        "id": "view-in-github",
        "colab_type": "text"
      },
      "source": [
        "<a href=\"https://colab.research.google.com/github/ejihoon6065/Project_TurnAround/blob/Hyundai/NLP_Stock_Market_Prediction%E2%96%B3.ipynb\" target=\"_parent\"><img src=\"https://colab.research.google.com/assets/colab-badge.svg\" alt=\"Open In Colab\"/></a>"
      ]
    },
    {
      "cell_type": "markdown",
      "metadata": {
        "id": "ElAdGMPldMyF",
        "colab_type": "text"
      },
      "source": [
        "# NLP for Stock Market Prediction\n",
        "This code attempts to solve a Kaggle challenge that tries to predict stock market prices from news headers. A walk-through of the code can be found in this article: https://medium.com/analytics-vidhya/e2861d4a45a0\n",
        "\n",
        "Kaggle challenge: https://www.kaggle.com/aaron7sun/stocknews\n",
        "\n",
        "Kaggle article: https://www.kaggle.com/rahulvarma9595/nlp-for-stock-market-predictions"
      ]
    },
    {
      "cell_type": "markdown",
      "metadata": {
        "id": "-tzmnO3wJir4",
        "colab_type": "text"
      },
      "source": [
        "출처: https://medium.com/analytics-vidhya/introduction-e2861d4a45a0"
      ]
    },
    {
      "cell_type": "markdown",
      "metadata": {
        "id": "O1JgpW3JdMyG",
        "colab_type": "text"
      },
      "source": [
        "## Import packages and libraries"
      ]
    },
    {
      "cell_type": "code",
      "metadata": {
        "id": "kUaOtsp4dMyH",
        "colab_type": "code",
        "colab": {}
      },
      "source": [
        "# import packages\n",
        "import pandas as pd\n",
        "import numpy as np\n",
        "import string\n",
        "import time\n",
        "import matplotlib.pyplot as plt\n",
        "\n",
        "from nltk.tokenize import word_tokenize\n",
        "from nltk.corpus import stopwords\n",
        "from nltk.stem import PorterStemmer\n",
        "from nltk.stem import WordNetLemmatizer\n",
        "from gensim.models import Word2Vec, KeyedVectors\n",
        "from sklearn.metrics import accuracy_score, confusion_matrix, roc_auc_score, roc_curve, auc\n",
        "from xgboost.sklearn import XGBClassifier\n",
        "from sklearn.ensemble import RandomForestClassifier\n",
        "from sklearn.linear_model import LogisticRegression\n",
        "from sklearn.neural_network import MLPClassifier\n",
        "from sklearn.svm import SVC"
      ],
      "execution_count": 1,
      "outputs": []
    },
    {
      "cell_type": "code",
      "metadata": {
        "id": "g3NUOq3miB_H",
        "colab_type": "code",
        "colab": {
          "base_uri": "https://localhost:8080/",
          "height": 219
        },
        "outputId": "95534642-66c9-43e7-f30a-844d2b7faab6"
      },
      "source": [
        "from google.colab import drive\n",
        "drive.mount('/gdrive', force_remount=True)"
      ],
      "execution_count": 4,
      "outputs": [
        {
          "output_type": "error",
          "ename": "TypeError",
          "evalue": "ignored",
          "traceback": [
            "\u001b[0;31m---------------------------------------------------------------------------\u001b[0m",
            "\u001b[0;31mTypeError\u001b[0m                                 Traceback (most recent call last)",
            "\u001b[0;32m<ipython-input-4-e33a9420b80b>\u001b[0m in \u001b[0;36m<module>\u001b[0;34m()\u001b[0m\n\u001b[1;32m      1\u001b[0m \u001b[0;32mfrom\u001b[0m \u001b[0mgoogle\u001b[0m\u001b[0;34m.\u001b[0m\u001b[0mcolab\u001b[0m \u001b[0;32mimport\u001b[0m \u001b[0mdrive\u001b[0m\u001b[0;34m\u001b[0m\u001b[0;34m\u001b[0m\u001b[0m\n\u001b[0;32m----> 2\u001b[0;31m \u001b[0mdrive\u001b[0m\u001b[0;34m.\u001b[0m\u001b[0mmount\u001b[0m\u001b[0;34m(\u001b[0m\u001b[0;34m)\u001b[0m\u001b[0;34m\u001b[0m\u001b[0;34m\u001b[0m\u001b[0m\n\u001b[0m",
            "\u001b[0;31mTypeError\u001b[0m: mount() missing 1 required positional argument: 'mountpoint'"
          ]
        }
      ]
    },
    {
      "cell_type": "code",
      "metadata": {
        "id": "nzriz84AigPq",
        "colab_type": "code",
        "colab": {
          "base_uri": "https://localhost:8080/",
          "height": 141
        },
        "outputId": "c484391b-9d0e-4b8a-b8a6-ef24a2a1cb68"
      },
      "source": [
        "from google.colab import drive\n",
        "drive.mount('/content/drive')"
      ],
      "execution_count": 5,
      "outputs": [
        {
          "output_type": "stream",
          "text": [
            "Go to this URL in a browser: https://accounts.google.com/o/oauth2/auth?client_id=947318989803-6bn6qk8qdgf4n4g3pfee6491hc0brc4i.apps.googleusercontent.com&redirect_uri=urn%3aietf%3awg%3aoauth%3a2.0%3aoob&scope=email%20https%3a%2f%2fwww.googleapis.com%2fauth%2fdocs.test%20https%3a%2f%2fwww.googleapis.com%2fauth%2fdrive%20https%3a%2f%2fwww.googleapis.com%2fauth%2fdrive.photos.readonly%20https%3a%2f%2fwww.googleapis.com%2fauth%2fpeopleapi.readonly&response_type=code\n",
            "\n",
            "Enter your authorization code:\n",
            "4/4AEepYkNrggQeiAVk_u2EugQFHNb3PU3qubajUeE8B-3BI11AC09jqM\n",
            "Mounted at /content/drive\n"
          ],
          "name": "stdout"
        }
      ]
    },
    {
      "cell_type": "markdown",
      "metadata": {
        "id": "30z2QjUvdMyP",
        "colab_type": "text"
      },
      "source": [
        "## Import data"
      ]
    },
    {
      "cell_type": "code",
      "metadata": {
        "id": "FLT0ericdMyQ",
        "colab_type": "code",
        "colab": {}
      },
      "source": [
        "pd.set_option('display.max_columns',7)"
      ],
      "execution_count": 6,
      "outputs": []
    },
    {
      "cell_type": "code",
      "metadata": {
        "scrolled": false,
        "id": "57F547TcdMyU",
        "colab_type": "code",
        "colab": {
          "base_uri": "https://localhost:8080/",
          "height": 329
        },
        "outputId": "c438b214-8c23-468d-87bc-d0c9a6ec8233"
      },
      "source": [
        "# import data\n",
        "data = pd.read_csv('/content/drive/My Drive/Combined_News_DJIA.csv')\n",
        "\n",
        "print('data is %d data points with %d features'%(data.shape[0],data.shape[1]))\n",
        "data.head()"
      ],
      "execution_count": 7,
      "outputs": [
        {
          "output_type": "stream",
          "text": [
            "data is 1989 data points with 27 features\n"
          ],
          "name": "stdout"
        },
        {
          "output_type": "execute_result",
          "data": {
            "text/html": [
              "<div>\n",
              "<style scoped>\n",
              "    .dataframe tbody tr th:only-of-type {\n",
              "        vertical-align: middle;\n",
              "    }\n",
              "\n",
              "    .dataframe tbody tr th {\n",
              "        vertical-align: top;\n",
              "    }\n",
              "\n",
              "    .dataframe thead th {\n",
              "        text-align: right;\n",
              "    }\n",
              "</style>\n",
              "<table border=\"1\" class=\"dataframe\">\n",
              "  <thead>\n",
              "    <tr style=\"text-align: right;\">\n",
              "      <th></th>\n",
              "      <th>Date</th>\n",
              "      <th>Label</th>\n",
              "      <th>Top1</th>\n",
              "      <th>...</th>\n",
              "      <th>Top23</th>\n",
              "      <th>Top24</th>\n",
              "      <th>Top25</th>\n",
              "    </tr>\n",
              "  </thead>\n",
              "  <tbody>\n",
              "    <tr>\n",
              "      <th>0</th>\n",
              "      <td>08/08/2008</td>\n",
              "      <td>0</td>\n",
              "      <td>b\"Georgia 'downs two Russian warplanes' as cou...</td>\n",
              "      <td>...</td>\n",
              "      <td>b'Indian shoe manufactory  - And again in a se...</td>\n",
              "      <td>b'Visitors Suffering from Mental Illnesses Ban...</td>\n",
              "      <td>b\"No Help for Mexico's Kidnapping Surge\"</td>\n",
              "    </tr>\n",
              "    <tr>\n",
              "      <th>1</th>\n",
              "      <td>11/08/2008</td>\n",
              "      <td>1</td>\n",
              "      <td>b'Why wont America and Nato help us? If they w...</td>\n",
              "      <td>...</td>\n",
              "      <td>b'Perhaps *the* question about the Georgia - R...</td>\n",
              "      <td>b'Russia is so much better at war'</td>\n",
              "      <td>b\"So this is what it's come to: trading sex fo...</td>\n",
              "    </tr>\n",
              "    <tr>\n",
              "      <th>2</th>\n",
              "      <td>12/08/2008</td>\n",
              "      <td>0</td>\n",
              "      <td>b'Remember that adorable 9-year-old who sang a...</td>\n",
              "      <td>...</td>\n",
              "      <td>b'Christopher King argues that the US and NATO...</td>\n",
              "      <td>b'America: The New Mexico?'</td>\n",
              "      <td>b\"BBC NEWS | Asia-Pacific | Extinction 'by man...</td>\n",
              "    </tr>\n",
              "    <tr>\n",
              "      <th>3</th>\n",
              "      <td>13/08/2008</td>\n",
              "      <td>0</td>\n",
              "      <td>b' U.S. refuses Israel weapons to attack Iran:...</td>\n",
              "      <td>...</td>\n",
              "      <td>b' Quarter of Russians blame U.S. for conflict...</td>\n",
              "      <td>b'Georgian president  says US military will ta...</td>\n",
              "      <td>b'2006: Nobel laureate Aleksander Solzhenitsyn...</td>\n",
              "    </tr>\n",
              "    <tr>\n",
              "      <th>4</th>\n",
              "      <td>14/08/2008</td>\n",
              "      <td>1</td>\n",
              "      <td>b'All the experts admit that we should legalis...</td>\n",
              "      <td>...</td>\n",
              "      <td>b'Russia: World  \"can forget about\" Georgia\\'s...</td>\n",
              "      <td>b'Darfur rebels accuse Sudan of mounting major...</td>\n",
              "      <td>b'Philippines : Peace Advocate say Muslims nee...</td>\n",
              "    </tr>\n",
              "  </tbody>\n",
              "</table>\n",
              "<p>5 rows × 27 columns</p>\n",
              "</div>"
            ],
            "text/plain": [
              "         Date  Label                                               Top1  ...  \\\n",
              "0  08/08/2008      0  b\"Georgia 'downs two Russian warplanes' as cou...  ...   \n",
              "1  11/08/2008      1  b'Why wont America and Nato help us? If they w...  ...   \n",
              "2  12/08/2008      0  b'Remember that adorable 9-year-old who sang a...  ...   \n",
              "3  13/08/2008      0  b' U.S. refuses Israel weapons to attack Iran:...  ...   \n",
              "4  14/08/2008      1  b'All the experts admit that we should legalis...  ...   \n",
              "\n",
              "                                               Top23  \\\n",
              "0  b'Indian shoe manufactory  - And again in a se...   \n",
              "1  b'Perhaps *the* question about the Georgia - R...   \n",
              "2  b'Christopher King argues that the US and NATO...   \n",
              "3  b' Quarter of Russians blame U.S. for conflict...   \n",
              "4  b'Russia: World  \"can forget about\" Georgia\\'s...   \n",
              "\n",
              "                                               Top24  \\\n",
              "0  b'Visitors Suffering from Mental Illnesses Ban...   \n",
              "1                 b'Russia is so much better at war'   \n",
              "2                        b'America: The New Mexico?'   \n",
              "3  b'Georgian president  says US military will ta...   \n",
              "4  b'Darfur rebels accuse Sudan of mounting major...   \n",
              "\n",
              "                                               Top25  \n",
              "0           b\"No Help for Mexico's Kidnapping Surge\"  \n",
              "1  b\"So this is what it's come to: trading sex fo...  \n",
              "2  b\"BBC NEWS | Asia-Pacific | Extinction 'by man...  \n",
              "3  b'2006: Nobel laureate Aleksander Solzhenitsyn...  \n",
              "4  b'Philippines : Peace Advocate say Muslims nee...  \n",
              "\n",
              "[5 rows x 27 columns]"
            ]
          },
          "metadata": {
            "tags": []
          },
          "execution_count": 7
        }
      ]
    },
    {
      "cell_type": "markdown",
      "metadata": {
        "id": "JrwRyjqldMya",
        "colab_type": "text"
      },
      "source": [
        "## Data preprocessing\n",
        "### Data cleaning & tokenization & normalization"
      ]
    },
    {
      "cell_type": "code",
      "metadata": {
        "id": "kWsYD7nIjI_s",
        "colab_type": "code",
        "colab": {
          "base_uri": "https://localhost:8080/",
          "height": 79
        },
        "outputId": "64af9565-8bd2-4a59-fc14-4e6aecda1f4a"
      },
      "source": [
        "import nltk\n",
        "nltk.download('stopwords')"
      ],
      "execution_count": 9,
      "outputs": [
        {
          "output_type": "stream",
          "text": [
            "[nltk_data] Downloading package stopwords to /root/nltk_data...\n",
            "[nltk_data]   Unzipping corpora/stopwords.zip.\n"
          ],
          "name": "stdout"
        },
        {
          "output_type": "execute_result",
          "data": {
            "text/plain": [
              "True"
            ]
          },
          "metadata": {
            "tags": []
          },
          "execution_count": 9
        }
      ]
    },
    {
      "cell_type": "code",
      "metadata": {
        "scrolled": false,
        "id": "Dk9vvTT2dMyb",
        "colab_type": "code",
        "colab": {
          "base_uri": "https://localhost:8080/",
          "height": 474
        },
        "outputId": "487c466c-b2f9-486a-ce41-f9279690ac11"
      },
      "source": [
        "# data cleaning & tokenization & normalization\n",
        "## create copy of original dataframe\n",
        "dataClean = data.copy()\n",
        "\n",
        "## create set for stopwords as dictionaries are faster\n",
        "stops = set(stopwords.words('english'))\n",
        "\n",
        "# news header you want to test\n",
        "## (2,5) is interesting to see how \"Al-Qa'eda\" gets transferred\n",
        "## (4,3) is interesting to see how numbers are encoded\n",
        "## (2,15) is interesting to see how both numbers ('55') and hyphens ('mega-city') are encoded\n",
        "## (1988,24) gives a bug for replacing numbers and removing stop words\n",
        "tester = (2,5)\n",
        "\n",
        "for i in range(2,data.shape[1]):\n",
        "    if i==tester[1]:\n",
        "        print('Original text:')\n",
        "        print(dataClean.iloc[tester[0],i])\n",
        "    \n",
        "    # data cleaning\n",
        "    ## remove 'b'' at the start and ''' at the end\n",
        "    dataClean.iloc[:,i]=dataClean.iloc[:,i].str.strip(\"b'\")\n",
        "    if i==tester[1]:\n",
        "        print('\\nCleaned text:')\n",
        "        print(dataClean.iloc[tester[0],i])\n",
        "    \n",
        "    ## remove punctuation\n",
        "    dataClean.iloc[:,i]=dataClean.iloc[:,i].str.translate(str.maketrans('', '', string.punctuation))\n",
        "    if i==tester[1]:\n",
        "        print('\\nPunctuations removed:')\n",
        "        print(dataClean.iloc[tester[0],i])\n",
        "        \n",
        "    # normalization\n",
        "    ## make lowercase\n",
        "    dataClean.iloc[:,i]=dataClean.iloc[:,i].str.lower()\n",
        "    if i==tester[1]:\n",
        "        print('\\nLowercase:')\n",
        "        print(dataClean.iloc[tester[0],i])\n",
        "    \n",
        "    # tokenization\n",
        "    ## word_tokenize version (buggy) is below\n",
        "    dataClean.iloc[:,i]=dataClean.iloc[:,i].str.split()\n",
        "    if i==tester[1]:\n",
        "        print('\\nTokenized:')\n",
        "        print(dataClean.iloc[tester[0],i])\n",
        "        \n",
        "    # replace numbers\n",
        "    dataClean.iloc[:,i]=dataClean.iloc[:,i].apply(lambda sent: 'num' if isinstance(sent,float) else ['num' if token.isdigit() else token for token in sent])\n",
        "    if i==tester[1]:\n",
        "        print('\\nReplaced numbers:')\n",
        "        print(dataClean.iloc[tester[0],i])\n",
        "        print()\n",
        "        \n",
        "    # remove stop words\n",
        "    dataClean.iloc[:,i]=dataClean.iloc[:,i].apply(lambda sent: [token for token in sent if token not in stops])\n",
        "    if i==tester[1]:\n",
        "        print('\\nRemoved stop words:')\n",
        "        print(dataClean.iloc[tester[0],i])\n",
        "        "
      ],
      "execution_count": 10,
      "outputs": [
        {
          "output_type": "stream",
          "text": [
            "Original text:\n",
            "b\"Al-Qa'eda is losing support in Iraq because of a brutal crackdown on activities it regards as un-Islamic - including women buying cucumbers\"\n",
            "\n",
            "Cleaned text:\n",
            "\"Al-Qa'eda is losing support in Iraq because of a brutal crackdown on activities it regards as un-Islamic - including women buying cucumbers\"\n",
            "\n",
            "Punctuations removed:\n",
            "AlQaeda is losing support in Iraq because of a brutal crackdown on activities it regards as unIslamic  including women buying cucumbers\n",
            "\n",
            "Lowercase:\n",
            "alqaeda is losing support in iraq because of a brutal crackdown on activities it regards as unislamic  including women buying cucumbers\n",
            "\n",
            "Tokenized:\n",
            "['alqaeda', 'is', 'losing', 'support', 'in', 'iraq', 'because', 'of', 'a', 'brutal', 'crackdown', 'on', 'activities', 'it', 'regards', 'as', 'unislamic', 'including', 'women', 'buying', 'cucumbers']\n",
            "\n",
            "Replaced numbers:\n",
            "['alqaeda', 'is', 'losing', 'support', 'in', 'iraq', 'because', 'of', 'a', 'brutal', 'crackdown', 'on', 'activities', 'it', 'regards', 'as', 'unislamic', 'including', 'women', 'buying', 'cucumbers']\n",
            "\n",
            "\n",
            "Removed stop words:\n",
            "['alqaeda', 'losing', 'support', 'iraq', 'brutal', 'crackdown', 'activities', 'regards', 'unislamic', 'including', 'women', 'buying', 'cucumbers']\n"
          ],
          "name": "stdout"
        }
      ]
    },
    {
      "cell_type": "code",
      "metadata": {
        "id": "1RLdurEwdMyg",
        "colab_type": "code",
        "colab": {
          "base_uri": "https://localhost:8080/",
          "height": 308
        },
        "outputId": "22250fdc-054e-4863-e339-190dac8cda15"
      },
      "source": [
        "dataClean.head()"
      ],
      "execution_count": 11,
      "outputs": [
        {
          "output_type": "execute_result",
          "data": {
            "text/html": [
              "<div>\n",
              "<style scoped>\n",
              "    .dataframe tbody tr th:only-of-type {\n",
              "        vertical-align: middle;\n",
              "    }\n",
              "\n",
              "    .dataframe tbody tr th {\n",
              "        vertical-align: top;\n",
              "    }\n",
              "\n",
              "    .dataframe thead th {\n",
              "        text-align: right;\n",
              "    }\n",
              "</style>\n",
              "<table border=\"1\" class=\"dataframe\">\n",
              "  <thead>\n",
              "    <tr style=\"text-align: right;\">\n",
              "      <th></th>\n",
              "      <th>Date</th>\n",
              "      <th>Label</th>\n",
              "      <th>Top1</th>\n",
              "      <th>...</th>\n",
              "      <th>Top23</th>\n",
              "      <th>Top24</th>\n",
              "      <th>Top25</th>\n",
              "    </tr>\n",
              "  </thead>\n",
              "  <tbody>\n",
              "    <tr>\n",
              "      <th>0</th>\n",
              "      <td>08/08/2008</td>\n",
              "      <td>0</td>\n",
              "      <td>[georgia, downs, two, russian, warplanes, coun...</td>\n",
              "      <td>...</td>\n",
              "      <td>[indian, shoe, manufactory, series, like, work]</td>\n",
              "      <td>[visitors, suffering, mental, illnesses, banne...</td>\n",
              "      <td>[help, mexicos, kidnapping, surge]</td>\n",
              "    </tr>\n",
              "    <tr>\n",
              "      <th>1</th>\n",
              "      <td>11/08/2008</td>\n",
              "      <td>1</td>\n",
              "      <td>[wont, america, nato, help, us, wont, help, us...</td>\n",
              "      <td>...</td>\n",
              "      <td>[perhaps, question, georgia, russia, conflict]</td>\n",
              "      <td>[russia, much, better, war]</td>\n",
              "      <td>[come, trading, sex, food]</td>\n",
              "    </tr>\n",
              "    <tr>\n",
              "      <th>2</th>\n",
              "      <td>12/08/2008</td>\n",
              "      <td>0</td>\n",
              "      <td>[remember, adorable, 9yearold, sang, opening, ...</td>\n",
              "      <td>...</td>\n",
              "      <td>[christopher, king, argues, us, nato, behind, ...</td>\n",
              "      <td>[america, new, mexico]</td>\n",
              "      <td>[bbc, news, asiapacific, extinction, man, clim...</td>\n",
              "    </tr>\n",
              "    <tr>\n",
              "      <th>3</th>\n",
              "      <td>13/08/2008</td>\n",
              "      <td>0</td>\n",
              "      <td>[us, refuses, israel, weapons, attack, iran, r...</td>\n",
              "      <td>...</td>\n",
              "      <td>[quarter, russians, blame, us, conflict, poll]</td>\n",
              "      <td>[georgian, president, says, us, military, take...</td>\n",
              "      <td>[num, nobel, laureate, aleksander, solzhenitsy...</td>\n",
              "    </tr>\n",
              "    <tr>\n",
              "      <th>4</th>\n",
              "      <td>14/08/2008</td>\n",
              "      <td>1</td>\n",
              "      <td>[experts, admit, legalise, drugs]</td>\n",
              "      <td>...</td>\n",
              "      <td>[russia, world, forget, georgias, territorial,...</td>\n",
              "      <td>[darfur, rebels, accuse, sudan, mounting, majo...</td>\n",
              "      <td>[philippines, peace, advocate, say, muslims, n...</td>\n",
              "    </tr>\n",
              "  </tbody>\n",
              "</table>\n",
              "<p>5 rows × 27 columns</p>\n",
              "</div>"
            ],
            "text/plain": [
              "         Date  Label                                               Top1  ...  \\\n",
              "0  08/08/2008      0  [georgia, downs, two, russian, warplanes, coun...  ...   \n",
              "1  11/08/2008      1  [wont, america, nato, help, us, wont, help, us...  ...   \n",
              "2  12/08/2008      0  [remember, adorable, 9yearold, sang, opening, ...  ...   \n",
              "3  13/08/2008      0  [us, refuses, israel, weapons, attack, iran, r...  ...   \n",
              "4  14/08/2008      1                  [experts, admit, legalise, drugs]  ...   \n",
              "\n",
              "                                               Top23  \\\n",
              "0    [indian, shoe, manufactory, series, like, work]   \n",
              "1     [perhaps, question, georgia, russia, conflict]   \n",
              "2  [christopher, king, argues, us, nato, behind, ...   \n",
              "3     [quarter, russians, blame, us, conflict, poll]   \n",
              "4  [russia, world, forget, georgias, territorial,...   \n",
              "\n",
              "                                               Top24  \\\n",
              "0  [visitors, suffering, mental, illnesses, banne...   \n",
              "1                        [russia, much, better, war]   \n",
              "2                             [america, new, mexico]   \n",
              "3  [georgian, president, says, us, military, take...   \n",
              "4  [darfur, rebels, accuse, sudan, mounting, majo...   \n",
              "\n",
              "                                               Top25  \n",
              "0                 [help, mexicos, kidnapping, surge]  \n",
              "1                         [come, trading, sex, food]  \n",
              "2  [bbc, news, asiapacific, extinction, man, clim...  \n",
              "3  [num, nobel, laureate, aleksander, solzhenitsy...  \n",
              "4  [philippines, peace, advocate, say, muslims, n...  \n",
              "\n",
              "[5 rows x 27 columns]"
            ]
          },
          "metadata": {
            "tags": []
          },
          "execution_count": 11
        }
      ]
    },
    {
      "cell_type": "markdown",
      "metadata": {
        "id": "PGPRx8aXdMyk",
        "colab_type": "text"
      },
      "source": [
        "### Stemming, lemmatization, canonicalization"
      ]
    },
    {
      "cell_type": "code",
      "metadata": {
        "id": "V4czY53LjQu0",
        "colab_type": "code",
        "colab": {
          "base_uri": "https://localhost:8080/",
          "height": 79
        },
        "outputId": "7544cfc3-c3f0-4404-fc6e-d34cfc7f4b31"
      },
      "source": [
        "import nltk\n",
        "nltk.download('wordnet')"
      ],
      "execution_count": 13,
      "outputs": [
        {
          "output_type": "stream",
          "text": [
            "[nltk_data] Downloading package wordnet to /root/nltk_data...\n",
            "[nltk_data]   Unzipping corpora/wordnet.zip.\n"
          ],
          "name": "stdout"
        },
        {
          "output_type": "execute_result",
          "data": {
            "text/plain": [
              "True"
            ]
          },
          "metadata": {
            "tags": []
          },
          "execution_count": 13
        }
      ]
    },
    {
      "cell_type": "code",
      "metadata": {
        "id": "yMibPspvdMyk",
        "colab_type": "code",
        "colab": {
          "base_uri": "https://localhost:8080/",
          "height": 516
        },
        "outputId": "c45721e6-903c-4ea5-fc9d-a891dab4fbf6"
      },
      "source": [
        "# Stemming/lemmatization/canonicalization - Frank\n",
        "\n",
        "# do either stemming or lemmatization\n",
        "stemming = False # converted philippines to philippin in (4,25)\n",
        "lemmatization = True # converts to proper words but philippine? (4,25)\n",
        "\n",
        "dataNormal = dataClean.copy()\n",
        "tester = (0,5) \n",
        "print('Original text:')\n",
        "print(data.iloc[tester[0],tester[1]])\n",
        "print('\\nCleaned text:')\n",
        "print(dataClean.iloc[tester[0],tester[1]])\n",
        "\n",
        "if stemming:\n",
        "    porter = PorterStemmer()   \n",
        "    for i in range(2,dataNormal.shape[1]):\n",
        "        dataNormal.iloc[:,i]=dataNormal.iloc[:,i].apply(lambda x: [porter.stem(y) for y in x])\n",
        "    print('\\nAfter stemming:')\n",
        "    print(dataNormal.iloc[tester[0],tester[1]])\n",
        "elif lemmatization:\n",
        "    lemmatizer = WordNetLemmatizer()\n",
        "    for i in range(2,data.shape[1]):\n",
        "        dataNormal.iloc[:,i]=dataNormal.iloc[:,i].apply(lambda x: [lemmatizer.lemmatize(y) for y in x])\n",
        "    print('\\nAfter lemmatization:')\n",
        "    print(dataNormal.iloc[tester[0],tester[1]])\n",
        "        \n",
        "print('\\ndataNormal:')\n",
        "dataNormal.head()"
      ],
      "execution_count": 14,
      "outputs": [
        {
          "output_type": "stream",
          "text": [
            "Original text:\n",
            "b'Russian tanks are moving towards the capital of South Ossetia, which has reportedly been completely destroyed by Georgian artillery fire'\n",
            "\n",
            "Cleaned text:\n",
            "['russian', 'tanks', 'moving', 'towards', 'capital', 'south', 'ossetia', 'reportedly', 'completely', 'destroyed', 'georgian', 'artillery', 'fire']\n",
            "\n",
            "After lemmatization:\n",
            "['russian', 'tank', 'moving', 'towards', 'capital', 'south', 'ossetia', 'reportedly', 'completely', 'destroyed', 'georgian', 'artillery', 'fire']\n",
            "\n",
            "dataNormal:\n"
          ],
          "name": "stdout"
        },
        {
          "output_type": "execute_result",
          "data": {
            "text/html": [
              "<div>\n",
              "<style scoped>\n",
              "    .dataframe tbody tr th:only-of-type {\n",
              "        vertical-align: middle;\n",
              "    }\n",
              "\n",
              "    .dataframe tbody tr th {\n",
              "        vertical-align: top;\n",
              "    }\n",
              "\n",
              "    .dataframe thead th {\n",
              "        text-align: right;\n",
              "    }\n",
              "</style>\n",
              "<table border=\"1\" class=\"dataframe\">\n",
              "  <thead>\n",
              "    <tr style=\"text-align: right;\">\n",
              "      <th></th>\n",
              "      <th>Date</th>\n",
              "      <th>Label</th>\n",
              "      <th>Top1</th>\n",
              "      <th>...</th>\n",
              "      <th>Top23</th>\n",
              "      <th>Top24</th>\n",
              "      <th>Top25</th>\n",
              "    </tr>\n",
              "  </thead>\n",
              "  <tbody>\n",
              "    <tr>\n",
              "      <th>0</th>\n",
              "      <td>08/08/2008</td>\n",
              "      <td>0</td>\n",
              "      <td>[georgia, down, two, russian, warplane, countr...</td>\n",
              "      <td>...</td>\n",
              "      <td>[indian, shoe, manufactory, series, like, work]</td>\n",
              "      <td>[visitor, suffering, mental, illness, banned, ...</td>\n",
              "      <td>[help, mexico, kidnapping, surge]</td>\n",
              "    </tr>\n",
              "    <tr>\n",
              "      <th>1</th>\n",
              "      <td>11/08/2008</td>\n",
              "      <td>1</td>\n",
              "      <td>[wont, america, nato, help, u, wont, help, u, ...</td>\n",
              "      <td>...</td>\n",
              "      <td>[perhaps, question, georgia, russia, conflict]</td>\n",
              "      <td>[russia, much, better, war]</td>\n",
              "      <td>[come, trading, sex, food]</td>\n",
              "    </tr>\n",
              "    <tr>\n",
              "      <th>2</th>\n",
              "      <td>12/08/2008</td>\n",
              "      <td>0</td>\n",
              "      <td>[remember, adorable, 9yearold, sang, opening, ...</td>\n",
              "      <td>...</td>\n",
              "      <td>[christopher, king, argues, u, nato, behind, g...</td>\n",
              "      <td>[america, new, mexico]</td>\n",
              "      <td>[bbc, news, asiapacific, extinction, man, clim...</td>\n",
              "    </tr>\n",
              "    <tr>\n",
              "      <th>3</th>\n",
              "      <td>13/08/2008</td>\n",
              "      <td>0</td>\n",
              "      <td>[u, refuse, israel, weapon, attack, iran, report]</td>\n",
              "      <td>...</td>\n",
              "      <td>[quarter, russian, blame, u, conflict, poll]</td>\n",
              "      <td>[georgian, president, say, u, military, take, ...</td>\n",
              "      <td>[num, nobel, laureate, aleksander, solzhenitsy...</td>\n",
              "    </tr>\n",
              "    <tr>\n",
              "      <th>4</th>\n",
              "      <td>14/08/2008</td>\n",
              "      <td>1</td>\n",
              "      <td>[expert, admit, legalise, drug]</td>\n",
              "      <td>...</td>\n",
              "      <td>[russia, world, forget, georgia, territorial, ...</td>\n",
              "      <td>[darfur, rebel, accuse, sudan, mounting, major...</td>\n",
              "      <td>[philippine, peace, advocate, say, muslim, nee...</td>\n",
              "    </tr>\n",
              "  </tbody>\n",
              "</table>\n",
              "<p>5 rows × 27 columns</p>\n",
              "</div>"
            ],
            "text/plain": [
              "         Date  Label                                               Top1  ...  \\\n",
              "0  08/08/2008      0  [georgia, down, two, russian, warplane, countr...  ...   \n",
              "1  11/08/2008      1  [wont, america, nato, help, u, wont, help, u, ...  ...   \n",
              "2  12/08/2008      0  [remember, adorable, 9yearold, sang, opening, ...  ...   \n",
              "3  13/08/2008      0  [u, refuse, israel, weapon, attack, iran, report]  ...   \n",
              "4  14/08/2008      1                    [expert, admit, legalise, drug]  ...   \n",
              "\n",
              "                                               Top23  \\\n",
              "0    [indian, shoe, manufactory, series, like, work]   \n",
              "1     [perhaps, question, georgia, russia, conflict]   \n",
              "2  [christopher, king, argues, u, nato, behind, g...   \n",
              "3       [quarter, russian, blame, u, conflict, poll]   \n",
              "4  [russia, world, forget, georgia, territorial, ...   \n",
              "\n",
              "                                               Top24  \\\n",
              "0  [visitor, suffering, mental, illness, banned, ...   \n",
              "1                        [russia, much, better, war]   \n",
              "2                             [america, new, mexico]   \n",
              "3  [georgian, president, say, u, military, take, ...   \n",
              "4  [darfur, rebel, accuse, sudan, mounting, major...   \n",
              "\n",
              "                                               Top25  \n",
              "0                  [help, mexico, kidnapping, surge]  \n",
              "1                         [come, trading, sex, food]  \n",
              "2  [bbc, news, asiapacific, extinction, man, clim...  \n",
              "3  [num, nobel, laureate, aleksander, solzhenitsy...  \n",
              "4  [philippine, peace, advocate, say, muslim, nee...  \n",
              "\n",
              "[5 rows x 27 columns]"
            ]
          },
          "metadata": {
            "tags": []
          },
          "execution_count": 14
        }
      ]
    },
    {
      "cell_type": "markdown",
      "metadata": {
        "id": "lEGw6xHvdMyo",
        "colab_type": "text"
      },
      "source": [
        "## Convert words to vectors\n",
        "### Combine all header words in each date into a single datapoint (flattening)"
      ]
    },
    {
      "cell_type": "code",
      "metadata": {
        "id": "Tl6xSgu-dMyo",
        "colab_type": "code",
        "colab": {
          "base_uri": "https://localhost:8080/",
          "height": 237
        },
        "outputId": "6c3e224e-992d-43ec-d7dc-a707abbb661d"
      },
      "source": [
        "dataFlat = dataNormal.iloc[:,0:2].copy()\n",
        "\n",
        "# combine the words in each date into a single datapoint\n",
        "combined = dataNormal.iloc[:,3].values.tolist()\n",
        "\n",
        "for i in range(0,dataNormal.shape[0]):\n",
        "    for j in range (3,dataNormal.shape[1]):\n",
        "        combined[i] += dataNormal.iloc[i,j]\n",
        "\n",
        "dataFlat['Combined'] = combined\n",
        "print('dataFlat is %d data points with %d features'%(dataFlat.shape[0],dataFlat.shape[1]))\n",
        "print('dataFlat:')\n",
        "dataFlat.head()"
      ],
      "execution_count": 15,
      "outputs": [
        {
          "output_type": "stream",
          "text": [
            "dataFlat is 1989 data points with 3 features\n",
            "dataFlat:\n"
          ],
          "name": "stdout"
        },
        {
          "output_type": "execute_result",
          "data": {
            "text/html": [
              "<div>\n",
              "<style scoped>\n",
              "    .dataframe tbody tr th:only-of-type {\n",
              "        vertical-align: middle;\n",
              "    }\n",
              "\n",
              "    .dataframe tbody tr th {\n",
              "        vertical-align: top;\n",
              "    }\n",
              "\n",
              "    .dataframe thead th {\n",
              "        text-align: right;\n",
              "    }\n",
              "</style>\n",
              "<table border=\"1\" class=\"dataframe\">\n",
              "  <thead>\n",
              "    <tr style=\"text-align: right;\">\n",
              "      <th></th>\n",
              "      <th>Date</th>\n",
              "      <th>Label</th>\n",
              "      <th>Combined</th>\n",
              "    </tr>\n",
              "  </thead>\n",
              "  <tbody>\n",
              "    <tr>\n",
              "      <th>0</th>\n",
              "      <td>08/08/2008</td>\n",
              "      <td>0</td>\n",
              "      <td>[breaking, musharraf, impeached, breaking, mus...</td>\n",
              "    </tr>\n",
              "    <tr>\n",
              "      <th>1</th>\n",
              "      <td>11/08/2008</td>\n",
              "      <td>1</td>\n",
              "      <td>[bush, put, foot, georgian, conflict, bush, pu...</td>\n",
              "    </tr>\n",
              "    <tr>\n",
              "      <th>2</th>\n",
              "      <td>12/08/2008</td>\n",
              "      <td>0</td>\n",
              "      <td>[russia, end, georgia, operation, russia, end,...</td>\n",
              "    </tr>\n",
              "    <tr>\n",
              "      <th>3</th>\n",
              "      <td>13/08/2008</td>\n",
              "      <td>0</td>\n",
              "      <td>[president, ordered, attack, tskhinvali, capit...</td>\n",
              "    </tr>\n",
              "    <tr>\n",
              "      <th>4</th>\n",
              "      <td>14/08/2008</td>\n",
              "      <td>1</td>\n",
              "      <td>[war, south, osetia, num, picture, made, russi...</td>\n",
              "    </tr>\n",
              "  </tbody>\n",
              "</table>\n",
              "</div>"
            ],
            "text/plain": [
              "         Date  Label                                           Combined\n",
              "0  08/08/2008      0  [breaking, musharraf, impeached, breaking, mus...\n",
              "1  11/08/2008      1  [bush, put, foot, georgian, conflict, bush, pu...\n",
              "2  12/08/2008      0  [russia, end, georgia, operation, russia, end,...\n",
              "3  13/08/2008      0  [president, ordered, attack, tskhinvali, capit...\n",
              "4  14/08/2008      1  [war, south, osetia, num, picture, made, russi..."
            ]
          },
          "metadata": {
            "tags": []
          },
          "execution_count": 15
        }
      ]
    },
    {
      "cell_type": "markdown",
      "metadata": {
        "id": "U9nPmOttdMyu",
        "colab_type": "text"
      },
      "source": [
        "### Implement word2vec model"
      ]
    },
    {
      "cell_type": "code",
      "metadata": {
        "id": "VVx5iRTKdMyu",
        "colab_type": "code",
        "colab": {
          "base_uri": "https://localhost:8080/",
          "height": 120
        },
        "outputId": "4122fca9-e6cf-4926-b425-744f59ac3734"
      },
      "source": [
        "# create word2vec model\n",
        "## details on parameters, see documentation: https://radimrehurek.com/gensim/models/word2vec.html\n",
        "num_size = 100        # Word vector dimensionality                    \n",
        "num_min_count = 5     # Minimum frequency of a word to be included in dictionary                       \n",
        "num_workers = 4       # Number of threads to run in parallel\n",
        "\n",
        "start_time = time.time()\n",
        "model = Word2Vec(dataFlat['Combined'], size=num_size, min_count=num_min_count, workers=num_workers)\n",
        "end_time = time.time()\n",
        "\n",
        "## save model for future use\n",
        "model.save('w2v-combined-vector-size100-count5-workers4')\n",
        "\n",
        "## print resulting matrix size\n",
        "print('W2V model (vocabulary) is %d words with %d dimensions'%(model.wv.vectors.shape[0],model.wv.vectors.shape[1]))\n",
        "print('training time: %.3f seconds'%(end_time-start_time))"
      ],
      "execution_count": 16,
      "outputs": [
        {
          "output_type": "stream",
          "text": [
            "W2V model (vocabulary) is 10197 words with 100 dimensions\n",
            "training time: 5.554 seconds\n"
          ],
          "name": "stdout"
        },
        {
          "output_type": "stream",
          "text": [
            "/usr/local/lib/python3.6/dist-packages/smart_open/smart_open_lib.py:254: UserWarning: This function is deprecated, use smart_open.open instead. See the migration notes for details: https://github.com/RaRe-Technologies/smart_open/blob/master/README.rst#migrating-to-the-new-open-function\n",
            "  'See the migration notes for details: %s' % _MIGRATION_NOTES_URL\n"
          ],
          "name": "stderr"
        }
      ]
    },
    {
      "cell_type": "markdown",
      "metadata": {
        "id": "su9HSVKYdMyx",
        "colab_type": "text"
      },
      "source": [
        "### test word2vec model"
      ]
    },
    {
      "cell_type": "code",
      "metadata": {
        "scrolled": false,
        "id": "C4rABhaPdMyy",
        "colab_type": "code",
        "colab": {
          "base_uri": "https://localhost:8080/",
          "height": 286
        },
        "outputId": "14b561a7-3fac-49e1-bfa5-289bd57505d0"
      },
      "source": [
        "# look up most similar words\n",
        "w1 = 'war'\n",
        "topN = 5\n",
        "print('Top %d words most similar to \\'%s\\':'%(topN,w1))\n",
        "topSimWords = model.wv.most_similar(positive=[w1],topn=topN)\n",
        "for i in range(0,len(topSimWords)):\n",
        "    print('   \\'%s\\': %.4f'%(topSimWords[i][0],topSimWords[i][1]))\n",
        "\n",
        "# test similarities between words\n",
        "w1 = 'war'\n",
        "w2 = 'peace'\n",
        "w3 = 'terror'\n",
        "w4 = 'school'\n",
        "print('\\nSimilarity between \\'%s\\' and \\'%s\\': %.3f'%(w1,w2,model.wv.similarity(w1=w1,w2=w2)))\n",
        "print('Similarity between \\'%s\\' and \\'%s\\': %.3f'%(w1,w3,model.wv.similarity(w1=w1,w2=w3)))\n",
        "print('Similarity between \\'%s\\' and \\'%s\\': %.3f'%(w2,w4,model.wv.similarity(w1=w2,w2=w4)))"
      ],
      "execution_count": 17,
      "outputs": [
        {
          "output_type": "stream",
          "text": [
            "Top 5 words most similar to 'war':\n",
            "   'humanity': 0.7483\n",
            "   'cartel': 0.7061\n",
            "   'crime': 0.6808\n",
            "   'iraq': 0.6797\n",
            "   'ii': 0.6780\n",
            "\n",
            "Similarity between 'war' and 'peace': 0.483\n",
            "Similarity between 'war' and 'terror': 0.405\n",
            "Similarity between 'peace' and 'school': 0.180\n"
          ],
          "name": "stdout"
        },
        {
          "output_type": "stream",
          "text": [
            "/usr/local/lib/python3.6/dist-packages/gensim/matutils.py:737: FutureWarning: Conversion of the second argument of issubdtype from `int` to `np.signedinteger` is deprecated. In future, it will be treated as `np.int64 == np.dtype(int).type`.\n",
            "  if np.issubdtype(vec.dtype, np.int):\n"
          ],
          "name": "stderr"
        }
      ]
    },
    {
      "cell_type": "markdown",
      "metadata": {
        "id": "gGhklKH_dMy1",
        "colab_type": "text"
      },
      "source": [
        "### Create average vector per each date"
      ]
    },
    {
      "cell_type": "code",
      "metadata": {
        "scrolled": false,
        "id": "t4-guXkOdMy2",
        "colab_type": "code",
        "colab": {
          "base_uri": "https://localhost:8080/",
          "height": 319
        },
        "outputId": "43d038df-7197-460f-a234-facf0915a30c"
      },
      "source": [
        "# list of words in the model\n",
        "words = model.wv.vocab.keys()\n",
        "print('\\'words\\' is a %s of %d words in the W2V model'%(type(words),0))\n",
        "\n",
        "averages = [None]*len(dataFlat)\n",
        "\n",
        "for i in range(len(dataFlat)): \n",
        "    #For each row=date (total of 1989)\n",
        "    \n",
        "    # collate all the words in each date that is in the 'words' vocabulary\n",
        "    ## find & save the vector format of that word\n",
        "    words_in_date = [model[word] for word in dataFlat['Combined'][i] if word in words]\n",
        "    \n",
        "    # find the averages of the words in the dates that are also in the W2V model\n",
        "    averages[i] = np.mean(np.array(words_in_date),axis=0)\n",
        "\n",
        "dataVector = dataFlat.copy()\n",
        "dataVector['Average'] = averages\n",
        "print('dataVector is %d data points with %d features'%(dataVector.shape[0],dataVector.shape[1]))\n",
        "print('dataVector:')\n",
        "dataVector.head()"
      ],
      "execution_count": 18,
      "outputs": [
        {
          "output_type": "stream",
          "text": [
            "'words' is a <class 'dict_keys'> of 0 words in the W2V model\n"
          ],
          "name": "stdout"
        },
        {
          "output_type": "stream",
          "text": [
            "/usr/local/lib/python3.6/dist-packages/ipykernel_launcher.py:12: DeprecationWarning: Call to deprecated `__getitem__` (Method will be removed in 4.0.0, use self.wv.__getitem__() instead).\n",
            "  if sys.path[0] == '':\n"
          ],
          "name": "stderr"
        },
        {
          "output_type": "stream",
          "text": [
            "dataVector is 1989 data points with 4 features\n",
            "dataVector:\n"
          ],
          "name": "stdout"
        },
        {
          "output_type": "execute_result",
          "data": {
            "text/html": [
              "<div>\n",
              "<style scoped>\n",
              "    .dataframe tbody tr th:only-of-type {\n",
              "        vertical-align: middle;\n",
              "    }\n",
              "\n",
              "    .dataframe tbody tr th {\n",
              "        vertical-align: top;\n",
              "    }\n",
              "\n",
              "    .dataframe thead th {\n",
              "        text-align: right;\n",
              "    }\n",
              "</style>\n",
              "<table border=\"1\" class=\"dataframe\">\n",
              "  <thead>\n",
              "    <tr style=\"text-align: right;\">\n",
              "      <th></th>\n",
              "      <th>Date</th>\n",
              "      <th>Label</th>\n",
              "      <th>Combined</th>\n",
              "      <th>Average</th>\n",
              "    </tr>\n",
              "  </thead>\n",
              "  <tbody>\n",
              "    <tr>\n",
              "      <th>0</th>\n",
              "      <td>08/08/2008</td>\n",
              "      <td>0</td>\n",
              "      <td>[breaking, musharraf, impeached, breaking, mus...</td>\n",
              "      <td>[0.36441085, 0.23756436, -0.058336686, 0.20072...</td>\n",
              "    </tr>\n",
              "    <tr>\n",
              "      <th>1</th>\n",
              "      <td>11/08/2008</td>\n",
              "      <td>1</td>\n",
              "      <td>[bush, put, foot, georgian, conflict, bush, pu...</td>\n",
              "      <td>[0.34109655, 0.21895163, -0.056331605, 0.22869...</td>\n",
              "    </tr>\n",
              "    <tr>\n",
              "      <th>2</th>\n",
              "      <td>12/08/2008</td>\n",
              "      <td>0</td>\n",
              "      <td>[russia, end, georgia, operation, russia, end,...</td>\n",
              "      <td>[0.3449494, 0.23730887, -0.06261384, 0.1808834...</td>\n",
              "    </tr>\n",
              "    <tr>\n",
              "      <th>3</th>\n",
              "      <td>13/08/2008</td>\n",
              "      <td>0</td>\n",
              "      <td>[president, ordered, attack, tskhinvali, capit...</td>\n",
              "      <td>[0.38716787, 0.2632301, -0.001046955, 0.244883...</td>\n",
              "    </tr>\n",
              "    <tr>\n",
              "      <th>4</th>\n",
              "      <td>14/08/2008</td>\n",
              "      <td>1</td>\n",
              "      <td>[war, south, osetia, num, picture, made, russi...</td>\n",
              "      <td>[0.37005284, 0.23692808, -0.08095776, 0.211182...</td>\n",
              "    </tr>\n",
              "  </tbody>\n",
              "</table>\n",
              "</div>"
            ],
            "text/plain": [
              "         Date  Label                                           Combined  \\\n",
              "0  08/08/2008      0  [breaking, musharraf, impeached, breaking, mus...   \n",
              "1  11/08/2008      1  [bush, put, foot, georgian, conflict, bush, pu...   \n",
              "2  12/08/2008      0  [russia, end, georgia, operation, russia, end,...   \n",
              "3  13/08/2008      0  [president, ordered, attack, tskhinvali, capit...   \n",
              "4  14/08/2008      1  [war, south, osetia, num, picture, made, russi...   \n",
              "\n",
              "                                             Average  \n",
              "0  [0.36441085, 0.23756436, -0.058336686, 0.20072...  \n",
              "1  [0.34109655, 0.21895163, -0.056331605, 0.22869...  \n",
              "2  [0.3449494, 0.23730887, -0.06261384, 0.1808834...  \n",
              "3  [0.38716787, 0.2632301, -0.001046955, 0.244883...  \n",
              "4  [0.37005284, 0.23692808, -0.08095776, 0.211182...  "
            ]
          },
          "metadata": {
            "tags": []
          },
          "execution_count": 18
        }
      ]
    },
    {
      "cell_type": "code",
      "metadata": {
        "id": "tTC3TmU-dMy7",
        "colab_type": "code",
        "colab": {
          "base_uri": "https://localhost:8080/",
          "height": 38
        },
        "outputId": "737d4e22-3aa3-4fa9-d7b2-6b4a7737edac"
      },
      "source": [
        "# test output the average vector for a given date\n",
        "testDate = '11/08/2008'\n",
        "testVector = dataVector.loc[dataVector['Date']==testDate]['Average'].iloc[0]\n",
        "print('\\'testVector\\' of date %s is a %s, a vector of %d dimensions'%(testDate,type(testVector),testVector.size))"
      ],
      "execution_count": 19,
      "outputs": [
        {
          "output_type": "stream",
          "text": [
            "'testVector' of date 11/08/2008 is a <class 'numpy.ndarray'>, a vector of 100 dimensions\n"
          ],
          "name": "stdout"
        }
      ]
    },
    {
      "cell_type": "markdown",
      "metadata": {
        "id": "ja3ttaZJdMy-",
        "colab_type": "text"
      },
      "source": [
        "### Create version of dataframe for modelling & testing"
      ]
    },
    {
      "cell_type": "code",
      "metadata": {
        "id": "SYGbaW1YdMy_",
        "colab_type": "code",
        "colab": {
          "base_uri": "https://localhost:8080/",
          "height": 266
        },
        "outputId": "1439a368-f3f6-48b0-c8c5-d5395d0d72c1"
      },
      "source": [
        "# New dataframe must have each vector dimension be its own column\n",
        "dataModel = dataVector.copy()\n",
        "dataModel = pd.merge(dataModel,dataModel.Average.apply(pd.Series),right_index=True,left_index=True)\n",
        "dataModel = dataModel.drop(columns=['Combined','Average'])\n",
        "\n",
        "print('dataModel is %d data points with %d features'%(dataModel.shape[0],dataModel.shape[1]))\n",
        "print('dataModel:')\n",
        "dataModel.head()"
      ],
      "execution_count": 20,
      "outputs": [
        {
          "output_type": "stream",
          "text": [
            "dataModel is 1989 data points with 102 features\n",
            "dataModel:\n"
          ],
          "name": "stdout"
        },
        {
          "output_type": "execute_result",
          "data": {
            "text/html": [
              "<div>\n",
              "<style scoped>\n",
              "    .dataframe tbody tr th:only-of-type {\n",
              "        vertical-align: middle;\n",
              "    }\n",
              "\n",
              "    .dataframe tbody tr th {\n",
              "        vertical-align: top;\n",
              "    }\n",
              "\n",
              "    .dataframe thead th {\n",
              "        text-align: right;\n",
              "    }\n",
              "</style>\n",
              "<table border=\"1\" class=\"dataframe\">\n",
              "  <thead>\n",
              "    <tr style=\"text-align: right;\">\n",
              "      <th></th>\n",
              "      <th>Date</th>\n",
              "      <th>Label</th>\n",
              "      <th>0</th>\n",
              "      <th>...</th>\n",
              "      <th>97</th>\n",
              "      <th>98</th>\n",
              "      <th>99</th>\n",
              "    </tr>\n",
              "  </thead>\n",
              "  <tbody>\n",
              "    <tr>\n",
              "      <th>0</th>\n",
              "      <td>08/08/2008</td>\n",
              "      <td>0</td>\n",
              "      <td>0.364411</td>\n",
              "      <td>...</td>\n",
              "      <td>0.077698</td>\n",
              "      <td>-0.440317</td>\n",
              "      <td>0.120869</td>\n",
              "    </tr>\n",
              "    <tr>\n",
              "      <th>1</th>\n",
              "      <td>11/08/2008</td>\n",
              "      <td>1</td>\n",
              "      <td>0.341097</td>\n",
              "      <td>...</td>\n",
              "      <td>0.116958</td>\n",
              "      <td>-0.481100</td>\n",
              "      <td>0.128182</td>\n",
              "    </tr>\n",
              "    <tr>\n",
              "      <th>2</th>\n",
              "      <td>12/08/2008</td>\n",
              "      <td>0</td>\n",
              "      <td>0.344949</td>\n",
              "      <td>...</td>\n",
              "      <td>0.031296</td>\n",
              "      <td>-0.459492</td>\n",
              "      <td>0.125308</td>\n",
              "    </tr>\n",
              "    <tr>\n",
              "      <th>3</th>\n",
              "      <td>13/08/2008</td>\n",
              "      <td>0</td>\n",
              "      <td>0.387168</td>\n",
              "      <td>...</td>\n",
              "      <td>0.078587</td>\n",
              "      <td>-0.471097</td>\n",
              "      <td>0.124856</td>\n",
              "    </tr>\n",
              "    <tr>\n",
              "      <th>4</th>\n",
              "      <td>14/08/2008</td>\n",
              "      <td>1</td>\n",
              "      <td>0.370053</td>\n",
              "      <td>...</td>\n",
              "      <td>0.093719</td>\n",
              "      <td>-0.411859</td>\n",
              "      <td>0.088033</td>\n",
              "    </tr>\n",
              "  </tbody>\n",
              "</table>\n",
              "<p>5 rows × 102 columns</p>\n",
              "</div>"
            ],
            "text/plain": [
              "         Date  Label         0  ...        97        98        99\n",
              "0  08/08/2008      0  0.364411  ...  0.077698 -0.440317  0.120869\n",
              "1  11/08/2008      1  0.341097  ...  0.116958 -0.481100  0.128182\n",
              "2  12/08/2008      0  0.344949  ...  0.031296 -0.459492  0.125308\n",
              "3  13/08/2008      0  0.387168  ...  0.078587 -0.471097  0.124856\n",
              "4  14/08/2008      1  0.370053  ...  0.093719 -0.411859  0.088033\n",
              "\n",
              "[5 rows x 102 columns]"
            ]
          },
          "metadata": {
            "tags": []
          },
          "execution_count": 20
        }
      ]
    },
    {
      "cell_type": "code",
      "metadata": {
        "id": "EoCrCKYNdMzD",
        "colab_type": "code",
        "colab": {}
      },
      "source": [
        "# Extensions:\n",
        "## Parts of speech (POS)\n",
        "## Named entity recognition (NER)\n",
        "## Coreference resolution"
      ],
      "execution_count": null,
      "outputs": []
    },
    {
      "cell_type": "markdown",
      "metadata": {
        "id": "9GCJp-6fdMzF",
        "colab_type": "text"
      },
      "source": [
        "# Modeling"
      ]
    },
    {
      "cell_type": "markdown",
      "metadata": {
        "id": "hRFTWH3ZdMzG",
        "colab_type": "text"
      },
      "source": [
        "### Train/test dataset splitting"
      ]
    },
    {
      "cell_type": "code",
      "metadata": {
        "scrolled": true,
        "id": "qPFmkBIcdMzG",
        "colab_type": "code",
        "colab": {
          "base_uri": "https://localhost:8080/",
          "height": 100
        },
        "outputId": "cfd4d988-3d20-4f52-d3d3-c86d90bef840"
      },
      "source": [
        "# split data into train/test sets by date\n",
        "splitDate = '31/12/2014'\n",
        "splitLoc = dataModel.index[dataModel['Date']==splitDate][0]\n",
        "print('corresponding index of split date = %s is %d'%(splitDate,splitLoc))\n",
        "\n",
        "X_train = dataModel.iloc[:splitLoc,:].drop(columns=['Date','Label'])\n",
        "X_test = dataModel.iloc[splitLoc:,:].drop(columns=['Date','Label'])\n",
        "y_train = dataModel.iloc[:splitLoc,:]['Label']\n",
        "y_test = dataModel.iloc[splitLoc:,:]['Label']\n",
        "\n",
        "print('\\nX_train is %d data points, X_test is %d data points, both with %d features'%(X_train.shape[0],X_test.shape[0],X_train.shape[1]))\n",
        "print('split ratio is training set: %.1f%% to testing set: %.1f%%'%(X_train.shape[0]/dataModel.shape[0]*100,X_test.shape[0]/dataModel.shape[0]*100))"
      ],
      "execution_count": 21,
      "outputs": [
        {
          "output_type": "stream",
          "text": [
            "corresponding index of split date = 31/12/2014 is 1610\n",
            "\n",
            "X_train is 1610 data points, X_test is 379 data points, both with 100 features\n",
            "split ratio is training set: 80.9% to testing set: 19.1%\n"
          ],
          "name": "stdout"
        }
      ]
    },
    {
      "cell_type": "markdown",
      "metadata": {
        "id": "OqvWJrZKdMzJ",
        "colab_type": "text"
      },
      "source": [
        "### Train and test models"
      ]
    },
    {
      "cell_type": "code",
      "metadata": {
        "id": "AazSYnG-dMzJ",
        "colab_type": "code",
        "colab": {}
      },
      "source": [
        "# plot ROC curve\n",
        "def ROCplot(modelType,y_test,y_score):\n",
        "    fpr, tpr, thresholds = roc_curve(y_test, y_score)\n",
        "    roc_auc = auc(fpr,tpr)\n",
        "    plt.title('Receiver Operating Characteristic for %s'%(modelType))\n",
        "    plt.plot(fpr, tpr, 'b', label='AUC = %0.2f'% roc_auc)\n",
        "    plt.legend(loc='lower right')\n",
        "    plt.plot([0,1],[0,1],'r--')\n",
        "    plt.ylabel('True Positive Rate')\n",
        "    plt.xlabel('False Positive Rate')\n",
        "    plt.show()\n",
        "\n",
        "models = ['RF','XGB','LogReg','SVC','MLP']\n",
        "    \n",
        "def predModel(X_train, y_train, X_test, y_test, modelType=models[0]):\n",
        "    if modelType not in models:\n",
        "        print('Error: model not in predefined list')\n",
        "        return\n",
        "    \n",
        "    start_time = time.time()\n",
        "    if modelType == models[0]:\n",
        "        rf = RandomForestClassifier(n_jobs=2, random_state=0)\n",
        "        rf.fit(X_train, y_train)        \n",
        "        end_time = time.time()\n",
        "        # predict for X_test\n",
        "        y_pred = rf.predict(X_test)\n",
        "        # predict probabilities for test data\n",
        "        ## keep probabilities for positive class only\n",
        "        y_score = rf.predict_proba(X_test)[:,1]\n",
        "        \n",
        "    elif modelType == models[1]:\n",
        "        xgb = XGBClassifier(objective = 'binary:logistic')\n",
        "        xgb.fit(X_train, y_train)\n",
        "        end_time = time.time()\n",
        "        # predict for X_test\n",
        "        y_pred = xgb.predict(X_test)\n",
        "        # predict probabilities for test data\n",
        "        ## keep probabilities for positive class only\n",
        "        y_score = xgb.predict_proba(X_test)[:,1]\n",
        "        \n",
        "    elif modelType == models[2]:\n",
        "        lg = LogisticRegression(penalty='l1', C=1.5, solver='liblinear', max_iter=100, n_jobs=-1)\n",
        "        lg.fit(X_train, y_train)\n",
        "        end_time = time.time()        \n",
        "        # predict for X_test\n",
        "        y_pred = lg.predict(X_test)\n",
        "        # predict probabilities for test data\n",
        "        y_score = lg.decision_function(X_test)\n",
        "        \n",
        "    elif modelType == models[3]:\n",
        "        clf = SVC(gamma='auto')\n",
        "        clf.fit(X_train, y_train)\n",
        "        end_time = time.time()\n",
        "        # predict for X_test\n",
        "        y_pred = clf.predict(X_test)\n",
        "        # predict probabilities for test data\n",
        "        y_score = clf.decision_function(X_test)\n",
        "        \n",
        "    elif modelType == models[4]:\n",
        "        clf = MLPClassifier(solver='lbfgs', alpha=1e-5, hidden_layer_sizes=(5, 2), random_state=1)\n",
        "        clf.fit(X_train, y_train)\n",
        "        end_time = time.time()\n",
        "        # predict for X_test\n",
        "        y_pred = clf.predict(X_test)\n",
        "        # predict probabilities for test data\n",
        "        ## keep probabilities for positive class only\n",
        "        y_score = clf.predict_proba(X_test)[:,1]\n",
        "    \n",
        "    print('Accuracy for model %s is: %.2f'%(modelType,accuracy_score(y_test,y_pred)))\n",
        "    print('ROC AUC for model %s is: %.2f'%(modelType,roc_auc_score(y_test, y_pred)))\n",
        "    print('Model training time is %.3f seconds'%(end_time-start_time))\n",
        "    print('\\nConfusion matrix:')\n",
        "    print(confusion_matrix(y_test,y_pred))\n",
        "    ROCplot(modelType,y_test,y_score)   "
      ],
      "execution_count": 22,
      "outputs": []
    },
    {
      "cell_type": "code",
      "metadata": {
        "id": "qR6OOuWVdMzM",
        "colab_type": "code",
        "colab": {
          "base_uri": "https://localhost:8080/",
          "height": 441
        },
        "outputId": "f94b7628-76d1-4bf3-f5f9-9842a0b10313"
      },
      "source": [
        "predModel(X_train, y_train, X_test, y_test, modelType='RF')"
      ],
      "execution_count": 23,
      "outputs": [
        {
          "output_type": "stream",
          "text": [
            "Accuracy for model RF is: 0.50\n",
            "ROC AUC for model RF is: 0.49\n",
            "Model training time is 0.942 seconds\n",
            "\n",
            "Confusion matrix:\n",
            "[[ 58 129]\n",
            " [ 62 130]]\n"
          ],
          "name": "stdout"
        },
        {
          "output_type": "display_data",
          "data": {
            "image/png": "[encoded data removed]",
            "text/plain": [
              "<Figure size 432x288 with 1 Axes>"
            ]
          },
          "metadata": {
            "tags": [],
            "needs_background": "light"
          }
        }
      ]
    },
    {
      "cell_type": "code",
      "metadata": {
        "id": "srwBogOKdMzQ",
        "colab_type": "code",
        "colab": {
          "base_uri": "https://localhost:8080/",
          "height": 441
        },
        "outputId": "456a6048-87d5-4b38-abfa-f0b59e8ec1ac"
      },
      "source": [
        "predModel(X_train, y_train, X_test, y_test, modelType='XGB')"
      ],
      "execution_count": 24,
      "outputs": [
        {
          "output_type": "stream",
          "text": [
            "Accuracy for model XGB is: 0.49\n",
            "ROC AUC for model XGB is: 0.49\n",
            "Model training time is 1.794 seconds\n",
            "\n",
            "Confusion matrix:\n",
            "[[ 63 124]\n",
            " [ 68 124]]\n"
          ],
          "name": "stdout"
        },
        {
          "output_type": "display_data",
          "data": {
            "image/png": "[encoded data removed]",
            "text/plain": [
              "<Figure size 432x288 with 1 Axes>"
            ]
          },
          "metadata": {
            "tags": [],
            "needs_background": "light"
          }
        }
      ]
    },
    {
      "cell_type": "code",
      "metadata": {
        "id": "ES-VSV5ddMzT",
        "colab_type": "code",
        "colab": {
          "base_uri": "https://localhost:8080/",
          "height": 502
        },
        "outputId": "15a0b4a7-4194-4940-8298-d715dd2ec8d7"
      },
      "source": [
        "predModel(X_train, y_train, X_test, y_test, modelType='LogReg')"
      ],
      "execution_count": 25,
      "outputs": [
        {
          "output_type": "stream",
          "text": [
            "Accuracy for model LogReg is: 0.51\n",
            "ROC AUC for model LogReg is: 0.50\n",
            "Model training time is 0.023 seconds\n",
            "\n",
            "Confusion matrix:\n",
            "[[  0 187]\n",
            " [  0 192]]\n"
          ],
          "name": "stdout"
        },
        {
          "output_type": "stream",
          "text": [
            "/usr/local/lib/python3.6/dist-packages/sklearn/linear_model/_logistic.py:1539: UserWarning: 'n_jobs' > 1 does not have any effect when 'solver' is set to 'liblinear'. Got 'n_jobs' = 2.\n",
            "  \" = {}.\".format(effective_n_jobs(self.n_jobs)))\n"
          ],
          "name": "stderr"
        },
        {
          "output_type": "display_data",
          "data": {
            "image/png": "[encoded data removed]",
            "text/plain": [
              "<Figure size 432x288 with 1 Axes>"
            ]
          },
          "metadata": {
            "tags": [],
            "needs_background": "light"
          }
        }
      ]
    },
    {
      "cell_type": "code",
      "metadata": {
        "id": "hytC3BmcdMzX",
        "colab_type": "code",
        "colab": {
          "base_uri": "https://localhost:8080/",
          "height": 441
        },
        "outputId": "27a22c1a-3ece-4f1f-b68b-56f65a175eb3"
      },
      "source": [
        "predModel(X_train, y_train, X_test, y_test, modelType='SVC')"
      ],
      "execution_count": 26,
      "outputs": [
        {
          "output_type": "stream",
          "text": [
            "Accuracy for model SVC is: 0.51\n",
            "ROC AUC for model SVC is: 0.50\n",
            "Model training time is 0.412 seconds\n",
            "\n",
            "Confusion matrix:\n",
            "[[  0 187]\n",
            " [  0 192]]\n"
          ],
          "name": "stdout"
        },
        {
          "output_type": "display_data",
          "data": {
            "image/png": "[encoded data removed]",
            "text/plain": [
              "<Figure size 432x288 with 1 Axes>"
            ]
          },
          "metadata": {
            "tags": [],
            "needs_background": "light"
          }
        }
      ]
    },
    {
      "cell_type": "code",
      "metadata": {
        "id": "6vUGQiC2dMzb",
        "colab_type": "code",
        "colab": {
          "base_uri": "https://localhost:8080/",
          "height": 441
        },
        "outputId": "b643cfb2-87e4-4082-a097-72fa51eba4a3"
      },
      "source": [
        "predModel(X_train, y_train, X_test, y_test, modelType='MLP')"
      ],
      "execution_count": 27,
      "outputs": [
        {
          "output_type": "stream",
          "text": [
            "Accuracy for model MLP is: 0.51\n",
            "ROC AUC for model MLP is: 0.50\n",
            "Model training time is 0.022 seconds\n",
            "\n",
            "Confusion matrix:\n",
            "[[  0 187]\n",
            " [  0 192]]\n"
          ],
          "name": "stdout"
        },
        {
          "output_type": "display_data",
          "data": {
            "image/png": "[encoded data removed]",
            "text/plain": [
              "<Figure size 432x288 with 1 Axes>"
            ]
          },
          "metadata": {
            "tags": [],
            "needs_background": "light"
          }
        }
      ]
    },
    {
      "cell_type": "markdown",
      "metadata": {
        "id": "OGaOmiGTdMze",
        "colab_type": "text"
      },
      "source": [
        "### print output"
      ]
    }
  ]
}